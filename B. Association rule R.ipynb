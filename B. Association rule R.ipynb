{
  "cells": [
    {
      "cell_type": "code",
      "execution_count": 1,
      "metadata": {
        "scrolled": false,
        "id": "sVhpPCFxxg6d",
        "outputId": "f34917a9-47c8-4105-8448-448cb9a6efa1",
        "colab": {
          "base_uri": "https://localhost:8080/"
        }
      },
      "outputs": [
        {
          "output_type": "stream",
          "name": "stderr",
          "text": [
            "Installing package into ‘/usr/local/lib/R/site-library’\n",
            "(as ‘lib’ is unspecified)\n",
            "\n"
          ]
        }
      ],
      "source": [
        "install.packages('arules')"
      ]
    },
    {
      "cell_type": "code",
      "execution_count": 2,
      "metadata": {
        "id": "YmI6aBXsxg6h",
        "outputId": "f8a43632-78ca-4685-e542-140084768714",
        "colab": {
          "base_uri": "https://localhost:8080/"
        }
      },
      "outputs": [
        {
          "output_type": "stream",
          "name": "stderr",
          "text": [
            "Loading required package: Matrix\n",
            "\n",
            "\n",
            "Attaching package: ‘arules’\n",
            "\n",
            "\n",
            "The following objects are masked from ‘package:base’:\n",
            "\n",
            "    abbreviate, write\n",
            "\n",
            "\n"
          ]
        }
      ],
      "source": [
        "library(arules)"
      ]
    },
    {
      "cell_type": "code",
      "execution_count": null,
      "metadata": {
        "id": "KUkw9w-8xg6i"
      },
      "outputs": [],
      "source": []
    },
    {
      "cell_type": "code",
      "execution_count": 5,
      "metadata": {
        "id": "ceKzXqhUxg6i"
      },
      "outputs": [],
      "source": [
        "trans <- read.csv(\"https://raw.githubusercontent.com/LiShingHan/DataScience/main/DataSet/p10.5.csv\", fileEncoding = \"BIG-5\")\n",
        "trans"
      ]
    },
    {
      "cell_type": "code",
      "execution_count": 8,
      "metadata": {
        "id": "dCVdT8Ptxg6j",
        "outputId": "86b2ca82-39f5-46c8-ee6b-a5a0b376e6b1",
        "colab": {
          "base_uri": "https://localhost:8080/",
          "height": 443
        }
      },
      "outputs": [
        {
          "output_type": "display_data",
          "data": {
            "text/html": [
              "<table class=\"dataframe\">\n",
              "<caption>A matrix: 12 × 6 of type int</caption>\n",
              "<thead>\n",
              "\t<tr><th scope=col>牛奶</th><th scope=col>麵包</th><th scope=col>雞蛋</th><th scope=col>奶油</th><th scope=col>番茄醬</th><th scope=col>餅乾</th></tr>\n",
              "</thead>\n",
              "<tbody>\n",
              "\t<tr><td>1</td><td>1</td><td>1</td><td>1</td><td>0</td><td>0</td></tr>\n",
              "\t<tr><td>1</td><td>0</td><td>1</td><td>1</td><td>1</td><td>0</td></tr>\n",
              "\t<tr><td>0</td><td>1</td><td>0</td><td>1</td><td>1</td><td>0</td></tr>\n",
              "\t<tr><td>1</td><td>1</td><td>0</td><td>1</td><td>0</td><td>0</td></tr>\n",
              "\t<tr><td>0</td><td>1</td><td>0</td><td>1</td><td>0</td><td>1</td></tr>\n",
              "\t<tr><td>1</td><td>1</td><td>0</td><td>1</td><td>0</td><td>1</td></tr>\n",
              "\t<tr><td>1</td><td>0</td><td>0</td><td>0</td><td>0</td><td>1</td></tr>\n",
              "\t<tr><td>1</td><td>1</td><td>0</td><td>1</td><td>0</td><td>0</td></tr>\n",
              "\t<tr><td>0</td><td>1</td><td>1</td><td>1</td><td>0</td><td>1</td></tr>\n",
              "\t<tr><td>1</td><td>1</td><td>0</td><td>1</td><td>0</td><td>0</td></tr>\n",
              "\t<tr><td>1</td><td>1</td><td>0</td><td>1</td><td>0</td><td>0</td></tr>\n",
              "\t<tr><td>1</td><td>1</td><td>0</td><td>0</td><td>1</td><td>1</td></tr>\n",
              "</tbody>\n",
              "</table>\n"
            ],
            "text/markdown": "\nA matrix: 12 × 6 of type int\n\n| 牛奶 | 麵包 | 雞蛋 | 奶油 | 番茄醬 | 餅乾 |\n|---|---|---|---|---|---|\n| 1 | 1 | 1 | 1 | 0 | 0 |\n| 1 | 0 | 1 | 1 | 1 | 0 |\n| 0 | 1 | 0 | 1 | 1 | 0 |\n| 1 | 1 | 0 | 1 | 0 | 0 |\n| 0 | 1 | 0 | 1 | 0 | 1 |\n| 1 | 1 | 0 | 1 | 0 | 1 |\n| 1 | 0 | 0 | 0 | 0 | 1 |\n| 1 | 1 | 0 | 1 | 0 | 0 |\n| 0 | 1 | 1 | 1 | 0 | 1 |\n| 1 | 1 | 0 | 1 | 0 | 0 |\n| 1 | 1 | 0 | 1 | 0 | 0 |\n| 1 | 1 | 0 | 0 | 1 | 1 |\n\n",
            "text/latex": "A matrix: 12 × 6 of type int\n\\begin{tabular}{llllll}\n 牛奶 & 麵包 & 雞蛋 & 奶油 & 番茄醬 & 餅乾\\\\\n\\hline\n\t 1 & 1 & 1 & 1 & 0 & 0\\\\\n\t 1 & 0 & 1 & 1 & 1 & 0\\\\\n\t 0 & 1 & 0 & 1 & 1 & 0\\\\\n\t 1 & 1 & 0 & 1 & 0 & 0\\\\\n\t 0 & 1 & 0 & 1 & 0 & 1\\\\\n\t 1 & 1 & 0 & 1 & 0 & 1\\\\\n\t 1 & 0 & 0 & 0 & 0 & 1\\\\\n\t 1 & 1 & 0 & 1 & 0 & 0\\\\\n\t 0 & 1 & 1 & 1 & 0 & 1\\\\\n\t 1 & 1 & 0 & 1 & 0 & 0\\\\\n\t 1 & 1 & 0 & 1 & 0 & 0\\\\\n\t 1 & 1 & 0 & 0 & 1 & 1\\\\\n\\end{tabular}\n",
            "text/plain": [
              "      牛奶 麵包 雞蛋 奶油 番茄醬 餅乾\n",
              " [1,] 1    1    1    1    0      0   \n",
              " [2,] 1    0    1    1    1      0   \n",
              " [3,] 0    1    0    1    1      0   \n",
              " [4,] 1    1    0    1    0      0   \n",
              " [5,] 0    1    0    1    0      1   \n",
              " [6,] 1    1    0    1    0      1   \n",
              " [7,] 1    0    0    0    0      1   \n",
              " [8,] 1    1    0    1    0      0   \n",
              " [9,] 0    1    1    1    0      1   \n",
              "[10,] 1    1    0    1    0      0   \n",
              "[11,] 1    1    0    1    0      0   \n",
              "[12,] 1    1    0    0    1      1   "
            ]
          },
          "metadata": {}
        }
      ],
      "source": [
        "trans <- as.matrix(trans)\n",
        "trans"
      ]
    },
    {
      "cell_type": "code",
      "execution_count": 9,
      "metadata": {
        "id": "nVeBvTg5xg6k",
        "outputId": "63fecce3-06cc-43c0-fb59-95059c1c310f",
        "colab": {
          "base_uri": "https://localhost:8080/"
        }
      },
      "outputs": [
        {
          "output_type": "stream",
          "name": "stdout",
          "text": [
            "Apriori\n",
            "\n",
            "Parameter specification:\n",
            " confidence minval smax arem  aval originalSupport maxtime support minlen\n",
            "        0.5    0.1    1 none FALSE            TRUE       5    0.33      1\n",
            " maxlen target  ext\n",
            "     10  rules TRUE\n",
            "\n",
            "Algorithmic control:\n",
            " filter tree heap memopt load sort verbose\n",
            "    0.1 TRUE TRUE  FALSE TRUE    2    TRUE\n",
            "\n",
            "Absolute minimum support count: 3 \n",
            "\n",
            "set item appearances ...[0 item(s)] done [0.00s].\n",
            "set transactions ...[6 item(s), 12 transaction(s)] done [0.00s].\n",
            "sorting and recoding items ... [4 item(s)] done [0.00s].\n",
            "creating transaction tree ... done [0.00s].\n",
            "checking subsets of size 1 2 3 done [0.00s].\n",
            "writing ... [13 rule(s)] done [0.00s].\n",
            "creating S4 object  ... done [0.00s].\n"
          ]
        }
      ],
      "source": [
        "rule=apriori(trans,parameter=list(supp=0.33,conf=0.5))"
      ]
    },
    {
      "cell_type": "code",
      "execution_count": 10,
      "metadata": {
        "id": "XUK3ZQtpxg6l",
        "outputId": "18aea4d9-96d0-44e2-cdcf-6f16e1aac9c2",
        "colab": {
          "base_uri": "https://localhost:8080/"
        }
      },
      "outputs": [
        {
          "output_type": "stream",
          "name": "stdout",
          "text": [
            "     lhs             rhs    support   confidence coverage  lift      count\n",
            "[1]  {}           => {牛奶} 0.7500000 0.7500000  1.0000000 1.0000000  9   \n",
            "[2]  {}           => {麵包} 0.8333333 0.8333333  1.0000000 1.0000000 10   \n",
            "[3]  {}           => {奶油} 0.8333333 0.8333333  1.0000000 1.0000000 10   \n",
            "[4]  {餅乾}       => {麵包} 0.3333333 0.8000000  0.4166667 0.9600000  4   \n",
            "[5]  {牛奶}       => {麵包} 0.5833333 0.7777778  0.7500000 0.9333333  7   \n",
            "[6]  {麵包}       => {牛奶} 0.5833333 0.7000000  0.8333333 0.9333333  7   \n",
            "[7]  {牛奶}       => {奶油} 0.5833333 0.7777778  0.7500000 0.9333333  7   \n",
            "[8]  {奶油}       => {牛奶} 0.5833333 0.7000000  0.8333333 0.9333333  7   \n",
            "[9]  {麵包}       => {奶油} 0.7500000 0.9000000  0.8333333 1.0800000  9   \n",
            "[10] {奶油}       => {麵包} 0.7500000 0.9000000  0.8333333 1.0800000  9   \n",
            "[11] {牛奶, 麵包} => {奶油} 0.5000000 0.8571429  0.5833333 1.0285714  6   \n",
            "[12] {牛奶, 奶油} => {麵包} 0.5000000 0.8571429  0.5833333 1.0285714  6   \n",
            "[13] {麵包, 奶油} => {牛奶} 0.5000000 0.6666667  0.7500000 0.8888889  6   \n"
          ]
        }
      ],
      "source": [
        "inspect(rule)"
      ]
    },
    {
      "cell_type": "code",
      "execution_count": null,
      "metadata": {
        "id": "vRJqP3Q2xg6l"
      },
      "outputs": [],
      "source": []
    },
    {
      "cell_type": "markdown",
      "metadata": {
        "id": "tdMdlhE9xg6l"
      },
      "source": [
        "# 案例：啤酒和尿布"
      ]
    },
    {
      "cell_type": "code",
      "execution_count": 13,
      "metadata": {
        "id": "1UbNlZcdxg6n",
        "outputId": "b873d517-e283-40ee-8d0c-12fb884b7bfa",
        "colab": {
          "base_uri": "https://localhost:8080/",
          "height": 255
        }
      },
      "outputs": [
        {
          "output_type": "display_data",
          "data": {
            "text/html": [
              "<table class=\"dataframe\">\n",
              "<caption>A data.frame: 5 × 6</caption>\n",
              "<thead>\n",
              "\t<tr><th scope=col>Bread</th><th scope=col>Milk</th><th scope=col>Diaper</th><th scope=col>Beer</th><th scope=col>Coke</th><th scope=col>Eggs</th></tr>\n",
              "\t<tr><th scope=col>&lt;int&gt;</th><th scope=col>&lt;int&gt;</th><th scope=col>&lt;int&gt;</th><th scope=col>&lt;int&gt;</th><th scope=col>&lt;int&gt;</th><th scope=col>&lt;int&gt;</th></tr>\n",
              "</thead>\n",
              "<tbody>\n",
              "\t<tr><td>1</td><td>1</td><td>0</td><td>0</td><td>0</td><td>0</td></tr>\n",
              "\t<tr><td>1</td><td>0</td><td>1</td><td>1</td><td>0</td><td>1</td></tr>\n",
              "\t<tr><td>0</td><td>1</td><td>1</td><td>1</td><td>1</td><td>0</td></tr>\n",
              "\t<tr><td>1</td><td>1</td><td>1</td><td>1</td><td>0</td><td>0</td></tr>\n",
              "\t<tr><td>1</td><td>1</td><td>1</td><td>0</td><td>1</td><td>0</td></tr>\n",
              "</tbody>\n",
              "</table>\n"
            ],
            "text/markdown": "\nA data.frame: 5 × 6\n\n| Bread &lt;int&gt; | Milk &lt;int&gt; | Diaper &lt;int&gt; | Beer &lt;int&gt; | Coke &lt;int&gt; | Eggs &lt;int&gt; |\n|---|---|---|---|---|---|\n| 1 | 1 | 0 | 0 | 0 | 0 |\n| 1 | 0 | 1 | 1 | 0 | 1 |\n| 0 | 1 | 1 | 1 | 1 | 0 |\n| 1 | 1 | 1 | 1 | 0 | 0 |\n| 1 | 1 | 1 | 0 | 1 | 0 |\n\n",
            "text/latex": "A data.frame: 5 × 6\n\\begin{tabular}{llllll}\n Bread & Milk & Diaper & Beer & Coke & Eggs\\\\\n <int> & <int> & <int> & <int> & <int> & <int>\\\\\n\\hline\n\t 1 & 1 & 0 & 0 & 0 & 0\\\\\n\t 1 & 0 & 1 & 1 & 0 & 1\\\\\n\t 0 & 1 & 1 & 1 & 1 & 0\\\\\n\t 1 & 1 & 1 & 1 & 0 & 0\\\\\n\t 1 & 1 & 1 & 0 & 1 & 0\\\\\n\\end{tabular}\n",
            "text/plain": [
              "  Bread Milk Diaper Beer Coke Eggs\n",
              "1 1     1    0      0    0    0   \n",
              "2 1     0    1      1    0    1   \n",
              "3 0     1    1      1    1    0   \n",
              "4 1     1    1      1    0    0   \n",
              "5 1     1    1      0    1    0   "
            ]
          },
          "metadata": {}
        }
      ],
      "source": [
        "beer <- read.csv(\"https://raw.githubusercontent.com/LiShingHan/DataScience/main/DataSet/beer.csv\")\n",
        "beer"
      ]
    },
    {
      "cell_type": "code",
      "execution_count": 14,
      "metadata": {
        "id": "bODLMspmxg6o",
        "outputId": "95816a12-490d-4641-e245-36bc032653d8",
        "colab": {
          "base_uri": "https://localhost:8080/",
          "height": 223
        }
      },
      "outputs": [
        {
          "output_type": "display_data",
          "data": {
            "text/html": [
              "<table class=\"dataframe\">\n",
              "<caption>A matrix: 5 × 6 of type int</caption>\n",
              "<thead>\n",
              "\t<tr><th scope=col>Bread</th><th scope=col>Milk</th><th scope=col>Diaper</th><th scope=col>Beer</th><th scope=col>Coke</th><th scope=col>Eggs</th></tr>\n",
              "</thead>\n",
              "<tbody>\n",
              "\t<tr><td>1</td><td>1</td><td>0</td><td>0</td><td>0</td><td>0</td></tr>\n",
              "\t<tr><td>1</td><td>0</td><td>1</td><td>1</td><td>0</td><td>1</td></tr>\n",
              "\t<tr><td>0</td><td>1</td><td>1</td><td>1</td><td>1</td><td>0</td></tr>\n",
              "\t<tr><td>1</td><td>1</td><td>1</td><td>1</td><td>0</td><td>0</td></tr>\n",
              "\t<tr><td>1</td><td>1</td><td>1</td><td>0</td><td>1</td><td>0</td></tr>\n",
              "</tbody>\n",
              "</table>\n"
            ],
            "text/markdown": "\nA matrix: 5 × 6 of type int\n\n| Bread | Milk | Diaper | Beer | Coke | Eggs |\n|---|---|---|---|---|---|\n| 1 | 1 | 0 | 0 | 0 | 0 |\n| 1 | 0 | 1 | 1 | 0 | 1 |\n| 0 | 1 | 1 | 1 | 1 | 0 |\n| 1 | 1 | 1 | 1 | 0 | 0 |\n| 1 | 1 | 1 | 0 | 1 | 0 |\n\n",
            "text/latex": "A matrix: 5 × 6 of type int\n\\begin{tabular}{llllll}\n Bread & Milk & Diaper & Beer & Coke & Eggs\\\\\n\\hline\n\t 1 & 1 & 0 & 0 & 0 & 0\\\\\n\t 1 & 0 & 1 & 1 & 0 & 1\\\\\n\t 0 & 1 & 1 & 1 & 1 & 0\\\\\n\t 1 & 1 & 1 & 1 & 0 & 0\\\\\n\t 1 & 1 & 1 & 0 & 1 & 0\\\\\n\\end{tabular}\n",
            "text/plain": [
              "     Bread Milk Diaper Beer Coke Eggs\n",
              "[1,] 1     1    0      0    0    0   \n",
              "[2,] 1     0    1      1    0    1   \n",
              "[3,] 0     1    1      1    1    0   \n",
              "[4,] 1     1    1      1    0    0   \n",
              "[5,] 1     1    1      0    1    0   "
            ]
          },
          "metadata": {}
        }
      ],
      "source": [
        "beer = as.matrix(beer)\n",
        "beer"
      ]
    },
    {
      "cell_type": "code",
      "execution_count": 15,
      "metadata": {
        "id": "2uvBNniFxg6p",
        "outputId": "a1a976fd-b4cf-49ee-c81f-dbc5eb506c54",
        "colab": {
          "base_uri": "https://localhost:8080/"
        }
      },
      "outputs": [
        {
          "output_type": "stream",
          "name": "stdout",
          "text": [
            "Apriori\n",
            "\n",
            "Parameter specification:\n",
            " confidence minval smax arem  aval originalSupport maxtime support minlen\n",
            "        0.8    0.1    1 none FALSE            TRUE       5     0.4      1\n",
            " maxlen target  ext\n",
            "     10  rules TRUE\n",
            "\n",
            "Algorithmic control:\n",
            " filter tree heap memopt load sort verbose\n",
            "    0.1 TRUE TRUE  FALSE TRUE    2    TRUE\n",
            "\n",
            "Absolute minimum support count: 2 \n",
            "\n",
            "set item appearances ...[0 item(s)] done [0.00s].\n",
            "set transactions ...[6 item(s), 5 transaction(s)] done [0.00s].\n",
            "sorting and recoding items ... [5 item(s)] done [0.00s].\n",
            "creating transaction tree ... done [0.00s].\n",
            "checking subsets of size 1 2 3 done [0.00s].\n",
            "writing ... [10 rule(s)] done [0.00s].\n",
            "creating S4 object  ... done [0.00s].\n"
          ]
        }
      ],
      "source": [
        "rule=apriori(beer,parameter=list(supp=0.4,conf=0.8))"
      ]
    },
    {
      "cell_type": "code",
      "execution_count": 16,
      "metadata": {
        "id": "_l4sfBcbxg6p",
        "outputId": "cfde9edb-568f-4917-f77d-f38fc829fce2",
        "colab": {
          "base_uri": "https://localhost:8080/"
        }
      },
      "outputs": [
        {
          "output_type": "stream",
          "name": "stdout",
          "text": [
            "     lhs               rhs      support confidence coverage lift count\n",
            "[1]  {}             => {Milk}   0.8     0.8        1.0      1.00 4    \n",
            "[2]  {}             => {Bread}  0.8     0.8        1.0      1.00 4    \n",
            "[3]  {}             => {Diaper} 0.8     0.8        1.0      1.00 4    \n",
            "[4]  {Coke}         => {Milk}   0.4     1.0        0.4      1.25 2    \n",
            "[5]  {Coke}         => {Diaper} 0.4     1.0        0.4      1.25 2    \n",
            "[6]  {Beer}         => {Diaper} 0.6     1.0        0.6      1.25 3    \n",
            "[7]  {Milk, Coke}   => {Diaper} 0.4     1.0        0.4      1.25 2    \n",
            "[8]  {Diaper, Coke} => {Milk}   0.4     1.0        0.4      1.25 2    \n",
            "[9]  {Milk, Beer}   => {Diaper} 0.4     1.0        0.4      1.25 2    \n",
            "[10] {Bread, Beer}  => {Diaper} 0.4     1.0        0.4      1.25 2    \n"
          ]
        }
      ],
      "source": [
        "inspect(rule)"
      ]
    },
    {
      "cell_type": "code",
      "execution_count": 17,
      "metadata": {
        "id": "KYpkQGL1xg6p",
        "outputId": "ab1887b7-49c2-44d1-a9bc-1898125d1332",
        "colab": {
          "base_uri": "https://localhost:8080/"
        }
      },
      "outputs": [
        {
          "output_type": "stream",
          "name": "stdout",
          "text": [
            "     lhs               rhs      support confidence coverage lift count\n",
            "[1]  {}             => {Milk}   0.8     0.8        1.0      1.00 4    \n",
            "[2]  {}             => {Bread}  0.8     0.8        1.0      1.00 4    \n",
            "[3]  {}             => {Diaper} 0.8     0.8        1.0      1.00 4    \n",
            "[4]  {Beer}         => {Diaper} 0.6     1.0        0.6      1.25 3    \n",
            "[5]  {Coke}         => {Milk}   0.4     1.0        0.4      1.25 2    \n",
            "[6]  {Coke}         => {Diaper} 0.4     1.0        0.4      1.25 2    \n",
            "[7]  {Milk, Coke}   => {Diaper} 0.4     1.0        0.4      1.25 2    \n",
            "[8]  {Diaper, Coke} => {Milk}   0.4     1.0        0.4      1.25 2    \n",
            "[9]  {Milk, Beer}   => {Diaper} 0.4     1.0        0.4      1.25 2    \n",
            "[10] {Bread, Beer}  => {Diaper} 0.4     1.0        0.4      1.25 2    \n"
          ]
        }
      ],
      "source": [
        "inspect(head(sort(rule,by=\"support\"),10))"
      ]
    },
    {
      "cell_type": "code",
      "execution_count": null,
      "metadata": {
        "id": "Y6bJ4F-oxg6q"
      },
      "outputs": [],
      "source": []
    }
  ],
  "metadata": {
    "kernelspec": {
      "display_name": "R",
      "language": "R",
      "name": "ir"
    },
    "language_info": {
      "codemirror_mode": "r",
      "file_extension": ".r",
      "mimetype": "text/x-r-source",
      "name": "R",
      "pygments_lexer": "r",
      "version": "3.6.1"
    },
    "colab": {
      "provenance": []
    }
  },
  "nbformat": 4,
  "nbformat_minor": 0
}