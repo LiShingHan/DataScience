{
 "cells": [
  {
   "cell_type": "code",
   "execution_count": 1,
   "metadata": {},
   "outputs": [],
   "source": [
    "case77 <- read.csv(\"c:/Rdata/p7.7.csv\")"
   ]
  },
  {
   "cell_type": "code",
   "execution_count": 2,
   "metadata": {},
   "outputs": [
    {
     "data": {
      "text/html": [
       "<table>\n",
       "<thead><tr><th scope=col>price</th><th scope=col>area</th><th scope=col>room</th></tr></thead>\n",
       "<tbody>\n",
       "\t<tr><td>229500</td><td>1850  </td><td>4     </td></tr>\n",
       "\t<tr><td>273300</td><td>2190  </td><td>5     </td></tr>\n",
       "\t<tr><td>247000</td><td>2100  </td><td>4     </td></tr>\n",
       "\t<tr><td>195100</td><td>1930  </td><td>3     </td></tr>\n",
       "\t<tr><td>261000</td><td>2300  </td><td>4     </td></tr>\n",
       "\t<tr><td>179700</td><td>1710  </td><td>2     </td></tr>\n",
       "\t<tr><td>168500</td><td>1550  </td><td>2     </td></tr>\n",
       "\t<tr><td>234400</td><td>1920  </td><td>4     </td></tr>\n",
       "\t<tr><td>168800</td><td>1840  </td><td>2     </td></tr>\n",
       "\t<tr><td>180400</td><td>1720  </td><td>2     </td></tr>\n",
       "\t<tr><td>156200</td><td>1660  </td><td>2     </td></tr>\n",
       "\t<tr><td>288350</td><td>2405  </td><td>5     </td></tr>\n",
       "\t<tr><td>186750</td><td>1525  </td><td>3     </td></tr>\n",
       "\t<tr><td>202100</td><td>2030  </td><td>2     </td></tr>\n",
       "\t<tr><td>256800</td><td>2240  </td><td>4     </td></tr>\n",
       "</tbody>\n",
       "</table>\n"
      ],
      "text/latex": [
       "\\begin{tabular}{r|lll}\n",
       " price & area & room\\\\\n",
       "\\hline\n",
       "\t 229500 & 1850   & 4     \\\\\n",
       "\t 273300 & 2190   & 5     \\\\\n",
       "\t 247000 & 2100   & 4     \\\\\n",
       "\t 195100 & 1930   & 3     \\\\\n",
       "\t 261000 & 2300   & 4     \\\\\n",
       "\t 179700 & 1710   & 2     \\\\\n",
       "\t 168500 & 1550   & 2     \\\\\n",
       "\t 234400 & 1920   & 4     \\\\\n",
       "\t 168800 & 1840   & 2     \\\\\n",
       "\t 180400 & 1720   & 2     \\\\\n",
       "\t 156200 & 1660   & 2     \\\\\n",
       "\t 288350 & 2405   & 5     \\\\\n",
       "\t 186750 & 1525   & 3     \\\\\n",
       "\t 202100 & 2030   & 2     \\\\\n",
       "\t 256800 & 2240   & 4     \\\\\n",
       "\\end{tabular}\n"
      ],
      "text/markdown": [
       "\n",
       "| price | area | room |\n",
       "|---|---|---|\n",
       "| 229500 | 1850   | 4      |\n",
       "| 273300 | 2190   | 5      |\n",
       "| 247000 | 2100   | 4      |\n",
       "| 195100 | 1930   | 3      |\n",
       "| 261000 | 2300   | 4      |\n",
       "| 179700 | 1710   | 2      |\n",
       "| 168500 | 1550   | 2      |\n",
       "| 234400 | 1920   | 4      |\n",
       "| 168800 | 1840   | 2      |\n",
       "| 180400 | 1720   | 2      |\n",
       "| 156200 | 1660   | 2      |\n",
       "| 288350 | 2405   | 5      |\n",
       "| 186750 | 1525   | 3      |\n",
       "| 202100 | 2030   | 2      |\n",
       "| 256800 | 2240   | 4      |\n",
       "\n"
      ],
      "text/plain": [
       "   price  area room\n",
       "1  229500 1850 4   \n",
       "2  273300 2190 5   \n",
       "3  247000 2100 4   \n",
       "4  195100 1930 3   \n",
       "5  261000 2300 4   \n",
       "6  179700 1710 2   \n",
       "7  168500 1550 2   \n",
       "8  234400 1920 4   \n",
       "9  168800 1840 2   \n",
       "10 180400 1720 2   \n",
       "11 156200 1660 2   \n",
       "12 288350 2405 5   \n",
       "13 186750 1525 3   \n",
       "14 202100 2030 2   \n",
       "15 256800 2240 4   "
      ]
     },
     "metadata": {},
     "output_type": "display_data"
    }
   ],
   "source": [
    "case77"
   ]
  },
  {
   "cell_type": "code",
   "execution_count": 3,
   "metadata": {},
   "outputs": [
    {
     "name": "stdout",
     "output_type": "stream",
     "text": [
      "'data.frame':\t15 obs. of  3 variables:\n",
      " $ price: int  229500 273300 247000 195100 261000 179700 168500 234400 168800 180400 ...\n",
      " $ area : int  1850 2190 2100 1930 2300 1710 1550 1920 1840 1720 ...\n",
      " $ room : int  4 5 4 3 4 2 2 4 2 2 ...\n"
     ]
    }
   ],
   "source": [
    "str(case77)"
   ]
  },
  {
   "cell_type": "code",
   "execution_count": 4,
   "metadata": {},
   "outputs": [
    {
     "data": {
      "text/plain": [
       "     price             area           room    \n",
       " Min.   :156200   Min.   :1525   Min.   :2.0  \n",
       " 1st Qu.:180050   1st Qu.:1715   1st Qu.:2.0  \n",
       " Median :202100   Median :1920   Median :3.0  \n",
       " Mean   :215193   Mean   :1931   Mean   :3.2  \n",
       " 3rd Qu.:251900   3rd Qu.:2145   3rd Qu.:4.0  \n",
       " Max.   :288350   Max.   :2405   Max.   :5.0  "
      ]
     },
     "metadata": {},
     "output_type": "display_data"
    }
   ],
   "source": [
    "summary(case77)"
   ]
  },
  {
   "cell_type": "code",
   "execution_count": 5,
   "metadata": {},
   "outputs": [],
   "source": [
    "reg = lm( price ~ area + room, data=case77)"
   ]
  },
  {
   "cell_type": "code",
   "execution_count": 6,
   "metadata": {},
   "outputs": [
    {
     "data": {
      "text/plain": [
       "\n",
       "Call:\n",
       "lm(formula = price ~ area + room, data = case77)\n",
       "\n",
       "Coefficients:\n",
       "(Intercept)         area         room  \n",
       "   12923.73        65.61     23613.14  \n"
      ]
     },
     "metadata": {},
     "output_type": "display_data"
    }
   ],
   "source": [
    "reg"
   ]
  },
  {
   "cell_type": "code",
   "execution_count": 7,
   "metadata": {},
   "outputs": [
    {
     "name": "stdout",
     "output_type": "stream",
     "text": [
      "package 'scatterplot3d' successfully unpacked and MD5 sums checked\n",
      "\n",
      "The downloaded binary packages are in\n",
      "\tC:\\Users\\Administrator\\AppData\\Local\\Temp\\RtmpuEcTKl\\downloaded_packages\n"
     ]
    }
   ],
   "source": [
    "install.packages(\"scatterplot3d\") # Install\n",
    "library(\"scatterplot3d\") # load"
   ]
  },
  {
   "cell_type": "code",
   "execution_count": 8,
   "metadata": {},
   "outputs": [
    {
     "data": {
      "image/png": "[encoded data removed]",
      "text/plain": [
       "plot without title"
      ]
     },
     "metadata": {},
     "output_type": "display_data"
    }
   ],
   "source": [
    "scatterplot3d( case77$area , case77$room, case77$price , color=case77$room )"
   ]
  },
  {
   "cell_type": "code",
   "execution_count": 9,
   "metadata": {},
   "outputs": [
    {
     "data": {
      "image/png": "[encoded data removed]",
      "text/plain": [
       "plot without title"
      ]
     },
     "metadata": {},
     "output_type": "display_data"
    }
   ],
   "source": [
    "s3d <- scatterplot3d( case77$area , case77$room, case77$price , color=case77$room )\n",
    "reg = lm( case77$price ~ case77$area + case77$room, data=case77)\n",
    "s3d$plane3d(reg)"
   ]
  },
  {
   "cell_type": "code",
   "execution_count": null,
   "metadata": {},
   "outputs": [],
   "source": []
  }
 ],
 "metadata": {
  "kernelspec": {
   "display_name": "R",
   "language": "R",
   "name": "ir"
  },
  "language_info": {
   "codemirror_mode": "r",
   "file_extension": ".r",
   "mimetype": "text/x-r-source",
   "name": "R",
   "pygments_lexer": "r",
   "version": "3.6.1"
  }
 },
 "nbformat": 4,
 "nbformat_minor": 4
}
