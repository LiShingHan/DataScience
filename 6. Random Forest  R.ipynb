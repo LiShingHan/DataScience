{
  "cells": [
    {
      "cell_type": "code",
      "execution_count": 1,
      "id": "typical-variety",
      "metadata": {
        "colab": {
          "base_uri": "https://localhost:8080/"
        },
        "id": "typical-variety",
        "outputId": "c3902987-d7c6-436b-8a2b-850311a3a665"
      },
      "outputs": [
        {
          "output_type": "stream",
          "name": "stderr",
          "text": [
            "Installing package into ‘/usr/local/lib/R/site-library’\n",
            "(as ‘lib’ is unspecified)\n",
            "\n",
            "randomForest 4.7-1.1\n",
            "\n",
            "Type rfNews() to see new features/changes/bug fixes.\n",
            "\n"
          ]
        }
      ],
      "source": [
        "install.packages(\"randomForest\")\n",
        "library(randomForest)"
      ]
    },
    {
      "cell_type": "code",
      "execution_count": 2,
      "id": "solid-gibson",
      "metadata": {
        "colab": {
          "base_uri": "https://localhost:8080/",
          "height": 537
        },
        "id": "solid-gibson",
        "outputId": "d7e47917-b70f-45c1-dc2d-261a3a4dbfbe"
      },
      "outputs": [
        {
          "output_type": "display_data",
          "data": {
            "text/html": [
              "<table class=\"dataframe\">\n",
              "<caption>A data.frame: 14 × 5</caption>\n",
              "<thead>\n",
              "\t<tr><th scope=col>outlook</th><th scope=col>temp</th><th scope=col>humidity</th><th scope=col>windy</th><th scope=col>play</th></tr>\n",
              "\t<tr><th scope=col>&lt;chr&gt;</th><th scope=col>&lt;chr&gt;</th><th scope=col>&lt;chr&gt;</th><th scope=col>&lt;chr&gt;</th><th scope=col>&lt;chr&gt;</th></tr>\n",
              "</thead>\n",
              "<tbody>\n",
              "\t<tr><td>sunny   </td><td>hot </td><td>high  </td><td>false</td><td>no </td></tr>\n",
              "\t<tr><td>sunny   </td><td>hot </td><td>high  </td><td>true </td><td>no </td></tr>\n",
              "\t<tr><td>overcast</td><td>hot </td><td>high  </td><td>false</td><td>yes</td></tr>\n",
              "\t<tr><td>rainy   </td><td>warm</td><td>high  </td><td>false</td><td>yes</td></tr>\n",
              "\t<tr><td>rainy   </td><td>cool</td><td>normal</td><td>false</td><td>yes</td></tr>\n",
              "\t<tr><td>rainy   </td><td>cool</td><td>normal</td><td>true </td><td>no </td></tr>\n",
              "\t<tr><td>overcast</td><td>cool</td><td>normal</td><td>true </td><td>yes</td></tr>\n",
              "\t<tr><td>sunny   </td><td>warm</td><td>high  </td><td>false</td><td>no </td></tr>\n",
              "\t<tr><td>sunny   </td><td>cool</td><td>normal</td><td>false</td><td>yes</td></tr>\n",
              "\t<tr><td>rainy   </td><td>warm</td><td>normal</td><td>false</td><td>yes</td></tr>\n",
              "\t<tr><td>sunny   </td><td>warm</td><td>normal</td><td>true </td><td>yes</td></tr>\n",
              "\t<tr><td>overcast</td><td>warm</td><td>high  </td><td>true </td><td>yes</td></tr>\n",
              "\t<tr><td>overcast</td><td>hot </td><td>normal</td><td>false</td><td>yes</td></tr>\n",
              "\t<tr><td>rainy   </td><td>warm</td><td>high  </td><td>true </td><td>no </td></tr>\n",
              "</tbody>\n",
              "</table>\n"
            ],
            "text/markdown": "\nA data.frame: 14 × 5\n\n| outlook &lt;chr&gt; | temp &lt;chr&gt; | humidity &lt;chr&gt; | windy &lt;chr&gt; | play &lt;chr&gt; |\n|---|---|---|---|---|\n| sunny    | hot  | high   | false | no  |\n| sunny    | hot  | high   | true  | no  |\n| overcast | hot  | high   | false | yes |\n| rainy    | warm | high   | false | yes |\n| rainy    | cool | normal | false | yes |\n| rainy    | cool | normal | true  | no  |\n| overcast | cool | normal | true  | yes |\n| sunny    | warm | high   | false | no  |\n| sunny    | cool | normal | false | yes |\n| rainy    | warm | normal | false | yes |\n| sunny    | warm | normal | true  | yes |\n| overcast | warm | high   | true  | yes |\n| overcast | hot  | normal | false | yes |\n| rainy    | warm | high   | true  | no  |\n\n",
            "text/latex": "A data.frame: 14 × 5\n\\begin{tabular}{lllll}\n outlook & temp & humidity & windy & play\\\\\n <chr> & <chr> & <chr> & <chr> & <chr>\\\\\n\\hline\n\t sunny    & hot  & high   & false & no \\\\\n\t sunny    & hot  & high   & true  & no \\\\\n\t overcast & hot  & high   & false & yes\\\\\n\t rainy    & warm & high   & false & yes\\\\\n\t rainy    & cool & normal & false & yes\\\\\n\t rainy    & cool & normal & true  & no \\\\\n\t overcast & cool & normal & true  & yes\\\\\n\t sunny    & warm & high   & false & no \\\\\n\t sunny    & cool & normal & false & yes\\\\\n\t rainy    & warm & normal & false & yes\\\\\n\t sunny    & warm & normal & true  & yes\\\\\n\t overcast & warm & high   & true  & yes\\\\\n\t overcast & hot  & normal & false & yes\\\\\n\t rainy    & warm & high   & true  & no \\\\\n\\end{tabular}\n",
            "text/plain": [
              "   outlook  temp humidity windy play\n",
              "1  sunny    hot  high     false no  \n",
              "2  sunny    hot  high     true  no  \n",
              "3  overcast hot  high     false yes \n",
              "4  rainy    warm high     false yes \n",
              "5  rainy    cool normal   false yes \n",
              "6  rainy    cool normal   true  no  \n",
              "7  overcast cool normal   true  yes \n",
              "8  sunny    warm high     false no  \n",
              "9  sunny    cool normal   false yes \n",
              "10 rainy    warm normal   false yes \n",
              "11 sunny    warm normal   true  yes \n",
              "12 overcast warm high     true  yes \n",
              "13 overcast hot  normal   false yes \n",
              "14 rainy    warm high     true  no  "
            ]
          },
          "metadata": {}
        }
      ],
      "source": [
        "p6.4<-read.csv(\"https://raw.githubusercontent.com/LiShingHan/DataScience/main/DataSet/p6.4.csv\")\n",
        "p6.4"
      ]
    },
    {
      "cell_type": "code",
      "execution_count": 3,
      "id": "consistent-standard",
      "metadata": {
        "colab": {
          "base_uri": "https://localhost:8080/"
        },
        "id": "consistent-standard",
        "outputId": "f3493e50-9a5f-49c7-f444-d900d909bd22"
      },
      "outputs": [
        {
          "output_type": "stream",
          "name": "stdout",
          "text": [
            "'data.frame':\t14 obs. of  5 variables:\n",
            " $ outlook : chr  \"sunny\" \"sunny\" \"overcast\" \"rainy\" ...\n",
            " $ temp    : chr  \"hot\" \"hot\" \"hot\" \"warm\" ...\n",
            " $ humidity: chr  \"high\" \"high\" \"high\" \"high\" ...\n",
            " $ windy   : chr  \"false\" \"true\" \"false\" \"false\" ...\n",
            " $ play    : chr  \"no\" \"no\" \"yes\" \"yes\" ...\n"
          ]
        }
      ],
      "source": [
        "str(p6.4)"
      ]
    },
    {
      "cell_type": "code",
      "execution_count": 4,
      "id": "activated-ceramic",
      "metadata": {
        "scrolled": true,
        "colab": {
          "base_uri": "https://localhost:8080/",
          "height": 266
        },
        "id": "activated-ceramic",
        "outputId": "bbf31299-4950-4ca9-f6bd-5c3e05c97ba0"
      },
      "outputs": [
        {
          "output_type": "stream",
          "name": "stderr",
          "text": [
            "Warning message in randomForest.default(m, y, ...):\n",
            "“The response has five or fewer unique values.  Are you sure you want to do regression?”\n",
            "Warning message in mean.default(y):\n",
            "“argument is not numeric or logical: returning NA”\n"
          ]
        },
        {
          "output_type": "error",
          "ename": "ERROR",
          "evalue": "ignored",
          "traceback": [
            "Error in y - ymean: non-numeric argument to binary operator\nTraceback:\n",
            "1. randomForest(play ~ outlook + temp + humidity + windy, data = p6.4)",
            "2. randomForest.formula(play ~ outlook + temp + humidity + windy, \n .     data = p6.4)",
            "3. randomForest.default(m, y, ...)"
          ]
        }
      ],
      "source": [
        "model <- randomForest( play ~ outlook + temp + humidity + windy,  data = p6.4)\n",
        "model\n",
        "#iris.rf=randomForest(Species~., data=iris.train, importane=T, proximity=T)"
      ]
    },
    {
      "cell_type": "code",
      "execution_count": null,
      "id": "responsible-bolivia",
      "metadata": {
        "id": "responsible-bolivia"
      },
      "outputs": [],
      "source": []
    },
    {
      "cell_type": "markdown",
      "id": "boolean-carol",
      "metadata": {
        "id": "boolean-carol"
      },
      "source": [
        "# 範例二"
      ]
    },
    {
      "cell_type": "code",
      "execution_count": 5,
      "id": "hearing-nigeria",
      "metadata": {
        "colab": {
          "base_uri": "https://localhost:8080/",
          "height": 1000
        },
        "id": "hearing-nigeria",
        "outputId": "b154873d-040f-49a9-a5ed-cbd535323217"
      },
      "outputs": [
        {
          "output_type": "display_data",
          "data": {
            "text/html": [
              "<table class=\"dataframe\">\n",
              "<caption>A data.frame: 400 × 5</caption>\n",
              "<thead>\n",
              "\t<tr><th scope=col>User.ID</th><th scope=col>Gender</th><th scope=col>Age</th><th scope=col>EstimatedSalary</th><th scope=col>Purchased</th></tr>\n",
              "\t<tr><th scope=col>&lt;int&gt;</th><th scope=col>&lt;chr&gt;</th><th scope=col>&lt;int&gt;</th><th scope=col>&lt;int&gt;</th><th scope=col>&lt;int&gt;</th></tr>\n",
              "</thead>\n",
              "<tbody>\n",
              "\t<tr><td>15624510</td><td>Male  </td><td>19</td><td> 19000</td><td>0</td></tr>\n",
              "\t<tr><td>15810944</td><td>Male  </td><td>35</td><td> 20000</td><td>0</td></tr>\n",
              "\t<tr><td>15668575</td><td>Female</td><td>26</td><td> 43000</td><td>0</td></tr>\n",
              "\t<tr><td>15603246</td><td>Female</td><td>27</td><td> 57000</td><td>0</td></tr>\n",
              "\t<tr><td>15804002</td><td>Male  </td><td>19</td><td> 76000</td><td>0</td></tr>\n",
              "\t<tr><td>15728773</td><td>Male  </td><td>27</td><td> 58000</td><td>0</td></tr>\n",
              "\t<tr><td>15598044</td><td>Female</td><td>27</td><td> 84000</td><td>0</td></tr>\n",
              "\t<tr><td>15694829</td><td>Female</td><td>32</td><td>150000</td><td>1</td></tr>\n",
              "\t<tr><td>15600575</td><td>Male  </td><td>25</td><td> 33000</td><td>0</td></tr>\n",
              "\t<tr><td>15727311</td><td>Female</td><td>35</td><td> 65000</td><td>0</td></tr>\n",
              "\t<tr><td>15570769</td><td>Female</td><td>26</td><td> 80000</td><td>0</td></tr>\n",
              "\t<tr><td>15606274</td><td>Female</td><td>26</td><td> 52000</td><td>0</td></tr>\n",
              "\t<tr><td>15746139</td><td>Male  </td><td>20</td><td> 86000</td><td>0</td></tr>\n",
              "\t<tr><td>15704987</td><td>Male  </td><td>32</td><td> 18000</td><td>0</td></tr>\n",
              "\t<tr><td>15628972</td><td>Male  </td><td>18</td><td> 82000</td><td>0</td></tr>\n",
              "\t<tr><td>15697686</td><td>Male  </td><td>29</td><td> 80000</td><td>0</td></tr>\n",
              "\t<tr><td>15733883</td><td>Male  </td><td>47</td><td> 25000</td><td>1</td></tr>\n",
              "\t<tr><td>15617482</td><td>Male  </td><td>45</td><td> 26000</td><td>1</td></tr>\n",
              "\t<tr><td>15704583</td><td>Male  </td><td>46</td><td> 28000</td><td>1</td></tr>\n",
              "\t<tr><td>15621083</td><td>Female</td><td>48</td><td> 29000</td><td>1</td></tr>\n",
              "\t<tr><td>15649487</td><td>Male  </td><td>45</td><td> 22000</td><td>1</td></tr>\n",
              "\t<tr><td>15736760</td><td>Female</td><td>47</td><td> 49000</td><td>1</td></tr>\n",
              "\t<tr><td>15714658</td><td>Male  </td><td>48</td><td> 41000</td><td>1</td></tr>\n",
              "\t<tr><td>15599081</td><td>Female</td><td>45</td><td> 22000</td><td>1</td></tr>\n",
              "\t<tr><td>15705113</td><td>Male  </td><td>46</td><td> 23000</td><td>1</td></tr>\n",
              "\t<tr><td>15631159</td><td>Male  </td><td>47</td><td> 20000</td><td>1</td></tr>\n",
              "\t<tr><td>15792818</td><td>Male  </td><td>49</td><td> 28000</td><td>1</td></tr>\n",
              "\t<tr><td>15633531</td><td>Female</td><td>47</td><td> 30000</td><td>1</td></tr>\n",
              "\t<tr><td>15744529</td><td>Male  </td><td>29</td><td> 43000</td><td>0</td></tr>\n",
              "\t<tr><td>15669656</td><td>Male  </td><td>31</td><td> 18000</td><td>0</td></tr>\n",
              "\t<tr><td>⋮</td><td>⋮</td><td>⋮</td><td>⋮</td><td>⋮</td></tr>\n",
              "\t<tr><td>15611430</td><td>Female</td><td>60</td><td> 46000</td><td>1</td></tr>\n",
              "\t<tr><td>15774744</td><td>Male  </td><td>60</td><td> 83000</td><td>1</td></tr>\n",
              "\t<tr><td>15629885</td><td>Female</td><td>39</td><td> 73000</td><td>0</td></tr>\n",
              "\t<tr><td>15708791</td><td>Male  </td><td>59</td><td>130000</td><td>1</td></tr>\n",
              "\t<tr><td>15793890</td><td>Female</td><td>37</td><td> 80000</td><td>0</td></tr>\n",
              "\t<tr><td>15646091</td><td>Female</td><td>46</td><td> 32000</td><td>1</td></tr>\n",
              "\t<tr><td>15596984</td><td>Female</td><td>46</td><td> 74000</td><td>0</td></tr>\n",
              "\t<tr><td>15800215</td><td>Female</td><td>42</td><td> 53000</td><td>0</td></tr>\n",
              "\t<tr><td>15577806</td><td>Male  </td><td>41</td><td> 87000</td><td>1</td></tr>\n",
              "\t<tr><td>15749381</td><td>Female</td><td>58</td><td> 23000</td><td>1</td></tr>\n",
              "\t<tr><td>15683758</td><td>Male  </td><td>42</td><td> 64000</td><td>0</td></tr>\n",
              "\t<tr><td>15670615</td><td>Male  </td><td>48</td><td> 33000</td><td>1</td></tr>\n",
              "\t<tr><td>15715622</td><td>Female</td><td>44</td><td>139000</td><td>1</td></tr>\n",
              "\t<tr><td>15707634</td><td>Male  </td><td>49</td><td> 28000</td><td>1</td></tr>\n",
              "\t<tr><td>15806901</td><td>Female</td><td>57</td><td> 33000</td><td>1</td></tr>\n",
              "\t<tr><td>15775335</td><td>Male  </td><td>56</td><td> 60000</td><td>1</td></tr>\n",
              "\t<tr><td>15724150</td><td>Female</td><td>49</td><td> 39000</td><td>1</td></tr>\n",
              "\t<tr><td>15627220</td><td>Male  </td><td>39</td><td> 71000</td><td>0</td></tr>\n",
              "\t<tr><td>15672330</td><td>Male  </td><td>47</td><td> 34000</td><td>1</td></tr>\n",
              "\t<tr><td>15668521</td><td>Female</td><td>48</td><td> 35000</td><td>1</td></tr>\n",
              "\t<tr><td>15807837</td><td>Male  </td><td>48</td><td> 33000</td><td>1</td></tr>\n",
              "\t<tr><td>15592570</td><td>Male  </td><td>47</td><td> 23000</td><td>1</td></tr>\n",
              "\t<tr><td>15748589</td><td>Female</td><td>45</td><td> 45000</td><td>1</td></tr>\n",
              "\t<tr><td>15635893</td><td>Male  </td><td>60</td><td> 42000</td><td>1</td></tr>\n",
              "\t<tr><td>15757632</td><td>Female</td><td>39</td><td> 59000</td><td>0</td></tr>\n",
              "\t<tr><td>15691863</td><td>Female</td><td>46</td><td> 41000</td><td>1</td></tr>\n",
              "\t<tr><td>15706071</td><td>Male  </td><td>51</td><td> 23000</td><td>1</td></tr>\n",
              "\t<tr><td>15654296</td><td>Female</td><td>50</td><td> 20000</td><td>1</td></tr>\n",
              "\t<tr><td>15755018</td><td>Male  </td><td>36</td><td> 33000</td><td>0</td></tr>\n",
              "\t<tr><td>15594041</td><td>Female</td><td>49</td><td> 36000</td><td>1</td></tr>\n",
              "</tbody>\n",
              "</table>\n"
            ],
            "text/markdown": "\nA data.frame: 400 × 5\n\n| User.ID &lt;int&gt; | Gender &lt;chr&gt; | Age &lt;int&gt; | EstimatedSalary &lt;int&gt; | Purchased &lt;int&gt; |\n|---|---|---|---|---|\n| 15624510 | Male   | 19 |  19000 | 0 |\n| 15810944 | Male   | 35 |  20000 | 0 |\n| 15668575 | Female | 26 |  43000 | 0 |\n| 15603246 | Female | 27 |  57000 | 0 |\n| 15804002 | Male   | 19 |  76000 | 0 |\n| 15728773 | Male   | 27 |  58000 | 0 |\n| 15598044 | Female | 27 |  84000 | 0 |\n| 15694829 | Female | 32 | 150000 | 1 |\n| 15600575 | Male   | 25 |  33000 | 0 |\n| 15727311 | Female | 35 |  65000 | 0 |\n| 15570769 | Female | 26 |  80000 | 0 |\n| 15606274 | Female | 26 |  52000 | 0 |\n| 15746139 | Male   | 20 |  86000 | 0 |\n| 15704987 | Male   | 32 |  18000 | 0 |\n| 15628972 | Male   | 18 |  82000 | 0 |\n| 15697686 | Male   | 29 |  80000 | 0 |\n| 15733883 | Male   | 47 |  25000 | 1 |\n| 15617482 | Male   | 45 |  26000 | 1 |\n| 15704583 | Male   | 46 |  28000 | 1 |\n| 15621083 | Female | 48 |  29000 | 1 |\n| 15649487 | Male   | 45 |  22000 | 1 |\n| 15736760 | Female | 47 |  49000 | 1 |\n| 15714658 | Male   | 48 |  41000 | 1 |\n| 15599081 | Female | 45 |  22000 | 1 |\n| 15705113 | Male   | 46 |  23000 | 1 |\n| 15631159 | Male   | 47 |  20000 | 1 |\n| 15792818 | Male   | 49 |  28000 | 1 |\n| 15633531 | Female | 47 |  30000 | 1 |\n| 15744529 | Male   | 29 |  43000 | 0 |\n| 15669656 | Male   | 31 |  18000 | 0 |\n| ⋮ | ⋮ | ⋮ | ⋮ | ⋮ |\n| 15611430 | Female | 60 |  46000 | 1 |\n| 15774744 | Male   | 60 |  83000 | 1 |\n| 15629885 | Female | 39 |  73000 | 0 |\n| 15708791 | Male   | 59 | 130000 | 1 |\n| 15793890 | Female | 37 |  80000 | 0 |\n| 15646091 | Female | 46 |  32000 | 1 |\n| 15596984 | Female | 46 |  74000 | 0 |\n| 15800215 | Female | 42 |  53000 | 0 |\n| 15577806 | Male   | 41 |  87000 | 1 |\n| 15749381 | Female | 58 |  23000 | 1 |\n| 15683758 | Male   | 42 |  64000 | 0 |\n| 15670615 | Male   | 48 |  33000 | 1 |\n| 15715622 | Female | 44 | 139000 | 1 |\n| 15707634 | Male   | 49 |  28000 | 1 |\n| 15806901 | Female | 57 |  33000 | 1 |\n| 15775335 | Male   | 56 |  60000 | 1 |\n| 15724150 | Female | 49 |  39000 | 1 |\n| 15627220 | Male   | 39 |  71000 | 0 |\n| 15672330 | Male   | 47 |  34000 | 1 |\n| 15668521 | Female | 48 |  35000 | 1 |\n| 15807837 | Male   | 48 |  33000 | 1 |\n| 15592570 | Male   | 47 |  23000 | 1 |\n| 15748589 | Female | 45 |  45000 | 1 |\n| 15635893 | Male   | 60 |  42000 | 1 |\n| 15757632 | Female | 39 |  59000 | 0 |\n| 15691863 | Female | 46 |  41000 | 1 |\n| 15706071 | Male   | 51 |  23000 | 1 |\n| 15654296 | Female | 50 |  20000 | 1 |\n| 15755018 | Male   | 36 |  33000 | 0 |\n| 15594041 | Female | 49 |  36000 | 1 |\n\n",
            "text/latex": "A data.frame: 400 × 5\n\\begin{tabular}{lllll}\n User.ID & Gender & Age & EstimatedSalary & Purchased\\\\\n <int> & <chr> & <int> & <int> & <int>\\\\\n\\hline\n\t 15624510 & Male   & 19 &  19000 & 0\\\\\n\t 15810944 & Male   & 35 &  20000 & 0\\\\\n\t 15668575 & Female & 26 &  43000 & 0\\\\\n\t 15603246 & Female & 27 &  57000 & 0\\\\\n\t 15804002 & Male   & 19 &  76000 & 0\\\\\n\t 15728773 & Male   & 27 &  58000 & 0\\\\\n\t 15598044 & Female & 27 &  84000 & 0\\\\\n\t 15694829 & Female & 32 & 150000 & 1\\\\\n\t 15600575 & Male   & 25 &  33000 & 0\\\\\n\t 15727311 & Female & 35 &  65000 & 0\\\\\n\t 15570769 & Female & 26 &  80000 & 0\\\\\n\t 15606274 & Female & 26 &  52000 & 0\\\\\n\t 15746139 & Male   & 20 &  86000 & 0\\\\\n\t 15704987 & Male   & 32 &  18000 & 0\\\\\n\t 15628972 & Male   & 18 &  82000 & 0\\\\\n\t 15697686 & Male   & 29 &  80000 & 0\\\\\n\t 15733883 & Male   & 47 &  25000 & 1\\\\\n\t 15617482 & Male   & 45 &  26000 & 1\\\\\n\t 15704583 & Male   & 46 &  28000 & 1\\\\\n\t 15621083 & Female & 48 &  29000 & 1\\\\\n\t 15649487 & Male   & 45 &  22000 & 1\\\\\n\t 15736760 & Female & 47 &  49000 & 1\\\\\n\t 15714658 & Male   & 48 &  41000 & 1\\\\\n\t 15599081 & Female & 45 &  22000 & 1\\\\\n\t 15705113 & Male   & 46 &  23000 & 1\\\\\n\t 15631159 & Male   & 47 &  20000 & 1\\\\\n\t 15792818 & Male   & 49 &  28000 & 1\\\\\n\t 15633531 & Female & 47 &  30000 & 1\\\\\n\t 15744529 & Male   & 29 &  43000 & 0\\\\\n\t 15669656 & Male   & 31 &  18000 & 0\\\\\n\t ⋮ & ⋮ & ⋮ & ⋮ & ⋮\\\\\n\t 15611430 & Female & 60 &  46000 & 1\\\\\n\t 15774744 & Male   & 60 &  83000 & 1\\\\\n\t 15629885 & Female & 39 &  73000 & 0\\\\\n\t 15708791 & Male   & 59 & 130000 & 1\\\\\n\t 15793890 & Female & 37 &  80000 & 0\\\\\n\t 15646091 & Female & 46 &  32000 & 1\\\\\n\t 15596984 & Female & 46 &  74000 & 0\\\\\n\t 15800215 & Female & 42 &  53000 & 0\\\\\n\t 15577806 & Male   & 41 &  87000 & 1\\\\\n\t 15749381 & Female & 58 &  23000 & 1\\\\\n\t 15683758 & Male   & 42 &  64000 & 0\\\\\n\t 15670615 & Male   & 48 &  33000 & 1\\\\\n\t 15715622 & Female & 44 & 139000 & 1\\\\\n\t 15707634 & Male   & 49 &  28000 & 1\\\\\n\t 15806901 & Female & 57 &  33000 & 1\\\\\n\t 15775335 & Male   & 56 &  60000 & 1\\\\\n\t 15724150 & Female & 49 &  39000 & 1\\\\\n\t 15627220 & Male   & 39 &  71000 & 0\\\\\n\t 15672330 & Male   & 47 &  34000 & 1\\\\\n\t 15668521 & Female & 48 &  35000 & 1\\\\\n\t 15807837 & Male   & 48 &  33000 & 1\\\\\n\t 15592570 & Male   & 47 &  23000 & 1\\\\\n\t 15748589 & Female & 45 &  45000 & 1\\\\\n\t 15635893 & Male   & 60 &  42000 & 1\\\\\n\t 15757632 & Female & 39 &  59000 & 0\\\\\n\t 15691863 & Female & 46 &  41000 & 1\\\\\n\t 15706071 & Male   & 51 &  23000 & 1\\\\\n\t 15654296 & Female & 50 &  20000 & 1\\\\\n\t 15755018 & Male   & 36 &  33000 & 0\\\\\n\t 15594041 & Female & 49 &  36000 & 1\\\\\n\\end{tabular}\n",
            "text/plain": [
              "    User.ID  Gender Age EstimatedSalary Purchased\n",
              "1   15624510 Male   19   19000          0        \n",
              "2   15810944 Male   35   20000          0        \n",
              "3   15668575 Female 26   43000          0        \n",
              "4   15603246 Female 27   57000          0        \n",
              "5   15804002 Male   19   76000          0        \n",
              "6   15728773 Male   27   58000          0        \n",
              "7   15598044 Female 27   84000          0        \n",
              "8   15694829 Female 32  150000          1        \n",
              "9   15600575 Male   25   33000          0        \n",
              "10  15727311 Female 35   65000          0        \n",
              "11  15570769 Female 26   80000          0        \n",
              "12  15606274 Female 26   52000          0        \n",
              "13  15746139 Male   20   86000          0        \n",
              "14  15704987 Male   32   18000          0        \n",
              "15  15628972 Male   18   82000          0        \n",
              "16  15697686 Male   29   80000          0        \n",
              "17  15733883 Male   47   25000          1        \n",
              "18  15617482 Male   45   26000          1        \n",
              "19  15704583 Male   46   28000          1        \n",
              "20  15621083 Female 48   29000          1        \n",
              "21  15649487 Male   45   22000          1        \n",
              "22  15736760 Female 47   49000          1        \n",
              "23  15714658 Male   48   41000          1        \n",
              "24  15599081 Female 45   22000          1        \n",
              "25  15705113 Male   46   23000          1        \n",
              "26  15631159 Male   47   20000          1        \n",
              "27  15792818 Male   49   28000          1        \n",
              "28  15633531 Female 47   30000          1        \n",
              "29  15744529 Male   29   43000          0        \n",
              "30  15669656 Male   31   18000          0        \n",
              "⋮   ⋮        ⋮      ⋮   ⋮               ⋮        \n",
              "371 15611430 Female 60   46000          1        \n",
              "372 15774744 Male   60   83000          1        \n",
              "373 15629885 Female 39   73000          0        \n",
              "374 15708791 Male   59  130000          1        \n",
              "375 15793890 Female 37   80000          0        \n",
              "376 15646091 Female 46   32000          1        \n",
              "377 15596984 Female 46   74000          0        \n",
              "378 15800215 Female 42   53000          0        \n",
              "379 15577806 Male   41   87000          1        \n",
              "380 15749381 Female 58   23000          1        \n",
              "381 15683758 Male   42   64000          0        \n",
              "382 15670615 Male   48   33000          1        \n",
              "383 15715622 Female 44  139000          1        \n",
              "384 15707634 Male   49   28000          1        \n",
              "385 15806901 Female 57   33000          1        \n",
              "386 15775335 Male   56   60000          1        \n",
              "387 15724150 Female 49   39000          1        \n",
              "388 15627220 Male   39   71000          0        \n",
              "389 15672330 Male   47   34000          1        \n",
              "390 15668521 Female 48   35000          1        \n",
              "391 15807837 Male   48   33000          1        \n",
              "392 15592570 Male   47   23000          1        \n",
              "393 15748589 Female 45   45000          1        \n",
              "394 15635893 Male   60   42000          1        \n",
              "395 15757632 Female 39   59000          0        \n",
              "396 15691863 Female 46   41000          1        \n",
              "397 15706071 Male   51   23000          1        \n",
              "398 15654296 Female 50   20000          1        \n",
              "399 15755018 Male   36   33000          0        \n",
              "400 15594041 Female 49   36000          1        "
            ]
          },
          "metadata": {}
        }
      ],
      "source": [
        "dataset<-read.csv(\"https://raw.githubusercontent.com/LiShingHan/DataScience/main/DataSet/Random%20forest.csv\")\n",
        "dataset"
      ]
    },
    {
      "cell_type": "code",
      "execution_count": 6,
      "id": "iraqi-tobacco",
      "metadata": {
        "colab": {
          "base_uri": "https://localhost:8080/"
        },
        "id": "iraqi-tobacco",
        "outputId": "6779a792-a862-4593-9206-7dd6e003bb30"
      },
      "outputs": [
        {
          "output_type": "stream",
          "name": "stdout",
          "text": [
            "'data.frame':\t400 obs. of  5 variables:\n",
            " $ User.ID        : int  15624510 15810944 15668575 15603246 15804002 15728773 15598044 15694829 15600575 15727311 ...\n",
            " $ Gender         : chr  \"Male\" \"Male\" \"Female\" \"Female\" ...\n",
            " $ Age            : int  19 35 26 27 19 27 27 32 25 35 ...\n",
            " $ EstimatedSalary: int  19000 20000 43000 57000 76000 58000 84000 150000 33000 65000 ...\n",
            " $ Purchased      : Factor w/ 2 levels \"0\",\"1\": 1 1 1 1 1 1 1 2 1 1 ...\n"
          ]
        }
      ],
      "source": [
        "dataset[,'Purchased'] <- as.factor(dataset[,'Purchased'])\n",
        "str(dataset)"
      ]
    },
    {
      "cell_type": "code",
      "execution_count": 7,
      "id": "indoor-effort",
      "metadata": {
        "id": "indoor-effort"
      },
      "outputs": [],
      "source": [
        "set.seed(0)\n",
        "test.index=sample(1:nrow(dataset),80)   #80筆    測試資料\n",
        "X.train=dataset[-test.index,]        #320筆   訓練資料\n",
        "X.test=dataset[test.index,]"
      ]
    },
    {
      "cell_type": "code",
      "execution_count": 8,
      "id": "further-alignment",
      "metadata": {
        "colab": {
          "base_uri": "https://localhost:8080/",
          "height": 1000
        },
        "id": "further-alignment",
        "outputId": "7a5bf9d1-689b-4deb-c535-a07fd4c8c5b2"
      },
      "outputs": [
        {
          "output_type": "display_data",
          "data": {
            "text/html": [
              "<table class=\"dataframe\">\n",
              "<caption>A data.frame: 320 × 5</caption>\n",
              "<thead>\n",
              "\t<tr><th></th><th scope=col>User.ID</th><th scope=col>Gender</th><th scope=col>Age</th><th scope=col>EstimatedSalary</th><th scope=col>Purchased</th></tr>\n",
              "\t<tr><th></th><th scope=col>&lt;int&gt;</th><th scope=col>&lt;chr&gt;</th><th scope=col>&lt;int&gt;</th><th scope=col>&lt;int&gt;</th><th scope=col>&lt;fct&gt;</th></tr>\n",
              "</thead>\n",
              "<tbody>\n",
              "\t<tr><th scope=row>1</th><td>15624510</td><td>Male  </td><td>19</td><td> 19000</td><td>0</td></tr>\n",
              "\t<tr><th scope=row>2</th><td>15810944</td><td>Male  </td><td>35</td><td> 20000</td><td>0</td></tr>\n",
              "\t<tr><th scope=row>3</th><td>15668575</td><td>Female</td><td>26</td><td> 43000</td><td>0</td></tr>\n",
              "\t<tr><th scope=row>4</th><td>15603246</td><td>Female</td><td>27</td><td> 57000</td><td>0</td></tr>\n",
              "\t<tr><th scope=row>5</th><td>15804002</td><td>Male  </td><td>19</td><td> 76000</td><td>0</td></tr>\n",
              "\t<tr><th scope=row>6</th><td>15728773</td><td>Male  </td><td>27</td><td> 58000</td><td>0</td></tr>\n",
              "\t<tr><th scope=row>7</th><td>15598044</td><td>Female</td><td>27</td><td> 84000</td><td>0</td></tr>\n",
              "\t<tr><th scope=row>8</th><td>15694829</td><td>Female</td><td>32</td><td>150000</td><td>1</td></tr>\n",
              "\t<tr><th scope=row>9</th><td>15600575</td><td>Male  </td><td>25</td><td> 33000</td><td>0</td></tr>\n",
              "\t<tr><th scope=row>10</th><td>15727311</td><td>Female</td><td>35</td><td> 65000</td><td>0</td></tr>\n",
              "\t<tr><th scope=row>11</th><td>15570769</td><td>Female</td><td>26</td><td> 80000</td><td>0</td></tr>\n",
              "\t<tr><th scope=row>12</th><td>15606274</td><td>Female</td><td>26</td><td> 52000</td><td>0</td></tr>\n",
              "\t<tr><th scope=row>15</th><td>15628972</td><td>Male  </td><td>18</td><td> 82000</td><td>0</td></tr>\n",
              "\t<tr><th scope=row>16</th><td>15697686</td><td>Male  </td><td>29</td><td> 80000</td><td>0</td></tr>\n",
              "\t<tr><th scope=row>17</th><td>15733883</td><td>Male  </td><td>47</td><td> 25000</td><td>1</td></tr>\n",
              "\t<tr><th scope=row>18</th><td>15617482</td><td>Male  </td><td>45</td><td> 26000</td><td>1</td></tr>\n",
              "\t<tr><th scope=row>19</th><td>15704583</td><td>Male  </td><td>46</td><td> 28000</td><td>1</td></tr>\n",
              "\t<tr><th scope=row>21</th><td>15649487</td><td>Male  </td><td>45</td><td> 22000</td><td>1</td></tr>\n",
              "\t<tr><th scope=row>23</th><td>15714658</td><td>Male  </td><td>48</td><td> 41000</td><td>1</td></tr>\n",
              "\t<tr><th scope=row>24</th><td>15599081</td><td>Female</td><td>45</td><td> 22000</td><td>1</td></tr>\n",
              "\t<tr><th scope=row>26</th><td>15631159</td><td>Male  </td><td>47</td><td> 20000</td><td>1</td></tr>\n",
              "\t<tr><th scope=row>27</th><td>15792818</td><td>Male  </td><td>49</td><td> 28000</td><td>1</td></tr>\n",
              "\t<tr><th scope=row>28</th><td>15633531</td><td>Female</td><td>47</td><td> 30000</td><td>1</td></tr>\n",
              "\t<tr><th scope=row>30</th><td>15669656</td><td>Male  </td><td>31</td><td> 18000</td><td>0</td></tr>\n",
              "\t<tr><th scope=row>31</th><td>15581198</td><td>Male  </td><td>31</td><td> 74000</td><td>0</td></tr>\n",
              "\t<tr><th scope=row>32</th><td>15729054</td><td>Female</td><td>27</td><td>137000</td><td>1</td></tr>\n",
              "\t<tr><th scope=row>34</th><td>15776733</td><td>Female</td><td>28</td><td> 44000</td><td>0</td></tr>\n",
              "\t<tr><th scope=row>35</th><td>15724858</td><td>Male  </td><td>27</td><td> 90000</td><td>0</td></tr>\n",
              "\t<tr><th scope=row>36</th><td>15713144</td><td>Male  </td><td>35</td><td> 27000</td><td>0</td></tr>\n",
              "\t<tr><th scope=row>38</th><td>15689425</td><td>Male  </td><td>30</td><td> 49000</td><td>0</td></tr>\n",
              "\t<tr><th scope=row>⋮</th><td>⋮</td><td>⋮</td><td>⋮</td><td>⋮</td><td>⋮</td></tr>\n",
              "\t<tr><th scope=row>364</th><td>15768293</td><td>Female</td><td>42</td><td> 79000</td><td>0</td></tr>\n",
              "\t<tr><th scope=row>365</th><td>15654456</td><td>Male  </td><td>42</td><td>104000</td><td>1</td></tr>\n",
              "\t<tr><th scope=row>367</th><td>15574372</td><td>Female</td><td>58</td><td> 47000</td><td>1</td></tr>\n",
              "\t<tr><th scope=row>368</th><td>15671249</td><td>Male  </td><td>46</td><td> 88000</td><td>1</td></tr>\n",
              "\t<tr><th scope=row>369</th><td>15779744</td><td>Male  </td><td>38</td><td> 71000</td><td>0</td></tr>\n",
              "\t<tr><th scope=row>370</th><td>15624755</td><td>Female</td><td>54</td><td> 26000</td><td>1</td></tr>\n",
              "\t<tr><th scope=row>371</th><td>15611430</td><td>Female</td><td>60</td><td> 46000</td><td>1</td></tr>\n",
              "\t<tr><th scope=row>372</th><td>15774744</td><td>Male  </td><td>60</td><td> 83000</td><td>1</td></tr>\n",
              "\t<tr><th scope=row>375</th><td>15793890</td><td>Female</td><td>37</td><td> 80000</td><td>0</td></tr>\n",
              "\t<tr><th scope=row>376</th><td>15646091</td><td>Female</td><td>46</td><td> 32000</td><td>1</td></tr>\n",
              "\t<tr><th scope=row>377</th><td>15596984</td><td>Female</td><td>46</td><td> 74000</td><td>0</td></tr>\n",
              "\t<tr><th scope=row>378</th><td>15800215</td><td>Female</td><td>42</td><td> 53000</td><td>0</td></tr>\n",
              "\t<tr><th scope=row>379</th><td>15577806</td><td>Male  </td><td>41</td><td> 87000</td><td>1</td></tr>\n",
              "\t<tr><th scope=row>380</th><td>15749381</td><td>Female</td><td>58</td><td> 23000</td><td>1</td></tr>\n",
              "\t<tr><th scope=row>381</th><td>15683758</td><td>Male  </td><td>42</td><td> 64000</td><td>0</td></tr>\n",
              "\t<tr><th scope=row>383</th><td>15715622</td><td>Female</td><td>44</td><td>139000</td><td>1</td></tr>\n",
              "\t<tr><th scope=row>384</th><td>15707634</td><td>Male  </td><td>49</td><td> 28000</td><td>1</td></tr>\n",
              "\t<tr><th scope=row>385</th><td>15806901</td><td>Female</td><td>57</td><td> 33000</td><td>1</td></tr>\n",
              "\t<tr><th scope=row>386</th><td>15775335</td><td>Male  </td><td>56</td><td> 60000</td><td>1</td></tr>\n",
              "\t<tr><th scope=row>387</th><td>15724150</td><td>Female</td><td>49</td><td> 39000</td><td>1</td></tr>\n",
              "\t<tr><th scope=row>388</th><td>15627220</td><td>Male  </td><td>39</td><td> 71000</td><td>0</td></tr>\n",
              "\t<tr><th scope=row>391</th><td>15807837</td><td>Male  </td><td>48</td><td> 33000</td><td>1</td></tr>\n",
              "\t<tr><th scope=row>392</th><td>15592570</td><td>Male  </td><td>47</td><td> 23000</td><td>1</td></tr>\n",
              "\t<tr><th scope=row>393</th><td>15748589</td><td>Female</td><td>45</td><td> 45000</td><td>1</td></tr>\n",
              "\t<tr><th scope=row>394</th><td>15635893</td><td>Male  </td><td>60</td><td> 42000</td><td>1</td></tr>\n",
              "\t<tr><th scope=row>395</th><td>15757632</td><td>Female</td><td>39</td><td> 59000</td><td>0</td></tr>\n",
              "\t<tr><th scope=row>396</th><td>15691863</td><td>Female</td><td>46</td><td> 41000</td><td>1</td></tr>\n",
              "\t<tr><th scope=row>397</th><td>15706071</td><td>Male  </td><td>51</td><td> 23000</td><td>1</td></tr>\n",
              "\t<tr><th scope=row>399</th><td>15755018</td><td>Male  </td><td>36</td><td> 33000</td><td>0</td></tr>\n",
              "\t<tr><th scope=row>400</th><td>15594041</td><td>Female</td><td>49</td><td> 36000</td><td>1</td></tr>\n",
              "</tbody>\n",
              "</table>\n"
            ],
            "text/markdown": "\nA data.frame: 320 × 5\n\n| <!--/--> | User.ID &lt;int&gt; | Gender &lt;chr&gt; | Age &lt;int&gt; | EstimatedSalary &lt;int&gt; | Purchased &lt;fct&gt; |\n|---|---|---|---|---|---|\n| 1 | 15624510 | Male   | 19 |  19000 | 0 |\n| 2 | 15810944 | Male   | 35 |  20000 | 0 |\n| 3 | 15668575 | Female | 26 |  43000 | 0 |\n| 4 | 15603246 | Female | 27 |  57000 | 0 |\n| 5 | 15804002 | Male   | 19 |  76000 | 0 |\n| 6 | 15728773 | Male   | 27 |  58000 | 0 |\n| 7 | 15598044 | Female | 27 |  84000 | 0 |\n| 8 | 15694829 | Female | 32 | 150000 | 1 |\n| 9 | 15600575 | Male   | 25 |  33000 | 0 |\n| 10 | 15727311 | Female | 35 |  65000 | 0 |\n| 11 | 15570769 | Female | 26 |  80000 | 0 |\n| 12 | 15606274 | Female | 26 |  52000 | 0 |\n| 15 | 15628972 | Male   | 18 |  82000 | 0 |\n| 16 | 15697686 | Male   | 29 |  80000 | 0 |\n| 17 | 15733883 | Male   | 47 |  25000 | 1 |\n| 18 | 15617482 | Male   | 45 |  26000 | 1 |\n| 19 | 15704583 | Male   | 46 |  28000 | 1 |\n| 21 | 15649487 | Male   | 45 |  22000 | 1 |\n| 23 | 15714658 | Male   | 48 |  41000 | 1 |\n| 24 | 15599081 | Female | 45 |  22000 | 1 |\n| 26 | 15631159 | Male   | 47 |  20000 | 1 |\n| 27 | 15792818 | Male   | 49 |  28000 | 1 |\n| 28 | 15633531 | Female | 47 |  30000 | 1 |\n| 30 | 15669656 | Male   | 31 |  18000 | 0 |\n| 31 | 15581198 | Male   | 31 |  74000 | 0 |\n| 32 | 15729054 | Female | 27 | 137000 | 1 |\n| 34 | 15776733 | Female | 28 |  44000 | 0 |\n| 35 | 15724858 | Male   | 27 |  90000 | 0 |\n| 36 | 15713144 | Male   | 35 |  27000 | 0 |\n| 38 | 15689425 | Male   | 30 |  49000 | 0 |\n| ⋮ | ⋮ | ⋮ | ⋮ | ⋮ | ⋮ |\n| 364 | 15768293 | Female | 42 |  79000 | 0 |\n| 365 | 15654456 | Male   | 42 | 104000 | 1 |\n| 367 | 15574372 | Female | 58 |  47000 | 1 |\n| 368 | 15671249 | Male   | 46 |  88000 | 1 |\n| 369 | 15779744 | Male   | 38 |  71000 | 0 |\n| 370 | 15624755 | Female | 54 |  26000 | 1 |\n| 371 | 15611430 | Female | 60 |  46000 | 1 |\n| 372 | 15774744 | Male   | 60 |  83000 | 1 |\n| 375 | 15793890 | Female | 37 |  80000 | 0 |\n| 376 | 15646091 | Female | 46 |  32000 | 1 |\n| 377 | 15596984 | Female | 46 |  74000 | 0 |\n| 378 | 15800215 | Female | 42 |  53000 | 0 |\n| 379 | 15577806 | Male   | 41 |  87000 | 1 |\n| 380 | 15749381 | Female | 58 |  23000 | 1 |\n| 381 | 15683758 | Male   | 42 |  64000 | 0 |\n| 383 | 15715622 | Female | 44 | 139000 | 1 |\n| 384 | 15707634 | Male   | 49 |  28000 | 1 |\n| 385 | 15806901 | Female | 57 |  33000 | 1 |\n| 386 | 15775335 | Male   | 56 |  60000 | 1 |\n| 387 | 15724150 | Female | 49 |  39000 | 1 |\n| 388 | 15627220 | Male   | 39 |  71000 | 0 |\n| 391 | 15807837 | Male   | 48 |  33000 | 1 |\n| 392 | 15592570 | Male   | 47 |  23000 | 1 |\n| 393 | 15748589 | Female | 45 |  45000 | 1 |\n| 394 | 15635893 | Male   | 60 |  42000 | 1 |\n| 395 | 15757632 | Female | 39 |  59000 | 0 |\n| 396 | 15691863 | Female | 46 |  41000 | 1 |\n| 397 | 15706071 | Male   | 51 |  23000 | 1 |\n| 399 | 15755018 | Male   | 36 |  33000 | 0 |\n| 400 | 15594041 | Female | 49 |  36000 | 1 |\n\n",
            "text/latex": "A data.frame: 320 × 5\n\\begin{tabular}{r|lllll}\n  & User.ID & Gender & Age & EstimatedSalary & Purchased\\\\\n  & <int> & <chr> & <int> & <int> & <fct>\\\\\n\\hline\n\t1 & 15624510 & Male   & 19 &  19000 & 0\\\\\n\t2 & 15810944 & Male   & 35 &  20000 & 0\\\\\n\t3 & 15668575 & Female & 26 &  43000 & 0\\\\\n\t4 & 15603246 & Female & 27 &  57000 & 0\\\\\n\t5 & 15804002 & Male   & 19 &  76000 & 0\\\\\n\t6 & 15728773 & Male   & 27 &  58000 & 0\\\\\n\t7 & 15598044 & Female & 27 &  84000 & 0\\\\\n\t8 & 15694829 & Female & 32 & 150000 & 1\\\\\n\t9 & 15600575 & Male   & 25 &  33000 & 0\\\\\n\t10 & 15727311 & Female & 35 &  65000 & 0\\\\\n\t11 & 15570769 & Female & 26 &  80000 & 0\\\\\n\t12 & 15606274 & Female & 26 &  52000 & 0\\\\\n\t15 & 15628972 & Male   & 18 &  82000 & 0\\\\\n\t16 & 15697686 & Male   & 29 &  80000 & 0\\\\\n\t17 & 15733883 & Male   & 47 &  25000 & 1\\\\\n\t18 & 15617482 & Male   & 45 &  26000 & 1\\\\\n\t19 & 15704583 & Male   & 46 &  28000 & 1\\\\\n\t21 & 15649487 & Male   & 45 &  22000 & 1\\\\\n\t23 & 15714658 & Male   & 48 &  41000 & 1\\\\\n\t24 & 15599081 & Female & 45 &  22000 & 1\\\\\n\t26 & 15631159 & Male   & 47 &  20000 & 1\\\\\n\t27 & 15792818 & Male   & 49 &  28000 & 1\\\\\n\t28 & 15633531 & Female & 47 &  30000 & 1\\\\\n\t30 & 15669656 & Male   & 31 &  18000 & 0\\\\\n\t31 & 15581198 & Male   & 31 &  74000 & 0\\\\\n\t32 & 15729054 & Female & 27 & 137000 & 1\\\\\n\t34 & 15776733 & Female & 28 &  44000 & 0\\\\\n\t35 & 15724858 & Male   & 27 &  90000 & 0\\\\\n\t36 & 15713144 & Male   & 35 &  27000 & 0\\\\\n\t38 & 15689425 & Male   & 30 &  49000 & 0\\\\\n\t⋮ & ⋮ & ⋮ & ⋮ & ⋮ & ⋮\\\\\n\t364 & 15768293 & Female & 42 &  79000 & 0\\\\\n\t365 & 15654456 & Male   & 42 & 104000 & 1\\\\\n\t367 & 15574372 & Female & 58 &  47000 & 1\\\\\n\t368 & 15671249 & Male   & 46 &  88000 & 1\\\\\n\t369 & 15779744 & Male   & 38 &  71000 & 0\\\\\n\t370 & 15624755 & Female & 54 &  26000 & 1\\\\\n\t371 & 15611430 & Female & 60 &  46000 & 1\\\\\n\t372 & 15774744 & Male   & 60 &  83000 & 1\\\\\n\t375 & 15793890 & Female & 37 &  80000 & 0\\\\\n\t376 & 15646091 & Female & 46 &  32000 & 1\\\\\n\t377 & 15596984 & Female & 46 &  74000 & 0\\\\\n\t378 & 15800215 & Female & 42 &  53000 & 0\\\\\n\t379 & 15577806 & Male   & 41 &  87000 & 1\\\\\n\t380 & 15749381 & Female & 58 &  23000 & 1\\\\\n\t381 & 15683758 & Male   & 42 &  64000 & 0\\\\\n\t383 & 15715622 & Female & 44 & 139000 & 1\\\\\n\t384 & 15707634 & Male   & 49 &  28000 & 1\\\\\n\t385 & 15806901 & Female & 57 &  33000 & 1\\\\\n\t386 & 15775335 & Male   & 56 &  60000 & 1\\\\\n\t387 & 15724150 & Female & 49 &  39000 & 1\\\\\n\t388 & 15627220 & Male   & 39 &  71000 & 0\\\\\n\t391 & 15807837 & Male   & 48 &  33000 & 1\\\\\n\t392 & 15592570 & Male   & 47 &  23000 & 1\\\\\n\t393 & 15748589 & Female & 45 &  45000 & 1\\\\\n\t394 & 15635893 & Male   & 60 &  42000 & 1\\\\\n\t395 & 15757632 & Female & 39 &  59000 & 0\\\\\n\t396 & 15691863 & Female & 46 &  41000 & 1\\\\\n\t397 & 15706071 & Male   & 51 &  23000 & 1\\\\\n\t399 & 15755018 & Male   & 36 &  33000 & 0\\\\\n\t400 & 15594041 & Female & 49 &  36000 & 1\\\\\n\\end{tabular}\n",
            "text/plain": [
              "    User.ID  Gender Age EstimatedSalary Purchased\n",
              "1   15624510 Male   19   19000          0        \n",
              "2   15810944 Male   35   20000          0        \n",
              "3   15668575 Female 26   43000          0        \n",
              "4   15603246 Female 27   57000          0        \n",
              "5   15804002 Male   19   76000          0        \n",
              "6   15728773 Male   27   58000          0        \n",
              "7   15598044 Female 27   84000          0        \n",
              "8   15694829 Female 32  150000          1        \n",
              "9   15600575 Male   25   33000          0        \n",
              "10  15727311 Female 35   65000          0        \n",
              "11  15570769 Female 26   80000          0        \n",
              "12  15606274 Female 26   52000          0        \n",
              "15  15628972 Male   18   82000          0        \n",
              "16  15697686 Male   29   80000          0        \n",
              "17  15733883 Male   47   25000          1        \n",
              "18  15617482 Male   45   26000          1        \n",
              "19  15704583 Male   46   28000          1        \n",
              "21  15649487 Male   45   22000          1        \n",
              "23  15714658 Male   48   41000          1        \n",
              "24  15599081 Female 45   22000          1        \n",
              "26  15631159 Male   47   20000          1        \n",
              "27  15792818 Male   49   28000          1        \n",
              "28  15633531 Female 47   30000          1        \n",
              "30  15669656 Male   31   18000          0        \n",
              "31  15581198 Male   31   74000          0        \n",
              "32  15729054 Female 27  137000          1        \n",
              "34  15776733 Female 28   44000          0        \n",
              "35  15724858 Male   27   90000          0        \n",
              "36  15713144 Male   35   27000          0        \n",
              "38  15689425 Male   30   49000          0        \n",
              "⋮   ⋮        ⋮      ⋮   ⋮               ⋮        \n",
              "364 15768293 Female 42   79000          0        \n",
              "365 15654456 Male   42  104000          1        \n",
              "367 15574372 Female 58   47000          1        \n",
              "368 15671249 Male   46   88000          1        \n",
              "369 15779744 Male   38   71000          0        \n",
              "370 15624755 Female 54   26000          1        \n",
              "371 15611430 Female 60   46000          1        \n",
              "372 15774744 Male   60   83000          1        \n",
              "375 15793890 Female 37   80000          0        \n",
              "376 15646091 Female 46   32000          1        \n",
              "377 15596984 Female 46   74000          0        \n",
              "378 15800215 Female 42   53000          0        \n",
              "379 15577806 Male   41   87000          1        \n",
              "380 15749381 Female 58   23000          1        \n",
              "381 15683758 Male   42   64000          0        \n",
              "383 15715622 Female 44  139000          1        \n",
              "384 15707634 Male   49   28000          1        \n",
              "385 15806901 Female 57   33000          1        \n",
              "386 15775335 Male   56   60000          1        \n",
              "387 15724150 Female 49   39000          1        \n",
              "388 15627220 Male   39   71000          0        \n",
              "391 15807837 Male   48   33000          1        \n",
              "392 15592570 Male   47   23000          1        \n",
              "393 15748589 Female 45   45000          1        \n",
              "394 15635893 Male   60   42000          1        \n",
              "395 15757632 Female 39   59000          0        \n",
              "396 15691863 Female 46   41000          1        \n",
              "397 15706071 Male   51   23000          1        \n",
              "399 15755018 Male   36   33000          0        \n",
              "400 15594041 Female 49   36000          1        "
            ]
          },
          "metadata": {}
        }
      ],
      "source": [
        "X.train"
      ]
    },
    {
      "cell_type": "code",
      "execution_count": null,
      "id": "specialized-scratch",
      "metadata": {
        "id": "specialized-scratch"
      },
      "outputs": [],
      "source": []
    },
    {
      "cell_type": "code",
      "execution_count": 9,
      "id": "quality-december",
      "metadata": {
        "colab": {
          "base_uri": "https://localhost:8080/",
          "height": 235
        },
        "id": "quality-december",
        "outputId": "b56dff41-dbe0-439a-e2a4-6661047c76f6"
      },
      "outputs": [
        {
          "output_type": "display_data",
          "data": {
            "text/plain": [
              "\n",
              "Call:\n",
              " randomForest(formula = Purchased ~ Age + EstimatedSalary, data = X.train) \n",
              "               Type of random forest: classification\n",
              "                     Number of trees: 500\n",
              "No. of variables tried at each split: 1\n",
              "\n",
              "        OOB estimate of  error rate: 10.62%\n",
              "Confusion matrix:\n",
              "    0   1 class.error\n",
              "0 184  18  0.08910891\n",
              "1  16 102  0.13559322"
            ]
          },
          "metadata": {}
        }
      ],
      "source": [
        "model <- randomForest( Purchased ~ Age + EstimatedSalary,  data = X.train)\n",
        "model"
      ]
    },
    {
      "cell_type": "code",
      "execution_count": 10,
      "id": "stopped-salad",
      "metadata": {
        "colab": {
          "base_uri": "https://localhost:8080/",
          "height": 138
        },
        "id": "stopped-salad",
        "outputId": "5fccc6b1-4d1a-4c29-d7f6-bfc81b76582f"
      },
      "outputs": [
        {
          "output_type": "display_data",
          "data": {
            "text/html": [
              "<style>\n",
              ".dl-inline {width: auto; margin:0; padding: 0}\n",
              ".dl-inline>dt, .dl-inline>dd {float: none; width: auto; display: inline-block}\n",
              ".dl-inline>dt::after {content: \":\\0020\"; padding-right: .5ex}\n",
              ".dl-inline>dt:not(:first-of-type) {padding-left: .5ex}\n",
              "</style><dl class=dl-inline><dt>398</dt><dd>1</dd><dt>324</dt><dd>1</dd><dt>167</dt><dd>0</dd><dt>129</dt><dd>0</dd><dt>299</dt><dd>1</dd><dt>270</dt><dd>0</dd><dt>187</dt><dd>0</dd><dt>307</dt><dd>1</dd><dt>85</dt><dd>0</dd><dt>277</dt><dd>0</dd><dt>362</dt><dd>1</dd><dt>330</dt><dd>1</dd><dt>263</dt><dd>1</dd><dt>329</dt><dd>1</dd><dt>79</dt><dd>0</dd><dt>213</dt><dd>1</dd><dt>37</dt><dd>0</dd><dt>105</dt><dd>0</dd><dt>217</dt><dd>1</dd><dt>366</dt><dd>1</dd><dt>165</dt><dd>0</dd><dt>290</dt><dd>0</dd><dt>390</dt><dd>1</dd><dt>89</dt><dd>0</dd><dt>289</dt><dd>0</dd><dt>340</dt><dd>1</dd><dt>326</dt><dd>0</dd><dt>389</dt><dd>1</dd><dt>42</dt><dd>0</dd><dt>111</dt><dd>0</dd><dt>20</dt><dd>1</dd><dt>44</dt><dd>0</dd><dt>343</dt><dd>0</dd><dt>70</dt><dd>0</dd><dt>121</dt><dd>0</dd><dt>40</dt><dd>0</dd><dt>172</dt><dd>0</dd><dt>25</dt><dd>1</dd><dt>248</dt><dd>1</dd><dt>198</dt><dd>0</dd><dt>39</dt><dd>0</dd><dt>298</dt><dd>1</dd><dt>280</dt><dd>1</dd><dt>160</dt><dd>1</dd><dt>14</dt><dd>0</dd><dt>130</dt><dd>0</dd><dt>45</dt><dd>0</dd><dt>22</dt><dd>1</dd><dt>206</dt><dd>1</dd><dt>230</dt><dd>0</dd><dt>193</dt><dd>0</dd><dt>104</dt><dd>1</dd><dt>374</dt><dd>1</dd><dt>255</dt><dd>1</dd><dt>348</dt><dd>1</dd><dt>349</dt><dd>0</dd><dt>103</dt><dd>0</dd><dt>331</dt><dd>0</dd><dt>13</dt><dd>0</dd><dt>296</dt><dd>0</dd><dt>382</dt><dd>1</dd><dt>176</dt><dd>0</dd><dt>279</dt><dd>1</dd><dt>110</dt><dd>0</dd><dt>84</dt><dd>0</dd><dt>29</dt><dd>0</dd><dt>141</dt><dd>0</dd><dt>252</dt><dd>0</dd><dt>221</dt><dd>0</dd><dt>108</dt><dd>0</dd><dt>304</dt><dd>0</dd><dt>33</dt><dd>0</dd><dt>354</dt><dd>0</dd><dt>149</dt><dd>0</dd><dt>287</dt><dd>0</dd><dt>102</dt><dd>0</dd><dt>145</dt><dd>0</dd><dt>118</dt><dd>0</dd><dt>373</dt><dd>0</dd><dt>107</dt><dd>0</dd></dl>\n",
              "\n",
              "<details>\n",
              "\t<summary style=display:list-item;cursor:pointer>\n",
              "\t\t<strong>Levels</strong>:\n",
              "\t</summary>\n",
              "\t<style>\n",
              "\t.list-inline {list-style: none; margin:0; padding: 0}\n",
              "\t.list-inline>li {display: inline-block}\n",
              "\t.list-inline>li:not(:last-child)::after {content: \"\\00b7\"; padding: 0 .5ex}\n",
              "\t</style>\n",
              "\t<ol class=list-inline><li>'0'</li><li>'1'</li></ol>\n",
              "</details>"
            ],
            "text/markdown": "398\n:   1324\n:   1167\n:   0129\n:   0299\n:   1270\n:   0187\n:   0307\n:   185\n:   0277\n:   0362\n:   1330\n:   1263\n:   1329\n:   179\n:   0213\n:   137\n:   0105\n:   0217\n:   1366\n:   1165\n:   0290\n:   0390\n:   189\n:   0289\n:   0340\n:   1326\n:   0389\n:   142\n:   0111\n:   020\n:   144\n:   0343\n:   070\n:   0121\n:   040\n:   0172\n:   025\n:   1248\n:   1198\n:   039\n:   0298\n:   1280\n:   1160\n:   114\n:   0130\n:   045\n:   022\n:   1206\n:   1230\n:   0193\n:   0104\n:   1374\n:   1255\n:   1348\n:   1349\n:   0103\n:   0331\n:   013\n:   0296\n:   0382\n:   1176\n:   0279\n:   1110\n:   084\n:   029\n:   0141\n:   0252\n:   0221\n:   0108\n:   0304\n:   033\n:   0354\n:   0149\n:   0287\n:   0102\n:   0145\n:   0118\n:   0373\n:   0107\n:   0\n\n\n**Levels**: 1. '0'\n2. '1'\n\n\n",
            "text/latex": "\\begin{description*}\n\\item[398] 1\n\\item[324] 1\n\\item[167] 0\n\\item[129] 0\n\\item[299] 1\n\\item[270] 0\n\\item[187] 0\n\\item[307] 1\n\\item[85] 0\n\\item[277] 0\n\\item[362] 1\n\\item[330] 1\n\\item[263] 1\n\\item[329] 1\n\\item[79] 0\n\\item[213] 1\n\\item[37] 0\n\\item[105] 0\n\\item[217] 1\n\\item[366] 1\n\\item[165] 0\n\\item[290] 0\n\\item[390] 1\n\\item[89] 0\n\\item[289] 0\n\\item[340] 1\n\\item[326] 0\n\\item[389] 1\n\\item[42] 0\n\\item[111] 0\n\\item[20] 1\n\\item[44] 0\n\\item[343] 0\n\\item[70] 0\n\\item[121] 0\n\\item[40] 0\n\\item[172] 0\n\\item[25] 1\n\\item[248] 1\n\\item[198] 0\n\\item[39] 0\n\\item[298] 1\n\\item[280] 1\n\\item[160] 1\n\\item[14] 0\n\\item[130] 0\n\\item[45] 0\n\\item[22] 1\n\\item[206] 1\n\\item[230] 0\n\\item[193] 0\n\\item[104] 1\n\\item[374] 1\n\\item[255] 1\n\\item[348] 1\n\\item[349] 0\n\\item[103] 0\n\\item[331] 0\n\\item[13] 0\n\\item[296] 0\n\\item[382] 1\n\\item[176] 0\n\\item[279] 1\n\\item[110] 0\n\\item[84] 0\n\\item[29] 0\n\\item[141] 0\n\\item[252] 0\n\\item[221] 0\n\\item[108] 0\n\\item[304] 0\n\\item[33] 0\n\\item[354] 0\n\\item[149] 0\n\\item[287] 0\n\\item[102] 0\n\\item[145] 0\n\\item[118] 0\n\\item[373] 0\n\\item[107] 0\n\\end{description*}\n\n\\emph{Levels}: \\begin{enumerate*}\n\\item '0'\n\\item '1'\n\\end{enumerate*}\n",
            "text/plain": [
              "398 324 167 129 299 270 187 307  85 277 362 330 263 329  79 213  37 105 217 366 \n",
              "  1   1   0   0   1   0   0   1   0   0   1   1   1   1   0   1   0   0   1   1 \n",
              "165 290 390  89 289 340 326 389  42 111  20  44 343  70 121  40 172  25 248 198 \n",
              "  0   0   1   0   0   1   0   1   0   0   1   0   0   0   0   0   0   1   1   0 \n",
              " 39 298 280 160  14 130  45  22 206 230 193 104 374 255 348 349 103 331  13 296 \n",
              "  0   1   1   1   0   0   0   1   1   0   0   1   1   1   1   0   0   0   0   0 \n",
              "382 176 279 110  84  29 141 252 221 108 304  33 354 149 287 102 145 118 373 107 \n",
              "  1   0   1   0   0   0   0   0   0   0   0   0   0   0   0   0   0   0   0   0 \n",
              "Levels: 0 1"
            ]
          },
          "metadata": {}
        }
      ],
      "source": [
        "y.pred=predict(model,newdata=X.test)\n",
        "y.pred"
      ]
    },
    {
      "cell_type": "code",
      "execution_count": 11,
      "id": "prerequisite-chambers",
      "metadata": {
        "colab": {
          "base_uri": "https://localhost:8080/",
          "height": 90
        },
        "id": "prerequisite-chambers",
        "outputId": "b06ff89c-71bc-43a2-aa91-6a8c2ed88f8f"
      },
      "outputs": [
        {
          "output_type": "display_data",
          "data": {
            "text/plain": [
              "   Predicted\n",
              "     0  1\n",
              "  0 49  6\n",
              "  1  3 22"
            ]
          },
          "metadata": {}
        }
      ],
      "source": [
        "table.test=table(X.test$Purchased,Predicted=y.pred)\n",
        "table.test\n"
      ]
    },
    {
      "cell_type": "code",
      "execution_count": null,
      "id": "italian-seventh",
      "metadata": {
        "id": "italian-seventh"
      },
      "outputs": [],
      "source": []
    }
  ],
  "metadata": {
    "kernelspec": {
      "display_name": "R",
      "language": "R",
      "name": "ir"
    },
    "language_info": {
      "codemirror_mode": "r",
      "file_extension": ".r",
      "mimetype": "text/x-r-source",
      "name": "R",
      "pygments_lexer": "r",
      "version": "3.6.1"
    },
    "colab": {
      "provenance": []
    }
  },
  "nbformat": 4,
  "nbformat_minor": 5
}