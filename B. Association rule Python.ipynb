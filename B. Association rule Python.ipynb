{
 "cells": [
  {
   "cell_type": "markdown",
   "id": "attached-static",
   "metadata": {},
   "source": [
    "# Association Rule"
   ]
  },
  {
   "cell_type": "code",
   "execution_count": null,
   "id": "worst-passage",
   "metadata": {},
   "outputs": [],
   "source": [
    "!pip install numpy\n",
    "!pip install pandas\n",
    "!pip install matplotlib\n",
    "!pip install sklearn\n",
    "!pip install mlxtend"
   ]
  },
  {
   "cell_type": "code",
   "execution_count": null,
   "id": "unlimited-bandwidth",
   "metadata": {},
   "outputs": [],
   "source": [
    "import numpy as np\n",
    "import pandas as pd  \n",
    "import matplotlib.pyplot as plt\n",
    "#from sklearn.cluster import KMeans"
   ]
  },
  {
   "cell_type": "code",
   "execution_count": null,
   "id": "normal-married",
   "metadata": {},
   "outputs": [],
   "source": [
    "data = pd.read_csv('c:/Rdata/p10.5.csv', encoding='big5')  # load data set\n",
    "data"
   ]
  },
  {
   "cell_type": "code",
   "execution_count": null,
   "id": "precise-hands",
   "metadata": {},
   "outputs": [],
   "source": [
    "from mlxtend.frequent_patterns import apriori\n",
    "from mlxtend.frequent_patterns import association_rules"
   ]
  },
  {
   "cell_type": "markdown",
   "id": "educational-separate",
   "metadata": {},
   "source": [
    "### 將最低支持度 (min support) 定為 33%，即在所有交易中，該產品最少佔 33%，才可符合 frequent itemset 的要求"
   ]
  },
  {
   "cell_type": "code",
   "execution_count": null,
   "id": "mental-incidence",
   "metadata": {},
   "outputs": [],
   "source": [
    "frequent_itemsets = apriori(data, min_support=0.33, use_colnames = True)\n",
    "frequent_itemsets['length'] = frequent_itemsets['itemsets'].apply(lambda x : len(x))\n",
    "frequent_itemsets\n"
   ]
  },
  {
   "cell_type": "markdown",
   "id": "controlled-looking",
   "metadata": {},
   "source": [
    "### 假設只想知道擁有 confidence threshold 50% 以上的 frequent itemsets ，min threshold = 0.5"
   ]
  },
  {
   "cell_type": "code",
   "execution_count": null,
   "id": "assisted-briefing",
   "metadata": {},
   "outputs": [],
   "source": [
    "\n",
    "## 計算關聯規則 Association Rule\n",
    "Association_Rules = association_rules(frequent_itemsets, metric = 'confidence', min_threshold=0.5)\n",
    "\n",
    "Association_Rules.sort_values(by=['support','confidence'],  ascending=False)"
   ]
  },
  {
   "cell_type": "code",
   "execution_count": null,
   "id": "systematic-swift",
   "metadata": {},
   "outputs": [],
   "source": []
  },
  {
   "cell_type": "markdown",
   "id": "included-variance",
   "metadata": {},
   "source": [
    "# 案例：啤酒和尿布"
   ]
  },
  {
   "cell_type": "code",
   "execution_count": null,
   "id": "numerical-vocabulary",
   "metadata": {},
   "outputs": [],
   "source": [
    "data1 = pd.read_csv('c:/Rdata/beer.csv', encoding='big5')  # load data set\n",
    "data1"
   ]
  },
  {
   "cell_type": "code",
   "execution_count": null,
   "id": "tamil-questionnaire",
   "metadata": {},
   "outputs": [],
   "source": [
    "frequent_itemsets1 = apriori(data1, min_support=0.4, use_colnames = True)\n",
    "frequent_itemsets1['length'] = frequent_itemsets1['itemsets'].apply(lambda x : len(x))\n",
    "frequent_itemsets1\n"
   ]
  },
  {
   "cell_type": "code",
   "execution_count": null,
   "id": "typical-bracelet",
   "metadata": {},
   "outputs": [],
   "source": [
    "## 計算關聯規則 Association Rule\n",
    "Association_Rules1 = association_rules(frequent_itemsets1, metric = 'confidence', min_threshold=0.8)\n",
    "\n",
    "Association_Rules1.sort_values(by=['support','confidence'],  ascending=False)"
   ]
  },
  {
   "cell_type": "code",
   "execution_count": null,
   "id": "aggressive-composition",
   "metadata": {},
   "outputs": [],
   "source": []
  },
  {
   "cell_type": "code",
   "execution_count": null,
   "id": "dedicated-beaver",
   "metadata": {},
   "outputs": [],
   "source": []
  }
 ],
 "metadata": {
  "kernelspec": {
   "display_name": "Python 3",
   "language": "python",
   "name": "python3"
  },
  "language_info": {
   "codemirror_mode": {
    "name": "ipython",
    "version": 3
   },
   "file_extension": ".py",
   "mimetype": "text/x-python",
   "name": "python",
   "nbconvert_exporter": "python",
   "pygments_lexer": "ipython3",
   "version": "3.8.8"
  }
 },
 "nbformat": 4,
 "nbformat_minor": 5
}
