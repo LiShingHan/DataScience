{
 "cells": [
  {
   "cell_type": "code",
   "execution_count": 4,
   "metadata": {},
   "outputs": [
    {
     "name": "stdout",
     "output_type": "stream",
     "text": [
      "package 'rpart' successfully unpacked and MD5 sums checked\n"
     ]
    },
    {
     "name": "stderr",
     "output_type": "stream",
     "text": [
      "Warning message:\n",
      "\"cannot remove prior installation of package 'rpart'\"Warning message in file.copy(savedcopy, lib, recursive = TRUE):\n",
      "\"複製 C:\\Anaconda3\\envs\\R\\Lib\\R\\library\\00LOCK\\rpart\\libs\\x64\\rpart.dll 到 C:\\Anaconda3\\envs\\R\\Lib\\R\\library\\rpart\\libs\\x64\\rpart.dll 時出了問題：Permission denied\"Warning message:\n",
      "\"restored 'rpart'\""
     ]
    },
    {
     "name": "stdout",
     "output_type": "stream",
     "text": [
      "\n",
      "The downloaded binary packages are in\n",
      "\tC:\\Users\\Administrator\\AppData\\Local\\Temp\\RtmpS2yF9F\\downloaded_packages\n"
     ]
    },
    {
     "name": "stderr",
     "output_type": "stream",
     "text": [
      "Warning message:\n",
      "\"package 'rpart' was built under R version 3.6.3\""
     ]
    }
   ],
   "source": [
    "install.packages('rpart')\n",
    "library(rpart)"
   ]
  },
  {
   "cell_type": "code",
   "execution_count": 1,
   "metadata": {},
   "outputs": [],
   "source": [
    "case613 <- read.csv(\"c:/Rdata/p6.13.csv\")"
   ]
  },
  {
   "cell_type": "code",
   "execution_count": 2,
   "metadata": {},
   "outputs": [
    {
     "data": {
      "text/html": [
       "<table>\n",
       "<thead><tr><th scope=col>年紀</th><th scope=col>工作</th><th scope=col>房子</th><th scope=col>信用</th><th scope=col>核可貸款</th></tr></thead>\n",
       "<tbody>\n",
       "\t<tr><td>年輕</td><td>偽  </td><td>無  </td><td>一般</td><td>否  </td></tr>\n",
       "\t<tr><td>年輕</td><td>偽  </td><td>無  </td><td>好  </td><td>否  </td></tr>\n",
       "\t<tr><td>年輕</td><td>真  </td><td>無  </td><td>好  </td><td>是  </td></tr>\n",
       "\t<tr><td>年輕</td><td>真  </td><td>有  </td><td>一般</td><td>是  </td></tr>\n",
       "\t<tr><td>年輕</td><td>偽  </td><td>無  </td><td>一般</td><td>否  </td></tr>\n",
       "\t<tr><td>中年</td><td>偽  </td><td>無  </td><td>一般</td><td>否  </td></tr>\n",
       "\t<tr><td>中年</td><td>偽  </td><td>無  </td><td>好  </td><td>否  </td></tr>\n",
       "\t<tr><td>中年</td><td>真  </td><td>有  </td><td>好  </td><td>是  </td></tr>\n",
       "\t<tr><td>中年</td><td>偽  </td><td>有  </td><td>極好</td><td>是  </td></tr>\n",
       "\t<tr><td>中年</td><td>偽  </td><td>有  </td><td>極好</td><td>是  </td></tr>\n",
       "\t<tr><td>老年</td><td>偽  </td><td>有  </td><td>極好</td><td>是  </td></tr>\n",
       "\t<tr><td>老年</td><td>偽  </td><td>有  </td><td>好  </td><td>是  </td></tr>\n",
       "\t<tr><td>老年</td><td>真  </td><td>無  </td><td>好  </td><td>是  </td></tr>\n",
       "\t<tr><td>老年</td><td>真  </td><td>無  </td><td>極好</td><td>是  </td></tr>\n",
       "\t<tr><td>老年</td><td>偽  </td><td>無  </td><td>一般</td><td>否  </td></tr>\n",
       "</tbody>\n",
       "</table>\n"
      ],
      "text/latex": [
       "\\begin{tabular}{r|lllll}\n",
       " 年紀 & 工作 & 房子 & 信用 & 核可貸款\\\\\n",
       "\\hline\n",
       "\t 年輕 & 偽   & 無   & 一般 & 否  \\\\\n",
       "\t 年輕 & 偽   & 無   & 好   & 否  \\\\\n",
       "\t 年輕 & 真   & 無   & 好   & 是  \\\\\n",
       "\t 年輕 & 真   & 有   & 一般 & 是  \\\\\n",
       "\t 年輕 & 偽   & 無   & 一般 & 否  \\\\\n",
       "\t 中年 & 偽   & 無   & 一般 & 否  \\\\\n",
       "\t 中年 & 偽   & 無   & 好   & 否  \\\\\n",
       "\t 中年 & 真   & 有   & 好   & 是  \\\\\n",
       "\t 中年 & 偽   & 有   & 極好 & 是  \\\\\n",
       "\t 中年 & 偽   & 有   & 極好 & 是  \\\\\n",
       "\t 老年 & 偽   & 有   & 極好 & 是  \\\\\n",
       "\t 老年 & 偽   & 有   & 好   & 是  \\\\\n",
       "\t 老年 & 真   & 無   & 好   & 是  \\\\\n",
       "\t 老年 & 真   & 無   & 極好 & 是  \\\\\n",
       "\t 老年 & 偽   & 無   & 一般 & 否  \\\\\n",
       "\\end{tabular}\n"
      ],
      "text/markdown": [
       "\n",
       "| 年紀 | 工作 | 房子 | 信用 | 核可貸款 |\n",
       "|---|---|---|---|---|\n",
       "| 年輕 | 偽   | 無   | 一般 | 否   |\n",
       "| 年輕 | 偽   | 無   | 好   | 否   |\n",
       "| 年輕 | 真   | 無   | 好   | 是   |\n",
       "| 年輕 | 真   | 有   | 一般 | 是   |\n",
       "| 年輕 | 偽   | 無   | 一般 | 否   |\n",
       "| 中年 | 偽   | 無   | 一般 | 否   |\n",
       "| 中年 | 偽   | 無   | 好   | 否   |\n",
       "| 中年 | 真   | 有   | 好   | 是   |\n",
       "| 中年 | 偽   | 有   | 極好 | 是   |\n",
       "| 中年 | 偽   | 有   | 極好 | 是   |\n",
       "| 老年 | 偽   | 有   | 極好 | 是   |\n",
       "| 老年 | 偽   | 有   | 好   | 是   |\n",
       "| 老年 | 真   | 無   | 好   | 是   |\n",
       "| 老年 | 真   | 無   | 極好 | 是   |\n",
       "| 老年 | 偽   | 無   | 一般 | 否   |\n",
       "\n"
      ],
      "text/plain": [
       "   年紀 工作 房子 信用 核可貸款\n",
       "1  年輕 偽   無   一般 否      \n",
       "2  年輕 偽   無   好   否      \n",
       "3  年輕 真   無   好   是      \n",
       "4  年輕 真   有   一般 是      \n",
       "5  年輕 偽   無   一般 否      \n",
       "6  中年 偽   無   一般 否      \n",
       "7  中年 偽   無   好   否      \n",
       "8  中年 真   有   好   是      \n",
       "9  中年 偽   有   極好 是      \n",
       "10 中年 偽   有   極好 是      \n",
       "11 老年 偽   有   極好 是      \n",
       "12 老年 偽   有   好   是      \n",
       "13 老年 真   無   好   是      \n",
       "14 老年 真   無   極好 是      \n",
       "15 老年 偽   無   一般 否      "
      ]
     },
     "metadata": {},
     "output_type": "display_data"
    }
   ],
   "source": [
    "case613 "
   ]
  },
  {
   "cell_type": "code",
   "execution_count": 5,
   "metadata": {},
   "outputs": [],
   "source": [
    "model <- rpart( 核可貸款 ~ 年紀 + 工作 + 房子 + 信用,  data = case613,  control = rpart.control(minsplit = 2))"
   ]
  },
  {
   "cell_type": "code",
   "execution_count": 6,
   "metadata": {},
   "outputs": [
    {
     "data": {
      "image/png": "[encoded data removed]",
      "text/plain": [
       "plot without title"
      ]
     },
     "metadata": {},
     "output_type": "display_data"
    }
   ],
   "source": [
    "plot(model)\n",
    "text(model)"
   ]
  },
  {
   "cell_type": "code",
   "execution_count": 12,
   "metadata": {
    "scrolled": true
   },
   "outputs": [
    {
     "name": "stderr",
     "output_type": "stream",
     "text": [
      "Warning message:\n",
      "\"package 'rpart.plot' was built under R version 3.6.3\""
     ]
    }
   ],
   "source": [
    "library(rpart.plot)"
   ]
  },
  {
   "cell_type": "code",
   "execution_count": 13,
   "metadata": {
    "scrolled": true
   },
   "outputs": [
    {
     "data": {
      "image/png": "[encoded data removed]",
      "text/plain": [
       "plot without title"
      ]
     },
     "metadata": {},
     "output_type": "display_data"
    }
   ],
   "source": [
    "rpart.plot( model, branch=1, type=1, fallen.leaves=T, cex=1, sub=\"決策樹模型-ID3\")"
   ]
  },
  {
   "cell_type": "code",
   "execution_count": 18,
   "metadata": {},
   "outputs": [],
   "source": [
    "test = data.frame(年紀='年輕' , 工作='偽', 房子='無',  信用='好')"
   ]
  },
  {
   "cell_type": "code",
   "execution_count": 19,
   "metadata": {},
   "outputs": [],
   "source": [
    "pred <- predict(model, newdata=test, type=\"class\")"
   ]
  },
  {
   "cell_type": "code",
   "execution_count": 20,
   "metadata": {},
   "outputs": [
    {
     "data": {
      "text/html": [
       "<strong>1:</strong> 否\n",
       "<details>\n",
       "\t<summary style=display:list-item;cursor:pointer>\n",
       "\t\t<strong>Levels</strong>:\n",
       "\t</summary>\n",
       "\t<ol class=list-inline>\n",
       "\t\t<li>'否'</li>\n",
       "\t\t<li>'是'</li>\n",
       "\t</ol>\n",
       "</details>"
      ],
      "text/latex": [
       "\\textbf{1:} 否\n",
       "\\emph{Levels}: \\begin{enumerate*}\n",
       "\\item '否'\n",
       "\\item '是'\n",
       "\\end{enumerate*}\n"
      ],
      "text/markdown": [
       "**1:** 否\n",
       "**Levels**: 1. '否'\n",
       "2. '是'\n",
       "\n",
       "\n"
      ],
      "text/plain": [
       " 1 \n",
       "否 \n",
       "Levels: 否 是"
      ]
     },
     "metadata": {},
     "output_type": "display_data"
    }
   ],
   "source": [
    "pred"
   ]
  },
  {
   "cell_type": "code",
   "execution_count": null,
   "metadata": {},
   "outputs": [],
   "source": []
  },
  {
   "cell_type": "code",
   "execution_count": 7,
   "metadata": {},
   "outputs": [
    {
     "name": "stdout",
     "output_type": "stream",
     "text": [
      "package 'C50' successfully unpacked and MD5 sums checked\n"
     ]
    },
    {
     "name": "stderr",
     "output_type": "stream",
     "text": [
      "Warning message:\n",
      "\"cannot remove prior installation of package 'C50'\"Warning message in file.copy(savedcopy, lib, recursive = TRUE):\n",
      "\"複製 C:\\Anaconda3\\envs\\R\\Lib\\R\\library\\00LOCK\\C50\\libs\\x64\\C50.dll 到 C:\\Anaconda3\\envs\\R\\Lib\\R\\library\\C50\\libs\\x64\\C50.dll 時出了問題：Permission denied\"Warning message:\n",
      "\"restored 'C50'\""
     ]
    },
    {
     "name": "stdout",
     "output_type": "stream",
     "text": [
      "\n",
      "The downloaded binary packages are in\n",
      "\tC:\\Users\\Administrator\\AppData\\Local\\Temp\\RtmpS2yF9F\\downloaded_packages\n"
     ]
    },
    {
     "name": "stderr",
     "output_type": "stream",
     "text": [
      "Warning message:\n",
      "\"package 'C50' was built under R version 3.6.3\""
     ]
    }
   ],
   "source": [
    "install.packages(\"C50\")\n",
    "library(C50)"
   ]
  },
  {
   "cell_type": "code",
   "execution_count": 14,
   "metadata": {},
   "outputs": [],
   "source": [
    "case6131 <- read.csv(\"c:/Rdata/p6.131.csv\")"
   ]
  },
  {
   "cell_type": "code",
   "execution_count": 15,
   "metadata": {},
   "outputs": [
    {
     "name": "stdout",
     "output_type": "stream",
     "text": [
      "c50 code called exit with value 1\n"
     ]
    },
    {
     "name": "stderr",
     "output_type": "stream",
     "text": [
      "Warning message in strsplit(Z$output, \"\\n\"):\n",
      "\"輸入的字串 1 不適用於此語言環境\""
     ]
    }
   ],
   "source": [
    "model.c50 <- C5.0( loan ~ age + work + house + credit,  data = case6131,  rules=F)"
   ]
  },
  {
   "cell_type": "code",
   "execution_count": 9,
   "metadata": {},
   "outputs": [
    {
     "ename": "ERROR",
     "evalue": "Error in plot(model.c50): 找不到物件 'model.c50'\n",
     "output_type": "error",
     "traceback": [
      "Error in plot(model.c50): 找不到物件 'model.c50'\nTraceback:\n",
      "1. plot(model.c50)"
     ]
    }
   ],
   "source": [
    "plot( model.c50 )"
   ]
  },
  {
   "cell_type": "code",
   "execution_count": null,
   "metadata": {},
   "outputs": [],
   "source": []
  },
  {
   "cell_type": "code",
   "execution_count": null,
   "metadata": {},
   "outputs": [],
   "source": []
  },
  {
   "cell_type": "code",
   "execution_count": 21,
   "metadata": {},
   "outputs": [],
   "source": [
    "case614 <- read.csv(\"c:/Rdata/p6.14.csv\")"
   ]
  },
  {
   "cell_type": "code",
   "execution_count": 22,
   "metadata": {},
   "outputs": [
    {
     "data": {
      "text/html": [
       "<table>\n",
       "<thead><tr><th scope=col>城市大小</th><th scope=col>平均收入</th><th scope=col>當地投資者</th><th scope=col>樂活認知</th><th scope=col>決定</th></tr></thead>\n",
       "<tbody>\n",
       "\t<tr><td>大</td><td>高</td><td>是</td><td>高</td><td>是</td></tr>\n",
       "\t<tr><td>中</td><td>中</td><td>否</td><td>中</td><td>否</td></tr>\n",
       "\t<tr><td>小</td><td>低</td><td>是</td><td>低</td><td>否</td></tr>\n",
       "\t<tr><td>大</td><td>高</td><td>否</td><td>高</td><td>是</td></tr>\n",
       "\t<tr><td>小</td><td>中</td><td>是</td><td>高</td><td>否</td></tr>\n",
       "\t<tr><td>中</td><td>高</td><td>是</td><td>中</td><td>是</td></tr>\n",
       "\t<tr><td>中</td><td>中</td><td>是</td><td>中</td><td>否</td></tr>\n",
       "\t<tr><td>大</td><td>中</td><td>否</td><td>中</td><td>否</td></tr>\n",
       "\t<tr><td>中</td><td>高</td><td>是</td><td>低</td><td>否</td></tr>\n",
       "\t<tr><td>小</td><td>高</td><td>否</td><td>高</td><td>是</td></tr>\n",
       "\t<tr><td>小</td><td>中</td><td>否</td><td>高</td><td>否</td></tr>\n",
       "\t<tr><td>中</td><td>高</td><td>否</td><td>中</td><td>否</td></tr>\n",
       "</tbody>\n",
       "</table>\n"
      ],
      "text/latex": [
       "\\begin{tabular}{r|lllll}\n",
       " 城市大小 & 平均收入 & 當地投資者 & 樂活認知 & 決定\\\\\n",
       "\\hline\n",
       "\t 大 & 高 & 是 & 高 & 是\\\\\n",
       "\t 中 & 中 & 否 & 中 & 否\\\\\n",
       "\t 小 & 低 & 是 & 低 & 否\\\\\n",
       "\t 大 & 高 & 否 & 高 & 是\\\\\n",
       "\t 小 & 中 & 是 & 高 & 否\\\\\n",
       "\t 中 & 高 & 是 & 中 & 是\\\\\n",
       "\t 中 & 中 & 是 & 中 & 否\\\\\n",
       "\t 大 & 中 & 否 & 中 & 否\\\\\n",
       "\t 中 & 高 & 是 & 低 & 否\\\\\n",
       "\t 小 & 高 & 否 & 高 & 是\\\\\n",
       "\t 小 & 中 & 否 & 高 & 否\\\\\n",
       "\t 中 & 高 & 否 & 中 & 否\\\\\n",
       "\\end{tabular}\n"
      ],
      "text/markdown": [
       "\n",
       "| 城市大小 | 平均收入 | 當地投資者 | 樂活認知 | 決定 |\n",
       "|---|---|---|---|---|\n",
       "| 大 | 高 | 是 | 高 | 是 |\n",
       "| 中 | 中 | 否 | 中 | 否 |\n",
       "| 小 | 低 | 是 | 低 | 否 |\n",
       "| 大 | 高 | 否 | 高 | 是 |\n",
       "| 小 | 中 | 是 | 高 | 否 |\n",
       "| 中 | 高 | 是 | 中 | 是 |\n",
       "| 中 | 中 | 是 | 中 | 否 |\n",
       "| 大 | 中 | 否 | 中 | 否 |\n",
       "| 中 | 高 | 是 | 低 | 否 |\n",
       "| 小 | 高 | 否 | 高 | 是 |\n",
       "| 小 | 中 | 否 | 高 | 否 |\n",
       "| 中 | 高 | 否 | 中 | 否 |\n",
       "\n"
      ],
      "text/plain": [
       "   城市大小 平均收入 當地投資者 樂活認知 決定\n",
       "1  大       高       是         高       是  \n",
       "2  中       中       否         中       否  \n",
       "3  小       低       是         低       否  \n",
       "4  大       高       否         高       是  \n",
       "5  小       中       是         高       否  \n",
       "6  中       高       是         中       是  \n",
       "7  中       中       是         中       否  \n",
       "8  大       中       否         中       否  \n",
       "9  中       高       是         低       否  \n",
       "10 小       高       否         高       是  \n",
       "11 小       中       否         高       否  \n",
       "12 中       高       否         中       否  "
      ]
     },
     "metadata": {},
     "output_type": "display_data"
    }
   ],
   "source": [
    "case614"
   ]
  },
  {
   "cell_type": "code",
   "execution_count": 23,
   "metadata": {},
   "outputs": [],
   "source": [
    "model <- rpart( 決定 ~ 城市大小 + 平均收入 + 當地投資者 + 樂活認知 ,  data = case614,  control = rpart.control(minsplit = 2))"
   ]
  },
  {
   "cell_type": "code",
   "execution_count": 24,
   "metadata": {},
   "outputs": [
    {
     "data": {
      "image/png": "[encoded data removed]",
      "text/plain": [
       "plot without title"
      ]
     },
     "metadata": {},
     "output_type": "display_data"
    }
   ],
   "source": [
    "rpart.plot( model, branch=1, type=1, fallen.leaves=T, cex=1, sub=\"決策樹模型-ID3\")"
   ]
  },
  {
   "cell_type": "code",
   "execution_count": 25,
   "metadata": {},
   "outputs": [],
   "source": [
    "test = data.frame(城市大小='中', 平均收入='中', 當地投資者='否', 樂活認知='中' )"
   ]
  },
  {
   "cell_type": "code",
   "execution_count": 26,
   "metadata": {},
   "outputs": [],
   "source": [
    "pred <- predict(model, newdata=test, type=\"class\")"
   ]
  },
  {
   "cell_type": "code",
   "execution_count": 27,
   "metadata": {},
   "outputs": [
    {
     "data": {
      "text/html": [
       "<strong>1:</strong> 否\n",
       "<details>\n",
       "\t<summary style=display:list-item;cursor:pointer>\n",
       "\t\t<strong>Levels</strong>:\n",
       "\t</summary>\n",
       "\t<ol class=list-inline>\n",
       "\t\t<li>'否'</li>\n",
       "\t\t<li>'是'</li>\n",
       "\t</ol>\n",
       "</details>"
      ],
      "text/latex": [
       "\\textbf{1:} 否\n",
       "\\emph{Levels}: \\begin{enumerate*}\n",
       "\\item '否'\n",
       "\\item '是'\n",
       "\\end{enumerate*}\n"
      ],
      "text/markdown": [
       "**1:** 否\n",
       "**Levels**: 1. '否'\n",
       "2. '是'\n",
       "\n",
       "\n"
      ],
      "text/plain": [
       " 1 \n",
       "否 \n",
       "Levels: 否 是"
      ]
     },
     "metadata": {},
     "output_type": "display_data"
    }
   ],
   "source": [
    "pred"
   ]
  },
  {
   "cell_type": "code",
   "execution_count": null,
   "metadata": {},
   "outputs": [],
   "source": []
  }
 ],
 "metadata": {
  "kernelspec": {
   "display_name": "R",
   "language": "R",
   "name": "ir"
  },
  "language_info": {
   "codemirror_mode": "r",
   "file_extension": ".r",
   "mimetype": "text/x-r-source",
   "name": "R",
   "pygments_lexer": "r",
   "version": "3.6.1"
  }
 },
 "nbformat": 4,
 "nbformat_minor": 4
}
