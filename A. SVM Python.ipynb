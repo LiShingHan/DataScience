{
  "cells": [
    {
      "cell_type": "markdown",
      "id": "abandoned-insert",
      "metadata": {
        "id": "abandoned-insert"
      },
      "source": [
        "# Support Vector Machine"
      ]
    },
    {
      "cell_type": "markdown",
      "id": "legal-consumer",
      "metadata": {
        "id": "legal-consumer"
      },
      "source": [
        "# https://people.revoledu.com/kardi/tutorial/Python/SVM+in+Python.html"
      ]
    },
    {
      "cell_type": "code",
      "execution_count": 1,
      "id": "southeast-economy",
      "metadata": {
        "id": "southeast-economy"
      },
      "outputs": [],
      "source": [
        "import numpy as np\n",
        "import matplotlib.pyplot as plt  # To visualize\n",
        "import pandas as pd  # To read data\n",
        "from sklearn import svm\n",
        "from sklearn.svm import SVR"
      ]
    },
    {
      "cell_type": "code",
      "execution_count": 2,
      "id": "distinguished-uruguay",
      "metadata": {
        "id": "distinguished-uruguay",
        "outputId": "0d04e9e9-f12a-4d27-bc09-d4079ca440b9",
        "colab": {
          "base_uri": "https://localhost:8080/",
          "height": 520
        }
      },
      "outputs": [
        {
          "output_type": "execute_result",
          "data": {
            "text/plain": [
              "     price  area\n",
              "12  186750  1525\n",
              "6   168500  1550\n",
              "10  156200  1660\n",
              "5   179700  1710\n",
              "9   180400  1720\n",
              "8   168800  1840\n",
              "0   229500  1850\n",
              "7   234400  1920\n",
              "3   195100  1930\n",
              "13  202100  2030\n",
              "2   247000  2100\n",
              "1   273300  2190\n",
              "14  256800  2240\n",
              "4   261000  2300\n",
              "11  288350  2405"
            ],
            "text/html": [
              "\n",
              "  <div id=\"df-6c70242a-838b-4963-9d91-7a8a2714e978\">\n",
              "    <div class=\"colab-df-container\">\n",
              "      <div>\n",
              "<style scoped>\n",
              "    .dataframe tbody tr th:only-of-type {\n",
              "        vertical-align: middle;\n",
              "    }\n",
              "\n",
              "    .dataframe tbody tr th {\n",
              "        vertical-align: top;\n",
              "    }\n",
              "\n",
              "    .dataframe thead th {\n",
              "        text-align: right;\n",
              "    }\n",
              "</style>\n",
              "<table border=\"1\" class=\"dataframe\">\n",
              "  <thead>\n",
              "    <tr style=\"text-align: right;\">\n",
              "      <th></th>\n",
              "      <th>price</th>\n",
              "      <th>area</th>\n",
              "    </tr>\n",
              "  </thead>\n",
              "  <tbody>\n",
              "    <tr>\n",
              "      <th>12</th>\n",
              "      <td>186750</td>\n",
              "      <td>1525</td>\n",
              "    </tr>\n",
              "    <tr>\n",
              "      <th>6</th>\n",
              "      <td>168500</td>\n",
              "      <td>1550</td>\n",
              "    </tr>\n",
              "    <tr>\n",
              "      <th>10</th>\n",
              "      <td>156200</td>\n",
              "      <td>1660</td>\n",
              "    </tr>\n",
              "    <tr>\n",
              "      <th>5</th>\n",
              "      <td>179700</td>\n",
              "      <td>1710</td>\n",
              "    </tr>\n",
              "    <tr>\n",
              "      <th>9</th>\n",
              "      <td>180400</td>\n",
              "      <td>1720</td>\n",
              "    </tr>\n",
              "    <tr>\n",
              "      <th>8</th>\n",
              "      <td>168800</td>\n",
              "      <td>1840</td>\n",
              "    </tr>\n",
              "    <tr>\n",
              "      <th>0</th>\n",
              "      <td>229500</td>\n",
              "      <td>1850</td>\n",
              "    </tr>\n",
              "    <tr>\n",
              "      <th>7</th>\n",
              "      <td>234400</td>\n",
              "      <td>1920</td>\n",
              "    </tr>\n",
              "    <tr>\n",
              "      <th>3</th>\n",
              "      <td>195100</td>\n",
              "      <td>1930</td>\n",
              "    </tr>\n",
              "    <tr>\n",
              "      <th>13</th>\n",
              "      <td>202100</td>\n",
              "      <td>2030</td>\n",
              "    </tr>\n",
              "    <tr>\n",
              "      <th>2</th>\n",
              "      <td>247000</td>\n",
              "      <td>2100</td>\n",
              "    </tr>\n",
              "    <tr>\n",
              "      <th>1</th>\n",
              "      <td>273300</td>\n",
              "      <td>2190</td>\n",
              "    </tr>\n",
              "    <tr>\n",
              "      <th>14</th>\n",
              "      <td>256800</td>\n",
              "      <td>2240</td>\n",
              "    </tr>\n",
              "    <tr>\n",
              "      <th>4</th>\n",
              "      <td>261000</td>\n",
              "      <td>2300</td>\n",
              "    </tr>\n",
              "    <tr>\n",
              "      <th>11</th>\n",
              "      <td>288350</td>\n",
              "      <td>2405</td>\n",
              "    </tr>\n",
              "  </tbody>\n",
              "</table>\n",
              "</div>\n",
              "      <button class=\"colab-df-convert\" onclick=\"convertToInteractive('df-6c70242a-838b-4963-9d91-7a8a2714e978')\"\n",
              "              title=\"Convert this dataframe to an interactive table.\"\n",
              "              style=\"display:none;\">\n",
              "        \n",
              "  <svg xmlns=\"http://www.w3.org/2000/svg\" height=\"24px\"viewBox=\"0 0 24 24\"\n",
              "       width=\"24px\">\n",
              "    <path d=\"M0 0h24v24H0V0z\" fill=\"none\"/>\n",
              "    <path d=\"M18.56 5.44l.94 2.06.94-2.06 2.06-.94-2.06-.94-.94-2.06-.94 2.06-2.06.94zm-11 1L8.5 8.5l.94-2.06 2.06-.94-2.06-.94L8.5 2.5l-.94 2.06-2.06.94zm10 10l.94 2.06.94-2.06 2.06-.94-2.06-.94-.94-2.06-.94 2.06-2.06.94z\"/><path d=\"M17.41 7.96l-1.37-1.37c-.4-.4-.92-.59-1.43-.59-.52 0-1.04.2-1.43.59L10.3 9.45l-7.72 7.72c-.78.78-.78 2.05 0 2.83L4 21.41c.39.39.9.59 1.41.59.51 0 1.02-.2 1.41-.59l7.78-7.78 2.81-2.81c.8-.78.8-2.07 0-2.86zM5.41 20L4 18.59l7.72-7.72 1.47 1.35L5.41 20z\"/>\n",
              "  </svg>\n",
              "      </button>\n",
              "      \n",
              "  <style>\n",
              "    .colab-df-container {\n",
              "      display:flex;\n",
              "      flex-wrap:wrap;\n",
              "      gap: 12px;\n",
              "    }\n",
              "\n",
              "    .colab-df-convert {\n",
              "      background-color: #E8F0FE;\n",
              "      border: none;\n",
              "      border-radius: 50%;\n",
              "      cursor: pointer;\n",
              "      display: none;\n",
              "      fill: #1967D2;\n",
              "      height: 32px;\n",
              "      padding: 0 0 0 0;\n",
              "      width: 32px;\n",
              "    }\n",
              "\n",
              "    .colab-df-convert:hover {\n",
              "      background-color: #E2EBFA;\n",
              "      box-shadow: 0px 1px 2px rgba(60, 64, 67, 0.3), 0px 1px 3px 1px rgba(60, 64, 67, 0.15);\n",
              "      fill: #174EA6;\n",
              "    }\n",
              "\n",
              "    [theme=dark] .colab-df-convert {\n",
              "      background-color: #3B4455;\n",
              "      fill: #D2E3FC;\n",
              "    }\n",
              "\n",
              "    [theme=dark] .colab-df-convert:hover {\n",
              "      background-color: #434B5C;\n",
              "      box-shadow: 0px 1px 3px 1px rgba(0, 0, 0, 0.15);\n",
              "      filter: drop-shadow(0px 1px 2px rgba(0, 0, 0, 0.3));\n",
              "      fill: #FFFFFF;\n",
              "    }\n",
              "  </style>\n",
              "\n",
              "      <script>\n",
              "        const buttonEl =\n",
              "          document.querySelector('#df-6c70242a-838b-4963-9d91-7a8a2714e978 button.colab-df-convert');\n",
              "        buttonEl.style.display =\n",
              "          google.colab.kernel.accessAllowed ? 'block' : 'none';\n",
              "\n",
              "        async function convertToInteractive(key) {\n",
              "          const element = document.querySelector('#df-6c70242a-838b-4963-9d91-7a8a2714e978');\n",
              "          const dataTable =\n",
              "            await google.colab.kernel.invokeFunction('convertToInteractive',\n",
              "                                                     [key], {});\n",
              "          if (!dataTable) return;\n",
              "\n",
              "          const docLinkHtml = 'Like what you see? Visit the ' +\n",
              "            '<a target=\"_blank\" href=https://colab.research.google.com/notebooks/data_table.ipynb>data table notebook</a>'\n",
              "            + ' to learn more about interactive tables.';\n",
              "          element.innerHTML = '';\n",
              "          dataTable['output_type'] = 'display_data';\n",
              "          await google.colab.output.renderOutput(dataTable, element);\n",
              "          const docLink = document.createElement('div');\n",
              "          docLink.innerHTML = docLinkHtml;\n",
              "          element.appendChild(docLink);\n",
              "        }\n",
              "      </script>\n",
              "    </div>\n",
              "  </div>\n",
              "  "
            ]
          },
          "metadata": {},
          "execution_count": 2
        }
      ],
      "source": [
        "data = pd.read_csv('https://raw.githubusercontent.com/LiShingHan/DataScience/main/DataSet/p7.5.csv')  # load data set\n",
        "data = data.sort_values(by=['area'])\n",
        "data"
      ]
    },
    {
      "cell_type": "code",
      "execution_count": 3,
      "id": "nominated-parent",
      "metadata": {
        "id": "nominated-parent"
      },
      "outputs": [],
      "source": [
        "X = data.iloc[:, 1].values.reshape(-1, 1)  # 取第 0列   values converts it into a numpy array\n",
        "Y = data.iloc[:, 0].values.reshape(-1, 1)  # 取第 1列   -1 means that calculate the dimension of rows, but have 1 column\n",
        "\n"
      ]
    },
    {
      "cell_type": "code",
      "execution_count": 4,
      "id": "miniature-customer",
      "metadata": {
        "id": "miniature-customer",
        "outputId": "38a8df77-1a0d-4cbb-8c48-4fdcb304e163",
        "colab": {
          "base_uri": "https://localhost:8080/"
        }
      },
      "outputs": [
        {
          "output_type": "stream",
          "name": "stderr",
          "text": [
            "/usr/local/lib/python3.7/dist-packages/sklearn/utils/validation.py:993: DataConversionWarning: A column-vector y was passed when a 1d array was expected. Please change the shape of y to (n_samples, ), for example using ravel().\n",
            "  y = column_or_1d(y, warn=True)\n"
          ]
        },
        {
          "output_type": "execute_result",
          "data": {
            "text/plain": [
              "SVR()"
            ]
          },
          "metadata": {},
          "execution_count": 4
        }
      ],
      "source": [
        "model= SVR(kernel='rbf')\n",
        "model.fit(X,Y)\n",
        "\n"
      ]
    },
    {
      "cell_type": "code",
      "execution_count": 5,
      "id": "comprehensive-biology",
      "metadata": {
        "id": "comprehensive-biology",
        "outputId": "aa91dbdd-4a1a-4305-d78e-1e16619e2e90",
        "colab": {
          "base_uri": "https://localhost:8080/"
        }
      },
      "outputs": [
        {
          "output_type": "execute_result",
          "data": {
            "text/plain": [
              "array([202094.08028131, 202093.85474197, 202093.59745992, 202093.94514388,\n",
              "       202094.0491106 , 202095.99958372, 202096.20397365, 202097.70611645,\n",
              "       202097.92441018, 202100.00000009, 202101.18403672, 202102.13901775,\n",
              "       202102.32768437, 202102.22271968, 202101.34798162])"
            ]
          },
          "metadata": {},
          "execution_count": 5
        }
      ],
      "source": [
        "Y_pred = model.predict(X)  # make predictions\n",
        "Y_pred"
      ]
    },
    {
      "cell_type": "code",
      "execution_count": 6,
      "id": "extraordinary-doctrine",
      "metadata": {
        "id": "extraordinary-doctrine",
        "outputId": "14f1ff79-29fb-41d1-b03a-e67e3fb1ecbd",
        "colab": {
          "base_uri": "https://localhost:8080/"
        }
      },
      "outputs": [
        {
          "output_type": "stream",
          "name": "stdout",
          "text": [
            "-0.09952318535390137\n",
            "1.0\n"
          ]
        }
      ],
      "source": [
        "print(model.score(X,Y))\n",
        "print(model.score(X,Y_pred))"
      ]
    },
    {
      "cell_type": "code",
      "execution_count": 7,
      "id": "enormous-lebanon",
      "metadata": {
        "id": "enormous-lebanon",
        "outputId": "f9aefee7-a6be-4642-fa09-3c9ccdff45e9",
        "colab": {
          "base_uri": "https://localhost:8080/",
          "height": 265
        }
      },
      "outputs": [
        {
          "output_type": "display_data",
          "data": {
            "text/plain": [
              "<Figure size 432x288 with 1 Axes>"
            ],
            "image/png": "[encoded data removed]"
          },
          "metadata": {
            "needs_background": "light"
          }
        }
      ],
      "source": [
        "plt.scatter(X, Y)\n",
        "#plt.plot(X, Y, color='black')\n",
        "plt.plot(X, Y_pred, color='red')\n",
        "plt.show()"
      ]
    },
    {
      "cell_type": "markdown",
      "id": "touched-france",
      "metadata": {
        "id": "touched-france"
      },
      "source": [
        "## 必須先將資料標準化，使用以下兩種方法之一  "
      ]
    },
    {
      "cell_type": "code",
      "execution_count": 8,
      "id": "insured-third",
      "metadata": {
        "id": "insured-third",
        "outputId": "cb4e4b7f-2f88-4758-9e11-f2c19cc44fe1",
        "colab": {
          "base_uri": "https://localhost:8080/"
        }
      },
      "outputs": [
        {
          "output_type": "execute_result",
          "data": {
            "text/plain": [
              "array([[0.        ],\n",
              "       [0.02840909],\n",
              "       [0.15340909],\n",
              "       [0.21022727],\n",
              "       [0.22159091],\n",
              "       [0.35795455],\n",
              "       [0.36931818],\n",
              "       [0.44886364],\n",
              "       [0.46022727],\n",
              "       [0.57386364],\n",
              "       [0.65340909],\n",
              "       [0.75568182],\n",
              "       [0.8125    ],\n",
              "       [0.88068182],\n",
              "       [1.        ]])"
            ]
          },
          "metadata": {},
          "execution_count": 8
        }
      ],
      "source": [
        "#將資料比例縮放到0與1之間\n",
        "from sklearn.preprocessing import MinMaxScaler\n",
        "sc_X = MinMaxScaler(feature_range=(0, 1))\n",
        "sc_y = MinMaxScaler(feature_range=(0, 1))\n",
        "X = sc_X.fit_transform(X)\n",
        "Y = sc_y.fit_transform(Y)\n",
        "X"
      ]
    },
    {
      "cell_type": "code",
      "execution_count": 9,
      "id": "commercial-conversion",
      "metadata": {
        "id": "commercial-conversion",
        "outputId": "5c076631-f813-4920-d937-5abe7afba4a8",
        "colab": {
          "base_uri": "https://localhost:8080/"
        }
      },
      "outputs": [
        {
          "output_type": "execute_result",
          "data": {
            "text/plain": [
              "array([[-1.53322538],\n",
              "       [-1.4388924 ],\n",
              "       [-1.02382729],\n",
              "       [-0.83516133],\n",
              "       [-0.79742813],\n",
              "       [-0.34462982],\n",
              "       [-0.30689663],\n",
              "       [-0.04276428],\n",
              "       [-0.00503109],\n",
              "       [ 0.37230083],\n",
              "       [ 0.63643318],\n",
              "       [ 0.97603191],\n",
              "       [ 1.16469787],\n",
              "       [ 1.39109703],\n",
              "       [ 1.78729555]])"
            ]
          },
          "metadata": {},
          "execution_count": 9
        }
      ],
      "source": [
        "#將資料常態分布化，平均值會變為0, 標準差變為1，使離群值影響降低\n",
        "from sklearn.preprocessing import StandardScaler\n",
        "sc_X = StandardScaler()\n",
        "sc_y = StandardScaler()\n",
        "X = sc_X.fit_transform(X)\n",
        "Y = sc_y.fit_transform(Y)\n",
        "X"
      ]
    },
    {
      "cell_type": "code",
      "execution_count": null,
      "id": "outer-shield",
      "metadata": {
        "id": "outer-shield"
      },
      "outputs": [],
      "source": []
    },
    {
      "cell_type": "code",
      "execution_count": 10,
      "id": "verified-philip",
      "metadata": {
        "id": "verified-philip",
        "outputId": "3b69dfc9-912a-4241-f248-c6ea41a04ddf",
        "colab": {
          "base_uri": "https://localhost:8080/"
        }
      },
      "outputs": [
        {
          "output_type": "stream",
          "name": "stderr",
          "text": [
            "/usr/local/lib/python3.7/dist-packages/sklearn/utils/validation.py:993: DataConversionWarning: A column-vector y was passed when a 1d array was expected. Please change the shape of y to (n_samples, ), for example using ravel().\n",
            "  y = column_or_1d(y, warn=True)\n"
          ]
        },
        {
          "output_type": "execute_result",
          "data": {
            "text/plain": [
              "array([-0.78605824, -0.86259234, -1.00936703, -0.95546762, -0.93620691,\n",
              "       -0.54627932, -0.50466948, -0.19313025, -0.14650193,  0.32979598,\n",
              "        0.6463699 ,  0.97560615,  1.10320881,  1.19608594,  1.19014529])"
            ]
          },
          "metadata": {},
          "execution_count": 10
        }
      ],
      "source": [
        "model= SVR(kernel='rbf')\n",
        "model.fit(X,Y)\n",
        "Y_pred = model.predict(X)  # make predictions\n",
        "Y_pred"
      ]
    },
    {
      "cell_type": "code",
      "execution_count": 11,
      "id": "engaged-reynolds",
      "metadata": {
        "id": "engaged-reynolds",
        "outputId": "5a77b920-7e69-4864-a3f0-3526e874e8ba",
        "colab": {
          "base_uri": "https://localhost:8080/"
        }
      },
      "outputs": [
        {
          "output_type": "execute_result",
          "data": {
            "text/plain": [
              "array([-0.78605824, -0.86259234, -1.00936703, -0.95546762, -0.93620691,\n",
              "       -0.54627932, -0.50466948, -0.19313025, -0.14650193,  0.32979598,\n",
              "        0.6463699 ,  0.97560615,  1.10320881,  1.19608594,  1.19014529])"
            ]
          },
          "metadata": {},
          "execution_count": 11
        }
      ],
      "source": [
        "Y_pred = model.predict(X)  # make predictions\n",
        "Y_pred"
      ]
    },
    {
      "cell_type": "code",
      "execution_count": 12,
      "id": "significant-myanmar",
      "metadata": {
        "id": "significant-myanmar",
        "outputId": "b995bc71-c8b2-4efc-fdc7-460d6567ef64",
        "colab": {
          "base_uri": "https://localhost:8080/",
          "height": 265
        }
      },
      "outputs": [
        {
          "output_type": "display_data",
          "data": {
            "text/plain": [
              "<Figure size 432x288 with 1 Axes>"
            ],
            "image/png": "[encoded data removed]"
          },
          "metadata": {
            "needs_background": "light"
          }
        }
      ],
      "source": [
        "plt.scatter(X, Y)\n",
        "#plt.plot(X, Y, color='black')\n",
        "plt.plot(X, Y_pred, color='red')\n",
        "plt.show()"
      ]
    },
    {
      "cell_type": "code",
      "execution_count": null,
      "id": "suffering-weather",
      "metadata": {
        "id": "suffering-weather"
      },
      "outputs": [],
      "source": []
    }
  ],
  "metadata": {
    "kernelspec": {
      "display_name": "Python 3",
      "language": "python",
      "name": "python3"
    },
    "language_info": {
      "codemirror_mode": {
        "name": "ipython",
        "version": 3
      },
      "file_extension": ".py",
      "mimetype": "text/x-python",
      "name": "python",
      "nbconvert_exporter": "python",
      "pygments_lexer": "ipython3",
      "version": "3.8.8"
    },
    "colab": {
      "provenance": []
    }
  },
  "nbformat": 4,
  "nbformat_minor": 5
}