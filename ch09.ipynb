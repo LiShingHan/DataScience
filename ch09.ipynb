{
 "cells": [
  {
   "cell_type": "code",
   "execution_count": null,
   "metadata": {},
   "outputs": [],
   "source": []
  },
  {
   "cell_type": "code",
   "execution_count": 1,
   "metadata": {},
   "outputs": [
    {
     "data": {
      "image/png": "[encoded data removed]",
      "text/plain": [
       "plot without title"
      ]
     },
     "metadata": {},
     "output_type": "display_data"
    }
   ],
   "source": [
    "plot(formula = Petal.Length ~ Petal.Width, data = iris, col = iris$Species)"
   ]
  },
  {
   "cell_type": "code",
   "execution_count": 3,
   "metadata": {},
   "outputs": [],
   "source": [
    "data <- iris[-5] #去除第5個資料行"
   ]
  },
  {
   "cell_type": "code",
   "execution_count": 4,
   "metadata": {},
   "outputs": [
    {
     "data": {
      "text/html": [
       "<table>\n",
       "<thead><tr><th scope=col>Sepal.Length</th><th scope=col>Sepal.Width</th><th scope=col>Petal.Length</th><th scope=col>Petal.Width</th></tr></thead>\n",
       "<tbody>\n",
       "\t<tr><td>5.1</td><td>3.5</td><td>1.4</td><td>0.2</td></tr>\n",
       "\t<tr><td>4.9</td><td>3.0</td><td>1.4</td><td>0.2</td></tr>\n",
       "\t<tr><td>4.7</td><td>3.2</td><td>1.3</td><td>0.2</td></tr>\n",
       "\t<tr><td>4.6</td><td>3.1</td><td>1.5</td><td>0.2</td></tr>\n",
       "\t<tr><td>5.0</td><td>3.6</td><td>1.4</td><td>0.2</td></tr>\n",
       "\t<tr><td>5.4</td><td>3.9</td><td>1.7</td><td>0.4</td></tr>\n",
       "\t<tr><td>4.6</td><td>3.4</td><td>1.4</td><td>0.3</td></tr>\n",
       "\t<tr><td>5.0</td><td>3.4</td><td>1.5</td><td>0.2</td></tr>\n",
       "\t<tr><td>4.4</td><td>2.9</td><td>1.4</td><td>0.2</td></tr>\n",
       "\t<tr><td>4.9</td><td>3.1</td><td>1.5</td><td>0.1</td></tr>\n",
       "\t<tr><td>5.4</td><td>3.7</td><td>1.5</td><td>0.2</td></tr>\n",
       "\t<tr><td>4.8</td><td>3.4</td><td>1.6</td><td>0.2</td></tr>\n",
       "\t<tr><td>4.8</td><td>3.0</td><td>1.4</td><td>0.1</td></tr>\n",
       "\t<tr><td>4.3</td><td>3.0</td><td>1.1</td><td>0.1</td></tr>\n",
       "\t<tr><td>5.8</td><td>4.0</td><td>1.2</td><td>0.2</td></tr>\n",
       "\t<tr><td>5.7</td><td>4.4</td><td>1.5</td><td>0.4</td></tr>\n",
       "\t<tr><td>5.4</td><td>3.9</td><td>1.3</td><td>0.4</td></tr>\n",
       "\t<tr><td>5.1</td><td>3.5</td><td>1.4</td><td>0.3</td></tr>\n",
       "\t<tr><td>5.7</td><td>3.8</td><td>1.7</td><td>0.3</td></tr>\n",
       "\t<tr><td>5.1</td><td>3.8</td><td>1.5</td><td>0.3</td></tr>\n",
       "\t<tr><td>5.4</td><td>3.4</td><td>1.7</td><td>0.2</td></tr>\n",
       "\t<tr><td>5.1</td><td>3.7</td><td>1.5</td><td>0.4</td></tr>\n",
       "\t<tr><td>4.6</td><td>3.6</td><td>1.0</td><td>0.2</td></tr>\n",
       "\t<tr><td>5.1</td><td>3.3</td><td>1.7</td><td>0.5</td></tr>\n",
       "\t<tr><td>4.8</td><td>3.4</td><td>1.9</td><td>0.2</td></tr>\n",
       "\t<tr><td>5.0</td><td>3.0</td><td>1.6</td><td>0.2</td></tr>\n",
       "\t<tr><td>5.0</td><td>3.4</td><td>1.6</td><td>0.4</td></tr>\n",
       "\t<tr><td>5.2</td><td>3.5</td><td>1.5</td><td>0.2</td></tr>\n",
       "\t<tr><td>5.2</td><td>3.4</td><td>1.4</td><td>0.2</td></tr>\n",
       "\t<tr><td>4.7</td><td>3.2</td><td>1.6</td><td>0.2</td></tr>\n",
       "\t<tr><td>...</td><td>...</td><td>...</td><td>...</td></tr>\n",
       "\t<tr><td>6.9</td><td>3.2</td><td>5.7</td><td>2.3</td></tr>\n",
       "\t<tr><td>5.6</td><td>2.8</td><td>4.9</td><td>2.0</td></tr>\n",
       "\t<tr><td>7.7</td><td>2.8</td><td>6.7</td><td>2.0</td></tr>\n",
       "\t<tr><td>6.3</td><td>2.7</td><td>4.9</td><td>1.8</td></tr>\n",
       "\t<tr><td>6.7</td><td>3.3</td><td>5.7</td><td>2.1</td></tr>\n",
       "\t<tr><td>7.2</td><td>3.2</td><td>6.0</td><td>1.8</td></tr>\n",
       "\t<tr><td>6.2</td><td>2.8</td><td>4.8</td><td>1.8</td></tr>\n",
       "\t<tr><td>6.1</td><td>3.0</td><td>4.9</td><td>1.8</td></tr>\n",
       "\t<tr><td>6.4</td><td>2.8</td><td>5.6</td><td>2.1</td></tr>\n",
       "\t<tr><td>7.2</td><td>3.0</td><td>5.8</td><td>1.6</td></tr>\n",
       "\t<tr><td>7.4</td><td>2.8</td><td>6.1</td><td>1.9</td></tr>\n",
       "\t<tr><td>7.9</td><td>3.8</td><td>6.4</td><td>2.0</td></tr>\n",
       "\t<tr><td>6.4</td><td>2.8</td><td>5.6</td><td>2.2</td></tr>\n",
       "\t<tr><td>6.3</td><td>2.8</td><td>5.1</td><td>1.5</td></tr>\n",
       "\t<tr><td>6.1</td><td>2.6</td><td>5.6</td><td>1.4</td></tr>\n",
       "\t<tr><td>7.7</td><td>3.0</td><td>6.1</td><td>2.3</td></tr>\n",
       "\t<tr><td>6.3</td><td>3.4</td><td>5.6</td><td>2.4</td></tr>\n",
       "\t<tr><td>6.4</td><td>3.1</td><td>5.5</td><td>1.8</td></tr>\n",
       "\t<tr><td>6.0</td><td>3.0</td><td>4.8</td><td>1.8</td></tr>\n",
       "\t<tr><td>6.9</td><td>3.1</td><td>5.4</td><td>2.1</td></tr>\n",
       "\t<tr><td>6.7</td><td>3.1</td><td>5.6</td><td>2.4</td></tr>\n",
       "\t<tr><td>6.9</td><td>3.1</td><td>5.1</td><td>2.3</td></tr>\n",
       "\t<tr><td>5.8</td><td>2.7</td><td>5.1</td><td>1.9</td></tr>\n",
       "\t<tr><td>6.8</td><td>3.2</td><td>5.9</td><td>2.3</td></tr>\n",
       "\t<tr><td>6.7</td><td>3.3</td><td>5.7</td><td>2.5</td></tr>\n",
       "\t<tr><td>6.7</td><td>3.0</td><td>5.2</td><td>2.3</td></tr>\n",
       "\t<tr><td>6.3</td><td>2.5</td><td>5.0</td><td>1.9</td></tr>\n",
       "\t<tr><td>6.5</td><td>3.0</td><td>5.2</td><td>2.0</td></tr>\n",
       "\t<tr><td>6.2</td><td>3.4</td><td>5.4</td><td>2.3</td></tr>\n",
       "\t<tr><td>5.9</td><td>3.0</td><td>5.1</td><td>1.8</td></tr>\n",
       "</tbody>\n",
       "</table>\n"
      ],
      "text/latex": [
       "\\begin{tabular}{r|llll}\n",
       " Sepal.Length & Sepal.Width & Petal.Length & Petal.Width\\\\\n",
       "\\hline\n",
       "\t 5.1 & 3.5 & 1.4 & 0.2\\\\\n",
       "\t 4.9 & 3.0 & 1.4 & 0.2\\\\\n",
       "\t 4.7 & 3.2 & 1.3 & 0.2\\\\\n",
       "\t 4.6 & 3.1 & 1.5 & 0.2\\\\\n",
       "\t 5.0 & 3.6 & 1.4 & 0.2\\\\\n",
       "\t 5.4 & 3.9 & 1.7 & 0.4\\\\\n",
       "\t 4.6 & 3.4 & 1.4 & 0.3\\\\\n",
       "\t 5.0 & 3.4 & 1.5 & 0.2\\\\\n",
       "\t 4.4 & 2.9 & 1.4 & 0.2\\\\\n",
       "\t 4.9 & 3.1 & 1.5 & 0.1\\\\\n",
       "\t 5.4 & 3.7 & 1.5 & 0.2\\\\\n",
       "\t 4.8 & 3.4 & 1.6 & 0.2\\\\\n",
       "\t 4.8 & 3.0 & 1.4 & 0.1\\\\\n",
       "\t 4.3 & 3.0 & 1.1 & 0.1\\\\\n",
       "\t 5.8 & 4.0 & 1.2 & 0.2\\\\\n",
       "\t 5.7 & 4.4 & 1.5 & 0.4\\\\\n",
       "\t 5.4 & 3.9 & 1.3 & 0.4\\\\\n",
       "\t 5.1 & 3.5 & 1.4 & 0.3\\\\\n",
       "\t 5.7 & 3.8 & 1.7 & 0.3\\\\\n",
       "\t 5.1 & 3.8 & 1.5 & 0.3\\\\\n",
       "\t 5.4 & 3.4 & 1.7 & 0.2\\\\\n",
       "\t 5.1 & 3.7 & 1.5 & 0.4\\\\\n",
       "\t 4.6 & 3.6 & 1.0 & 0.2\\\\\n",
       "\t 5.1 & 3.3 & 1.7 & 0.5\\\\\n",
       "\t 4.8 & 3.4 & 1.9 & 0.2\\\\\n",
       "\t 5.0 & 3.0 & 1.6 & 0.2\\\\\n",
       "\t 5.0 & 3.4 & 1.6 & 0.4\\\\\n",
       "\t 5.2 & 3.5 & 1.5 & 0.2\\\\\n",
       "\t 5.2 & 3.4 & 1.4 & 0.2\\\\\n",
       "\t 4.7 & 3.2 & 1.6 & 0.2\\\\\n",
       "\t ... & ... & ... & ...\\\\\n",
       "\t 6.9 & 3.2 & 5.7 & 2.3\\\\\n",
       "\t 5.6 & 2.8 & 4.9 & 2.0\\\\\n",
       "\t 7.7 & 2.8 & 6.7 & 2.0\\\\\n",
       "\t 6.3 & 2.7 & 4.9 & 1.8\\\\\n",
       "\t 6.7 & 3.3 & 5.7 & 2.1\\\\\n",
       "\t 7.2 & 3.2 & 6.0 & 1.8\\\\\n",
       "\t 6.2 & 2.8 & 4.8 & 1.8\\\\\n",
       "\t 6.1 & 3.0 & 4.9 & 1.8\\\\\n",
       "\t 6.4 & 2.8 & 5.6 & 2.1\\\\\n",
       "\t 7.2 & 3.0 & 5.8 & 1.6\\\\\n",
       "\t 7.4 & 2.8 & 6.1 & 1.9\\\\\n",
       "\t 7.9 & 3.8 & 6.4 & 2.0\\\\\n",
       "\t 6.4 & 2.8 & 5.6 & 2.2\\\\\n",
       "\t 6.3 & 2.8 & 5.1 & 1.5\\\\\n",
       "\t 6.1 & 2.6 & 5.6 & 1.4\\\\\n",
       "\t 7.7 & 3.0 & 6.1 & 2.3\\\\\n",
       "\t 6.3 & 3.4 & 5.6 & 2.4\\\\\n",
       "\t 6.4 & 3.1 & 5.5 & 1.8\\\\\n",
       "\t 6.0 & 3.0 & 4.8 & 1.8\\\\\n",
       "\t 6.9 & 3.1 & 5.4 & 2.1\\\\\n",
       "\t 6.7 & 3.1 & 5.6 & 2.4\\\\\n",
       "\t 6.9 & 3.1 & 5.1 & 2.3\\\\\n",
       "\t 5.8 & 2.7 & 5.1 & 1.9\\\\\n",
       "\t 6.8 & 3.2 & 5.9 & 2.3\\\\\n",
       "\t 6.7 & 3.3 & 5.7 & 2.5\\\\\n",
       "\t 6.7 & 3.0 & 5.2 & 2.3\\\\\n",
       "\t 6.3 & 2.5 & 5.0 & 1.9\\\\\n",
       "\t 6.5 & 3.0 & 5.2 & 2.0\\\\\n",
       "\t 6.2 & 3.4 & 5.4 & 2.3\\\\\n",
       "\t 5.9 & 3.0 & 5.1 & 1.8\\\\\n",
       "\\end{tabular}\n"
      ],
      "text/markdown": [
       "\n",
       "| Sepal.Length | Sepal.Width | Petal.Length | Petal.Width |\n",
       "|---|---|---|---|\n",
       "| 5.1 | 3.5 | 1.4 | 0.2 |\n",
       "| 4.9 | 3.0 | 1.4 | 0.2 |\n",
       "| 4.7 | 3.2 | 1.3 | 0.2 |\n",
       "| 4.6 | 3.1 | 1.5 | 0.2 |\n",
       "| 5.0 | 3.6 | 1.4 | 0.2 |\n",
       "| 5.4 | 3.9 | 1.7 | 0.4 |\n",
       "| 4.6 | 3.4 | 1.4 | 0.3 |\n",
       "| 5.0 | 3.4 | 1.5 | 0.2 |\n",
       "| 4.4 | 2.9 | 1.4 | 0.2 |\n",
       "| 4.9 | 3.1 | 1.5 | 0.1 |\n",
       "| 5.4 | 3.7 | 1.5 | 0.2 |\n",
       "| 4.8 | 3.4 | 1.6 | 0.2 |\n",
       "| 4.8 | 3.0 | 1.4 | 0.1 |\n",
       "| 4.3 | 3.0 | 1.1 | 0.1 |\n",
       "| 5.8 | 4.0 | 1.2 | 0.2 |\n",
       "| 5.7 | 4.4 | 1.5 | 0.4 |\n",
       "| 5.4 | 3.9 | 1.3 | 0.4 |\n",
       "| 5.1 | 3.5 | 1.4 | 0.3 |\n",
       "| 5.7 | 3.8 | 1.7 | 0.3 |\n",
       "| 5.1 | 3.8 | 1.5 | 0.3 |\n",
       "| 5.4 | 3.4 | 1.7 | 0.2 |\n",
       "| 5.1 | 3.7 | 1.5 | 0.4 |\n",
       "| 4.6 | 3.6 | 1.0 | 0.2 |\n",
       "| 5.1 | 3.3 | 1.7 | 0.5 |\n",
       "| 4.8 | 3.4 | 1.9 | 0.2 |\n",
       "| 5.0 | 3.0 | 1.6 | 0.2 |\n",
       "| 5.0 | 3.4 | 1.6 | 0.4 |\n",
       "| 5.2 | 3.5 | 1.5 | 0.2 |\n",
       "| 5.2 | 3.4 | 1.4 | 0.2 |\n",
       "| 4.7 | 3.2 | 1.6 | 0.2 |\n",
       "| ... | ... | ... | ... |\n",
       "| 6.9 | 3.2 | 5.7 | 2.3 |\n",
       "| 5.6 | 2.8 | 4.9 | 2.0 |\n",
       "| 7.7 | 2.8 | 6.7 | 2.0 |\n",
       "| 6.3 | 2.7 | 4.9 | 1.8 |\n",
       "| 6.7 | 3.3 | 5.7 | 2.1 |\n",
       "| 7.2 | 3.2 | 6.0 | 1.8 |\n",
       "| 6.2 | 2.8 | 4.8 | 1.8 |\n",
       "| 6.1 | 3.0 | 4.9 | 1.8 |\n",
       "| 6.4 | 2.8 | 5.6 | 2.1 |\n",
       "| 7.2 | 3.0 | 5.8 | 1.6 |\n",
       "| 7.4 | 2.8 | 6.1 | 1.9 |\n",
       "| 7.9 | 3.8 | 6.4 | 2.0 |\n",
       "| 6.4 | 2.8 | 5.6 | 2.2 |\n",
       "| 6.3 | 2.8 | 5.1 | 1.5 |\n",
       "| 6.1 | 2.6 | 5.6 | 1.4 |\n",
       "| 7.7 | 3.0 | 6.1 | 2.3 |\n",
       "| 6.3 | 3.4 | 5.6 | 2.4 |\n",
       "| 6.4 | 3.1 | 5.5 | 1.8 |\n",
       "| 6.0 | 3.0 | 4.8 | 1.8 |\n",
       "| 6.9 | 3.1 | 5.4 | 2.1 |\n",
       "| 6.7 | 3.1 | 5.6 | 2.4 |\n",
       "| 6.9 | 3.1 | 5.1 | 2.3 |\n",
       "| 5.8 | 2.7 | 5.1 | 1.9 |\n",
       "| 6.8 | 3.2 | 5.9 | 2.3 |\n",
       "| 6.7 | 3.3 | 5.7 | 2.5 |\n",
       "| 6.7 | 3.0 | 5.2 | 2.3 |\n",
       "| 6.3 | 2.5 | 5.0 | 1.9 |\n",
       "| 6.5 | 3.0 | 5.2 | 2.0 |\n",
       "| 6.2 | 3.4 | 5.4 | 2.3 |\n",
       "| 5.9 | 3.0 | 5.1 | 1.8 |\n",
       "\n"
      ],
      "text/plain": [
       "    Sepal.Length Sepal.Width Petal.Length Petal.Width\n",
       "1   5.1          3.5         1.4          0.2        \n",
       "2   4.9          3.0         1.4          0.2        \n",
       "3   4.7          3.2         1.3          0.2        \n",
       "4   4.6          3.1         1.5          0.2        \n",
       "5   5.0          3.6         1.4          0.2        \n",
       "6   5.4          3.9         1.7          0.4        \n",
       "7   4.6          3.4         1.4          0.3        \n",
       "8   5.0          3.4         1.5          0.2        \n",
       "9   4.4          2.9         1.4          0.2        \n",
       "10  4.9          3.1         1.5          0.1        \n",
       "11  5.4          3.7         1.5          0.2        \n",
       "12  4.8          3.4         1.6          0.2        \n",
       "13  4.8          3.0         1.4          0.1        \n",
       "14  4.3          3.0         1.1          0.1        \n",
       "15  5.8          4.0         1.2          0.2        \n",
       "16  5.7          4.4         1.5          0.4        \n",
       "17  5.4          3.9         1.3          0.4        \n",
       "18  5.1          3.5         1.4          0.3        \n",
       "19  5.7          3.8         1.7          0.3        \n",
       "20  5.1          3.8         1.5          0.3        \n",
       "21  5.4          3.4         1.7          0.2        \n",
       "22  5.1          3.7         1.5          0.4        \n",
       "23  4.6          3.6         1.0          0.2        \n",
       "24  5.1          3.3         1.7          0.5        \n",
       "25  4.8          3.4         1.9          0.2        \n",
       "26  5.0          3.0         1.6          0.2        \n",
       "27  5.0          3.4         1.6          0.4        \n",
       "28  5.2          3.5         1.5          0.2        \n",
       "29  5.2          3.4         1.4          0.2        \n",
       "30  4.7          3.2         1.6          0.2        \n",
       "... ...          ...         ...          ...        \n",
       "121 6.9          3.2         5.7          2.3        \n",
       "122 5.6          2.8         4.9          2.0        \n",
       "123 7.7          2.8         6.7          2.0        \n",
       "124 6.3          2.7         4.9          1.8        \n",
       "125 6.7          3.3         5.7          2.1        \n",
       "126 7.2          3.2         6.0          1.8        \n",
       "127 6.2          2.8         4.8          1.8        \n",
       "128 6.1          3.0         4.9          1.8        \n",
       "129 6.4          2.8         5.6          2.1        \n",
       "130 7.2          3.0         5.8          1.6        \n",
       "131 7.4          2.8         6.1          1.9        \n",
       "132 7.9          3.8         6.4          2.0        \n",
       "133 6.4          2.8         5.6          2.2        \n",
       "134 6.3          2.8         5.1          1.5        \n",
       "135 6.1          2.6         5.6          1.4        \n",
       "136 7.7          3.0         6.1          2.3        \n",
       "137 6.3          3.4         5.6          2.4        \n",
       "138 6.4          3.1         5.5          1.8        \n",
       "139 6.0          3.0         4.8          1.8        \n",
       "140 6.9          3.1         5.4          2.1        \n",
       "141 6.7          3.1         5.6          2.4        \n",
       "142 6.9          3.1         5.1          2.3        \n",
       "143 5.8          2.7         5.1          1.9        \n",
       "144 6.8          3.2         5.9          2.3        \n",
       "145 6.7          3.3         5.7          2.5        \n",
       "146 6.7          3.0         5.2          2.3        \n",
       "147 6.3          2.5         5.0          1.9        \n",
       "148 6.5          3.0         5.2          2.0        \n",
       "149 6.2          3.4         5.4          2.3        \n",
       "150 5.9          3.0         5.1          1.8        "
      ]
     },
     "metadata": {},
     "output_type": "display_data"
    }
   ],
   "source": [
    "data"
   ]
  },
  {
   "cell_type": "code",
   "execution_count": 5,
   "metadata": {
    "scrolled": true
   },
   "outputs": [],
   "source": [
    "km <- kmeans(data , centers = 3, nstart = 10)"
   ]
  },
  {
   "cell_type": "code",
   "execution_count": 6,
   "metadata": {},
   "outputs": [
    {
     "data": {
      "image/png": "[encoded data removed]",
      "text/plain": [
       "plot without title"
      ]
     },
     "metadata": {},
     "output_type": "display_data"
    }
   ],
   "source": [
    "plot(iris[c( \"Petal.Width\", \"Petal.Length\")], , col = km$cluster) \n",
    "\n",
    "\n",
    "points(km$centers[, c( \"Petal.Width\" , \"Petal.Length\")],  col = 1:3, pch = 8, cex = 3)  \n"
   ]
  },
  {
   "cell_type": "code",
   "execution_count": 7,
   "metadata": {},
   "outputs": [
    {
     "name": "stdout",
     "output_type": "stream",
     "text": [
      "package 'isoband' successfully unpacked and MD5 sums checked\n",
      "\n",
      "The downloaded binary packages are in\n",
      "\tC:\\Users\\Administrator\\AppData\\Local\\Temp\\RtmpcTJWYI\\downloaded_packages\n"
     ]
    },
    {
     "name": "stderr",
     "output_type": "stream",
     "text": [
      "Warning message:\n",
      "\"package 'isoband' was built under R version 3.6.3\"Registered S3 methods overwritten by 'ggplot2':\n",
      "  method         from \n",
      "  [.quosures     rlang\n",
      "  c.quosures     rlang\n",
      "  print.quosures rlang\n"
     ]
    }
   ],
   "source": [
    "install.packages(\"isoband\")\n",
    "library(isoband)\n",
    "library(ggplot2)\n"
   ]
  },
  {
   "cell_type": "code",
   "execution_count": 8,
   "metadata": {},
   "outputs": [
    {
     "data": {
      "image/png": "[encoded data removed]",
      "text/plain": [
       "plot without title"
      ]
     },
     "metadata": {},
     "output_type": "display_data"
    }
   ],
   "source": [
    "ggplot(data, aes(x = Petal.Length, y = Petal.Width)) +\n",
    "geom_point(aes(color = factor(km$cluster))) +\n",
    "stat_density2d(aes(color = factor(km$cluster)))\n"
   ]
  },
  {
   "cell_type": "code",
   "execution_count": null,
   "metadata": {},
   "outputs": [],
   "source": []
  },
  {
   "cell_type": "code",
   "execution_count": 9,
   "metadata": {},
   "outputs": [],
   "source": [
    "p9.6 <- read.csv(\"C:/Rdata/p9.6.csv\")"
   ]
  },
  {
   "cell_type": "code",
   "execution_count": 10,
   "metadata": {},
   "outputs": [
    {
     "data": {
      "text/html": [
       "<table>\n",
       "<thead><tr><th scope=col>x</th><th scope=col>y</th></tr></thead>\n",
       "<tbody>\n",
       "\t<tr><td>2</td><td>4</td></tr>\n",
       "\t<tr><td>2</td><td>6</td></tr>\n",
       "\t<tr><td>5</td><td>6</td></tr>\n",
       "\t<tr><td>4</td><td>7</td></tr>\n",
       "\t<tr><td>8</td><td>3</td></tr>\n",
       "\t<tr><td>6</td><td>6</td></tr>\n",
       "\t<tr><td>5</td><td>2</td></tr>\n",
       "\t<tr><td>5</td><td>7</td></tr>\n",
       "\t<tr><td>6</td><td>3</td></tr>\n",
       "\t<tr><td>4</td><td>4</td></tr>\n",
       "</tbody>\n",
       "</table>\n"
      ],
      "text/latex": [
       "\\begin{tabular}{r|ll}\n",
       " x & y\\\\\n",
       "\\hline\n",
       "\t 2 & 4\\\\\n",
       "\t 2 & 6\\\\\n",
       "\t 5 & 6\\\\\n",
       "\t 4 & 7\\\\\n",
       "\t 8 & 3\\\\\n",
       "\t 6 & 6\\\\\n",
       "\t 5 & 2\\\\\n",
       "\t 5 & 7\\\\\n",
       "\t 6 & 3\\\\\n",
       "\t 4 & 4\\\\\n",
       "\\end{tabular}\n"
      ],
      "text/markdown": [
       "\n",
       "| x | y |\n",
       "|---|---|\n",
       "| 2 | 4 |\n",
       "| 2 | 6 |\n",
       "| 5 | 6 |\n",
       "| 4 | 7 |\n",
       "| 8 | 3 |\n",
       "| 6 | 6 |\n",
       "| 5 | 2 |\n",
       "| 5 | 7 |\n",
       "| 6 | 3 |\n",
       "| 4 | 4 |\n",
       "\n"
      ],
      "text/plain": [
       "   x y\n",
       "1  2 4\n",
       "2  2 6\n",
       "3  5 6\n",
       "4  4 7\n",
       "5  8 3\n",
       "6  6 6\n",
       "7  5 2\n",
       "8  5 7\n",
       "9  6 3\n",
       "10 4 4"
      ]
     },
     "metadata": {},
     "output_type": "display_data"
    }
   ],
   "source": [
    "p9.6"
   ]
  },
  {
   "cell_type": "code",
   "execution_count": 11,
   "metadata": {},
   "outputs": [],
   "source": [
    "km <- kmeans(p9.6, centers=3) "
   ]
  },
  {
   "cell_type": "code",
   "execution_count": 12,
   "metadata": {},
   "outputs": [
    {
     "data": {
      "text/plain": [
       "K-means clustering with 3 clusters of sizes 3, 3, 4\n",
       "\n",
       "Cluster means:\n",
       "         x        y\n",
       "1 6.333333 2.666667\n",
       "2 2.666667 4.666667\n",
       "3 5.000000 6.500000\n",
       "\n",
       "Clustering vector:\n",
       " [1] 2 2 3 3 1 3 1 3 1 2\n",
       "\n",
       "Within cluster sum of squares by cluster:\n",
       "[1] 5.333333 5.333333 3.000000\n",
       " (between_SS / total_SS =  77.1 %)\n",
       "\n",
       "Available components:\n",
       "\n",
       "[1] \"cluster\"      \"centers\"      \"totss\"        \"withinss\"     \"tot.withinss\"\n",
       "[6] \"betweenss\"    \"size\"         \"iter\"         \"ifault\"      "
      ]
     },
     "metadata": {},
     "output_type": "display_data"
    }
   ],
   "source": [
    "km"
   ]
  },
  {
   "cell_type": "code",
   "execution_count": 13,
   "metadata": {},
   "outputs": [
    {
     "data": {
      "text/plain": [
       "   \n",
       "    2 3 4 6 7\n",
       "  1 1 2 0 0 0\n",
       "  2 0 0 2 1 0\n",
       "  3 0 0 0 2 2"
      ]
     },
     "metadata": {},
     "output_type": "display_data"
    }
   ],
   "source": [
    "table(km$cluster,p9.6$y) "
   ]
  },
  {
   "cell_type": "code",
   "execution_count": 18,
   "metadata": {},
   "outputs": [
    {
     "data": {
      "image/png": "[encoded data removed]",
      "text/plain": [
       "plot without title"
      ]
     },
     "metadata": {},
     "output_type": "display_data"
    }
   ],
   "source": [
    "plot(p9.6$x, p9.6$y,type=\"n\")\n",
    "points(x=p9.6$x, y=p9.6$y, col=km$cluster+1)\n",
    "points(km$centers, col = 1:2, pch = 10, cex = 4)"
   ]
  },
  {
   "cell_type": "code",
   "execution_count": null,
   "metadata": {},
   "outputs": [],
   "source": []
  },
  {
   "cell_type": "code",
   "execution_count": 19,
   "metadata": {},
   "outputs": [],
   "source": [
    "p9.13 <- read.csv(\"C:/Rdata/p9.13.csv\")"
   ]
  },
  {
   "cell_type": "code",
   "execution_count": 20,
   "metadata": {},
   "outputs": [
    {
     "data": {
      "text/html": [
       "<table>\n",
       "<thead><tr><th scope=col>height</th><th scope=col>weight</th></tr></thead>\n",
       "<tbody>\n",
       "\t<tr><td>71 </td><td>165</td></tr>\n",
       "\t<tr><td>68 </td><td>165</td></tr>\n",
       "\t<tr><td>72 </td><td>180</td></tr>\n",
       "\t<tr><td>67 </td><td>113</td></tr>\n",
       "\t<tr><td>72 </td><td>178</td></tr>\n",
       "\t<tr><td>62 </td><td>101</td></tr>\n",
       "\t<tr><td>70 </td><td>150</td></tr>\n",
       "\t<tr><td>69 </td><td>172</td></tr>\n",
       "\t<tr><td>72 </td><td>185</td></tr>\n",
       "\t<tr><td>63 </td><td>149</td></tr>\n",
       "\t<tr><td>69 </td><td>132</td></tr>\n",
       "\t<tr><td>61 </td><td>115</td></tr>\n",
       "</tbody>\n",
       "</table>\n"
      ],
      "text/latex": [
       "\\begin{tabular}{r|ll}\n",
       " height & weight\\\\\n",
       "\\hline\n",
       "\t 71  & 165\\\\\n",
       "\t 68  & 165\\\\\n",
       "\t 72  & 180\\\\\n",
       "\t 67  & 113\\\\\n",
       "\t 72  & 178\\\\\n",
       "\t 62  & 101\\\\\n",
       "\t 70  & 150\\\\\n",
       "\t 69  & 172\\\\\n",
       "\t 72  & 185\\\\\n",
       "\t 63  & 149\\\\\n",
       "\t 69  & 132\\\\\n",
       "\t 61  & 115\\\\\n",
       "\\end{tabular}\n"
      ],
      "text/markdown": [
       "\n",
       "| height | weight |\n",
       "|---|---|\n",
       "| 71  | 165 |\n",
       "| 68  | 165 |\n",
       "| 72  | 180 |\n",
       "| 67  | 113 |\n",
       "| 72  | 178 |\n",
       "| 62  | 101 |\n",
       "| 70  | 150 |\n",
       "| 69  | 172 |\n",
       "| 72  | 185 |\n",
       "| 63  | 149 |\n",
       "| 69  | 132 |\n",
       "| 61  | 115 |\n",
       "\n"
      ],
      "text/plain": [
       "   height weight\n",
       "1  71     165   \n",
       "2  68     165   \n",
       "3  72     180   \n",
       "4  67     113   \n",
       "5  72     178   \n",
       "6  62     101   \n",
       "7  70     150   \n",
       "8  69     172   \n",
       "9  72     185   \n",
       "10 63     149   \n",
       "11 69     132   \n",
       "12 61     115   "
      ]
     },
     "metadata": {},
     "output_type": "display_data"
    }
   ],
   "source": [
    "p9.13"
   ]
  },
  {
   "cell_type": "code",
   "execution_count": 21,
   "metadata": {},
   "outputs": [],
   "source": [
    "km <- kmeans(p9.13, centers=3) "
   ]
  },
  {
   "cell_type": "code",
   "execution_count": 22,
   "metadata": {},
   "outputs": [
    {
     "data": {
      "text/plain": [
       "K-means clustering with 3 clusters of sizes 4, 4, 4\n",
       "\n",
       "Cluster means:\n",
       "  height weight\n",
       "1  64.75 115.25\n",
       "2  68.00 157.25\n",
       "3  71.25 178.75\n",
       "\n",
       "Clustering vector:\n",
       " [1] 2 2 3 1 3 1 2 3 3 2 1 1\n",
       "\n",
       "Within cluster sum of squares by cluster:\n",
       "[1] 533.50 278.75  93.50\n",
       " (between_SS / total_SS =  90.3 %)\n",
       "\n",
       "Available components:\n",
       "\n",
       "[1] \"cluster\"      \"centers\"      \"totss\"        \"withinss\"     \"tot.withinss\"\n",
       "[6] \"betweenss\"    \"size\"         \"iter\"         \"ifault\"      "
      ]
     },
     "metadata": {},
     "output_type": "display_data"
    }
   ],
   "source": [
    "km"
   ]
  },
  {
   "cell_type": "code",
   "execution_count": 25,
   "metadata": {},
   "outputs": [
    {
     "data": {
      "image/png": "[encoded data removed]",
      "text/plain": [
       "plot without title"
      ]
     },
     "metadata": {},
     "output_type": "display_data"
    }
   ],
   "source": [
    "plot(p9.13$height, p9.13$weight,type=\"n\")\n",
    "points(x=p9.13$height, y=p9.13$weight, col=km$cluster)\n",
    "points(km$centers, col = 1:3, pch = 10, cex = 4)\n"
   ]
  },
  {
   "cell_type": "code",
   "execution_count": null,
   "metadata": {},
   "outputs": [],
   "source": []
  }
 ],
 "metadata": {
  "kernelspec": {
   "display_name": "R",
   "language": "R",
   "name": "ir"
  },
  "language_info": {
   "codemirror_mode": "r",
   "file_extension": ".r",
   "mimetype": "text/x-r-source",
   "name": "R",
   "pygments_lexer": "r",
   "version": "3.6.1"
  }
 },
 "nbformat": 4,
 "nbformat_minor": 4
}
