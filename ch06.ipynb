{
 "cells": [
  {
   "cell_type": "code",
   "execution_count": 1,
   "metadata": {},
   "outputs": [
    {
     "name": "stdout",
     "output_type": "stream",
     "text": [
      "package 'rpart' successfully unpacked and MD5 sums checked\n",
      "\n",
      "The downloaded binary packages are in\n",
      "\tC:\\Users\\Administrator\\AppData\\Local\\Temp\\RtmpusFPbi\\downloaded_packages\n"
     ]
    },
    {
     "name": "stderr",
     "output_type": "stream",
     "text": [
      "Warning message:\n",
      "\"package 'rpart' was built under R version 3.6.3\""
     ]
    }
   ],
   "source": [
    "install.packages('rpart')\n",
    "library(rpart)"
   ]
  },
  {
   "cell_type": "code",
   "execution_count": 3,
   "metadata": {},
   "outputs": [
    {
     "data": {
      "text/html": [
       "<table>\n",
       "<thead><tr><th scope=col>outlook</th><th scope=col>temp</th><th scope=col>humidity</th><th scope=col>windy</th><th scope=col>play</th></tr></thead>\n",
       "<tbody>\n",
       "\t<tr><td>clearness</td><td>hot      </td><td>high     </td><td>false    </td><td>false    </td></tr>\n",
       "\t<tr><td>clearness</td><td>hot      </td><td>high     </td><td>true     </td><td>false    </td></tr>\n",
       "\t<tr><td>cloudy   </td><td>hot      </td><td>high     </td><td>false    </td><td>true     </td></tr>\n",
       "\t<tr><td>rainy    </td><td>warm     </td><td>high     </td><td>false    </td><td>true     </td></tr>\n",
       "\t<tr><td>rainy    </td><td>cool     </td><td>normal   </td><td>false    </td><td>true     </td></tr>\n",
       "\t<tr><td>rainy    </td><td>cool     </td><td>normal   </td><td>true     </td><td>false    </td></tr>\n",
       "\t<tr><td>cloudy   </td><td>cool     </td><td>normal   </td><td>true     </td><td>true     </td></tr>\n",
       "\t<tr><td>clearness</td><td>warm     </td><td>high     </td><td>false    </td><td>false    </td></tr>\n",
       "\t<tr><td>clearness</td><td>cool     </td><td>normal   </td><td>false    </td><td>true     </td></tr>\n",
       "\t<tr><td>rainy    </td><td>warm     </td><td>normal   </td><td>false    </td><td>true     </td></tr>\n",
       "\t<tr><td>clearness</td><td>warm     </td><td>normal   </td><td>true     </td><td>true     </td></tr>\n",
       "\t<tr><td>cloudy   </td><td>warm     </td><td>high     </td><td>true     </td><td>true     </td></tr>\n",
       "\t<tr><td>cloudy   </td><td>hot      </td><td>normal   </td><td>false    </td><td>true     </td></tr>\n",
       "\t<tr><td>rainy    </td><td>warm     </td><td>high     </td><td>true     </td><td>false    </td></tr>\n",
       "</tbody>\n",
       "</table>\n"
      ],
      "text/latex": [
       "\\begin{tabular}{r|lllll}\n",
       " outlook & temp & humidity & windy & play\\\\\n",
       "\\hline\n",
       "\t clearness & hot       & high      & false     & false    \\\\\n",
       "\t clearness & hot       & high      & true      & false    \\\\\n",
       "\t cloudy    & hot       & high      & false     & true     \\\\\n",
       "\t rainy     & warm      & high      & false     & true     \\\\\n",
       "\t rainy     & cool      & normal    & false     & true     \\\\\n",
       "\t rainy     & cool      & normal    & true      & false    \\\\\n",
       "\t cloudy    & cool      & normal    & true      & true     \\\\\n",
       "\t clearness & warm      & high      & false     & false    \\\\\n",
       "\t clearness & cool      & normal    & false     & true     \\\\\n",
       "\t rainy     & warm      & normal    & false     & true     \\\\\n",
       "\t clearness & warm      & normal    & true      & true     \\\\\n",
       "\t cloudy    & warm      & high      & true      & true     \\\\\n",
       "\t cloudy    & hot       & normal    & false     & true     \\\\\n",
       "\t rainy     & warm      & high      & true      & false    \\\\\n",
       "\\end{tabular}\n"
      ],
      "text/markdown": [
       "\n",
       "| outlook | temp | humidity | windy | play |\n",
       "|---|---|---|---|---|\n",
       "| clearness | hot       | high      | false     | false     |\n",
       "| clearness | hot       | high      | true      | false     |\n",
       "| cloudy    | hot       | high      | false     | true      |\n",
       "| rainy     | warm      | high      | false     | true      |\n",
       "| rainy     | cool      | normal    | false     | true      |\n",
       "| rainy     | cool      | normal    | true      | false     |\n",
       "| cloudy    | cool      | normal    | true      | true      |\n",
       "| clearness | warm      | high      | false     | false     |\n",
       "| clearness | cool      | normal    | false     | true      |\n",
       "| rainy     | warm      | normal    | false     | true      |\n",
       "| clearness | warm      | normal    | true      | true      |\n",
       "| cloudy    | warm      | high      | true      | true      |\n",
       "| cloudy    | hot       | normal    | false     | true      |\n",
       "| rainy     | warm      | high      | true      | false     |\n",
       "\n"
      ],
      "text/plain": [
       "   outlook   temp humidity windy play \n",
       "1  clearness hot  high     false false\n",
       "2  clearness hot  high     true  false\n",
       "3  cloudy    hot  high     false true \n",
       "4  rainy     warm high     false true \n",
       "5  rainy     cool normal   false true \n",
       "6  rainy     cool normal   true  false\n",
       "7  cloudy    cool normal   true  true \n",
       "8  clearness warm high     false false\n",
       "9  clearness cool normal   false true \n",
       "10 rainy     warm normal   false true \n",
       "11 clearness warm normal   true  true \n",
       "12 cloudy    warm high     true  true \n",
       "13 cloudy    hot  normal   false true \n",
       "14 rainy     warm high     true  false"
      ]
     },
     "metadata": {},
     "output_type": "display_data"
    }
   ],
   "source": [
    "p6.4<-read.csv(\"C:/Rdata/p6.4.csv\")\n",
    "p6.4\n"
   ]
  },
  {
   "cell_type": "code",
   "execution_count": 4,
   "metadata": {},
   "outputs": [
    {
     "name": "stdout",
     "output_type": "stream",
     "text": [
      "'data.frame':\t14 obs. of  5 variables:\n",
      " $ outlook : Factor w/ 3 levels \"clearness\",\"cloudy\",..: 1 1 2 3 3 3 2 1 1 3 ...\n",
      " $ temp    : Factor w/ 3 levels \"cool\",\"hot\",\"warm\": 2 2 2 3 1 1 1 3 1 3 ...\n",
      " $ humidity: Factor w/ 2 levels \"high\",\"normal\": 1 1 1 1 2 2 2 1 2 2 ...\n",
      " $ windy   : Factor w/ 2 levels \"false\",\"true\": 1 2 1 1 1 2 2 1 1 1 ...\n",
      " $ play    : Factor w/ 2 levels \"false\",\"true\": 1 1 2 2 2 1 2 1 2 2 ...\n"
     ]
    }
   ],
   "source": [
    "str(p6.4)"
   ]
  },
  {
   "cell_type": "markdown",
   "metadata": {},
   "source": [
    "# rpart   ID3分類迴歸樹"
   ]
  },
  {
   "cell_type": "code",
   "execution_count": 11,
   "metadata": {},
   "outputs": [],
   "source": [
    "model <- rpart( play ~ outlook + temp + humidity + windy,  data = p6.4, control = rpart.control(minsplit = 2))"
   ]
  },
  {
   "cell_type": "code",
   "execution_count": 10,
   "metadata": {
    "scrolled": false
   },
   "outputs": [
    {
     "data": {
      "image/png": "[encoded data removed]",
      "text/plain": [
       "plot without title"
      ]
     },
     "metadata": {},
     "output_type": "display_data"
    }
   ],
   "source": [
    "plot(model)\n",
    "text(model)"
   ]
  },
  {
   "cell_type": "code",
   "execution_count": 12,
   "metadata": {},
   "outputs": [],
   "source": [
    "test = data.frame(outlook='clearness', temp='hot', humidity='normal', windy='true')"
   ]
  },
  {
   "cell_type": "code",
   "execution_count": 13,
   "metadata": {},
   "outputs": [],
   "source": [
    "pred <- predict(model, newdata=test, type=\"class\")"
   ]
  },
  {
   "cell_type": "code",
   "execution_count": 14,
   "metadata": {},
   "outputs": [
    {
     "data": {
      "text/html": [
       "<strong>1:</strong> true\n",
       "<details>\n",
       "\t<summary style=display:list-item;cursor:pointer>\n",
       "\t\t<strong>Levels</strong>:\n",
       "\t</summary>\n",
       "\t<ol class=list-inline>\n",
       "\t\t<li>'false'</li>\n",
       "\t\t<li>'true'</li>\n",
       "\t</ol>\n",
       "</details>"
      ],
      "text/latex": [
       "\\textbf{1:} true\n",
       "\\emph{Levels}: \\begin{enumerate*}\n",
       "\\item 'false'\n",
       "\\item 'true'\n",
       "\\end{enumerate*}\n"
      ],
      "text/markdown": [
       "**1:** true\n",
       "**Levels**: 1. 'false'\n",
       "2. 'true'\n",
       "\n",
       "\n"
      ],
      "text/plain": [
       "   1 \n",
       "true \n",
       "Levels: false true"
      ]
     },
     "metadata": {},
     "output_type": "display_data"
    }
   ],
   "source": [
    "pred"
   ]
  },
  {
   "cell_type": "code",
   "execution_count": null,
   "metadata": {},
   "outputs": [],
   "source": []
  },
  {
   "cell_type": "code",
   "execution_count": null,
   "metadata": {},
   "outputs": [],
   "source": []
  },
  {
   "cell_type": "markdown",
   "metadata": {},
   "source": [
    "# rpart  CART分類迴歸樹"
   ]
  },
  {
   "cell_type": "code",
   "execution_count": 23,
   "metadata": {},
   "outputs": [
    {
     "data": {
      "text/plain": [
       "n= 14 \n",
       "\n",
       "node), split, n, loss, yval, (yprob)\n",
       "      * denotes terminal node\n",
       "\n",
       "1) root 14 5 true (0.3571429 0.6428571) *"
      ]
     },
     "metadata": {},
     "output_type": "display_data"
    }
   ],
   "source": [
    "model.cart<-rpart(play ~ outlook + temp + humidity + windy,  data = p6.4, \n",
    "                  method=\"class\", \n",
    "                  parms=list( split=\"gini\" ) ) # 使用CART算法的時候, split = “gini”\n",
    "model.cart"
   ]
  },
  {
   "cell_type": "code",
   "execution_count": 24,
   "metadata": {},
   "outputs": [
    {
     "data": {
      "image/png": "[encoded data removed]",
      "text/plain": [
       "plot without title"
      ]
     },
     "metadata": {},
     "output_type": "display_data"
    }
   ],
   "source": [
    "plot(model)\n",
    "text(model)"
   ]
  },
  {
   "cell_type": "code",
   "execution_count": null,
   "metadata": {},
   "outputs": [],
   "source": []
  },
  {
   "cell_type": "code",
   "execution_count": null,
   "metadata": {},
   "outputs": [],
   "source": []
  },
  {
   "cell_type": "code",
   "execution_count": null,
   "metadata": {},
   "outputs": [],
   "source": []
  },
  {
   "cell_type": "markdown",
   "metadata": {},
   "source": [
    "# Tree"
   ]
  },
  {
   "cell_type": "code",
   "execution_count": 16,
   "metadata": {},
   "outputs": [
    {
     "name": "stdout",
     "output_type": "stream",
     "text": [
      "package 'tree' successfully unpacked and MD5 sums checked\n",
      "\n",
      "The downloaded binary packages are in\n",
      "\tC:\\Users\\Administrator\\AppData\\Local\\Temp\\RtmpusFPbi\\downloaded_packages\n"
     ]
    },
    {
     "name": "stderr",
     "output_type": "stream",
     "text": [
      "Warning message:\n",
      "\"package 'tree' was built under R version 3.6.3\""
     ]
    }
   ],
   "source": [
    "install.packages(\"tree\")\n",
    "library(tree)"
   ]
  },
  {
   "cell_type": "code",
   "execution_count": 17,
   "metadata": {},
   "outputs": [],
   "source": [
    "model <- tree( play ~ outlook + temp + humidity + windy,  data = p6.4)"
   ]
  },
  {
   "cell_type": "code",
   "execution_count": 19,
   "metadata": {},
   "outputs": [
    {
     "data": {
      "text/plain": [
       "node), split, n, deviance, yval, (yprob)\n",
       "      * denotes terminal node\n",
       "\n",
       "1) root 14 18.250 true ( 0.3571 0.6429 )  \n",
       "  2) humidity: high 7  9.561 false ( 0.5714 0.4286 ) *\n",
       "  3) humidity: normal 7  5.742 true ( 0.1429 0.8571 ) *"
      ]
     },
     "metadata": {},
     "output_type": "display_data"
    }
   ],
   "source": [
    "model"
   ]
  },
  {
   "cell_type": "code",
   "execution_count": 18,
   "metadata": {},
   "outputs": [
    {
     "data": {
      "image/png": "[encoded data removed]",
      "text/plain": [
       "plot without title"
      ]
     },
     "metadata": {},
     "output_type": "display_data"
    }
   ],
   "source": [
    "plot(model)\n",
    "text(model)"
   ]
  },
  {
   "cell_type": "markdown",
   "metadata": {},
   "source": [
    "# C5.0"
   ]
  },
  {
   "cell_type": "code",
   "execution_count": 20,
   "metadata": {},
   "outputs": [
    {
     "name": "stdout",
     "output_type": "stream",
     "text": [
      "package 'C50' successfully unpacked and MD5 sums checked\n",
      "\n",
      "The downloaded binary packages are in\n",
      "\tC:\\Users\\Administrator\\AppData\\Local\\Temp\\RtmpusFPbi\\downloaded_packages\n"
     ]
    },
    {
     "name": "stderr",
     "output_type": "stream",
     "text": [
      "Warning message:\n",
      "\"package 'C50' was built under R version 3.6.3\""
     ]
    }
   ],
   "source": [
    "install.packages(\"C50\")\n",
    "library(C50)\n"
   ]
  },
  {
   "cell_type": "code",
   "execution_count": 21,
   "metadata": {},
   "outputs": [],
   "source": [
    "model.c50 <- C5.0( play ~ outlook + temp + humidity + windy,  data = p6.4, rules=F)"
   ]
  },
  {
   "cell_type": "code",
   "execution_count": 22,
   "metadata": {},
   "outputs": [
    {
     "data": {
      "image/png": "[encoded data removed]",
      "text/plain": [
       "plot without title"
      ]
     },
     "metadata": {},
     "output_type": "display_data"
    }
   ],
   "source": [
    "plot( model.c50 )"
   ]
  },
  {
   "cell_type": "code",
   "execution_count": null,
   "metadata": {},
   "outputs": [],
   "source": []
  },
  {
   "cell_type": "code",
   "execution_count": null,
   "metadata": {},
   "outputs": [],
   "source": []
  },
  {
   "cell_type": "code",
   "execution_count": null,
   "metadata": {},
   "outputs": [],
   "source": [
    "p6.13<-read.csv(\"C:/Rdata/p6.13.csv\")\n",
    "p6.13"
   ]
  },
  {
   "cell_type": "code",
   "execution_count": null,
   "metadata": {},
   "outputs": [],
   "source": [
    "str(p6.13)"
   ]
  },
  {
   "cell_type": "code",
   "execution_count": null,
   "metadata": {},
   "outputs": [],
   "source": [
    "model <- rpart( 核可貸款 ~ 年紀 + 工作 + 房子 + 信用,  data = p6.13,  control = rpart.control(minsplit = 2))"
   ]
  },
  {
   "cell_type": "code",
   "execution_count": null,
   "metadata": {},
   "outputs": [],
   "source": [
    "plot(model)\n",
    "text(model)"
   ]
  },
  {
   "cell_type": "code",
   "execution_count": null,
   "metadata": {},
   "outputs": [],
   "source": []
  }
 ],
 "metadata": {
  "kernelspec": {
   "display_name": "R",
   "language": "R",
   "name": "ir"
  },
  "language_info": {
   "codemirror_mode": "r",
   "file_extension": ".r",
   "mimetype": "text/x-r-source",
   "name": "R",
   "pygments_lexer": "r",
   "version": "3.6.1"
  }
 },
 "nbformat": 4,
 "nbformat_minor": 4
}
