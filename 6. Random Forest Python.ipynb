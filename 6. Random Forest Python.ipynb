{
 "cells": [
  {
   "cell_type": "code",
   "execution_count": null,
   "id": "electric-sitting",
   "metadata": {},
   "outputs": [],
   "source": []
  },
  {
   "cell_type": "markdown",
   "id": "federal-armstrong",
   "metadata": {},
   "source": [
    "# 範例一"
   ]
  },
  {
   "cell_type": "code",
   "execution_count": null,
   "id": "enclosed-bonus",
   "metadata": {},
   "outputs": [],
   "source": [
    "import numpy as np\n",
    "import matplotlib.pyplot as plt  # To visualize\n",
    "import pandas as pd  # To read data"
   ]
  },
  {
   "cell_type": "code",
   "execution_count": null,
   "id": "anonymous-accommodation",
   "metadata": {},
   "outputs": [],
   "source": [
    "data = pd.read_csv('c:/Rdata/p6.4.csv')  # load data set\n",
    "data"
   ]
  },
  {
   "cell_type": "code",
   "execution_count": null,
   "id": "scenic-yield",
   "metadata": {},
   "outputs": [],
   "source": [
    "target = data['play']\n",
    "target.columns = ['play']"
   ]
  },
  {
   "cell_type": "code",
   "execution_count": null,
   "id": "collect-sensitivity",
   "metadata": {},
   "outputs": [],
   "source": [
    "features_dataframe = data.loc[:, data.columns != 'play']\n",
    "features_dataframe = pd.get_dummies(features_dataframe) \n",
    "features_dataframe.columns"
   ]
  },
  {
   "cell_type": "code",
   "execution_count": null,
   "id": "satisfied-literature",
   "metadata": {},
   "outputs": [],
   "source": [
    "features_dataframe"
   ]
  },
  {
   "cell_type": "code",
   "execution_count": null,
   "id": "chemical-anaheim",
   "metadata": {},
   "outputs": [],
   "source": [
    "from sklearn import preprocessing\n",
    "from sklearn.ensemble import RandomForestClassifier\n",
    "le = preprocessing.LabelEncoder()\n",
    "le.fit(target.values)\n",
    "\n",
    "k = le.transform(target.values)\n",
    "k"
   ]
  },
  {
   "cell_type": "code",
   "execution_count": null,
   "id": "wicked-custom",
   "metadata": {},
   "outputs": [],
   "source": [
    "classifier = RandomForestClassifier(n_estimators = 10, criterion = 'entropy', random_state = 0)"
   ]
  },
  {
   "cell_type": "code",
   "execution_count": null,
   "id": "impressive-butler",
   "metadata": {},
   "outputs": [],
   "source": [
    "classifier.fit(features_dataframe, k)"
   ]
  },
  {
   "cell_type": "code",
   "execution_count": null,
   "id": "actual-active",
   "metadata": {},
   "outputs": [],
   "source": [
    "y_pred = classifier.predict(features_dataframe)\n",
    "y_pred"
   ]
  },
  {
   "cell_type": "code",
   "execution_count": null,
   "id": "individual-hospital",
   "metadata": {},
   "outputs": [],
   "source": [
    "# Making a confusion matrix\n",
    "from sklearn.metrics import confusion_matrix\n",
    "cm= confusion_matrix(k, y_pred)\n",
    "cm"
   ]
  },
  {
   "cell_type": "code",
   "execution_count": null,
   "id": "limited-aurora",
   "metadata": {},
   "outputs": [],
   "source": [
    "# Accuracy result\n",
    "from sklearn.metrics import accuracy_score\n",
    "ac= accuracy_score(k, y_pred)\n",
    "ac"
   ]
  },
  {
   "cell_type": "code",
   "execution_count": null,
   "id": "suited-velvet",
   "metadata": {},
   "outputs": [],
   "source": []
  },
  {
   "cell_type": "markdown",
   "id": "integral-ladder",
   "metadata": {},
   "source": [
    "# 範例二"
   ]
  },
  {
   "cell_type": "code",
   "execution_count": null,
   "id": "southeast-contribution",
   "metadata": {},
   "outputs": [],
   "source": [
    "import numpy as np                 \n",
    "import pandas as pd                \n",
    "import matplotlib.pyplot as plt        "
   ]
  },
  {
   "cell_type": "code",
   "execution_count": null,
   "id": "excessive-productivity",
   "metadata": {},
   "outputs": [],
   "source": [
    "dataset = pd.read_csv('C:/Rdata/Random forest.csv')\n",
    "X = dataset.iloc[:,[2, 3]].values    # predictor attribute\n",
    "y = dataset.iloc[:,-1].values        # target attribute\n"
   ]
  },
  {
   "cell_type": "code",
   "execution_count": null,
   "id": "ecological-flight",
   "metadata": {},
   "outputs": [],
   "source": []
  },
  {
   "cell_type": "code",
   "execution_count": null,
   "id": "artificial-sugar",
   "metadata": {},
   "outputs": [],
   "source": [
    "\n",
    "# split the dataset into test set and train set\n",
    "from sklearn.model_selection import train_test_split\n",
    "X_train, X_test, y_train, y_test =train_test_split(X,y, test_size=0.2, random_state=0)"
   ]
  },
  {
   "cell_type": "code",
   "execution_count": null,
   "id": "assigned-punishment",
   "metadata": {},
   "outputs": [],
   "source": [
    "# feature scaling\n",
    "from sklearn.preprocessing import StandardScaler\n",
    "sc = StandardScaler()\n",
    "X_train = sc.fit_transform(X_train)\n",
    "X_test  = sc.fit_transform(X_test)"
   ]
  },
  {
   "cell_type": "code",
   "execution_count": null,
   "id": "voluntary-search",
   "metadata": {},
   "outputs": [],
   "source": []
  },
  {
   "cell_type": "code",
   "execution_count": null,
   "id": "turkish-institute",
   "metadata": {},
   "outputs": [],
   "source": [
    "\n",
    "# import random forest classifier model from scikit learn\n",
    "from sklearn.ensemble import RandomForestClassifier"
   ]
  },
  {
   "cell_type": "code",
   "execution_count": null,
   "id": "jewish-quick",
   "metadata": {},
   "outputs": [],
   "source": [
    "\n",
    "# initialize the model\n",
    "classifier = RandomForestClassifier(n_estimators = 10, criterion = 'entropy', random_state = 0)"
   ]
  },
  {
   "cell_type": "code",
   "execution_count": null,
   "id": "ordinary-convention",
   "metadata": {},
   "outputs": [],
   "source": [
    "# fit the train data into our model\n",
    "classifier.fit(X_train,y_train)"
   ]
  },
  {
   "cell_type": "code",
   "execution_count": null,
   "id": "banned-apartment",
   "metadata": {},
   "outputs": [],
   "source": []
  },
  {
   "cell_type": "code",
   "execution_count": null,
   "id": "suburban-makeup",
   "metadata": {},
   "outputs": [],
   "source": [
    "# Making a prediction\n",
    "y_pred = classifier.predict(X_test)\n",
    "y_pred"
   ]
  },
  {
   "cell_type": "code",
   "execution_count": null,
   "id": "legal-economy",
   "metadata": {},
   "outputs": [],
   "source": [
    "# Making a confusion matrix\n",
    "from sklearn.metrics import confusion_matrix\n",
    "cm= confusion_matrix(y_test, y_pred)\n",
    "cm"
   ]
  },
  {
   "cell_type": "code",
   "execution_count": null,
   "id": "minus-porter",
   "metadata": {},
   "outputs": [],
   "source": [
    "# Accuracy result\n",
    "from sklearn.metrics import accuracy_score\n",
    "ac= accuracy_score(y_test, y_pred)\n",
    "ac"
   ]
  },
  {
   "cell_type": "code",
   "execution_count": null,
   "id": "checked-flexibility",
   "metadata": {},
   "outputs": [],
   "source": []
  }
 ],
 "metadata": {
  "kernelspec": {
   "display_name": "Python 3",
   "language": "python",
   "name": "python3"
  },
  "language_info": {
   "codemirror_mode": {
    "name": "ipython",
    "version": 3
   },
   "file_extension": ".py",
   "mimetype": "text/x-python",
   "name": "python",
   "nbconvert_exporter": "python",
   "pygments_lexer": "ipython3",
   "version": "3.8.8"
  }
 },
 "nbformat": 4,
 "nbformat_minor": 5
}
