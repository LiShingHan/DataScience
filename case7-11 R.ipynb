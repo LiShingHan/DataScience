{
 "cells": [
  {
   "cell_type": "code",
   "execution_count": 38,
   "metadata": {},
   "outputs": [],
   "source": [
    "library(dplyr)"
   ]
  },
  {
   "cell_type": "code",
   "execution_count": 39,
   "metadata": {},
   "outputs": [
    {
     "data": {
      "text/html": [
       "<table>\n",
       "<thead><tr><th scope=col>Hours</th><th scope=col>Pass</th></tr></thead>\n",
       "<tbody>\n",
       "\t<tr><td>4.0</td><td>1  </td></tr>\n",
       "\t<tr><td>3.7</td><td>1  </td></tr>\n",
       "\t<tr><td>2.0</td><td>0  </td></tr>\n",
       "\t<tr><td>3.0</td><td>0  </td></tr>\n",
       "\t<tr><td>1.0</td><td>0  </td></tr>\n",
       "\t<tr><td>1.0</td><td>0  </td></tr>\n",
       "\t<tr><td>3.2</td><td>1  </td></tr>\n",
       "\t<tr><td>3.8</td><td>1  </td></tr>\n",
       "\t<tr><td>4.0</td><td>1  </td></tr>\n",
       "\t<tr><td>3.9</td><td>1  </td></tr>\n",
       "\t<tr><td>1.0</td><td>0  </td></tr>\n",
       "\t<tr><td>2.9</td><td>1  </td></tr>\n",
       "\t<tr><td>2.9</td><td>1  </td></tr>\n",
       "\t<tr><td>2.0</td><td>0  </td></tr>\n",
       "\t<tr><td>3.2</td><td>1  </td></tr>\n",
       "\t<tr><td>3.3</td><td>1  </td></tr>\n",
       "\t<tr><td>3.0</td><td>0  </td></tr>\n",
       "\t<tr><td>3.0</td><td>0  </td></tr>\n",
       "\t<tr><td>2.8</td><td>1  </td></tr>\n",
       "\t<tr><td>0.0</td><td>0  </td></tr>\n",
       "\t<tr><td>0.5</td><td>0  </td></tr>\n",
       "\t<tr><td>0.8</td><td>0  </td></tr>\n",
       "\t<tr><td>0.9</td><td>0  </td></tr>\n",
       "\t<tr><td>1.2</td><td>0  </td></tr>\n",
       "\t<tr><td>1.5</td><td>0  </td></tr>\n",
       "\t<tr><td>2.5</td><td>0  </td></tr>\n",
       "\t<tr><td>2.7</td><td>0  </td></tr>\n",
       "\t<tr><td>2.4</td><td>0  </td></tr>\n",
       "\t<tr><td>2.1</td><td>0  </td></tr>\n",
       "\t<tr><td>3.5</td><td>1  </td></tr>\n",
       "\t<tr><td>3.6</td><td>1  </td></tr>\n",
       "\t<tr><td>3.1</td><td>1  </td></tr>\n",
       "\t<tr><td>1.7</td><td>0  </td></tr>\n",
       "\t<tr><td>2.3</td><td>0  </td></tr>\n",
       "\t<tr><td>0.1</td><td>0  </td></tr>\n",
       "\t<tr><td>3.2</td><td>1  </td></tr>\n",
       "\t<tr><td>3.3</td><td>1  </td></tr>\n",
       "</tbody>\n",
       "</table>\n"
      ],
      "text/latex": [
       "\\begin{tabular}{r|ll}\n",
       " Hours & Pass\\\\\n",
       "\\hline\n",
       "\t 4.0 & 1  \\\\\n",
       "\t 3.7 & 1  \\\\\n",
       "\t 2.0 & 0  \\\\\n",
       "\t 3.0 & 0  \\\\\n",
       "\t 1.0 & 0  \\\\\n",
       "\t 1.0 & 0  \\\\\n",
       "\t 3.2 & 1  \\\\\n",
       "\t 3.8 & 1  \\\\\n",
       "\t 4.0 & 1  \\\\\n",
       "\t 3.9 & 1  \\\\\n",
       "\t 1.0 & 0  \\\\\n",
       "\t 2.9 & 1  \\\\\n",
       "\t 2.9 & 1  \\\\\n",
       "\t 2.0 & 0  \\\\\n",
       "\t 3.2 & 1  \\\\\n",
       "\t 3.3 & 1  \\\\\n",
       "\t 3.0 & 0  \\\\\n",
       "\t 3.0 & 0  \\\\\n",
       "\t 2.8 & 1  \\\\\n",
       "\t 0.0 & 0  \\\\\n",
       "\t 0.5 & 0  \\\\\n",
       "\t 0.8 & 0  \\\\\n",
       "\t 0.9 & 0  \\\\\n",
       "\t 1.2 & 0  \\\\\n",
       "\t 1.5 & 0  \\\\\n",
       "\t 2.5 & 0  \\\\\n",
       "\t 2.7 & 0  \\\\\n",
       "\t 2.4 & 0  \\\\\n",
       "\t 2.1 & 0  \\\\\n",
       "\t 3.5 & 1  \\\\\n",
       "\t 3.6 & 1  \\\\\n",
       "\t 3.1 & 1  \\\\\n",
       "\t 1.7 & 0  \\\\\n",
       "\t 2.3 & 0  \\\\\n",
       "\t 0.1 & 0  \\\\\n",
       "\t 3.2 & 1  \\\\\n",
       "\t 3.3 & 1  \\\\\n",
       "\\end{tabular}\n"
      ],
      "text/markdown": [
       "\n",
       "| Hours | Pass |\n",
       "|---|---|\n",
       "| 4.0 | 1   |\n",
       "| 3.7 | 1   |\n",
       "| 2.0 | 0   |\n",
       "| 3.0 | 0   |\n",
       "| 1.0 | 0   |\n",
       "| 1.0 | 0   |\n",
       "| 3.2 | 1   |\n",
       "| 3.8 | 1   |\n",
       "| 4.0 | 1   |\n",
       "| 3.9 | 1   |\n",
       "| 1.0 | 0   |\n",
       "| 2.9 | 1   |\n",
       "| 2.9 | 1   |\n",
       "| 2.0 | 0   |\n",
       "| 3.2 | 1   |\n",
       "| 3.3 | 1   |\n",
       "| 3.0 | 0   |\n",
       "| 3.0 | 0   |\n",
       "| 2.8 | 1   |\n",
       "| 0.0 | 0   |\n",
       "| 0.5 | 0   |\n",
       "| 0.8 | 0   |\n",
       "| 0.9 | 0   |\n",
       "| 1.2 | 0   |\n",
       "| 1.5 | 0   |\n",
       "| 2.5 | 0   |\n",
       "| 2.7 | 0   |\n",
       "| 2.4 | 0   |\n",
       "| 2.1 | 0   |\n",
       "| 3.5 | 1   |\n",
       "| 3.6 | 1   |\n",
       "| 3.1 | 1   |\n",
       "| 1.7 | 0   |\n",
       "| 2.3 | 0   |\n",
       "| 0.1 | 0   |\n",
       "| 3.2 | 1   |\n",
       "| 3.3 | 1   |\n",
       "\n"
      ],
      "text/plain": [
       "   Hours Pass\n",
       "1  4.0   1   \n",
       "2  3.7   1   \n",
       "3  2.0   0   \n",
       "4  3.0   0   \n",
       "5  1.0   0   \n",
       "6  1.0   0   \n",
       "7  3.2   1   \n",
       "8  3.8   1   \n",
       "9  4.0   1   \n",
       "10 3.9   1   \n",
       "11 1.0   0   \n",
       "12 2.9   1   \n",
       "13 2.9   1   \n",
       "14 2.0   0   \n",
       "15 3.2   1   \n",
       "16 3.3   1   \n",
       "17 3.0   0   \n",
       "18 3.0   0   \n",
       "19 2.8   1   \n",
       "20 0.0   0   \n",
       "21 0.5   0   \n",
       "22 0.8   0   \n",
       "23 0.9   0   \n",
       "24 1.2   0   \n",
       "25 1.5   0   \n",
       "26 2.5   0   \n",
       "27 2.7   0   \n",
       "28 2.4   0   \n",
       "29 2.1   0   \n",
       "30 3.5   1   \n",
       "31 3.6   1   \n",
       "32 3.1   1   \n",
       "33 1.7   0   \n",
       "34 2.3   0   \n",
       "35 0.1   0   \n",
       "36 3.2   1   \n",
       "37 3.3   1   "
      ]
     },
     "metadata": {},
     "output_type": "display_data"
    }
   ],
   "source": [
    "case711 <- read.csv(\"c:/Rdata/p7.11.csv\")\n",
    "case711"
   ]
  },
  {
   "cell_type": "code",
   "execution_count": 40,
   "metadata": {},
   "outputs": [],
   "source": [
    "glm.out <- glm(Pass ~ Hours,\n",
    "               data = case711,\n",
    "               family = binomial)                   # 建立模型"
   ]
  },
  {
   "cell_type": "code",
   "execution_count": 41,
   "metadata": {},
   "outputs": [
    {
     "data": {
      "text/plain": [
       "\n",
       "Call:\n",
       "glm(formula = Pass ~ Hours, family = binomial, data = case711)\n",
       "\n",
       "Deviance Residuals: \n",
       "     Min        1Q    Median        3Q       Max  \n",
       "-1.49560  -0.05266  -0.00022   0.15824   1.50244  \n",
       "\n",
       "Coefficients:\n",
       "            Estimate Std. Error z value Pr(>|z|)  \n",
       "(Intercept)  -21.186     10.079  -2.102   0.0356 *\n",
       "Hours          7.303      3.393   2.152   0.0314 *\n",
       "---\n",
       "Signif. codes:  0 '***' 0.001 '**' 0.01 '*' 0.05 '.' 0.1 ' ' 1\n",
       "\n",
       "(Dispersion parameter for binomial family taken to be 1)\n",
       "\n",
       "    Null deviance: 50.615  on 36  degrees of freedom\n",
       "Residual deviance: 13.682  on 35  degrees of freedom\n",
       "AIC: 17.682\n",
       "\n",
       "Number of Fisher Scoring iterations: 8\n"
      ]
     },
     "metadata": {},
     "output_type": "display_data"
    }
   ],
   "source": [
    "summary(glm.out)"
   ]
  },
  {
   "cell_type": "code",
   "execution_count": 42,
   "metadata": {},
   "outputs": [],
   "source": [
    "lr_data <- data.frame(predictor=glm.out$linear.predictors, prob=glm.out$fitted.values, Pass=case711$Pass)"
   ]
  },
  {
   "cell_type": "code",
   "execution_count": 43,
   "metadata": {},
   "outputs": [],
   "source": [
    "require(ggplot2)"
   ]
  },
  {
   "cell_type": "code",
   "execution_count": 44,
   "metadata": {},
   "outputs": [
    {
     "data": {
      "image/png": "[encoded data removed]",
      "text/plain": [
       "plot without title"
      ]
     },
     "metadata": {},
     "output_type": "display_data"
    }
   ],
   "source": [
    "ggplot(lr_data, aes(x=predictor, y=prob, color=Pass)) + geom_point()"
   ]
  },
  {
   "cell_type": "code",
   "execution_count": null,
   "metadata": {},
   "outputs": [],
   "source": []
  },
  {
   "cell_type": "code",
   "execution_count": null,
   "metadata": {},
   "outputs": [],
   "source": []
  }
 ],
 "metadata": {
  "kernelspec": {
   "display_name": "R",
   "language": "R",
   "name": "ir"
  },
  "language_info": {
   "codemirror_mode": "r",
   "file_extension": ".r",
   "mimetype": "text/x-r-source",
   "name": "R",
   "pygments_lexer": "r",
   "version": "3.6.1"
  }
 },
 "nbformat": 4,
 "nbformat_minor": 4
}
