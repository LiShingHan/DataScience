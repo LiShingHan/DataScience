{
 "cells": [
  {
   "cell_type": "markdown",
   "id": "southwest-patio",
   "metadata": {},
   "source": [
    "# Naive Bayes Classifier"
   ]
  },
  {
   "cell_type": "markdown",
   "id": "closing-hungary",
   "metadata": {},
   "source": [
    "## https://heartbeat.fritz.ai/naive-bayes-classifier-in-python-using-scikit-learn-13c4deb83bcf"
   ]
  },
  {
   "cell_type": "code",
   "execution_count": null,
   "id": "sophisticated-broadway",
   "metadata": {},
   "outputs": [],
   "source": [
    "import numpy as np\n",
    "import pandas as pd  \n",
    "import matplotlib.pyplot as plt\n",
    "\n",
    "\n",
    "from sklearn.naive_bayes import GaussianNB\n",
    "from sklearn.metrics import accuracy_score\n",
    "from sklearn.model_selection import train_test_split\n"
   ]
  },
  {
   "cell_type": "markdown",
   "id": "tracked-computer",
   "metadata": {},
   "source": [
    "### Load the Data"
   ]
  },
  {
   "cell_type": "code",
   "execution_count": null,
   "id": "forced-bailey",
   "metadata": {},
   "outputs": [],
   "source": [
    "data = pd.read_csv('c:/Rdata/p6.4.csv', encoding='big5')  # load data set\n",
    "data"
   ]
  },
  {
   "cell_type": "markdown",
   "id": "looking-engineer",
   "metadata": {},
   "source": [
    "### Data pre-processing"
   ]
  },
  {
   "cell_type": "code",
   "execution_count": null,
   "id": "dependent-furniture",
   "metadata": {},
   "outputs": [],
   "source": [
    "# We need to map our string column Outlook to numbers. This is because the naive bayes implementation cannot deal with strings.\n",
    "# Map string vales for Outlook column to numbers\n",
    "d = {'sunny': 1, 'overcast': 2, 'rainy': 3}\n",
    "data.outlook = [d[item] for item in data.outlook.astype(str)]\n",
    "\n",
    "d = {'hot': 1, 'warm': 2, 'cool': 3}\n",
    "data.temp = [d[item] for item in data.temp.astype(str)]\n",
    "\n",
    "d = {'high': 1, 'normal': 2}\n",
    "data.humidity = [d[item] for item in data.humidity.astype(str)]\n"
   ]
  },
  {
   "cell_type": "code",
   "execution_count": null,
   "id": "great-fairy",
   "metadata": {},
   "outputs": [],
   "source": [
    "x = data.drop('play', axis=1)\n",
    "y = data['play']"
   ]
  },
  {
   "cell_type": "markdown",
   "id": "wrong-drink",
   "metadata": {},
   "source": [
    "### Train the model"
   ]
  },
  {
   "cell_type": "code",
   "execution_count": null,
   "id": "elementary-approach",
   "metadata": {},
   "outputs": [],
   "source": [
    "model = GaussianNB()\n",
    "model.fit(x,y)"
   ]
  },
  {
   "cell_type": "markdown",
   "id": "solar-enough",
   "metadata": {},
   "source": [
    "### Prediction"
   ]
  },
  {
   "cell_type": "code",
   "execution_count": null,
   "id": "baking-beaver",
   "metadata": {},
   "outputs": [],
   "source": [
    "y_pred = model.predict(x)\n",
    "y_pred"
   ]
  },
  {
   "cell_type": "markdown",
   "id": "unusual-signal",
   "metadata": {},
   "source": [
    "### Model Evaluation"
   ]
  },
  {
   "cell_type": "code",
   "execution_count": null,
   "id": "proper-banks",
   "metadata": {},
   "outputs": [],
   "source": [
    "accuracy = accuracy_score(y, y_pred) * 100\n",
    "accuracy"
   ]
  },
  {
   "cell_type": "code",
   "execution_count": null,
   "id": "preceding-breakdown",
   "metadata": {},
   "outputs": [],
   "source": []
  },
  {
   "cell_type": "markdown",
   "id": "disturbed-anime",
   "metadata": {},
   "source": [
    "# 分為 訓練集 測試集\n"
   ]
  },
  {
   "cell_type": "code",
   "execution_count": null,
   "id": "conditional-corpus",
   "metadata": {},
   "outputs": [],
   "source": [
    "x_train, x_test, y_train, y_test = train_test_split(x,y, test_size=0.25, random_state=100)\n",
    "model = GaussianNB()\n",
    "model.fit(x_train,y_train)\n",
    "y_pred = model.predict(x_test)\n",
    "y_pred\n",
    "\n",
    "accuracy = accuracy_score(y_test, y_pred) * 100\n",
    "accuracy"
   ]
  },
  {
   "cell_type": "code",
   "execution_count": null,
   "id": "romance-crisis",
   "metadata": {},
   "outputs": [],
   "source": []
  }
 ],
 "metadata": {
  "kernelspec": {
   "display_name": "Python 3",
   "language": "python",
   "name": "python3"
  },
  "language_info": {
   "codemirror_mode": {
    "name": "ipython",
    "version": 3
   },
   "file_extension": ".py",
   "mimetype": "text/x-python",
   "name": "python",
   "nbconvert_exporter": "python",
   "pygments_lexer": "ipython3",
   "version": "3.8.8"
  }
 },
 "nbformat": 4,
 "nbformat_minor": 5
}
