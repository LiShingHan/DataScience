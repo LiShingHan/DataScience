{
 "cells": [
  {
   "cell_type": "code",
   "execution_count": 1,
   "metadata": {},
   "outputs": [
    {
     "name": "stdout",
     "output_type": "stream",
     "text": [
      "package 'randomForest' successfully unpacked and MD5 sums checked\n",
      "\n",
      "The downloaded binary packages are in\n",
      "\tC:\\Users\\Administrator\\AppData\\Local\\Temp\\RtmpmSpCCa\\downloaded_packages\n"
     ]
    },
    {
     "name": "stderr",
     "output_type": "stream",
     "text": [
      "Warning message:\n",
      "\"package 'randomForest' was built under R version 3.6.3\"randomForest 4.6-14\n",
      "Type rfNews() to see new features/changes/bug fixes.\n"
     ]
    }
   ],
   "source": [
    "install.packages(\"randomForest\")\n",
    "library(randomForest)\n"
   ]
  },
  {
   "cell_type": "code",
   "execution_count": null,
   "metadata": {},
   "outputs": [],
   "source": [
    "set.seed(777)"
   ]
  },
  {
   "cell_type": "code",
   "execution_count": 2,
   "metadata": {},
   "outputs": [],
   "source": [
    "test.index=sample(1:nrow(iris),15)   #15筆    測試資料\n",
    "iris.train=iris[-test.index,]        #135筆   訓練資料\n",
    "iris.test=iris[test.index,]"
   ]
  },
  {
   "cell_type": "code",
   "execution_count": 3,
   "metadata": {},
   "outputs": [
    {
     "data": {
      "text/html": [
       "<table>\n",
       "<thead><tr><th></th><th scope=col>Sepal.Length</th><th scope=col>Sepal.Width</th><th scope=col>Petal.Length</th><th scope=col>Petal.Width</th><th scope=col>Species</th></tr></thead>\n",
       "<tbody>\n",
       "\t<tr><th scope=row>149</th><td>6.2       </td><td>3.4       </td><td>5.4       </td><td>2.3       </td><td>virginica </td></tr>\n",
       "\t<tr><th scope=row>114</th><td>5.7       </td><td>2.5       </td><td>5.0       </td><td>2.0       </td><td>virginica </td></tr>\n",
       "\t<tr><th scope=row>100</th><td>5.7       </td><td>2.8       </td><td>4.1       </td><td>1.3       </td><td>versicolor</td></tr>\n",
       "\t<tr><th scope=row>102</th><td>5.8       </td><td>2.7       </td><td>5.1       </td><td>1.9       </td><td>virginica </td></tr>\n",
       "\t<tr><th scope=row>15</th><td>5.8       </td><td>4.0       </td><td>1.2       </td><td>0.2       </td><td>setosa    </td></tr>\n",
       "\t<tr><th scope=row>108</th><td>7.3       </td><td>2.9       </td><td>6.3       </td><td>1.8       </td><td>virginica </td></tr>\n",
       "\t<tr><th scope=row>146</th><td>6.7       </td><td>3.0       </td><td>5.2       </td><td>2.3       </td><td>virginica </td></tr>\n",
       "\t<tr><th scope=row>66</th><td>6.7       </td><td>3.1       </td><td>4.4       </td><td>1.4       </td><td>versicolor</td></tr>\n",
       "\t<tr><th scope=row>60</th><td>5.2       </td><td>2.7       </td><td>3.9       </td><td>1.4       </td><td>versicolor</td></tr>\n",
       "\t<tr><th scope=row>13</th><td>4.8       </td><td>3.0       </td><td>1.4       </td><td>0.1       </td><td>setosa    </td></tr>\n",
       "\t<tr><th scope=row>89</th><td>5.6       </td><td>3.0       </td><td>4.1       </td><td>1.3       </td><td>versicolor</td></tr>\n",
       "\t<tr><th scope=row>47</th><td>5.1       </td><td>3.8       </td><td>1.6       </td><td>0.2       </td><td>setosa    </td></tr>\n",
       "\t<tr><th scope=row>18</th><td>5.1       </td><td>3.5       </td><td>1.4       </td><td>0.3       </td><td>setosa    </td></tr>\n",
       "\t<tr><th scope=row>59</th><td>6.6       </td><td>2.9       </td><td>4.6       </td><td>1.3       </td><td>versicolor</td></tr>\n",
       "\t<tr><th scope=row>127</th><td>6.2       </td><td>2.8       </td><td>4.8       </td><td>1.8       </td><td>virginica </td></tr>\n",
       "</tbody>\n",
       "</table>\n"
      ],
      "text/latex": [
       "\\begin{tabular}{r|lllll}\n",
       "  & Sepal.Length & Sepal.Width & Petal.Length & Petal.Width & Species\\\\\n",
       "\\hline\n",
       "\t149 & 6.2        & 3.4        & 5.4        & 2.3        & virginica \\\\\n",
       "\t114 & 5.7        & 2.5        & 5.0        & 2.0        & virginica \\\\\n",
       "\t100 & 5.7        & 2.8        & 4.1        & 1.3        & versicolor\\\\\n",
       "\t102 & 5.8        & 2.7        & 5.1        & 1.9        & virginica \\\\\n",
       "\t15 & 5.8        & 4.0        & 1.2        & 0.2        & setosa    \\\\\n",
       "\t108 & 7.3        & 2.9        & 6.3        & 1.8        & virginica \\\\\n",
       "\t146 & 6.7        & 3.0        & 5.2        & 2.3        & virginica \\\\\n",
       "\t66 & 6.7        & 3.1        & 4.4        & 1.4        & versicolor\\\\\n",
       "\t60 & 5.2        & 2.7        & 3.9        & 1.4        & versicolor\\\\\n",
       "\t13 & 4.8        & 3.0        & 1.4        & 0.1        & setosa    \\\\\n",
       "\t89 & 5.6        & 3.0        & 4.1        & 1.3        & versicolor\\\\\n",
       "\t47 & 5.1        & 3.8        & 1.6        & 0.2        & setosa    \\\\\n",
       "\t18 & 5.1        & 3.5        & 1.4        & 0.3        & setosa    \\\\\n",
       "\t59 & 6.6        & 2.9        & 4.6        & 1.3        & versicolor\\\\\n",
       "\t127 & 6.2        & 2.8        & 4.8        & 1.8        & virginica \\\\\n",
       "\\end{tabular}\n"
      ],
      "text/markdown": [
       "\n",
       "| <!--/--> | Sepal.Length | Sepal.Width | Petal.Length | Petal.Width | Species |\n",
       "|---|---|---|---|---|---|\n",
       "| 149 | 6.2        | 3.4        | 5.4        | 2.3        | virginica  |\n",
       "| 114 | 5.7        | 2.5        | 5.0        | 2.0        | virginica  |\n",
       "| 100 | 5.7        | 2.8        | 4.1        | 1.3        | versicolor |\n",
       "| 102 | 5.8        | 2.7        | 5.1        | 1.9        | virginica  |\n",
       "| 15 | 5.8        | 4.0        | 1.2        | 0.2        | setosa     |\n",
       "| 108 | 7.3        | 2.9        | 6.3        | 1.8        | virginica  |\n",
       "| 146 | 6.7        | 3.0        | 5.2        | 2.3        | virginica  |\n",
       "| 66 | 6.7        | 3.1        | 4.4        | 1.4        | versicolor |\n",
       "| 60 | 5.2        | 2.7        | 3.9        | 1.4        | versicolor |\n",
       "| 13 | 4.8        | 3.0        | 1.4        | 0.1        | setosa     |\n",
       "| 89 | 5.6        | 3.0        | 4.1        | 1.3        | versicolor |\n",
       "| 47 | 5.1        | 3.8        | 1.6        | 0.2        | setosa     |\n",
       "| 18 | 5.1        | 3.5        | 1.4        | 0.3        | setosa     |\n",
       "| 59 | 6.6        | 2.9        | 4.6        | 1.3        | versicolor |\n",
       "| 127 | 6.2        | 2.8        | 4.8        | 1.8        | virginica  |\n",
       "\n"
      ],
      "text/plain": [
       "    Sepal.Length Sepal.Width Petal.Length Petal.Width Species   \n",
       "149 6.2          3.4         5.4          2.3         virginica \n",
       "114 5.7          2.5         5.0          2.0         virginica \n",
       "100 5.7          2.8         4.1          1.3         versicolor\n",
       "102 5.8          2.7         5.1          1.9         virginica \n",
       "15  5.8          4.0         1.2          0.2         setosa    \n",
       "108 7.3          2.9         6.3          1.8         virginica \n",
       "146 6.7          3.0         5.2          2.3         virginica \n",
       "66  6.7          3.1         4.4          1.4         versicolor\n",
       "60  5.2          2.7         3.9          1.4         versicolor\n",
       "13  4.8          3.0         1.4          0.1         setosa    \n",
       "89  5.6          3.0         4.1          1.3         versicolor\n",
       "47  5.1          3.8         1.6          0.2         setosa    \n",
       "18  5.1          3.5         1.4          0.3         setosa    \n",
       "59  6.6          2.9         4.6          1.3         versicolor\n",
       "127 6.2          2.8         4.8          1.8         virginica "
      ]
     },
     "metadata": {},
     "output_type": "display_data"
    }
   ],
   "source": [
    "iris.test"
   ]
  },
  {
   "cell_type": "code",
   "execution_count": 4,
   "metadata": {},
   "outputs": [],
   "source": [
    "iris.rf=randomForest(Species~., data=iris.train, importane=T, proximity=T)"
   ]
  },
  {
   "cell_type": "code",
   "execution_count": 5,
   "metadata": {},
   "outputs": [
    {
     "data": {
      "text/plain": [
       "\n",
       "Call:\n",
       " randomForest(formula = Species ~ ., data = iris.train, importane = T,      proximity = T) \n",
       "               Type of random forest: classification\n",
       "                     Number of trees: 500\n",
       "No. of variables tried at each split: 2\n",
       "\n",
       "        OOB estimate of  error rate: 5.93%\n",
       "Confusion matrix:\n",
       "           setosa versicolor virginica class.error\n",
       "setosa         46          0         0  0.00000000\n",
       "versicolor      0         42         3  0.06666667\n",
       "virginica       0          5        39  0.11363636"
      ]
     },
     "metadata": {},
     "output_type": "display_data"
    }
   ],
   "source": [
    "iris.rf"
   ]
  },
  {
   "cell_type": "code",
   "execution_count": 6,
   "metadata": {},
   "outputs": [
    {
     "data": {
      "text/html": [
       "<table>\n",
       "<thead><tr><th></th><th scope=col>setosa</th><th scope=col>versicolor</th><th scope=col>virginica</th><th scope=col>class.error</th></tr></thead>\n",
       "<tbody>\n",
       "\t<tr><th scope=row>setosa</th><td>46        </td><td> 0        </td><td> 0        </td><td>0.00000000</td></tr>\n",
       "\t<tr><th scope=row>versicolor</th><td> 0        </td><td>42        </td><td> 3        </td><td>0.06666667</td></tr>\n",
       "\t<tr><th scope=row>virginica</th><td> 0        </td><td> 5        </td><td>39        </td><td>0.11363636</td></tr>\n",
       "</tbody>\n",
       "</table>\n"
      ],
      "text/latex": [
       "\\begin{tabular}{r|llll}\n",
       "  & setosa & versicolor & virginica & class.error\\\\\n",
       "\\hline\n",
       "\tsetosa & 46         &  0         &  0         & 0.00000000\\\\\n",
       "\tversicolor &  0         & 42         &  3         & 0.06666667\\\\\n",
       "\tvirginica &  0         &  5         & 39         & 0.11363636\\\\\n",
       "\\end{tabular}\n"
      ],
      "text/markdown": [
       "\n",
       "| <!--/--> | setosa | versicolor | virginica | class.error |\n",
       "|---|---|---|---|---|\n",
       "| setosa | 46         |  0         |  0         | 0.00000000 |\n",
       "| versicolor |  0         | 42         |  3         | 0.06666667 |\n",
       "| virginica |  0         |  5         | 39         | 0.11363636 |\n",
       "\n"
      ],
      "text/plain": [
       "           setosa versicolor virginica class.error\n",
       "setosa     46      0          0        0.00000000 \n",
       "versicolor  0     42          3        0.06666667 \n",
       "virginica   0      5         39        0.11363636 "
      ]
     },
     "metadata": {},
     "output_type": "display_data"
    }
   ],
   "source": [
    "iris.rf$confusion"
   ]
  },
  {
   "cell_type": "code",
   "execution_count": 7,
   "metadata": {},
   "outputs": [],
   "source": [
    "table.rf = iris.rf$confusion"
   ]
  },
  {
   "cell_type": "code",
   "execution_count": 8,
   "metadata": {},
   "outputs": [
    {
     "data": {
      "text/html": [
       "0.93948598392719"
      ],
      "text/latex": [
       "0.93948598392719"
      ],
      "text/markdown": [
       "0.93948598392719"
      ],
      "text/plain": [
       "[1] 0.939486"
      ]
     },
     "metadata": {},
     "output_type": "display_data"
    }
   ],
   "source": [
    "sum(diag(table.rf)/sum(table.rf))"
   ]
  },
  {
   "cell_type": "code",
   "execution_count": 10,
   "metadata": {},
   "outputs": [],
   "source": [
    "rf.pred=predict(iris.rf,newdata=iris.test)"
   ]
  },
  {
   "cell_type": "code",
   "execution_count": 11,
   "metadata": {},
   "outputs": [
    {
     "data": {
      "text/html": [
       "<dl class=dl-horizontal>\n",
       "\t<dt>149</dt>\n",
       "\t\t<dd>virginica</dd>\n",
       "\t<dt>114</dt>\n",
       "\t\t<dd>virginica</dd>\n",
       "\t<dt>100</dt>\n",
       "\t\t<dd>versicolor</dd>\n",
       "\t<dt>102</dt>\n",
       "\t\t<dd>virginica</dd>\n",
       "\t<dt>15</dt>\n",
       "\t\t<dd>setosa</dd>\n",
       "\t<dt>108</dt>\n",
       "\t\t<dd>virginica</dd>\n",
       "\t<dt>146</dt>\n",
       "\t\t<dd>virginica</dd>\n",
       "\t<dt>66</dt>\n",
       "\t\t<dd>versicolor</dd>\n",
       "\t<dt>60</dt>\n",
       "\t\t<dd>versicolor</dd>\n",
       "\t<dt>13</dt>\n",
       "\t\t<dd>setosa</dd>\n",
       "\t<dt>89</dt>\n",
       "\t\t<dd>versicolor</dd>\n",
       "\t<dt>47</dt>\n",
       "\t\t<dd>setosa</dd>\n",
       "\t<dt>18</dt>\n",
       "\t\t<dd>setosa</dd>\n",
       "\t<dt>59</dt>\n",
       "\t\t<dd>versicolor</dd>\n",
       "\t<dt>127</dt>\n",
       "\t\t<dd>virginica</dd>\n",
       "</dl>\n",
       "\n",
       "<details>\n",
       "\t<summary style=display:list-item;cursor:pointer>\n",
       "\t\t<strong>Levels</strong>:\n",
       "\t</summary>\n",
       "\t<ol class=list-inline>\n",
       "\t\t<li>'setosa'</li>\n",
       "\t\t<li>'versicolor'</li>\n",
       "\t\t<li>'virginica'</li>\n",
       "\t</ol>\n",
       "</details>"
      ],
      "text/latex": [
       "\\begin{description*}\n",
       "\\item[149] virginica\n",
       "\\item[114] virginica\n",
       "\\item[100] versicolor\n",
       "\\item[102] virginica\n",
       "\\item[15] setosa\n",
       "\\item[108] virginica\n",
       "\\item[146] virginica\n",
       "\\item[66] versicolor\n",
       "\\item[60] versicolor\n",
       "\\item[13] setosa\n",
       "\\item[89] versicolor\n",
       "\\item[47] setosa\n",
       "\\item[18] setosa\n",
       "\\item[59] versicolor\n",
       "\\item[127] virginica\n",
       "\\end{description*}\n",
       "\n",
       "\\emph{Levels}: \\begin{enumerate*}\n",
       "\\item 'setosa'\n",
       "\\item 'versicolor'\n",
       "\\item 'virginica'\n",
       "\\end{enumerate*}\n"
      ],
      "text/markdown": [
       "149\n",
       ":   virginica114\n",
       ":   virginica100\n",
       ":   versicolor102\n",
       ":   virginica15\n",
       ":   setosa108\n",
       ":   virginica146\n",
       ":   virginica66\n",
       ":   versicolor60\n",
       ":   versicolor13\n",
       ":   setosa89\n",
       ":   versicolor47\n",
       ":   setosa18\n",
       ":   setosa59\n",
       ":   versicolor127\n",
       ":   virginica\n",
       "\n",
       "\n",
       "**Levels**: 1. 'setosa'\n",
       "2. 'versicolor'\n",
       "3. 'virginica'\n",
       "\n",
       "\n"
      ],
      "text/plain": [
       "       149        114        100        102         15        108        146 \n",
       " virginica  virginica versicolor  virginica     setosa  virginica  virginica \n",
       "        66         60         13         89         47         18         59 \n",
       "versicolor versicolor     setosa versicolor     setosa     setosa versicolor \n",
       "       127 \n",
       " virginica \n",
       "Levels: setosa versicolor virginica"
      ]
     },
     "metadata": {},
     "output_type": "display_data"
    }
   ],
   "source": [
    "rf.pred"
   ]
  },
  {
   "cell_type": "code",
   "execution_count": 12,
   "metadata": {},
   "outputs": [
    {
     "data": {
      "text/plain": [
       "            Predicted\n",
       "Species      setosa versicolor virginica\n",
       "  setosa          4          0         0\n",
       "  versicolor      0          5         0\n",
       "  virginica       0          0         6"
      ]
     },
     "metadata": {},
     "output_type": "display_data"
    }
   ],
   "source": [
    "table.test=table(Species=iris.test$Species,Predicted=rf.pred)\n",
    "table.test\n"
   ]
  },
  {
   "cell_type": "code",
   "execution_count": 13,
   "metadata": {},
   "outputs": [
    {
     "data": {
      "text/html": [
       "1"
      ],
      "text/latex": [
       "1"
      ],
      "text/markdown": [
       "1"
      ],
      "text/plain": [
       "[1] 1"
      ]
     },
     "metadata": {},
     "output_type": "display_data"
    }
   ],
   "source": [
    "sum(diag(table.test)/sum(table.test))"
   ]
  },
  {
   "cell_type": "markdown",
   "metadata": {},
   "source": [
    "# 共同範例"
   ]
  },
  {
   "cell_type": "code",
   "execution_count": 14,
   "metadata": {
    "scrolled": true
   },
   "outputs": [
    {
     "data": {
      "text/html": [
       "<ol class=list-inline>\n",
       "\t<li>112</li>\n",
       "\t<li>11</li>\n",
       "\t<li>52</li>\n",
       "\t<li>95</li>\n",
       "\t<li>147</li>\n",
       "\t<li>114</li>\n",
       "\t<li>46</li>\n",
       "\t<li>119</li>\n",
       "\t<li>136</li>\n",
       "\t<li>16</li>\n",
       "\t<li>18</li>\n",
       "\t<li>21</li>\n",
       "\t<li>84</li>\n",
       "\t<li>63</li>\n",
       "\t<li>28</li>\n",
       "\t<li>113</li>\n",
       "\t<li>10</li>\n",
       "\t<li>57</li>\n",
       "\t<li>13</li>\n",
       "\t<li>98</li>\n",
       "\t<li>47</li>\n",
       "\t<li>107</li>\n",
       "\t<li>123</li>\n",
       "\t<li>7</li>\n",
       "\t<li>85</li>\n",
       "\t<li>108</li>\n",
       "\t<li>82</li>\n",
       "\t<li>68</li>\n",
       "\t<li>87</li>\n",
       "\t<li>70</li>\n",
       "\t<li>39</li>\n",
       "\t<li>72</li>\n",
       "\t<li>6</li>\n",
       "\t<li>101</li>\n",
       "\t<li>40</li>\n",
       "\t<li>53</li>\n",
       "\t<li>80</li>\n",
       "\t<li>4</li>\n",
       "\t<li>26</li>\n",
       "\t<li>17</li>\n",
       "\t<li>110</li>\n",
       "\t<li>60</li>\n",
       "\t<li>50</li>\n",
       "\t<li>102</li>\n",
       "\t<li>1</li>\n",
       "\t<li>104</li>\n",
       "\t<li>141</li>\n",
       "\t<li>124</li>\n",
       "\t<li>15</li>\n",
       "\t<li>137</li>\n",
       "\t<li>148</li>\n",
       "\t<li>83</li>\n",
       "\t<li>145</li>\n",
       "\t<li>149</li>\n",
       "\t<li>20</li>\n",
       "\t<li>146</li>\n",
       "\t<li>88</li>\n",
       "\t<li>38</li>\n",
       "\t<li>43</li>\n",
       "\t<li>56</li>\n",
       "\t<li>121</li>\n",
       "\t<li>58</li>\n",
       "\t<li>77</li>\n",
       "\t<li>2</li>\n",
       "\t<li>69</li>\n",
       "\t<li>44</li>\n",
       "\t<li>23</li>\n",
       "\t<li>133</li>\n",
       "\t<li>30</li>\n",
       "\t<li>126</li>\n",
       "\t<li>122</li>\n",
       "\t<li>129</li>\n",
       "\t<li>150</li>\n",
       "\t<li>32</li>\n",
       "\t<li>127</li>\n",
       "\t<li>8</li>\n",
       "\t<li>118</li>\n",
       "\t<li>106</li>\n",
       "\t<li>100</li>\n",
       "\t<li>3</li>\n",
       "\t<li>5</li>\n",
       "\t<li>67</li>\n",
       "\t<li>41</li>\n",
       "\t<li>34</li>\n",
       "\t<li>66</li>\n",
       "\t<li>64</li>\n",
       "\t<li>27</li>\n",
       "\t<li>36</li>\n",
       "\t<li>97</li>\n",
       "\t<li>131</li>\n",
       "\t<li>19</li>\n",
       "\t<li>103</li>\n",
       "\t<li>142</li>\n",
       "\t<li>31</li>\n",
       "\t<li>115</li>\n",
       "\t<li>33</li>\n",
       "\t<li>79</li>\n",
       "\t<li>59</li>\n",
       "\t<li>24</li>\n",
       "\t<li>143</li>\n",
       "\t<li>92</li>\n",
       "\t<li>25</li>\n",
       "\t<li>138</li>\n",
       "\t<li>134</li>\n",
       "\t<li>93</li>\n",
       "</ol>\n"
      ],
      "text/latex": [
       "\\begin{enumerate*}\n",
       "\\item 112\n",
       "\\item 11\n",
       "\\item 52\n",
       "\\item 95\n",
       "\\item 147\n",
       "\\item 114\n",
       "\\item 46\n",
       "\\item 119\n",
       "\\item 136\n",
       "\\item 16\n",
       "\\item 18\n",
       "\\item 21\n",
       "\\item 84\n",
       "\\item 63\n",
       "\\item 28\n",
       "\\item 113\n",
       "\\item 10\n",
       "\\item 57\n",
       "\\item 13\n",
       "\\item 98\n",
       "\\item 47\n",
       "\\item 107\n",
       "\\item 123\n",
       "\\item 7\n",
       "\\item 85\n",
       "\\item 108\n",
       "\\item 82\n",
       "\\item 68\n",
       "\\item 87\n",
       "\\item 70\n",
       "\\item 39\n",
       "\\item 72\n",
       "\\item 6\n",
       "\\item 101\n",
       "\\item 40\n",
       "\\item 53\n",
       "\\item 80\n",
       "\\item 4\n",
       "\\item 26\n",
       "\\item 17\n",
       "\\item 110\n",
       "\\item 60\n",
       "\\item 50\n",
       "\\item 102\n",
       "\\item 1\n",
       "\\item 104\n",
       "\\item 141\n",
       "\\item 124\n",
       "\\item 15\n",
       "\\item 137\n",
       "\\item 148\n",
       "\\item 83\n",
       "\\item 145\n",
       "\\item 149\n",
       "\\item 20\n",
       "\\item 146\n",
       "\\item 88\n",
       "\\item 38\n",
       "\\item 43\n",
       "\\item 56\n",
       "\\item 121\n",
       "\\item 58\n",
       "\\item 77\n",
       "\\item 2\n",
       "\\item 69\n",
       "\\item 44\n",
       "\\item 23\n",
       "\\item 133\n",
       "\\item 30\n",
       "\\item 126\n",
       "\\item 122\n",
       "\\item 129\n",
       "\\item 150\n",
       "\\item 32\n",
       "\\item 127\n",
       "\\item 8\n",
       "\\item 118\n",
       "\\item 106\n",
       "\\item 100\n",
       "\\item 3\n",
       "\\item 5\n",
       "\\item 67\n",
       "\\item 41\n",
       "\\item 34\n",
       "\\item 66\n",
       "\\item 64\n",
       "\\item 27\n",
       "\\item 36\n",
       "\\item 97\n",
       "\\item 131\n",
       "\\item 19\n",
       "\\item 103\n",
       "\\item 142\n",
       "\\item 31\n",
       "\\item 115\n",
       "\\item 33\n",
       "\\item 79\n",
       "\\item 59\n",
       "\\item 24\n",
       "\\item 143\n",
       "\\item 92\n",
       "\\item 25\n",
       "\\item 138\n",
       "\\item 134\n",
       "\\item 93\n",
       "\\end{enumerate*}\n"
      ],
      "text/markdown": [
       "1. 112\n",
       "2. 11\n",
       "3. 52\n",
       "4. 95\n",
       "5. 147\n",
       "6. 114\n",
       "7. 46\n",
       "8. 119\n",
       "9. 136\n",
       "10. 16\n",
       "11. 18\n",
       "12. 21\n",
       "13. 84\n",
       "14. 63\n",
       "15. 28\n",
       "16. 113\n",
       "17. 10\n",
       "18. 57\n",
       "19. 13\n",
       "20. 98\n",
       "21. 47\n",
       "22. 107\n",
       "23. 123\n",
       "24. 7\n",
       "25. 85\n",
       "26. 108\n",
       "27. 82\n",
       "28. 68\n",
       "29. 87\n",
       "30. 70\n",
       "31. 39\n",
       "32. 72\n",
       "33. 6\n",
       "34. 101\n",
       "35. 40\n",
       "36. 53\n",
       "37. 80\n",
       "38. 4\n",
       "39. 26\n",
       "40. 17\n",
       "41. 110\n",
       "42. 60\n",
       "43. 50\n",
       "44. 102\n",
       "45. 1\n",
       "46. 104\n",
       "47. 141\n",
       "48. 124\n",
       "49. 15\n",
       "50. 137\n",
       "51. 148\n",
       "52. 83\n",
       "53. 145\n",
       "54. 149\n",
       "55. 20\n",
       "56. 146\n",
       "57. 88\n",
       "58. 38\n",
       "59. 43\n",
       "60. 56\n",
       "61. 121\n",
       "62. 58\n",
       "63. 77\n",
       "64. 2\n",
       "65. 69\n",
       "66. 44\n",
       "67. 23\n",
       "68. 133\n",
       "69. 30\n",
       "70. 126\n",
       "71. 122\n",
       "72. 129\n",
       "73. 150\n",
       "74. 32\n",
       "75. 127\n",
       "76. 8\n",
       "77. 118\n",
       "78. 106\n",
       "79. 100\n",
       "80. 3\n",
       "81. 5\n",
       "82. 67\n",
       "83. 41\n",
       "84. 34\n",
       "85. 66\n",
       "86. 64\n",
       "87. 27\n",
       "88. 36\n",
       "89. 97\n",
       "90. 131\n",
       "91. 19\n",
       "92. 103\n",
       "93. 142\n",
       "94. 31\n",
       "95. 115\n",
       "96. 33\n",
       "97. 79\n",
       "98. 59\n",
       "99. 24\n",
       "100. 143\n",
       "101. 92\n",
       "102. 25\n",
       "103. 138\n",
       "104. 134\n",
       "105. 93\n",
       "\n",
       "\n"
      ],
      "text/plain": [
       "  [1] 112  11  52  95 147 114  46 119 136  16  18  21  84  63  28 113  10  57\n",
       " [19]  13  98  47 107 123   7  85 108  82  68  87  70  39  72   6 101  40  53\n",
       " [37]  80   4  26  17 110  60  50 102   1 104 141 124  15 137 148  83 145 149\n",
       " [55]  20 146  88  38  43  56 121  58  77   2  69  44  23 133  30 126 122 129\n",
       " [73] 150  32 127   8 118 106 100   3   5  67  41  34  66  64  27  36  97 131\n",
       " [91]  19 103 142  31 115  33  79  59  24 143  92  25 138 134  93"
      ]
     },
     "metadata": {},
     "output_type": "display_data"
    }
   ],
   "source": [
    "set.seed(50)\n",
    "train=sample(1:150,105)\t\t#訓練集 7成\n",
    "train"
   ]
  },
  {
   "cell_type": "code",
   "execution_count": 18,
   "metadata": {},
   "outputs": [],
   "source": [
    "#svm_model = svm(Species ~ ., data=iris[train,])  #訓練集來訓練模型\n",
    "rf.model=randomForest(Species~., data=iris[train,], importane=T, proximity=T)"
   ]
  },
  {
   "cell_type": "code",
   "execution_count": 19,
   "metadata": {},
   "outputs": [],
   "source": [
    "#pred <- predict(svm_model, iris[-train,])\t\n",
    "\n",
    "rf.pred=predict(rf.model,newdata=iris[-train,])"
   ]
  },
  {
   "cell_type": "code",
   "execution_count": 28,
   "metadata": {},
   "outputs": [
    {
     "data": {
      "text/plain": [
       "            Species\n",
       "Predicted    setosa versicolor virginica\n",
       "  setosa         11          0         0\n",
       "  versicolor      0         18         2\n",
       "  virginica       0          2        12"
      ]
     },
     "metadata": {},
     "output_type": "display_data"
    }
   ],
   "source": [
    "cm <- table(Predicted=rf.pred, Species=iris[-train,]$Species)\n",
    "cm\n"
   ]
  },
  {
   "cell_type": "code",
   "execution_count": 26,
   "metadata": {},
   "outputs": [],
   "source": [
    "RFaccuracy <- sum(diag(cm)) / sum(cm)"
   ]
  },
  {
   "cell_type": "code",
   "execution_count": 27,
   "metadata": {},
   "outputs": [
    {
     "data": {
      "text/html": [
       "0.911111111111111"
      ],
      "text/latex": [
       "0.911111111111111"
      ],
      "text/markdown": [
       "0.911111111111111"
      ],
      "text/plain": [
       "[1] 0.9111111"
      ]
     },
     "metadata": {},
     "output_type": "display_data"
    }
   ],
   "source": [
    "RFaccuracy"
   ]
  },
  {
   "cell_type": "code",
   "execution_count": null,
   "metadata": {},
   "outputs": [],
   "source": []
  }
 ],
 "metadata": {
  "kernelspec": {
   "display_name": "R",
   "language": "R",
   "name": "ir"
  },
  "language_info": {
   "codemirror_mode": "r",
   "file_extension": ".r",
   "mimetype": "text/x-r-source",
   "name": "R",
   "pygments_lexer": "r",
   "version": "3.6.1"
  }
 },
 "nbformat": 4,
 "nbformat_minor": 4
}
