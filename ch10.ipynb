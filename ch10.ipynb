{
 "cells": [
  {
   "cell_type": "code",
   "execution_count": 9,
   "metadata": {},
   "outputs": [
    {
     "name": "stdout",
     "output_type": "stream",
     "text": [
      "package 'arules' successfully unpacked and MD5 sums checked\n",
      "\n",
      "The downloaded binary packages are in\n",
      "\tC:\\Users\\Administrator\\AppData\\Local\\Temp\\Rtmp6JaXFm\\downloaded_packages\n"
     ]
    }
   ],
   "source": [
    "install.packages('arules')"
   ]
  },
  {
   "cell_type": "code",
   "execution_count": 10,
   "metadata": {},
   "outputs": [
    {
     "name": "stderr",
     "output_type": "stream",
     "text": [
      "Warning message:\n",
      "\"package 'arules' was built under R version 3.6.3\"Loading required package: Matrix\n",
      "\n",
      "Attaching package: 'arules'\n",
      "\n",
      "The following objects are masked from 'package:base':\n",
      "\n",
      "    abbreviate, write\n",
      "\n"
     ]
    }
   ],
   "source": [
    "library(arules)"
   ]
  },
  {
   "cell_type": "code",
   "execution_count": null,
   "metadata": {},
   "outputs": [],
   "source": []
  },
  {
   "cell_type": "code",
   "execution_count": 1,
   "metadata": {},
   "outputs": [],
   "source": [
    "trans <- read.csv(\"C:/Rdata/p10.5.csv\")"
   ]
  },
  {
   "cell_type": "code",
   "execution_count": 2,
   "metadata": {},
   "outputs": [
    {
     "data": {
      "text/html": [
       "<table>\n",
       "<thead><tr><th scope=col>牛奶</th><th scope=col>麵包</th><th scope=col>雞蛋</th><th scope=col>奶油</th><th scope=col>番茄醬</th><th scope=col>餅乾</th></tr></thead>\n",
       "<tbody>\n",
       "\t<tr><td>1</td><td>1</td><td>1</td><td>1</td><td>0</td><td>0</td></tr>\n",
       "\t<tr><td>1</td><td>0</td><td>1</td><td>1</td><td>1</td><td>0</td></tr>\n",
       "\t<tr><td>0</td><td>1</td><td>0</td><td>1</td><td>1</td><td>0</td></tr>\n",
       "\t<tr><td>1</td><td>1</td><td>0</td><td>1</td><td>0</td><td>0</td></tr>\n",
       "\t<tr><td>0</td><td>1</td><td>0</td><td>1</td><td>0</td><td>1</td></tr>\n",
       "\t<tr><td>1</td><td>1</td><td>0</td><td>1</td><td>0</td><td>1</td></tr>\n",
       "\t<tr><td>1</td><td>0</td><td>0</td><td>0</td><td>0</td><td>1</td></tr>\n",
       "\t<tr><td>1</td><td>1</td><td>0</td><td>1</td><td>0</td><td>0</td></tr>\n",
       "\t<tr><td>0</td><td>1</td><td>1</td><td>1</td><td>0</td><td>1</td></tr>\n",
       "\t<tr><td>1</td><td>1</td><td>0</td><td>1</td><td>0</td><td>0</td></tr>\n",
       "\t<tr><td>1</td><td>1</td><td>0</td><td>1</td><td>0</td><td>0</td></tr>\n",
       "\t<tr><td>1</td><td>1</td><td>0</td><td>0</td><td>1</td><td>1</td></tr>\n",
       "</tbody>\n",
       "</table>\n"
      ],
      "text/latex": [
       "\\begin{tabular}{r|llllll}\n",
       " 牛奶 & 麵包 & 雞蛋 & 奶油 & 番茄醬 & 餅乾\\\\\n",
       "\\hline\n",
       "\t 1 & 1 & 1 & 1 & 0 & 0\\\\\n",
       "\t 1 & 0 & 1 & 1 & 1 & 0\\\\\n",
       "\t 0 & 1 & 0 & 1 & 1 & 0\\\\\n",
       "\t 1 & 1 & 0 & 1 & 0 & 0\\\\\n",
       "\t 0 & 1 & 0 & 1 & 0 & 1\\\\\n",
       "\t 1 & 1 & 0 & 1 & 0 & 1\\\\\n",
       "\t 1 & 0 & 0 & 0 & 0 & 1\\\\\n",
       "\t 1 & 1 & 0 & 1 & 0 & 0\\\\\n",
       "\t 0 & 1 & 1 & 1 & 0 & 1\\\\\n",
       "\t 1 & 1 & 0 & 1 & 0 & 0\\\\\n",
       "\t 1 & 1 & 0 & 1 & 0 & 0\\\\\n",
       "\t 1 & 1 & 0 & 0 & 1 & 1\\\\\n",
       "\\end{tabular}\n"
      ],
      "text/markdown": [
       "\n",
       "| 牛奶 | 麵包 | 雞蛋 | 奶油 | 番茄醬 | 餅乾 |\n",
       "|---|---|---|---|---|---|\n",
       "| 1 | 1 | 1 | 1 | 0 | 0 |\n",
       "| 1 | 0 | 1 | 1 | 1 | 0 |\n",
       "| 0 | 1 | 0 | 1 | 1 | 0 |\n",
       "| 1 | 1 | 0 | 1 | 0 | 0 |\n",
       "| 0 | 1 | 0 | 1 | 0 | 1 |\n",
       "| 1 | 1 | 0 | 1 | 0 | 1 |\n",
       "| 1 | 0 | 0 | 0 | 0 | 1 |\n",
       "| 1 | 1 | 0 | 1 | 0 | 0 |\n",
       "| 0 | 1 | 1 | 1 | 0 | 1 |\n",
       "| 1 | 1 | 0 | 1 | 0 | 0 |\n",
       "| 1 | 1 | 0 | 1 | 0 | 0 |\n",
       "| 1 | 1 | 0 | 0 | 1 | 1 |\n",
       "\n"
      ],
      "text/plain": [
       "   牛奶 麵包 雞蛋 奶油 番茄醬 餅乾\n",
       "1  1    1    1    1    0      0   \n",
       "2  1    0    1    1    1      0   \n",
       "3  0    1    0    1    1      0   \n",
       "4  1    1    0    1    0      0   \n",
       "5  0    1    0    1    0      1   \n",
       "6  1    1    0    1    0      1   \n",
       "7  1    0    0    0    0      1   \n",
       "8  1    1    0    1    0      0   \n",
       "9  0    1    1    1    0      1   \n",
       "10 1    1    0    1    0      0   \n",
       "11 1    1    0    1    0      0   \n",
       "12 1    1    0    0    1      1   "
      ]
     },
     "metadata": {},
     "output_type": "display_data"
    }
   ],
   "source": [
    "trans"
   ]
  },
  {
   "cell_type": "code",
   "execution_count": 3,
   "metadata": {},
   "outputs": [],
   "source": [
    "trans <- as.matrix(trans)"
   ]
  },
  {
   "cell_type": "code",
   "execution_count": 7,
   "metadata": {},
   "outputs": [
    {
     "data": {
      "text/html": [
       "<table>\n",
       "<thead><tr><th scope=col>牛奶</th><th scope=col>麵包</th><th scope=col>雞蛋</th><th scope=col>奶油</th><th scope=col>番茄醬</th><th scope=col>餅乾</th></tr></thead>\n",
       "<tbody>\n",
       "\t<tr><td>1</td><td>1</td><td>1</td><td>1</td><td>0</td><td>0</td></tr>\n",
       "\t<tr><td>1</td><td>0</td><td>1</td><td>1</td><td>1</td><td>0</td></tr>\n",
       "\t<tr><td>0</td><td>1</td><td>0</td><td>1</td><td>1</td><td>0</td></tr>\n",
       "\t<tr><td>1</td><td>1</td><td>0</td><td>1</td><td>0</td><td>0</td></tr>\n",
       "\t<tr><td>0</td><td>1</td><td>0</td><td>1</td><td>0</td><td>1</td></tr>\n",
       "\t<tr><td>1</td><td>1</td><td>0</td><td>1</td><td>0</td><td>1</td></tr>\n",
       "\t<tr><td>1</td><td>0</td><td>0</td><td>0</td><td>0</td><td>1</td></tr>\n",
       "\t<tr><td>1</td><td>1</td><td>0</td><td>1</td><td>0</td><td>0</td></tr>\n",
       "\t<tr><td>0</td><td>1</td><td>1</td><td>1</td><td>0</td><td>1</td></tr>\n",
       "\t<tr><td>1</td><td>1</td><td>0</td><td>1</td><td>0</td><td>0</td></tr>\n",
       "\t<tr><td>1</td><td>1</td><td>0</td><td>1</td><td>0</td><td>0</td></tr>\n",
       "\t<tr><td>1</td><td>1</td><td>0</td><td>0</td><td>1</td><td>1</td></tr>\n",
       "</tbody>\n",
       "</table>\n"
      ],
      "text/latex": [
       "\\begin{tabular}{llllll}\n",
       " 牛奶 & 麵包 & 雞蛋 & 奶油 & 番茄醬 & 餅乾\\\\\n",
       "\\hline\n",
       "\t 1 & 1 & 1 & 1 & 0 & 0\\\\\n",
       "\t 1 & 0 & 1 & 1 & 1 & 0\\\\\n",
       "\t 0 & 1 & 0 & 1 & 1 & 0\\\\\n",
       "\t 1 & 1 & 0 & 1 & 0 & 0\\\\\n",
       "\t 0 & 1 & 0 & 1 & 0 & 1\\\\\n",
       "\t 1 & 1 & 0 & 1 & 0 & 1\\\\\n",
       "\t 1 & 0 & 0 & 0 & 0 & 1\\\\\n",
       "\t 1 & 1 & 0 & 1 & 0 & 0\\\\\n",
       "\t 0 & 1 & 1 & 1 & 0 & 1\\\\\n",
       "\t 1 & 1 & 0 & 1 & 0 & 0\\\\\n",
       "\t 1 & 1 & 0 & 1 & 0 & 0\\\\\n",
       "\t 1 & 1 & 0 & 0 & 1 & 1\\\\\n",
       "\\end{tabular}\n"
      ],
      "text/markdown": [
       "\n",
       "| 牛奶 | 麵包 | 雞蛋 | 奶油 | 番茄醬 | 餅乾 |\n",
       "|---|---|---|---|---|---|\n",
       "| 1 | 1 | 1 | 1 | 0 | 0 |\n",
       "| 1 | 0 | 1 | 1 | 1 | 0 |\n",
       "| 0 | 1 | 0 | 1 | 1 | 0 |\n",
       "| 1 | 1 | 0 | 1 | 0 | 0 |\n",
       "| 0 | 1 | 0 | 1 | 0 | 1 |\n",
       "| 1 | 1 | 0 | 1 | 0 | 1 |\n",
       "| 1 | 0 | 0 | 0 | 0 | 1 |\n",
       "| 1 | 1 | 0 | 1 | 0 | 0 |\n",
       "| 0 | 1 | 1 | 1 | 0 | 1 |\n",
       "| 1 | 1 | 0 | 1 | 0 | 0 |\n",
       "| 1 | 1 | 0 | 1 | 0 | 0 |\n",
       "| 1 | 1 | 0 | 0 | 1 | 1 |\n",
       "\n"
      ],
      "text/plain": [
       "      牛奶 麵包 雞蛋 奶油 番茄醬 餅乾\n",
       " [1,] 1    1    1    1    0      0   \n",
       " [2,] 1    0    1    1    1      0   \n",
       " [3,] 0    1    0    1    1      0   \n",
       " [4,] 1    1    0    1    0      0   \n",
       " [5,] 0    1    0    1    0      1   \n",
       " [6,] 1    1    0    1    0      1   \n",
       " [7,] 1    0    0    0    0      1   \n",
       " [8,] 1    1    0    1    0      0   \n",
       " [9,] 0    1    1    1    0      1   \n",
       "[10,] 1    1    0    1    0      0   \n",
       "[11,] 1    1    0    1    0      0   \n",
       "[12,] 1    1    0    0    1      1   "
      ]
     },
     "metadata": {},
     "output_type": "display_data"
    }
   ],
   "source": [
    "trans"
   ]
  },
  {
   "cell_type": "code",
   "execution_count": 11,
   "metadata": {},
   "outputs": [
    {
     "name": "stdout",
     "output_type": "stream",
     "text": [
      "Apriori\n",
      "\n",
      "Parameter specification:\n",
      " confidence minval smax arem  aval originalSupport maxtime support minlen\n",
      "        0.6    0.1    1 none FALSE            TRUE       5     0.5      1\n",
      " maxlen target  ext\n",
      "      5  rules TRUE\n",
      "\n",
      "Algorithmic control:\n",
      " filter tree heap memopt load sort verbose\n",
      "    0.1 TRUE TRUE  FALSE TRUE    2    TRUE\n",
      "\n",
      "Absolute minimum support count: 6 \n",
      "\n",
      "set item appearances ...[0 item(s)] done [0.00s].\n",
      "set transactions ...[6 item(s), 12 transaction(s)] done [0.00s].\n",
      "sorting and recoding items ... [3 item(s)] done [0.00s].\n",
      "creating transaction tree ... done [0.00s].\n",
      "checking subsets of size 1 2 3 done [0.00s].\n",
      "writing ... [12 rule(s)] done [0.00s].\n",
      "creating S4 object  ... done [0.00s].\n"
     ]
    }
   ],
   "source": [
    "rule=apriori(trans,parameter=list(supp=0.5,conf=0.6,maxlen=5))"
   ]
  },
  {
   "cell_type": "code",
   "execution_count": 12,
   "metadata": {},
   "outputs": [
    {
     "name": "stdout",
     "output_type": "stream",
     "text": [
      "     lhs            rhs    support   confidence coverage  lift      count\n",
      "[1]  {}          => {牛奶} 0.7500000 0.7500000  1.0000000 1.0000000  9   \n",
      "[2]  {}          => {麵包} 0.8333333 0.8333333  1.0000000 1.0000000 10   \n",
      "[3]  {}          => {奶油} 0.8333333 0.8333333  1.0000000 1.0000000 10   \n",
      "[4]  {牛奶}      => {麵包} 0.5833333 0.7777778  0.7500000 0.9333333  7   \n",
      "[5]  {麵包}      => {牛奶} 0.5833333 0.7000000  0.8333333 0.9333333  7   \n",
      "[6]  {牛奶}      => {奶油} 0.5833333 0.7777778  0.7500000 0.9333333  7   \n",
      "[7]  {奶油}      => {牛奶} 0.5833333 0.7000000  0.8333333 0.9333333  7   \n",
      "[8]  {麵包}      => {奶油} 0.7500000 0.9000000  0.8333333 1.0800000  9   \n",
      "[9]  {奶油}      => {麵包} 0.7500000 0.9000000  0.8333333 1.0800000  9   \n",
      "[10] {牛奶,麵包} => {奶油} 0.5000000 0.8571429  0.5833333 1.0285714  6   \n",
      "[11] {牛奶,奶油} => {麵包} 0.5000000 0.8571429  0.5833333 1.0285714  6   \n",
      "[12] {麵包,奶油} => {牛奶} 0.5000000 0.6666667  0.7500000 0.8888889  6   \n"
     ]
    }
   ],
   "source": [
    "inspect(rule)"
   ]
  },
  {
   "cell_type": "code",
   "execution_count": null,
   "metadata": {},
   "outputs": [],
   "source": []
  },
  {
   "cell_type": "markdown",
   "metadata": {},
   "source": [
    "# 案例：啤酒和尿片"
   ]
  },
  {
   "cell_type": "code",
   "execution_count": 13,
   "metadata": {},
   "outputs": [],
   "source": [
    "beer <- read.csv(\"C:/Rdata/beer.csv\")"
   ]
  },
  {
   "cell_type": "code",
   "execution_count": 14,
   "metadata": {},
   "outputs": [
    {
     "data": {
      "text/html": [
       "<table>\n",
       "<thead><tr><th scope=col>Bread</th><th scope=col>Milk</th><th scope=col>Diaper</th><th scope=col>Beer</th><th scope=col>Coke</th><th scope=col>Eggs</th></tr></thead>\n",
       "<tbody>\n",
       "\t<tr><td>1</td><td>1</td><td>0</td><td>0</td><td>0</td><td>0</td></tr>\n",
       "\t<tr><td>1</td><td>0</td><td>1</td><td>1</td><td>0</td><td>1</td></tr>\n",
       "\t<tr><td>0</td><td>1</td><td>1</td><td>1</td><td>1</td><td>0</td></tr>\n",
       "\t<tr><td>1</td><td>1</td><td>1</td><td>1</td><td>0</td><td>0</td></tr>\n",
       "\t<tr><td>1</td><td>1</td><td>1</td><td>0</td><td>1</td><td>0</td></tr>\n",
       "</tbody>\n",
       "</table>\n"
      ],
      "text/latex": [
       "\\begin{tabular}{r|llllll}\n",
       " Bread & Milk & Diaper & Beer & Coke & Eggs\\\\\n",
       "\\hline\n",
       "\t 1 & 1 & 0 & 0 & 0 & 0\\\\\n",
       "\t 1 & 0 & 1 & 1 & 0 & 1\\\\\n",
       "\t 0 & 1 & 1 & 1 & 1 & 0\\\\\n",
       "\t 1 & 1 & 1 & 1 & 0 & 0\\\\\n",
       "\t 1 & 1 & 1 & 0 & 1 & 0\\\\\n",
       "\\end{tabular}\n"
      ],
      "text/markdown": [
       "\n",
       "| Bread | Milk | Diaper | Beer | Coke | Eggs |\n",
       "|---|---|---|---|---|---|\n",
       "| 1 | 1 | 0 | 0 | 0 | 0 |\n",
       "| 1 | 0 | 1 | 1 | 0 | 1 |\n",
       "| 0 | 1 | 1 | 1 | 1 | 0 |\n",
       "| 1 | 1 | 1 | 1 | 0 | 0 |\n",
       "| 1 | 1 | 1 | 0 | 1 | 0 |\n",
       "\n"
      ],
      "text/plain": [
       "  Bread Milk Diaper Beer Coke Eggs\n",
       "1 1     1    0      0    0    0   \n",
       "2 1     0    1      1    0    1   \n",
       "3 0     1    1      1    1    0   \n",
       "4 1     1    1      1    0    0   \n",
       "5 1     1    1      0    1    0   "
      ]
     },
     "metadata": {},
     "output_type": "display_data"
    }
   ],
   "source": [
    "beer"
   ]
  },
  {
   "cell_type": "code",
   "execution_count": 15,
   "metadata": {},
   "outputs": [],
   "source": [
    "beer = as.matrix(beer)"
   ]
  },
  {
   "cell_type": "code",
   "execution_count": 16,
   "metadata": {},
   "outputs": [
    {
     "data": {
      "text/html": [
       "<table>\n",
       "<thead><tr><th scope=col>Bread</th><th scope=col>Milk</th><th scope=col>Diaper</th><th scope=col>Beer</th><th scope=col>Coke</th><th scope=col>Eggs</th></tr></thead>\n",
       "<tbody>\n",
       "\t<tr><td>1</td><td>1</td><td>0</td><td>0</td><td>0</td><td>0</td></tr>\n",
       "\t<tr><td>1</td><td>0</td><td>1</td><td>1</td><td>0</td><td>1</td></tr>\n",
       "\t<tr><td>0</td><td>1</td><td>1</td><td>1</td><td>1</td><td>0</td></tr>\n",
       "\t<tr><td>1</td><td>1</td><td>1</td><td>1</td><td>0</td><td>0</td></tr>\n",
       "\t<tr><td>1</td><td>1</td><td>1</td><td>0</td><td>1</td><td>0</td></tr>\n",
       "</tbody>\n",
       "</table>\n"
      ],
      "text/latex": [
       "\\begin{tabular}{llllll}\n",
       " Bread & Milk & Diaper & Beer & Coke & Eggs\\\\\n",
       "\\hline\n",
       "\t 1 & 1 & 0 & 0 & 0 & 0\\\\\n",
       "\t 1 & 0 & 1 & 1 & 0 & 1\\\\\n",
       "\t 0 & 1 & 1 & 1 & 1 & 0\\\\\n",
       "\t 1 & 1 & 1 & 1 & 0 & 0\\\\\n",
       "\t 1 & 1 & 1 & 0 & 1 & 0\\\\\n",
       "\\end{tabular}\n"
      ],
      "text/markdown": [
       "\n",
       "| Bread | Milk | Diaper | Beer | Coke | Eggs |\n",
       "|---|---|---|---|---|---|\n",
       "| 1 | 1 | 0 | 0 | 0 | 0 |\n",
       "| 1 | 0 | 1 | 1 | 0 | 1 |\n",
       "| 0 | 1 | 1 | 1 | 1 | 0 |\n",
       "| 1 | 1 | 1 | 1 | 0 | 0 |\n",
       "| 1 | 1 | 1 | 0 | 1 | 0 |\n",
       "\n"
      ],
      "text/plain": [
       "     Bread Milk Diaper Beer Coke Eggs\n",
       "[1,] 1     1    0      0    0    0   \n",
       "[2,] 1     0    1      1    0    1   \n",
       "[3,] 0     1    1      1    1    0   \n",
       "[4,] 1     1    1      1    0    0   \n",
       "[5,] 1     1    1      0    1    0   "
      ]
     },
     "metadata": {},
     "output_type": "display_data"
    }
   ],
   "source": [
    "beer"
   ]
  },
  {
   "cell_type": "code",
   "execution_count": 17,
   "metadata": {},
   "outputs": [
    {
     "name": "stdout",
     "output_type": "stream",
     "text": [
      "Apriori\n",
      "\n",
      "Parameter specification:\n",
      " confidence minval smax arem  aval originalSupport maxtime support minlen\n",
      "        0.8    0.1    1 none FALSE            TRUE       5     0.2      1\n",
      " maxlen target  ext\n",
      "      5  rules TRUE\n",
      "\n",
      "Algorithmic control:\n",
      " filter tree heap memopt load sort verbose\n",
      "    0.1 TRUE TRUE  FALSE TRUE    2    TRUE\n",
      "\n",
      "Absolute minimum support count: 1 \n",
      "\n",
      "set item appearances ...[0 item(s)] done [0.00s].\n",
      "set transactions ...[6 item(s), 5 transaction(s)] done [0.00s].\n",
      "sorting and recoding items ... [6 item(s)] done [0.00s].\n",
      "creating transaction tree ... done [0.00s].\n",
      "checking subsets of size 1 2 3 4 done [0.00s].\n",
      "writing ... [31 rule(s)] done [0.00s].\n",
      "creating S4 object  ... done [0.00s].\n"
     ]
    }
   ],
   "source": [
    "rule=apriori(beer,parameter=list(supp=0.2,conf=0.8,maxlen=5))"
   ]
  },
  {
   "cell_type": "code",
   "execution_count": 18,
   "metadata": {},
   "outputs": [
    {
     "name": "stdout",
     "output_type": "stream",
     "text": [
      "     lhs                    rhs      support confidence coverage lift     count\n",
      "[1]  {}                  => {Milk}   0.8     0.8        1.0      1.000000 4    \n",
      "[2]  {}                  => {Bread}  0.8     0.8        1.0      1.000000 4    \n",
      "[3]  {}                  => {Diaper} 0.8     0.8        1.0      1.000000 4    \n",
      "[4]  {Eggs}              => {Beer}   0.2     1.0        0.2      1.666667 1    \n",
      "[5]  {Eggs}              => {Bread}  0.2     1.0        0.2      1.250000 1    \n",
      "[6]  {Eggs}              => {Diaper} 0.2     1.0        0.2      1.250000 1    \n",
      "[7]  {Coke}              => {Milk}   0.4     1.0        0.4      1.250000 2    \n",
      "[8]  {Coke}              => {Diaper} 0.4     1.0        0.4      1.250000 2    \n",
      "[9]  {Beer}              => {Diaper} 0.6     1.0        0.6      1.250000 3    \n",
      "[10] {Beer,Eggs}         => {Bread}  0.2     1.0        0.2      1.250000 1    \n",
      "[11] {Bread,Eggs}        => {Beer}   0.2     1.0        0.2      1.666667 1    \n",
      "[12] {Beer,Eggs}         => {Diaper} 0.2     1.0        0.2      1.250000 1    \n",
      "[13] {Diaper,Eggs}       => {Beer}   0.2     1.0        0.2      1.666667 1    \n",
      "[14] {Bread,Eggs}        => {Diaper} 0.2     1.0        0.2      1.250000 1    \n",
      "[15] {Diaper,Eggs}       => {Bread}  0.2     1.0        0.2      1.250000 1    \n",
      "[16] {Beer,Coke}         => {Milk}   0.2     1.0        0.2      1.250000 1    \n",
      "[17] {Beer,Coke}         => {Diaper} 0.2     1.0        0.2      1.250000 1    \n",
      "[18] {Bread,Coke}        => {Milk}   0.2     1.0        0.2      1.250000 1    \n",
      "[19] {Milk,Coke}         => {Diaper} 0.4     1.0        0.4      1.250000 2    \n",
      "[20] {Diaper,Coke}       => {Milk}   0.4     1.0        0.4      1.250000 2    \n",
      "[21] {Bread,Coke}        => {Diaper} 0.2     1.0        0.2      1.250000 1    \n",
      "[22] {Milk,Beer}         => {Diaper} 0.4     1.0        0.4      1.250000 2    \n",
      "[23] {Bread,Beer}        => {Diaper} 0.4     1.0        0.4      1.250000 2    \n",
      "[24] {Bread,Beer,Eggs}   => {Diaper} 0.2     1.0        0.2      1.250000 1    \n",
      "[25] {Diaper,Beer,Eggs}  => {Bread}  0.2     1.0        0.2      1.250000 1    \n",
      "[26] {Bread,Diaper,Eggs} => {Beer}   0.2     1.0        0.2      1.666667 1    \n",
      "[27] {Milk,Beer,Coke}    => {Diaper} 0.2     1.0        0.2      1.250000 1    \n",
      "[28] {Diaper,Beer,Coke}  => {Milk}   0.2     1.0        0.2      1.250000 1    \n",
      "[29] {Bread,Milk,Coke}   => {Diaper} 0.2     1.0        0.2      1.250000 1    \n",
      "[30] {Bread,Diaper,Coke} => {Milk}   0.2     1.0        0.2      1.250000 1    \n",
      "[31] {Bread,Milk,Beer}   => {Diaper} 0.2     1.0        0.2      1.250000 1    \n"
     ]
    }
   ],
   "source": [
    "inspect(rule)"
   ]
  },
  {
   "cell_type": "code",
   "execution_count": 19,
   "metadata": {},
   "outputs": [
    {
     "name": "stdout",
     "output_type": "stream",
     "text": [
      "     lhs              rhs      support confidence coverage lift count\n",
      "[1]  {}            => {Milk}   0.8     0.8        1.0      1.00 4    \n",
      "[2]  {}            => {Bread}  0.8     0.8        1.0      1.00 4    \n",
      "[3]  {}            => {Diaper} 0.8     0.8        1.0      1.00 4    \n",
      "[4]  {Beer}        => {Diaper} 0.6     1.0        0.6      1.25 3    \n",
      "[5]  {Coke}        => {Milk}   0.4     1.0        0.4      1.25 2    \n",
      "[6]  {Coke}        => {Diaper} 0.4     1.0        0.4      1.25 2    \n",
      "[7]  {Milk,Coke}   => {Diaper} 0.4     1.0        0.4      1.25 2    \n",
      "[8]  {Diaper,Coke} => {Milk}   0.4     1.0        0.4      1.25 2    \n",
      "[9]  {Milk,Beer}   => {Diaper} 0.4     1.0        0.4      1.25 2    \n",
      "[10] {Bread,Beer}  => {Diaper} 0.4     1.0        0.4      1.25 2    \n"
     ]
    }
   ],
   "source": [
    "inspect(head(sort(rule,by=\"support\"),10))"
   ]
  },
  {
   "cell_type": "code",
   "execution_count": null,
   "metadata": {},
   "outputs": [],
   "source": []
  },
  {
   "cell_type": "code",
   "execution_count": null,
   "metadata": {},
   "outputs": [],
   "source": []
  },
  {
   "cell_type": "code",
   "execution_count": 27,
   "metadata": {},
   "outputs": [],
   "source": [
    "trans109 <- read.csv(\"C:/Rdata/p10.9.csv\")"
   ]
  },
  {
   "cell_type": "code",
   "execution_count": 28,
   "metadata": {},
   "outputs": [
    {
     "data": {
      "text/html": [
       "<table>\n",
       "<thead><tr><th scope=col>大麥</th><th scope=col>玉米</th><th scope=col>鷹嘴豆</th><th scope=col>小米</th><th scope=col>米</th><th scope=col>小麥</th></tr></thead>\n",
       "<tbody>\n",
       "\t<tr><td>1</td><td>1</td><td>1</td><td>1</td><td>1</td><td>1</td></tr>\n",
       "\t<tr><td>0</td><td>1</td><td>0</td><td>1</td><td>1</td><td>1</td></tr>\n",
       "\t<tr><td>1</td><td>0</td><td>1</td><td>0</td><td>1</td><td>1</td></tr>\n",
       "\t<tr><td>0</td><td>1</td><td>1</td><td>0</td><td>1</td><td>1</td></tr>\n",
       "\t<tr><td>1</td><td>0</td><td>1</td><td>1</td><td>1</td><td>0</td></tr>\n",
       "\t<tr><td>0</td><td>0</td><td>1</td><td>0</td><td>1</td><td>1</td></tr>\n",
       "\t<tr><td>1</td><td>0</td><td>0</td><td>1</td><td>1</td><td>1</td></tr>\n",
       "\t<tr><td>0</td><td>0</td><td>0</td><td>1</td><td>1</td><td>1</td></tr>\n",
       "\t<tr><td>1</td><td>1</td><td>1</td><td>1</td><td>0</td><td>0</td></tr>\n",
       "\t<tr><td>1</td><td>1</td><td>1</td><td>0</td><td>1</td><td>1</td></tr>\n",
       "\t<tr><td>0</td><td>1</td><td>0</td><td>1</td><td>1</td><td>1</td></tr>\n",
       "\t<tr><td>1</td><td>1</td><td>0</td><td>1</td><td>1</td><td>1</td></tr>\n",
       "</tbody>\n",
       "</table>\n"
      ],
      "text/latex": [
       "\\begin{tabular}{r|llllll}\n",
       " 大麥 & 玉米 & 鷹嘴豆 & 小米 & 米 & 小麥\\\\\n",
       "\\hline\n",
       "\t 1 & 1 & 1 & 1 & 1 & 1\\\\\n",
       "\t 0 & 1 & 0 & 1 & 1 & 1\\\\\n",
       "\t 1 & 0 & 1 & 0 & 1 & 1\\\\\n",
       "\t 0 & 1 & 1 & 0 & 1 & 1\\\\\n",
       "\t 1 & 0 & 1 & 1 & 1 & 0\\\\\n",
       "\t 0 & 0 & 1 & 0 & 1 & 1\\\\\n",
       "\t 1 & 0 & 0 & 1 & 1 & 1\\\\\n",
       "\t 0 & 0 & 0 & 1 & 1 & 1\\\\\n",
       "\t 1 & 1 & 1 & 1 & 0 & 0\\\\\n",
       "\t 1 & 1 & 1 & 0 & 1 & 1\\\\\n",
       "\t 0 & 1 & 0 & 1 & 1 & 1\\\\\n",
       "\t 1 & 1 & 0 & 1 & 1 & 1\\\\\n",
       "\\end{tabular}\n"
      ],
      "text/markdown": [
       "\n",
       "| 大麥 | 玉米 | 鷹嘴豆 | 小米 | 米 | 小麥 |\n",
       "|---|---|---|---|---|---|\n",
       "| 1 | 1 | 1 | 1 | 1 | 1 |\n",
       "| 0 | 1 | 0 | 1 | 1 | 1 |\n",
       "| 1 | 0 | 1 | 0 | 1 | 1 |\n",
       "| 0 | 1 | 1 | 0 | 1 | 1 |\n",
       "| 1 | 0 | 1 | 1 | 1 | 0 |\n",
       "| 0 | 0 | 1 | 0 | 1 | 1 |\n",
       "| 1 | 0 | 0 | 1 | 1 | 1 |\n",
       "| 0 | 0 | 0 | 1 | 1 | 1 |\n",
       "| 1 | 1 | 1 | 1 | 0 | 0 |\n",
       "| 1 | 1 | 1 | 0 | 1 | 1 |\n",
       "| 0 | 1 | 0 | 1 | 1 | 1 |\n",
       "| 1 | 1 | 0 | 1 | 1 | 1 |\n",
       "\n"
      ],
      "text/plain": [
       "   大麥 玉米 鷹嘴豆 小米 米 小麥\n",
       "1  1    1    1      1    1  1   \n",
       "2  0    1    0      1    1  1   \n",
       "3  1    0    1      0    1  1   \n",
       "4  0    1    1      0    1  1   \n",
       "5  1    0    1      1    1  0   \n",
       "6  0    0    1      0    1  1   \n",
       "7  1    0    0      1    1  1   \n",
       "8  0    0    0      1    1  1   \n",
       "9  1    1    1      1    0  0   \n",
       "10 1    1    1      0    1  1   \n",
       "11 0    1    0      1    1  1   \n",
       "12 1    1    0      1    1  1   "
      ]
     },
     "metadata": {},
     "output_type": "display_data"
    }
   ],
   "source": [
    "trans109"
   ]
  },
  {
   "cell_type": "code",
   "execution_count": 29,
   "metadata": {},
   "outputs": [],
   "source": [
    "trans109 <- as.matrix(trans109)"
   ]
  },
  {
   "cell_type": "code",
   "execution_count": 30,
   "metadata": {},
   "outputs": [
    {
     "data": {
      "text/html": [
       "<table>\n",
       "<thead><tr><th scope=col>大麥</th><th scope=col>玉米</th><th scope=col>鷹嘴豆</th><th scope=col>小米</th><th scope=col>米</th><th scope=col>小麥</th></tr></thead>\n",
       "<tbody>\n",
       "\t<tr><td>1</td><td>1</td><td>1</td><td>1</td><td>1</td><td>1</td></tr>\n",
       "\t<tr><td>0</td><td>1</td><td>0</td><td>1</td><td>1</td><td>1</td></tr>\n",
       "\t<tr><td>1</td><td>0</td><td>1</td><td>0</td><td>1</td><td>1</td></tr>\n",
       "\t<tr><td>0</td><td>1</td><td>1</td><td>0</td><td>1</td><td>1</td></tr>\n",
       "\t<tr><td>1</td><td>0</td><td>1</td><td>1</td><td>1</td><td>0</td></tr>\n",
       "\t<tr><td>0</td><td>0</td><td>1</td><td>0</td><td>1</td><td>1</td></tr>\n",
       "\t<tr><td>1</td><td>0</td><td>0</td><td>1</td><td>1</td><td>1</td></tr>\n",
       "\t<tr><td>0</td><td>0</td><td>0</td><td>1</td><td>1</td><td>1</td></tr>\n",
       "\t<tr><td>1</td><td>1</td><td>1</td><td>1</td><td>0</td><td>0</td></tr>\n",
       "\t<tr><td>1</td><td>1</td><td>1</td><td>0</td><td>1</td><td>1</td></tr>\n",
       "\t<tr><td>0</td><td>1</td><td>0</td><td>1</td><td>1</td><td>1</td></tr>\n",
       "\t<tr><td>1</td><td>1</td><td>0</td><td>1</td><td>1</td><td>1</td></tr>\n",
       "</tbody>\n",
       "</table>\n"
      ],
      "text/latex": [
       "\\begin{tabular}{llllll}\n",
       " 大麥 & 玉米 & 鷹嘴豆 & 小米 & 米 & 小麥\\\\\n",
       "\\hline\n",
       "\t 1 & 1 & 1 & 1 & 1 & 1\\\\\n",
       "\t 0 & 1 & 0 & 1 & 1 & 1\\\\\n",
       "\t 1 & 0 & 1 & 0 & 1 & 1\\\\\n",
       "\t 0 & 1 & 1 & 0 & 1 & 1\\\\\n",
       "\t 1 & 0 & 1 & 1 & 1 & 0\\\\\n",
       "\t 0 & 0 & 1 & 0 & 1 & 1\\\\\n",
       "\t 1 & 0 & 0 & 1 & 1 & 1\\\\\n",
       "\t 0 & 0 & 0 & 1 & 1 & 1\\\\\n",
       "\t 1 & 1 & 1 & 1 & 0 & 0\\\\\n",
       "\t 1 & 1 & 1 & 0 & 1 & 1\\\\\n",
       "\t 0 & 1 & 0 & 1 & 1 & 1\\\\\n",
       "\t 1 & 1 & 0 & 1 & 1 & 1\\\\\n",
       "\\end{tabular}\n"
      ],
      "text/markdown": [
       "\n",
       "| 大麥 | 玉米 | 鷹嘴豆 | 小米 | 米 | 小麥 |\n",
       "|---|---|---|---|---|---|\n",
       "| 1 | 1 | 1 | 1 | 1 | 1 |\n",
       "| 0 | 1 | 0 | 1 | 1 | 1 |\n",
       "| 1 | 0 | 1 | 0 | 1 | 1 |\n",
       "| 0 | 1 | 1 | 0 | 1 | 1 |\n",
       "| 1 | 0 | 1 | 1 | 1 | 0 |\n",
       "| 0 | 0 | 1 | 0 | 1 | 1 |\n",
       "| 1 | 0 | 0 | 1 | 1 | 1 |\n",
       "| 0 | 0 | 0 | 1 | 1 | 1 |\n",
       "| 1 | 1 | 1 | 1 | 0 | 0 |\n",
       "| 1 | 1 | 1 | 0 | 1 | 1 |\n",
       "| 0 | 1 | 0 | 1 | 1 | 1 |\n",
       "| 1 | 1 | 0 | 1 | 1 | 1 |\n",
       "\n"
      ],
      "text/plain": [
       "      大麥 玉米 鷹嘴豆 小米 米 小麥\n",
       " [1,] 1    1    1      1    1  1   \n",
       " [2,] 0    1    0      1    1  1   \n",
       " [3,] 1    0    1      0    1  1   \n",
       " [4,] 0    1    1      0    1  1   \n",
       " [5,] 1    0    1      1    1  0   \n",
       " [6,] 0    0    1      0    1  1   \n",
       " [7,] 1    0    0      1    1  1   \n",
       " [8,] 0    0    0      1    1  1   \n",
       " [9,] 1    1    1      1    0  0   \n",
       "[10,] 1    1    1      0    1  1   \n",
       "[11,] 0    1    0      1    1  1   \n",
       "[12,] 1    1    0      1    1  1   "
      ]
     },
     "metadata": {},
     "output_type": "display_data"
    }
   ],
   "source": [
    "trans109"
   ]
  },
  {
   "cell_type": "code",
   "execution_count": 35,
   "metadata": {},
   "outputs": [
    {
     "name": "stdout",
     "output_type": "stream",
     "text": [
      "Apriori\n",
      "\n",
      "Parameter specification:\n",
      " confidence minval smax arem  aval originalSupport maxtime support minlen\n",
      "       0.66    0.1    1 none FALSE            TRUE       5    0.33      1\n",
      " maxlen target  ext\n",
      "      5  rules TRUE\n",
      "\n",
      "Algorithmic control:\n",
      " filter tree heap memopt load sort verbose\n",
      "    0.1 TRUE TRUE  FALSE TRUE    2    TRUE\n",
      "\n",
      "Absolute minimum support count: 3 \n",
      "\n",
      "set item appearances ...[0 item(s)] done [0.00s].\n",
      "set transactions ...[6 item(s), 12 transaction(s)] done [0.00s].\n",
      "sorting and recoding items ... [6 item(s)] done [0.00s].\n",
      "creating transaction tree ... done [0.00s].\n",
      "checking subsets of size 1 2 3 4 done [0.00s].\n",
      "writing ... [39 rule(s)] done [0.00s].\n",
      "creating S4 object  ... done [0.00s].\n"
     ]
    }
   ],
   "source": [
    "rule=apriori(trans109,parameter=list(supp=0.33,conf=0.66,maxlen=5))"
   ]
  },
  {
   "cell_type": "code",
   "execution_count": 36,
   "metadata": {},
   "outputs": [
    {
     "name": "stdout",
     "output_type": "stream",
     "text": [
      "     lhs                 rhs      support   confidence coverage  lift     \n",
      "[1]  {}               => {小米}   0.6666667 0.6666667  1.0000000 1.0000000\n",
      "[2]  {}               => {小麥}   0.8333333 0.8333333  1.0000000 1.0000000\n",
      "[3]  {}               => {米}     0.9166667 0.9166667  1.0000000 1.0000000\n",
      "[4]  {鷹嘴豆}         => {大麥}   0.4166667 0.7142857  0.5833333 1.2244898\n",
      "[5]  {大麥}           => {鷹嘴豆} 0.4166667 0.7142857  0.5833333 1.2244898\n",
      "[6]  {鷹嘴豆}         => {小麥}   0.4166667 0.7142857  0.5833333 0.8571429\n",
      "[7]  {鷹嘴豆}         => {米}     0.5000000 0.8571429  0.5833333 0.9350649\n",
      "[8]  {玉米}           => {小米}   0.4166667 0.7142857  0.5833333 1.0714286\n",
      "[9]  {玉米}           => {小麥}   0.5000000 0.8571429  0.5833333 1.0285714\n",
      "[10] {玉米}           => {米}     0.5000000 0.8571429  0.5833333 0.9350649\n",
      "[11] {大麥}           => {小米}   0.4166667 0.7142857  0.5833333 1.0714286\n",
      "[12] {大麥}           => {小麥}   0.4166667 0.7142857  0.5833333 0.8571429\n",
      "[13] {大麥}           => {米}     0.5000000 0.8571429  0.5833333 0.9350649\n",
      "[14] {小米}           => {小麥}   0.5000000 0.7500000  0.6666667 0.9000000\n",
      "[15] {小米}           => {米}     0.5833333 0.8750000  0.6666667 0.9545455\n",
      "[16] {小麥}           => {米}     0.8333333 1.0000000  0.8333333 1.0909091\n",
      "[17] {米}             => {小麥}   0.8333333 0.9090909  0.9166667 1.0909091\n",
      "[18] {大麥,鷹嘴豆}    => {米}     0.3333333 0.8000000  0.4166667 0.8727273\n",
      "[19] {鷹嘴豆,米}      => {大麥}   0.3333333 0.6666667  0.5000000 1.1428571\n",
      "[20] {大麥,米}        => {鷹嘴豆} 0.3333333 0.6666667  0.5000000 1.1428571\n",
      "[21] {鷹嘴豆,小麥}    => {米}     0.4166667 1.0000000  0.4166667 1.0909091\n",
      "[22] {鷹嘴豆,米}      => {小麥}   0.4166667 0.8333333  0.5000000 1.0000000\n",
      "[23] {玉米,小米}      => {小麥}   0.3333333 0.8000000  0.4166667 0.9600000\n",
      "[24] {玉米,小麥}      => {小米}   0.3333333 0.6666667  0.5000000 1.0000000\n",
      "[25] {小米,小麥}      => {玉米}   0.3333333 0.6666667  0.5000000 1.1428571\n",
      "[26] {玉米,小米}      => {米}     0.3333333 0.8000000  0.4166667 0.8727273\n",
      "[27] {玉米,米}        => {小米}   0.3333333 0.6666667  0.5000000 1.0000000\n",
      "[28] {玉米,小麥}      => {米}     0.5000000 1.0000000  0.5000000 1.0909091\n",
      "[29] {玉米,米}        => {小麥}   0.5000000 1.0000000  0.5000000 1.2000000\n",
      "[30] {大麥,小米}      => {米}     0.3333333 0.8000000  0.4166667 0.8727273\n",
      "[31] {大麥,米}        => {小米}   0.3333333 0.6666667  0.5000000 1.0000000\n",
      "[32] {大麥,小麥}      => {米}     0.4166667 1.0000000  0.4166667 1.0909091\n",
      "[33] {大麥,米}        => {小麥}   0.4166667 0.8333333  0.5000000 1.0000000\n",
      "[34] {小米,小麥}      => {米}     0.5000000 1.0000000  0.5000000 1.0909091\n",
      "[35] {小米,米}        => {小麥}   0.5000000 0.8571429  0.5833333 1.0285714\n",
      "[36] {玉米,小米,小麥} => {米}     0.3333333 1.0000000  0.3333333 1.0909091\n",
      "[37] {玉米,小米,米}   => {小麥}   0.3333333 1.0000000  0.3333333 1.2000000\n",
      "[38] {玉米,米,小麥}   => {小米}   0.3333333 0.6666667  0.5000000 1.0000000\n",
      "[39] {小米,米,小麥}   => {玉米}   0.3333333 0.6666667  0.5000000 1.1428571\n",
      "     count\n",
      "[1]   8   \n",
      "[2]  10   \n",
      "[3]  11   \n",
      "[4]   5   \n",
      "[5]   5   \n",
      "[6]   5   \n",
      "[7]   6   \n",
      "[8]   5   \n",
      "[9]   6   \n",
      "[10]  6   \n",
      "[11]  5   \n",
      "[12]  5   \n",
      "[13]  6   \n",
      "[14]  6   \n",
      "[15]  7   \n",
      "[16] 10   \n",
      "[17] 10   \n",
      "[18]  4   \n",
      "[19]  4   \n",
      "[20]  4   \n",
      "[21]  5   \n",
      "[22]  5   \n",
      "[23]  4   \n",
      "[24]  4   \n",
      "[25]  4   \n",
      "[26]  4   \n",
      "[27]  4   \n",
      "[28]  6   \n",
      "[29]  6   \n",
      "[30]  4   \n",
      "[31]  4   \n",
      "[32]  5   \n",
      "[33]  5   \n",
      "[34]  6   \n",
      "[35]  6   \n",
      "[36]  4   \n",
      "[37]  4   \n",
      "[38]  4   \n",
      "[39]  4   \n"
     ]
    }
   ],
   "source": [
    "inspect(rule)"
   ]
  },
  {
   "cell_type": "code",
   "execution_count": 39,
   "metadata": {},
   "outputs": [
    {
     "name": "stdout",
     "output_type": "stream",
     "text": [
      "     lhs              rhs      support   confidence coverage  lift      count\n",
      "[1]  {}            => {米}     0.9166667 0.9166667  1.0000000 1.0000000 11   \n",
      "[2]  {}            => {小麥}   0.8333333 0.8333333  1.0000000 1.0000000 10   \n",
      "[3]  {小麥}        => {米}     0.8333333 1.0000000  0.8333333 1.0909091 10   \n",
      "[4]  {米}          => {小麥}   0.8333333 0.9090909  0.9166667 1.0909091 10   \n",
      "[5]  {}            => {小米}   0.6666667 0.6666667  1.0000000 1.0000000  8   \n",
      "[6]  {小米}        => {米}     0.5833333 0.8750000  0.6666667 0.9545455  7   \n",
      "[7]  {鷹嘴豆}      => {米}     0.5000000 0.8571429  0.5833333 0.9350649  6   \n",
      "[8]  {玉米}        => {小麥}   0.5000000 0.8571429  0.5833333 1.0285714  6   \n",
      "[9]  {玉米}        => {米}     0.5000000 0.8571429  0.5833333 0.9350649  6   \n",
      "[10] {大麥}        => {米}     0.5000000 0.8571429  0.5833333 0.9350649  6   \n",
      "[11] {小米}        => {小麥}   0.5000000 0.7500000  0.6666667 0.9000000  6   \n",
      "[12] {玉米,小麥}   => {米}     0.5000000 1.0000000  0.5000000 1.0909091  6   \n",
      "[13] {玉米,米}     => {小麥}   0.5000000 1.0000000  0.5000000 1.2000000  6   \n",
      "[14] {小米,小麥}   => {米}     0.5000000 1.0000000  0.5000000 1.0909091  6   \n",
      "[15] {小米,米}     => {小麥}   0.5000000 0.8571429  0.5833333 1.0285714  6   \n",
      "[16] {鷹嘴豆}      => {大麥}   0.4166667 0.7142857  0.5833333 1.2244898  5   \n",
      "[17] {大麥}        => {鷹嘴豆} 0.4166667 0.7142857  0.5833333 1.2244898  5   \n",
      "[18] {鷹嘴豆}      => {小麥}   0.4166667 0.7142857  0.5833333 0.8571429  5   \n",
      "[19] {玉米}        => {小米}   0.4166667 0.7142857  0.5833333 1.0714286  5   \n",
      "[20] {大麥}        => {小米}   0.4166667 0.7142857  0.5833333 1.0714286  5   \n",
      "[21] {大麥}        => {小麥}   0.4166667 0.7142857  0.5833333 0.8571429  5   \n",
      "[22] {鷹嘴豆,小麥} => {米}     0.4166667 1.0000000  0.4166667 1.0909091  5   \n",
      "[23] {鷹嘴豆,米}   => {小麥}   0.4166667 0.8333333  0.5000000 1.0000000  5   \n",
      "[24] {大麥,小麥}   => {米}     0.4166667 1.0000000  0.4166667 1.0909091  5   \n",
      "[25] {大麥,米}     => {小麥}   0.4166667 0.8333333  0.5000000 1.0000000  5   \n"
     ]
    }
   ],
   "source": [
    "inspect(head(sort(rule,by=\"support\"),25))"
   ]
  },
  {
   "cell_type": "code",
   "execution_count": null,
   "metadata": {},
   "outputs": [],
   "source": []
  }
 ],
 "metadata": {
  "kernelspec": {
   "display_name": "R",
   "language": "R",
   "name": "ir"
  },
  "language_info": {
   "codemirror_mode": "r",
   "file_extension": ".r",
   "mimetype": "text/x-r-source",
   "name": "R",
   "pygments_lexer": "r",
   "version": "3.6.1"
  }
 },
 "nbformat": 4,
 "nbformat_minor": 4
}
