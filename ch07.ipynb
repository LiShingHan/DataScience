{
 "cells": [
  {
   "cell_type": "code",
   "execution_count": 25,
   "metadata": {},
   "outputs": [],
   "source": [
    "require(datasets)"
   ]
  },
  {
   "cell_type": "code",
   "execution_count": 26,
   "metadata": {},
   "outputs": [
    {
     "data": {
      "text/html": [
       "<table>\n",
       "<thead><tr><th scope=col>Sepal.Length</th><th scope=col>Sepal.Width</th><th scope=col>Petal.Length</th><th scope=col>Petal.Width</th><th scope=col>Species</th></tr></thead>\n",
       "<tbody>\n",
       "\t<tr><td>5.1   </td><td>3.5   </td><td>1.4   </td><td>0.2   </td><td>setosa</td></tr>\n",
       "\t<tr><td>4.9   </td><td>3.0   </td><td>1.4   </td><td>0.2   </td><td>setosa</td></tr>\n",
       "\t<tr><td>4.7   </td><td>3.2   </td><td>1.3   </td><td>0.2   </td><td>setosa</td></tr>\n",
       "\t<tr><td>4.6   </td><td>3.1   </td><td>1.5   </td><td>0.2   </td><td>setosa</td></tr>\n",
       "\t<tr><td>5.0   </td><td>3.6   </td><td>1.4   </td><td>0.2   </td><td>setosa</td></tr>\n",
       "\t<tr><td>5.4   </td><td>3.9   </td><td>1.7   </td><td>0.4   </td><td>setosa</td></tr>\n",
       "\t<tr><td>4.6   </td><td>3.4   </td><td>1.4   </td><td>0.3   </td><td>setosa</td></tr>\n",
       "\t<tr><td>5.0   </td><td>3.4   </td><td>1.5   </td><td>0.2   </td><td>setosa</td></tr>\n",
       "\t<tr><td>4.4   </td><td>2.9   </td><td>1.4   </td><td>0.2   </td><td>setosa</td></tr>\n",
       "\t<tr><td>4.9   </td><td>3.1   </td><td>1.5   </td><td>0.1   </td><td>setosa</td></tr>\n",
       "\t<tr><td>5.4   </td><td>3.7   </td><td>1.5   </td><td>0.2   </td><td>setosa</td></tr>\n",
       "\t<tr><td>4.8   </td><td>3.4   </td><td>1.6   </td><td>0.2   </td><td>setosa</td></tr>\n",
       "\t<tr><td>4.8   </td><td>3.0   </td><td>1.4   </td><td>0.1   </td><td>setosa</td></tr>\n",
       "\t<tr><td>4.3   </td><td>3.0   </td><td>1.1   </td><td>0.1   </td><td>setosa</td></tr>\n",
       "\t<tr><td>5.8   </td><td>4.0   </td><td>1.2   </td><td>0.2   </td><td>setosa</td></tr>\n",
       "\t<tr><td>5.7   </td><td>4.4   </td><td>1.5   </td><td>0.4   </td><td>setosa</td></tr>\n",
       "\t<tr><td>5.4   </td><td>3.9   </td><td>1.3   </td><td>0.4   </td><td>setosa</td></tr>\n",
       "\t<tr><td>5.1   </td><td>3.5   </td><td>1.4   </td><td>0.3   </td><td>setosa</td></tr>\n",
       "\t<tr><td>5.7   </td><td>3.8   </td><td>1.7   </td><td>0.3   </td><td>setosa</td></tr>\n",
       "\t<tr><td>5.1   </td><td>3.8   </td><td>1.5   </td><td>0.3   </td><td>setosa</td></tr>\n",
       "\t<tr><td>5.4   </td><td>3.4   </td><td>1.7   </td><td>0.2   </td><td>setosa</td></tr>\n",
       "\t<tr><td>5.1   </td><td>3.7   </td><td>1.5   </td><td>0.4   </td><td>setosa</td></tr>\n",
       "\t<tr><td>4.6   </td><td>3.6   </td><td>1.0   </td><td>0.2   </td><td>setosa</td></tr>\n",
       "\t<tr><td>5.1   </td><td>3.3   </td><td>1.7   </td><td>0.5   </td><td>setosa</td></tr>\n",
       "\t<tr><td>4.8   </td><td>3.4   </td><td>1.9   </td><td>0.2   </td><td>setosa</td></tr>\n",
       "\t<tr><td>5.0   </td><td>3.0   </td><td>1.6   </td><td>0.2   </td><td>setosa</td></tr>\n",
       "\t<tr><td>5.0   </td><td>3.4   </td><td>1.6   </td><td>0.4   </td><td>setosa</td></tr>\n",
       "\t<tr><td>5.2   </td><td>3.5   </td><td>1.5   </td><td>0.2   </td><td>setosa</td></tr>\n",
       "\t<tr><td>5.2   </td><td>3.4   </td><td>1.4   </td><td>0.2   </td><td>setosa</td></tr>\n",
       "\t<tr><td>4.7   </td><td>3.2   </td><td>1.6   </td><td>0.2   </td><td>setosa</td></tr>\n",
       "\t<tr><td>...</td><td>...</td><td>...</td><td>...</td><td>...</td></tr>\n",
       "\t<tr><td>6.9      </td><td>3.2      </td><td>5.7      </td><td>2.3      </td><td>virginica</td></tr>\n",
       "\t<tr><td>5.6      </td><td>2.8      </td><td>4.9      </td><td>2.0      </td><td>virginica</td></tr>\n",
       "\t<tr><td>7.7      </td><td>2.8      </td><td>6.7      </td><td>2.0      </td><td>virginica</td></tr>\n",
       "\t<tr><td>6.3      </td><td>2.7      </td><td>4.9      </td><td>1.8      </td><td>virginica</td></tr>\n",
       "\t<tr><td>6.7      </td><td>3.3      </td><td>5.7      </td><td>2.1      </td><td>virginica</td></tr>\n",
       "\t<tr><td>7.2      </td><td>3.2      </td><td>6.0      </td><td>1.8      </td><td>virginica</td></tr>\n",
       "\t<tr><td>6.2      </td><td>2.8      </td><td>4.8      </td><td>1.8      </td><td>virginica</td></tr>\n",
       "\t<tr><td>6.1      </td><td>3.0      </td><td>4.9      </td><td>1.8      </td><td>virginica</td></tr>\n",
       "\t<tr><td>6.4      </td><td>2.8      </td><td>5.6      </td><td>2.1      </td><td>virginica</td></tr>\n",
       "\t<tr><td>7.2      </td><td>3.0      </td><td>5.8      </td><td>1.6      </td><td>virginica</td></tr>\n",
       "\t<tr><td>7.4      </td><td>2.8      </td><td>6.1      </td><td>1.9      </td><td>virginica</td></tr>\n",
       "\t<tr><td>7.9      </td><td>3.8      </td><td>6.4      </td><td>2.0      </td><td>virginica</td></tr>\n",
       "\t<tr><td>6.4      </td><td>2.8      </td><td>5.6      </td><td>2.2      </td><td>virginica</td></tr>\n",
       "\t<tr><td>6.3      </td><td>2.8      </td><td>5.1      </td><td>1.5      </td><td>virginica</td></tr>\n",
       "\t<tr><td>6.1      </td><td>2.6      </td><td>5.6      </td><td>1.4      </td><td>virginica</td></tr>\n",
       "\t<tr><td>7.7      </td><td>3.0      </td><td>6.1      </td><td>2.3      </td><td>virginica</td></tr>\n",
       "\t<tr><td>6.3      </td><td>3.4      </td><td>5.6      </td><td>2.4      </td><td>virginica</td></tr>\n",
       "\t<tr><td>6.4      </td><td>3.1      </td><td>5.5      </td><td>1.8      </td><td>virginica</td></tr>\n",
       "\t<tr><td>6.0      </td><td>3.0      </td><td>4.8      </td><td>1.8      </td><td>virginica</td></tr>\n",
       "\t<tr><td>6.9      </td><td>3.1      </td><td>5.4      </td><td>2.1      </td><td>virginica</td></tr>\n",
       "\t<tr><td>6.7      </td><td>3.1      </td><td>5.6      </td><td>2.4      </td><td>virginica</td></tr>\n",
       "\t<tr><td>6.9      </td><td>3.1      </td><td>5.1      </td><td>2.3      </td><td>virginica</td></tr>\n",
       "\t<tr><td>5.8      </td><td>2.7      </td><td>5.1      </td><td>1.9      </td><td>virginica</td></tr>\n",
       "\t<tr><td>6.8      </td><td>3.2      </td><td>5.9      </td><td>2.3      </td><td>virginica</td></tr>\n",
       "\t<tr><td>6.7      </td><td>3.3      </td><td>5.7      </td><td>2.5      </td><td>virginica</td></tr>\n",
       "\t<tr><td>6.7      </td><td>3.0      </td><td>5.2      </td><td>2.3      </td><td>virginica</td></tr>\n",
       "\t<tr><td>6.3      </td><td>2.5      </td><td>5.0      </td><td>1.9      </td><td>virginica</td></tr>\n",
       "\t<tr><td>6.5      </td><td>3.0      </td><td>5.2      </td><td>2.0      </td><td>virginica</td></tr>\n",
       "\t<tr><td>6.2      </td><td>3.4      </td><td>5.4      </td><td>2.3      </td><td>virginica</td></tr>\n",
       "\t<tr><td>5.9      </td><td>3.0      </td><td>5.1      </td><td>1.8      </td><td>virginica</td></tr>\n",
       "</tbody>\n",
       "</table>\n"
      ],
      "text/latex": [
       "\\begin{tabular}{r|lllll}\n",
       " Sepal.Length & Sepal.Width & Petal.Length & Petal.Width & Species\\\\\n",
       "\\hline\n",
       "\t 5.1    & 3.5    & 1.4    & 0.2    & setosa\\\\\n",
       "\t 4.9    & 3.0    & 1.4    & 0.2    & setosa\\\\\n",
       "\t 4.7    & 3.2    & 1.3    & 0.2    & setosa\\\\\n",
       "\t 4.6    & 3.1    & 1.5    & 0.2    & setosa\\\\\n",
       "\t 5.0    & 3.6    & 1.4    & 0.2    & setosa\\\\\n",
       "\t 5.4    & 3.9    & 1.7    & 0.4    & setosa\\\\\n",
       "\t 4.6    & 3.4    & 1.4    & 0.3    & setosa\\\\\n",
       "\t 5.0    & 3.4    & 1.5    & 0.2    & setosa\\\\\n",
       "\t 4.4    & 2.9    & 1.4    & 0.2    & setosa\\\\\n",
       "\t 4.9    & 3.1    & 1.5    & 0.1    & setosa\\\\\n",
       "\t 5.4    & 3.7    & 1.5    & 0.2    & setosa\\\\\n",
       "\t 4.8    & 3.4    & 1.6    & 0.2    & setosa\\\\\n",
       "\t 4.8    & 3.0    & 1.4    & 0.1    & setosa\\\\\n",
       "\t 4.3    & 3.0    & 1.1    & 0.1    & setosa\\\\\n",
       "\t 5.8    & 4.0    & 1.2    & 0.2    & setosa\\\\\n",
       "\t 5.7    & 4.4    & 1.5    & 0.4    & setosa\\\\\n",
       "\t 5.4    & 3.9    & 1.3    & 0.4    & setosa\\\\\n",
       "\t 5.1    & 3.5    & 1.4    & 0.3    & setosa\\\\\n",
       "\t 5.7    & 3.8    & 1.7    & 0.3    & setosa\\\\\n",
       "\t 5.1    & 3.8    & 1.5    & 0.3    & setosa\\\\\n",
       "\t 5.4    & 3.4    & 1.7    & 0.2    & setosa\\\\\n",
       "\t 5.1    & 3.7    & 1.5    & 0.4    & setosa\\\\\n",
       "\t 4.6    & 3.6    & 1.0    & 0.2    & setosa\\\\\n",
       "\t 5.1    & 3.3    & 1.7    & 0.5    & setosa\\\\\n",
       "\t 4.8    & 3.4    & 1.9    & 0.2    & setosa\\\\\n",
       "\t 5.0    & 3.0    & 1.6    & 0.2    & setosa\\\\\n",
       "\t 5.0    & 3.4    & 1.6    & 0.4    & setosa\\\\\n",
       "\t 5.2    & 3.5    & 1.5    & 0.2    & setosa\\\\\n",
       "\t 5.2    & 3.4    & 1.4    & 0.2    & setosa\\\\\n",
       "\t 4.7    & 3.2    & 1.6    & 0.2    & setosa\\\\\n",
       "\t ... & ... & ... & ... & ...\\\\\n",
       "\t 6.9       & 3.2       & 5.7       & 2.3       & virginica\\\\\n",
       "\t 5.6       & 2.8       & 4.9       & 2.0       & virginica\\\\\n",
       "\t 7.7       & 2.8       & 6.7       & 2.0       & virginica\\\\\n",
       "\t 6.3       & 2.7       & 4.9       & 1.8       & virginica\\\\\n",
       "\t 6.7       & 3.3       & 5.7       & 2.1       & virginica\\\\\n",
       "\t 7.2       & 3.2       & 6.0       & 1.8       & virginica\\\\\n",
       "\t 6.2       & 2.8       & 4.8       & 1.8       & virginica\\\\\n",
       "\t 6.1       & 3.0       & 4.9       & 1.8       & virginica\\\\\n",
       "\t 6.4       & 2.8       & 5.6       & 2.1       & virginica\\\\\n",
       "\t 7.2       & 3.0       & 5.8       & 1.6       & virginica\\\\\n",
       "\t 7.4       & 2.8       & 6.1       & 1.9       & virginica\\\\\n",
       "\t 7.9       & 3.8       & 6.4       & 2.0       & virginica\\\\\n",
       "\t 6.4       & 2.8       & 5.6       & 2.2       & virginica\\\\\n",
       "\t 6.3       & 2.8       & 5.1       & 1.5       & virginica\\\\\n",
       "\t 6.1       & 2.6       & 5.6       & 1.4       & virginica\\\\\n",
       "\t 7.7       & 3.0       & 6.1       & 2.3       & virginica\\\\\n",
       "\t 6.3       & 3.4       & 5.6       & 2.4       & virginica\\\\\n",
       "\t 6.4       & 3.1       & 5.5       & 1.8       & virginica\\\\\n",
       "\t 6.0       & 3.0       & 4.8       & 1.8       & virginica\\\\\n",
       "\t 6.9       & 3.1       & 5.4       & 2.1       & virginica\\\\\n",
       "\t 6.7       & 3.1       & 5.6       & 2.4       & virginica\\\\\n",
       "\t 6.9       & 3.1       & 5.1       & 2.3       & virginica\\\\\n",
       "\t 5.8       & 2.7       & 5.1       & 1.9       & virginica\\\\\n",
       "\t 6.8       & 3.2       & 5.9       & 2.3       & virginica\\\\\n",
       "\t 6.7       & 3.3       & 5.7       & 2.5       & virginica\\\\\n",
       "\t 6.7       & 3.0       & 5.2       & 2.3       & virginica\\\\\n",
       "\t 6.3       & 2.5       & 5.0       & 1.9       & virginica\\\\\n",
       "\t 6.5       & 3.0       & 5.2       & 2.0       & virginica\\\\\n",
       "\t 6.2       & 3.4       & 5.4       & 2.3       & virginica\\\\\n",
       "\t 5.9       & 3.0       & 5.1       & 1.8       & virginica\\\\\n",
       "\\end{tabular}\n"
      ],
      "text/markdown": [
       "\n",
       "| Sepal.Length | Sepal.Width | Petal.Length | Petal.Width | Species |\n",
       "|---|---|---|---|---|\n",
       "| 5.1    | 3.5    | 1.4    | 0.2    | setosa |\n",
       "| 4.9    | 3.0    | 1.4    | 0.2    | setosa |\n",
       "| 4.7    | 3.2    | 1.3    | 0.2    | setosa |\n",
       "| 4.6    | 3.1    | 1.5    | 0.2    | setosa |\n",
       "| 5.0    | 3.6    | 1.4    | 0.2    | setosa |\n",
       "| 5.4    | 3.9    | 1.7    | 0.4    | setosa |\n",
       "| 4.6    | 3.4    | 1.4    | 0.3    | setosa |\n",
       "| 5.0    | 3.4    | 1.5    | 0.2    | setosa |\n",
       "| 4.4    | 2.9    | 1.4    | 0.2    | setosa |\n",
       "| 4.9    | 3.1    | 1.5    | 0.1    | setosa |\n",
       "| 5.4    | 3.7    | 1.5    | 0.2    | setosa |\n",
       "| 4.8    | 3.4    | 1.6    | 0.2    | setosa |\n",
       "| 4.8    | 3.0    | 1.4    | 0.1    | setosa |\n",
       "| 4.3    | 3.0    | 1.1    | 0.1    | setosa |\n",
       "| 5.8    | 4.0    | 1.2    | 0.2    | setosa |\n",
       "| 5.7    | 4.4    | 1.5    | 0.4    | setosa |\n",
       "| 5.4    | 3.9    | 1.3    | 0.4    | setosa |\n",
       "| 5.1    | 3.5    | 1.4    | 0.3    | setosa |\n",
       "| 5.7    | 3.8    | 1.7    | 0.3    | setosa |\n",
       "| 5.1    | 3.8    | 1.5    | 0.3    | setosa |\n",
       "| 5.4    | 3.4    | 1.7    | 0.2    | setosa |\n",
       "| 5.1    | 3.7    | 1.5    | 0.4    | setosa |\n",
       "| 4.6    | 3.6    | 1.0    | 0.2    | setosa |\n",
       "| 5.1    | 3.3    | 1.7    | 0.5    | setosa |\n",
       "| 4.8    | 3.4    | 1.9    | 0.2    | setosa |\n",
       "| 5.0    | 3.0    | 1.6    | 0.2    | setosa |\n",
       "| 5.0    | 3.4    | 1.6    | 0.4    | setosa |\n",
       "| 5.2    | 3.5    | 1.5    | 0.2    | setosa |\n",
       "| 5.2    | 3.4    | 1.4    | 0.2    | setosa |\n",
       "| 4.7    | 3.2    | 1.6    | 0.2    | setosa |\n",
       "| ... | ... | ... | ... | ... |\n",
       "| 6.9       | 3.2       | 5.7       | 2.3       | virginica |\n",
       "| 5.6       | 2.8       | 4.9       | 2.0       | virginica |\n",
       "| 7.7       | 2.8       | 6.7       | 2.0       | virginica |\n",
       "| 6.3       | 2.7       | 4.9       | 1.8       | virginica |\n",
       "| 6.7       | 3.3       | 5.7       | 2.1       | virginica |\n",
       "| 7.2       | 3.2       | 6.0       | 1.8       | virginica |\n",
       "| 6.2       | 2.8       | 4.8       | 1.8       | virginica |\n",
       "| 6.1       | 3.0       | 4.9       | 1.8       | virginica |\n",
       "| 6.4       | 2.8       | 5.6       | 2.1       | virginica |\n",
       "| 7.2       | 3.0       | 5.8       | 1.6       | virginica |\n",
       "| 7.4       | 2.8       | 6.1       | 1.9       | virginica |\n",
       "| 7.9       | 3.8       | 6.4       | 2.0       | virginica |\n",
       "| 6.4       | 2.8       | 5.6       | 2.2       | virginica |\n",
       "| 6.3       | 2.8       | 5.1       | 1.5       | virginica |\n",
       "| 6.1       | 2.6       | 5.6       | 1.4       | virginica |\n",
       "| 7.7       | 3.0       | 6.1       | 2.3       | virginica |\n",
       "| 6.3       | 3.4       | 5.6       | 2.4       | virginica |\n",
       "| 6.4       | 3.1       | 5.5       | 1.8       | virginica |\n",
       "| 6.0       | 3.0       | 4.8       | 1.8       | virginica |\n",
       "| 6.9       | 3.1       | 5.4       | 2.1       | virginica |\n",
       "| 6.7       | 3.1       | 5.6       | 2.4       | virginica |\n",
       "| 6.9       | 3.1       | 5.1       | 2.3       | virginica |\n",
       "| 5.8       | 2.7       | 5.1       | 1.9       | virginica |\n",
       "| 6.8       | 3.2       | 5.9       | 2.3       | virginica |\n",
       "| 6.7       | 3.3       | 5.7       | 2.5       | virginica |\n",
       "| 6.7       | 3.0       | 5.2       | 2.3       | virginica |\n",
       "| 6.3       | 2.5       | 5.0       | 1.9       | virginica |\n",
       "| 6.5       | 3.0       | 5.2       | 2.0       | virginica |\n",
       "| 6.2       | 3.4       | 5.4       | 2.3       | virginica |\n",
       "| 5.9       | 3.0       | 5.1       | 1.8       | virginica |\n",
       "\n"
      ],
      "text/plain": [
       "    Sepal.Length Sepal.Width Petal.Length Petal.Width Species  \n",
       "1   5.1          3.5         1.4          0.2         setosa   \n",
       "2   4.9          3.0         1.4          0.2         setosa   \n",
       "3   4.7          3.2         1.3          0.2         setosa   \n",
       "4   4.6          3.1         1.5          0.2         setosa   \n",
       "5   5.0          3.6         1.4          0.2         setosa   \n",
       "6   5.4          3.9         1.7          0.4         setosa   \n",
       "7   4.6          3.4         1.4          0.3         setosa   \n",
       "8   5.0          3.4         1.5          0.2         setosa   \n",
       "9   4.4          2.9         1.4          0.2         setosa   \n",
       "10  4.9          3.1         1.5          0.1         setosa   \n",
       "11  5.4          3.7         1.5          0.2         setosa   \n",
       "12  4.8          3.4         1.6          0.2         setosa   \n",
       "13  4.8          3.0         1.4          0.1         setosa   \n",
       "14  4.3          3.0         1.1          0.1         setosa   \n",
       "15  5.8          4.0         1.2          0.2         setosa   \n",
       "16  5.7          4.4         1.5          0.4         setosa   \n",
       "17  5.4          3.9         1.3          0.4         setosa   \n",
       "18  5.1          3.5         1.4          0.3         setosa   \n",
       "19  5.7          3.8         1.7          0.3         setosa   \n",
       "20  5.1          3.8         1.5          0.3         setosa   \n",
       "21  5.4          3.4         1.7          0.2         setosa   \n",
       "22  5.1          3.7         1.5          0.4         setosa   \n",
       "23  4.6          3.6         1.0          0.2         setosa   \n",
       "24  5.1          3.3         1.7          0.5         setosa   \n",
       "25  4.8          3.4         1.9          0.2         setosa   \n",
       "26  5.0          3.0         1.6          0.2         setosa   \n",
       "27  5.0          3.4         1.6          0.4         setosa   \n",
       "28  5.2          3.5         1.5          0.2         setosa   \n",
       "29  5.2          3.4         1.4          0.2         setosa   \n",
       "30  4.7          3.2         1.6          0.2         setosa   \n",
       "... ...          ...         ...          ...         ...      \n",
       "121 6.9          3.2         5.7          2.3         virginica\n",
       "122 5.6          2.8         4.9          2.0         virginica\n",
       "123 7.7          2.8         6.7          2.0         virginica\n",
       "124 6.3          2.7         4.9          1.8         virginica\n",
       "125 6.7          3.3         5.7          2.1         virginica\n",
       "126 7.2          3.2         6.0          1.8         virginica\n",
       "127 6.2          2.8         4.8          1.8         virginica\n",
       "128 6.1          3.0         4.9          1.8         virginica\n",
       "129 6.4          2.8         5.6          2.1         virginica\n",
       "130 7.2          3.0         5.8          1.6         virginica\n",
       "131 7.4          2.8         6.1          1.9         virginica\n",
       "132 7.9          3.8         6.4          2.0         virginica\n",
       "133 6.4          2.8         5.6          2.2         virginica\n",
       "134 6.3          2.8         5.1          1.5         virginica\n",
       "135 6.1          2.6         5.6          1.4         virginica\n",
       "136 7.7          3.0         6.1          2.3         virginica\n",
       "137 6.3          3.4         5.6          2.4         virginica\n",
       "138 6.4          3.1         5.5          1.8         virginica\n",
       "139 6.0          3.0         4.8          1.8         virginica\n",
       "140 6.9          3.1         5.4          2.1         virginica\n",
       "141 6.7          3.1         5.6          2.4         virginica\n",
       "142 6.9          3.1         5.1          2.3         virginica\n",
       "143 5.8          2.7         5.1          1.9         virginica\n",
       "144 6.8          3.2         5.9          2.3         virginica\n",
       "145 6.7          3.3         5.7          2.5         virginica\n",
       "146 6.7          3.0         5.2          2.3         virginica\n",
       "147 6.3          2.5         5.0          1.9         virginica\n",
       "148 6.5          3.0         5.2          2.0         virginica\n",
       "149 6.2          3.4         5.4          2.3         virginica\n",
       "150 5.9          3.0         5.1          1.8         virginica"
      ]
     },
     "metadata": {},
     "output_type": "display_data"
    }
   ],
   "source": [
    "iris"
   ]
  },
  {
   "cell_type": "code",
   "execution_count": 27,
   "metadata": {},
   "outputs": [
    {
     "name": "stdout",
     "output_type": "stream",
     "text": [
      "'data.frame':\t150 obs. of  5 variables:\n",
      " $ Sepal.Length: num  5.1 4.9 4.7 4.6 5 5.4 4.6 5 4.4 4.9 ...\n",
      " $ Sepal.Width : num  3.5 3 3.2 3.1 3.6 3.9 3.4 3.4 2.9 3.1 ...\n",
      " $ Petal.Length: num  1.4 1.4 1.3 1.5 1.4 1.7 1.4 1.5 1.4 1.5 ...\n",
      " $ Petal.Width : num  0.2 0.2 0.2 0.2 0.2 0.4 0.3 0.2 0.2 0.1 ...\n",
      " $ Species     : Factor w/ 3 levels \"setosa\",\"versicolor\",..: 1 1 1 1 1 1 1 1 1 1 ...\n"
     ]
    }
   ],
   "source": [
    "str(iris)"
   ]
  },
  {
   "cell_type": "code",
   "execution_count": null,
   "metadata": {},
   "outputs": [],
   "source": [
    "head(iris, n=6)"
   ]
  },
  {
   "cell_type": "code",
   "execution_count": 28,
   "metadata": {},
   "outputs": [
    {
     "data": {
      "text/plain": [
       "  Sepal.Length    Sepal.Width     Petal.Length    Petal.Width   \n",
       " Min.   :4.300   Min.   :2.000   Min.   :1.000   Min.   :0.100  \n",
       " 1st Qu.:5.100   1st Qu.:2.800   1st Qu.:1.600   1st Qu.:0.300  \n",
       " Median :5.800   Median :3.000   Median :4.350   Median :1.300  \n",
       " Mean   :5.843   Mean   :3.057   Mean   :3.758   Mean   :1.199  \n",
       " 3rd Qu.:6.400   3rd Qu.:3.300   3rd Qu.:5.100   3rd Qu.:1.800  \n",
       " Max.   :7.900   Max.   :4.400   Max.   :6.900   Max.   :2.500  \n",
       "       Species  \n",
       " setosa    :50  \n",
       " versicolor:50  \n",
       " virginica :50  \n",
       "                \n",
       "                \n",
       "                "
      ]
     },
     "metadata": {},
     "output_type": "display_data"
    }
   ],
   "source": [
    "summary(iris)"
   ]
  },
  {
   "cell_type": "code",
   "execution_count": 29,
   "metadata": {},
   "outputs": [
    {
     "name": "stderr",
     "output_type": "stream",
     "text": [
      "Loading required package: ggplot2\n",
      "Registered S3 methods overwritten by 'ggplot2':\n",
      "  method         from \n",
      "  [.quosures     rlang\n",
      "  c.quosures     rlang\n",
      "  print.quosures rlang\n"
     ]
    }
   ],
   "source": [
    "require(ggplot2)"
   ]
  },
  {
   "cell_type": "code",
   "execution_count": 30,
   "metadata": {},
   "outputs": [
    {
     "data": {
      "image/png": "[encoded data removed]",
      "text/plain": [
       "plot without title"
      ]
     },
     "metadata": {},
     "output_type": "display_data"
    }
   ],
   "source": [
    "ggplot(data=iris) +                        # 準備畫布\n",
    "    geom_point(aes(x=Petal.Length,         # 散布圖\n",
    "                   y=Petal.Width,\n",
    "                   color=Species)) +      # 把不同品種的資料標上顏色\n",
    "                   theme_bw()             # 改變主題背景成白色\n"
   ]
  },
  {
   "cell_type": "code",
   "execution_count": null,
   "metadata": {},
   "outputs": [],
   "source": [
    "reg = lm(Petal.Width ~ Petal.Length, data=iris)"
   ]
  },
  {
   "cell_type": "code",
   "execution_count": null,
   "metadata": {},
   "outputs": [],
   "source": [
    "reg"
   ]
  },
  {
   "cell_type": "code",
   "execution_count": null,
   "metadata": {},
   "outputs": [],
   "source": [
    "plot(Petal.Width ~ Petal.Length, data=iris)  + abline(reg)"
   ]
  },
  {
   "cell_type": "code",
   "execution_count": null,
   "metadata": {},
   "outputs": [],
   "source": []
  },
  {
   "cell_type": "code",
   "execution_count": 1,
   "metadata": {},
   "outputs": [],
   "source": [
    "case75 <- read.csv(\"c:/Rdata/p7.5.csv\")"
   ]
  },
  {
   "cell_type": "code",
   "execution_count": 2,
   "metadata": {
    "scrolled": true
   },
   "outputs": [
    {
     "data": {
      "text/html": [
       "<table>\n",
       "<thead><tr><th scope=col>price</th><th scope=col>area</th></tr></thead>\n",
       "<tbody>\n",
       "\t<tr><td>229500</td><td>1850  </td></tr>\n",
       "\t<tr><td>273300</td><td>2190  </td></tr>\n",
       "\t<tr><td>247000</td><td>2100  </td></tr>\n",
       "\t<tr><td>195100</td><td>1930  </td></tr>\n",
       "\t<tr><td>261000</td><td>2300  </td></tr>\n",
       "\t<tr><td>179700</td><td>1710  </td></tr>\n",
       "\t<tr><td>168500</td><td>1550  </td></tr>\n",
       "\t<tr><td>234400</td><td>1920  </td></tr>\n",
       "\t<tr><td>168800</td><td>1840  </td></tr>\n",
       "\t<tr><td>180400</td><td>1720  </td></tr>\n",
       "\t<tr><td>156200</td><td>1660  </td></tr>\n",
       "\t<tr><td>288350</td><td>2405  </td></tr>\n",
       "\t<tr><td>186750</td><td>1525  </td></tr>\n",
       "\t<tr><td>202100</td><td>2030  </td></tr>\n",
       "\t<tr><td>256800</td><td>2240  </td></tr>\n",
       "</tbody>\n",
       "</table>\n"
      ],
      "text/latex": [
       "\\begin{tabular}{r|ll}\n",
       " price & area\\\\\n",
       "\\hline\n",
       "\t 229500 & 1850  \\\\\n",
       "\t 273300 & 2190  \\\\\n",
       "\t 247000 & 2100  \\\\\n",
       "\t 195100 & 1930  \\\\\n",
       "\t 261000 & 2300  \\\\\n",
       "\t 179700 & 1710  \\\\\n",
       "\t 168500 & 1550  \\\\\n",
       "\t 234400 & 1920  \\\\\n",
       "\t 168800 & 1840  \\\\\n",
       "\t 180400 & 1720  \\\\\n",
       "\t 156200 & 1660  \\\\\n",
       "\t 288350 & 2405  \\\\\n",
       "\t 186750 & 1525  \\\\\n",
       "\t 202100 & 2030  \\\\\n",
       "\t 256800 & 2240  \\\\\n",
       "\\end{tabular}\n"
      ],
      "text/markdown": [
       "\n",
       "| price | area |\n",
       "|---|---|\n",
       "| 229500 | 1850   |\n",
       "| 273300 | 2190   |\n",
       "| 247000 | 2100   |\n",
       "| 195100 | 1930   |\n",
       "| 261000 | 2300   |\n",
       "| 179700 | 1710   |\n",
       "| 168500 | 1550   |\n",
       "| 234400 | 1920   |\n",
       "| 168800 | 1840   |\n",
       "| 180400 | 1720   |\n",
       "| 156200 | 1660   |\n",
       "| 288350 | 2405   |\n",
       "| 186750 | 1525   |\n",
       "| 202100 | 2030   |\n",
       "| 256800 | 2240   |\n",
       "\n"
      ],
      "text/plain": [
       "   price  area\n",
       "1  229500 1850\n",
       "2  273300 2190\n",
       "3  247000 2100\n",
       "4  195100 1930\n",
       "5  261000 2300\n",
       "6  179700 1710\n",
       "7  168500 1550\n",
       "8  234400 1920\n",
       "9  168800 1840\n",
       "10 180400 1720\n",
       "11 156200 1660\n",
       "12 288350 2405\n",
       "13 186750 1525\n",
       "14 202100 2030\n",
       "15 256800 2240"
      ]
     },
     "metadata": {},
     "output_type": "display_data"
    }
   ],
   "source": [
    "case75"
   ]
  },
  {
   "cell_type": "code",
   "execution_count": 7,
   "metadata": {},
   "outputs": [
    {
     "name": "stderr",
     "output_type": "stream",
     "text": [
      "Loading required package: ggplot2\n",
      "Registered S3 methods overwritten by 'ggplot2':\n",
      "  method         from \n",
      "  [.quosures     rlang\n",
      "  c.quosures     rlang\n",
      "  print.quosures rlang\n"
     ]
    }
   ],
   "source": [
    "require(ggplot2)"
   ]
  },
  {
   "cell_type": "code",
   "execution_count": 8,
   "metadata": {
    "scrolled": false
   },
   "outputs": [
    {
     "data": {
      "image/png": "[encoded data removed]",
      "text/plain": [
       "plot without title"
      ]
     },
     "metadata": {},
     "output_type": "display_data"
    }
   ],
   "source": [
    "ggplot(data=case75) +                        # 準備畫布\n",
    "    geom_point(aes(x=price,         # 散布圖\n",
    "                   y=area )) +      # 把不同品種的資料標上顏色\n",
    "                   theme_bw()  \n"
   ]
  },
  {
   "cell_type": "code",
   "execution_count": 9,
   "metadata": {},
   "outputs": [],
   "source": [
    "reg = lm( price ~ area, data=case75)"
   ]
  },
  {
   "cell_type": "code",
   "execution_count": 10,
   "metadata": {},
   "outputs": [
    {
     "data": {
      "text/plain": [
       "\n",
       "Call:\n",
       "lm(formula = price ~ area, data = case75)\n",
       "\n",
       "Coefficients:\n",
       "(Intercept)         area  \n",
       "   -54191.2        139.5  \n"
      ]
     },
     "metadata": {},
     "output_type": "display_data"
    }
   ],
   "source": [
    "reg"
   ]
  },
  {
   "cell_type": "code",
   "execution_count": 11,
   "metadata": {},
   "outputs": [
    {
     "data": {
      "text/html": [],
      "text/latex": [],
      "text/markdown": [],
      "text/plain": [
       "integer(0)"
      ]
     },
     "metadata": {},
     "output_type": "display_data"
    },
    {
     "data": {
      "image/png": "[encoded data removed]",
      "text/plain": [
       "plot without title"
      ]
     },
     "metadata": {},
     "output_type": "display_data"
    }
   ],
   "source": [
    "plot(price ~ area, data=case75)  + abline(reg)"
   ]
  },
  {
   "cell_type": "code",
   "execution_count": null,
   "metadata": {},
   "outputs": [],
   "source": []
  },
  {
   "cell_type": "code",
   "execution_count": 1,
   "metadata": {},
   "outputs": [],
   "source": [
    "case77 <- read.csv(\"c:/Rdata/p7.7.csv\")"
   ]
  },
  {
   "cell_type": "code",
   "execution_count": 2,
   "metadata": {},
   "outputs": [
    {
     "data": {
      "text/html": [
       "<table>\n",
       "<thead><tr><th scope=col>price</th><th scope=col>area</th><th scope=col>room</th></tr></thead>\n",
       "<tbody>\n",
       "\t<tr><td>229500</td><td>1850  </td><td>4     </td></tr>\n",
       "\t<tr><td>273300</td><td>2190  </td><td>5     </td></tr>\n",
       "\t<tr><td>247000</td><td>2100  </td><td>4     </td></tr>\n",
       "\t<tr><td>195100</td><td>1930  </td><td>3     </td></tr>\n",
       "\t<tr><td>261000</td><td>2300  </td><td>4     </td></tr>\n",
       "\t<tr><td>179700</td><td>1710  </td><td>2     </td></tr>\n",
       "\t<tr><td>168500</td><td>1550  </td><td>2     </td></tr>\n",
       "\t<tr><td>234400</td><td>1920  </td><td>4     </td></tr>\n",
       "\t<tr><td>168800</td><td>1840  </td><td>2     </td></tr>\n",
       "\t<tr><td>180400</td><td>1720  </td><td>2     </td></tr>\n",
       "\t<tr><td>156200</td><td>1660  </td><td>2     </td></tr>\n",
       "\t<tr><td>288350</td><td>2405  </td><td>5     </td></tr>\n",
       "\t<tr><td>186750</td><td>1525  </td><td>3     </td></tr>\n",
       "\t<tr><td>202100</td><td>2030  </td><td>2     </td></tr>\n",
       "\t<tr><td>256800</td><td>2240  </td><td>4     </td></tr>\n",
       "</tbody>\n",
       "</table>\n"
      ],
      "text/latex": [
       "\\begin{tabular}{r|lll}\n",
       " price & area & room\\\\\n",
       "\\hline\n",
       "\t 229500 & 1850   & 4     \\\\\n",
       "\t 273300 & 2190   & 5     \\\\\n",
       "\t 247000 & 2100   & 4     \\\\\n",
       "\t 195100 & 1930   & 3     \\\\\n",
       "\t 261000 & 2300   & 4     \\\\\n",
       "\t 179700 & 1710   & 2     \\\\\n",
       "\t 168500 & 1550   & 2     \\\\\n",
       "\t 234400 & 1920   & 4     \\\\\n",
       "\t 168800 & 1840   & 2     \\\\\n",
       "\t 180400 & 1720   & 2     \\\\\n",
       "\t 156200 & 1660   & 2     \\\\\n",
       "\t 288350 & 2405   & 5     \\\\\n",
       "\t 186750 & 1525   & 3     \\\\\n",
       "\t 202100 & 2030   & 2     \\\\\n",
       "\t 256800 & 2240   & 4     \\\\\n",
       "\\end{tabular}\n"
      ],
      "text/markdown": [
       "\n",
       "| price | area | room |\n",
       "|---|---|---|\n",
       "| 229500 | 1850   | 4      |\n",
       "| 273300 | 2190   | 5      |\n",
       "| 247000 | 2100   | 4      |\n",
       "| 195100 | 1930   | 3      |\n",
       "| 261000 | 2300   | 4      |\n",
       "| 179700 | 1710   | 2      |\n",
       "| 168500 | 1550   | 2      |\n",
       "| 234400 | 1920   | 4      |\n",
       "| 168800 | 1840   | 2      |\n",
       "| 180400 | 1720   | 2      |\n",
       "| 156200 | 1660   | 2      |\n",
       "| 288350 | 2405   | 5      |\n",
       "| 186750 | 1525   | 3      |\n",
       "| 202100 | 2030   | 2      |\n",
       "| 256800 | 2240   | 4      |\n",
       "\n"
      ],
      "text/plain": [
       "   price  area room\n",
       "1  229500 1850 4   \n",
       "2  273300 2190 5   \n",
       "3  247000 2100 4   \n",
       "4  195100 1930 3   \n",
       "5  261000 2300 4   \n",
       "6  179700 1710 2   \n",
       "7  168500 1550 2   \n",
       "8  234400 1920 4   \n",
       "9  168800 1840 2   \n",
       "10 180400 1720 2   \n",
       "11 156200 1660 2   \n",
       "12 288350 2405 5   \n",
       "13 186750 1525 3   \n",
       "14 202100 2030 2   \n",
       "15 256800 2240 4   "
      ]
     },
     "metadata": {},
     "output_type": "display_data"
    }
   ],
   "source": [
    "case77"
   ]
  },
  {
   "cell_type": "code",
   "execution_count": 3,
   "metadata": {},
   "outputs": [
    {
     "name": "stdout",
     "output_type": "stream",
     "text": [
      "'data.frame':\t15 obs. of  3 variables:\n",
      " $ price: int  229500 273300 247000 195100 261000 179700 168500 234400 168800 180400 ...\n",
      " $ area : int  1850 2190 2100 1930 2300 1710 1550 1920 1840 1720 ...\n",
      " $ room : int  4 5 4 3 4 2 2 4 2 2 ...\n"
     ]
    }
   ],
   "source": [
    "str(case77)"
   ]
  },
  {
   "cell_type": "code",
   "execution_count": 4,
   "metadata": {},
   "outputs": [
    {
     "data": {
      "text/plain": [
       "     price             area           room    \n",
       " Min.   :156200   Min.   :1525   Min.   :2.0  \n",
       " 1st Qu.:180050   1st Qu.:1715   1st Qu.:2.0  \n",
       " Median :202100   Median :1920   Median :3.0  \n",
       " Mean   :215193   Mean   :1931   Mean   :3.2  \n",
       " 3rd Qu.:251900   3rd Qu.:2145   3rd Qu.:4.0  \n",
       " Max.   :288350   Max.   :2405   Max.   :5.0  "
      ]
     },
     "metadata": {},
     "output_type": "display_data"
    }
   ],
   "source": [
    "summary(case77)"
   ]
  },
  {
   "cell_type": "code",
   "execution_count": 5,
   "metadata": {},
   "outputs": [],
   "source": [
    "reg = lm( price ~ area + room, data=case77)"
   ]
  },
  {
   "cell_type": "code",
   "execution_count": 6,
   "metadata": {},
   "outputs": [
    {
     "data": {
      "text/plain": [
       "\n",
       "Call:\n",
       "lm(formula = price ~ area + room, data = case77)\n",
       "\n",
       "Coefficients:\n",
       "(Intercept)         area         room  \n",
       "   12923.73        65.61     23613.14  \n"
      ]
     },
     "metadata": {},
     "output_type": "display_data"
    }
   ],
   "source": [
    "reg"
   ]
  },
  {
   "cell_type": "code",
   "execution_count": null,
   "metadata": {},
   "outputs": [],
   "source": []
  },
  {
   "cell_type": "code",
   "execution_count": 7,
   "metadata": {},
   "outputs": [
    {
     "name": "stdout",
     "output_type": "stream",
     "text": [
      "package 'scatterplot3d' successfully unpacked and MD5 sums checked\n",
      "\n",
      "The downloaded binary packages are in\n",
      "\tC:\\Users\\Administrator\\AppData\\Local\\Temp\\Rtmp2xmoX6\\downloaded_packages\n"
     ]
    }
   ],
   "source": [
    "install.packages(\"scatterplot3d\") # Install\n",
    "library(\"scatterplot3d\") # load"
   ]
  },
  {
   "cell_type": "code",
   "execution_count": 8,
   "metadata": {},
   "outputs": [
    {
     "data": {
      "image/png": "[encoded data removed]",
      "text/plain": [
       "plot without title"
      ]
     },
     "metadata": {},
     "output_type": "display_data"
    }
   ],
   "source": [
    "scatterplot3d( case77$area , case77$room, case77$price , color=case77$room )"
   ]
  },
  {
   "cell_type": "code",
   "execution_count": 9,
   "metadata": {},
   "outputs": [
    {
     "data": {
      "image/png": "[encoded data removed]",
      "text/plain": [
       "plot without title"
      ]
     },
     "metadata": {},
     "output_type": "display_data"
    }
   ],
   "source": [
    "s3d <- scatterplot3d( case77$area , case77$room, case77$price , color=case77$room )\n",
    "reg = lm( case77$price ~ case77$area + case77$room, data=case77)\n",
    "s3d$plane3d(reg)"
   ]
  },
  {
   "cell_type": "code",
   "execution_count": null,
   "metadata": {},
   "outputs": [],
   "source": []
  },
  {
   "cell_type": "code",
   "execution_count": null,
   "metadata": {},
   "outputs": [],
   "source": []
  },
  {
   "cell_type": "code",
   "execution_count": 1,
   "metadata": {},
   "outputs": [],
   "source": [
    "case79 <- read.csv(\"c:/Rdata/p7.9.csv\")"
   ]
  },
  {
   "cell_type": "code",
   "execution_count": 2,
   "metadata": {
    "scrolled": true
   },
   "outputs": [
    {
     "data": {
      "text/html": [
       "<table>\n",
       "<thead><tr><th scope=col>watt</th><th scope=col>temp</th></tr></thead>\n",
       "<tbody>\n",
       "\t<tr><td>12530</td><td>46.8 </td></tr>\n",
       "\t<tr><td>10800</td><td>52.1 </td></tr>\n",
       "\t<tr><td>10180</td><td>55.1 </td></tr>\n",
       "\t<tr><td> 9730</td><td>59.2 </td></tr>\n",
       "\t<tr><td> 9750</td><td>61.9 </td></tr>\n",
       "\t<tr><td>10230</td><td>66.2 </td></tr>\n",
       "\t<tr><td>11160</td><td>69.9 </td></tr>\n",
       "\t<tr><td>13910</td><td>76.8 </td></tr>\n",
       "\t<tr><td>15690</td><td>79.3 </td></tr>\n",
       "\t<tr><td>15100</td><td>79.7 </td></tr>\n",
       "\t<tr><td>17020</td><td>80.2 </td></tr>\n",
       "\t<tr><td>17880</td><td>83.3 </td></tr>\n",
       "</tbody>\n",
       "</table>\n"
      ],
      "text/latex": [
       "\\begin{tabular}{r|ll}\n",
       " watt & temp\\\\\n",
       "\\hline\n",
       "\t 12530 & 46.8 \\\\\n",
       "\t 10800 & 52.1 \\\\\n",
       "\t 10180 & 55.1 \\\\\n",
       "\t  9730 & 59.2 \\\\\n",
       "\t  9750 & 61.9 \\\\\n",
       "\t 10230 & 66.2 \\\\\n",
       "\t 11160 & 69.9 \\\\\n",
       "\t 13910 & 76.8 \\\\\n",
       "\t 15690 & 79.3 \\\\\n",
       "\t 15100 & 79.7 \\\\\n",
       "\t 17020 & 80.2 \\\\\n",
       "\t 17880 & 83.3 \\\\\n",
       "\\end{tabular}\n"
      ],
      "text/markdown": [
       "\n",
       "| watt | temp |\n",
       "|---|---|\n",
       "| 12530 | 46.8  |\n",
       "| 10800 | 52.1  |\n",
       "| 10180 | 55.1  |\n",
       "|  9730 | 59.2  |\n",
       "|  9750 | 61.9  |\n",
       "| 10230 | 66.2  |\n",
       "| 11160 | 69.9  |\n",
       "| 13910 | 76.8  |\n",
       "| 15690 | 79.3  |\n",
       "| 15100 | 79.7  |\n",
       "| 17020 | 80.2  |\n",
       "| 17880 | 83.3  |\n",
       "\n"
      ],
      "text/plain": [
       "   watt  temp\n",
       "1  12530 46.8\n",
       "2  10800 52.1\n",
       "3  10180 55.1\n",
       "4   9730 59.2\n",
       "5   9750 61.9\n",
       "6  10230 66.2\n",
       "7  11160 69.9\n",
       "8  13910 76.8\n",
       "9  15690 79.3\n",
       "10 15100 79.7\n",
       "11 17020 80.2\n",
       "12 17880 83.3"
      ]
     },
     "metadata": {},
     "output_type": "display_data"
    }
   ],
   "source": [
    "case79"
   ]
  },
  {
   "cell_type": "code",
   "execution_count": 3,
   "metadata": {},
   "outputs": [],
   "source": [
    "reg79 = lm( watt ~ temp + I(temp^2), data=case79)"
   ]
  },
  {
   "cell_type": "code",
   "execution_count": 4,
   "metadata": {},
   "outputs": [
    {
     "data": {
      "text/plain": [
       "\n",
       "Call:\n",
       "lm(formula = watt ~ temp + I(temp^2), data = case79)\n",
       "\n",
       "Coefficients:\n",
       "(Intercept)         temp    I(temp^2)  \n",
       "   67237.29     -1910.74        15.87  \n"
      ]
     },
     "metadata": {},
     "output_type": "display_data"
    }
   ],
   "source": [
    "reg79 "
   ]
  },
  {
   "cell_type": "code",
   "execution_count": 5,
   "metadata": {},
   "outputs": [
    {
     "data": {
      "image/png": "[encoded data removed]",
      "text/plain": [
       "plot without title"
      ]
     },
     "metadata": {},
     "output_type": "display_data"
    }
   ],
   "source": [
    "plot(watt ~ temp, data=case79)  "
   ]
  },
  {
   "cell_type": "code",
   "execution_count": 6,
   "metadata": {},
   "outputs": [
    {
     "data": {
      "text/html": [
       "<ol class=list-inline>\n",
       "\t<li>46.8</li>\n",
       "\t<li>47</li>\n",
       "\t<li>47.2</li>\n",
       "\t<li>47.4</li>\n",
       "\t<li>47.6</li>\n",
       "\t<li>47.8</li>\n",
       "\t<li>48</li>\n",
       "\t<li>48.2</li>\n",
       "\t<li>48.4</li>\n",
       "\t<li>48.6</li>\n",
       "\t<li>48.8</li>\n",
       "\t<li>49</li>\n",
       "\t<li>49.2</li>\n",
       "\t<li>49.4</li>\n",
       "\t<li>49.6</li>\n",
       "\t<li>49.8</li>\n",
       "\t<li>50</li>\n",
       "\t<li>50.2</li>\n",
       "\t<li>50.4</li>\n",
       "\t<li>50.6</li>\n",
       "\t<li>50.8</li>\n",
       "\t<li>51</li>\n",
       "\t<li>51.2</li>\n",
       "\t<li>51.4</li>\n",
       "\t<li>51.6</li>\n",
       "\t<li>51.8</li>\n",
       "\t<li>52</li>\n",
       "\t<li>52.2</li>\n",
       "\t<li>52.4</li>\n",
       "\t<li>52.6</li>\n",
       "\t<li>52.8</li>\n",
       "\t<li>53</li>\n",
       "\t<li>53.2</li>\n",
       "\t<li>53.4</li>\n",
       "\t<li>53.6</li>\n",
       "\t<li>53.8</li>\n",
       "\t<li>54</li>\n",
       "\t<li>54.2</li>\n",
       "\t<li>54.4</li>\n",
       "\t<li>54.6</li>\n",
       "\t<li>54.8</li>\n",
       "\t<li>55</li>\n",
       "\t<li>55.2</li>\n",
       "\t<li>55.4</li>\n",
       "\t<li>55.6</li>\n",
       "\t<li>55.8</li>\n",
       "\t<li>56</li>\n",
       "\t<li>56.2</li>\n",
       "\t<li>56.4</li>\n",
       "\t<li>56.6</li>\n",
       "\t<li>56.8</li>\n",
       "\t<li>57</li>\n",
       "\t<li>57.2</li>\n",
       "\t<li>57.4</li>\n",
       "\t<li>57.6</li>\n",
       "\t<li>57.8</li>\n",
       "\t<li>58</li>\n",
       "\t<li>58.2</li>\n",
       "\t<li>58.4</li>\n",
       "\t<li>58.6</li>\n",
       "\t<li>58.8</li>\n",
       "\t<li>59</li>\n",
       "\t<li>59.2</li>\n",
       "\t<li>59.4</li>\n",
       "\t<li>59.6</li>\n",
       "\t<li>59.8</li>\n",
       "\t<li>60</li>\n",
       "\t<li>60.2</li>\n",
       "\t<li>60.4</li>\n",
       "\t<li>60.6</li>\n",
       "\t<li>60.8</li>\n",
       "\t<li>61</li>\n",
       "\t<li>61.2</li>\n",
       "\t<li>61.4</li>\n",
       "\t<li>61.6</li>\n",
       "\t<li>61.8</li>\n",
       "\t<li>62</li>\n",
       "\t<li>62.2</li>\n",
       "\t<li>62.4</li>\n",
       "\t<li>62.6</li>\n",
       "\t<li>62.8</li>\n",
       "\t<li>63</li>\n",
       "\t<li>63.2</li>\n",
       "\t<li>63.4</li>\n",
       "\t<li>63.6</li>\n",
       "\t<li>63.8</li>\n",
       "\t<li>64</li>\n",
       "\t<li>64.2</li>\n",
       "\t<li>64.4</li>\n",
       "\t<li>64.6</li>\n",
       "\t<li>64.8</li>\n",
       "\t<li>65</li>\n",
       "\t<li>65.2</li>\n",
       "\t<li>65.4</li>\n",
       "\t<li>65.6</li>\n",
       "\t<li>65.8</li>\n",
       "\t<li>66</li>\n",
       "\t<li>66.2</li>\n",
       "\t<li>66.4</li>\n",
       "\t<li>66.6</li>\n",
       "\t<li>66.8</li>\n",
       "\t<li>67</li>\n",
       "\t<li>67.2</li>\n",
       "\t<li>67.4</li>\n",
       "\t<li>67.6</li>\n",
       "\t<li>67.8</li>\n",
       "\t<li>68</li>\n",
       "\t<li>68.2</li>\n",
       "\t<li>68.4</li>\n",
       "\t<li>68.6</li>\n",
       "\t<li>68.8</li>\n",
       "\t<li>69</li>\n",
       "\t<li>69.2</li>\n",
       "\t<li>69.4</li>\n",
       "\t<li>69.6</li>\n",
       "\t<li>69.8</li>\n",
       "\t<li>70</li>\n",
       "\t<li>70.2</li>\n",
       "\t<li>70.4</li>\n",
       "\t<li>70.6</li>\n",
       "\t<li>70.8</li>\n",
       "\t<li>71</li>\n",
       "\t<li>71.2</li>\n",
       "\t<li>71.4</li>\n",
       "\t<li>71.6</li>\n",
       "\t<li>71.8</li>\n",
       "\t<li>72</li>\n",
       "\t<li>72.2</li>\n",
       "\t<li>72.4</li>\n",
       "\t<li>72.6</li>\n",
       "\t<li>72.8</li>\n",
       "\t<li>73</li>\n",
       "\t<li>73.2</li>\n",
       "\t<li>73.4</li>\n",
       "\t<li>73.6</li>\n",
       "\t<li>73.8</li>\n",
       "\t<li>74</li>\n",
       "\t<li>74.2</li>\n",
       "\t<li>74.4</li>\n",
       "\t<li>74.6</li>\n",
       "\t<li>74.8</li>\n",
       "\t<li>75</li>\n",
       "\t<li>75.2</li>\n",
       "\t<li>75.4</li>\n",
       "\t<li>75.6</li>\n",
       "\t<li>75.8</li>\n",
       "\t<li>76</li>\n",
       "\t<li>76.2</li>\n",
       "\t<li>76.4</li>\n",
       "\t<li>76.6</li>\n",
       "\t<li>76.8</li>\n",
       "\t<li>77</li>\n",
       "\t<li>77.2</li>\n",
       "\t<li>77.4</li>\n",
       "\t<li>77.6</li>\n",
       "\t<li>77.8</li>\n",
       "\t<li>78</li>\n",
       "\t<li>78.2</li>\n",
       "\t<li>78.4</li>\n",
       "\t<li>78.6</li>\n",
       "\t<li>78.8</li>\n",
       "\t<li>79</li>\n",
       "\t<li>79.2</li>\n",
       "\t<li>79.4</li>\n",
       "\t<li>79.6</li>\n",
       "\t<li>79.8</li>\n",
       "\t<li>80</li>\n",
       "\t<li>80.2</li>\n",
       "\t<li>80.4</li>\n",
       "\t<li>80.6</li>\n",
       "\t<li>80.8</li>\n",
       "\t<li>81</li>\n",
       "\t<li>81.2</li>\n",
       "\t<li>81.4</li>\n",
       "\t<li>81.6</li>\n",
       "\t<li>81.8</li>\n",
       "\t<li>82</li>\n",
       "\t<li>82.2</li>\n",
       "\t<li>82.4</li>\n",
       "\t<li>82.6</li>\n",
       "\t<li>82.8</li>\n",
       "\t<li>83</li>\n",
       "\t<li>83.2</li>\n",
       "</ol>\n"
      ],
      "text/latex": [
       "\\begin{enumerate*}\n",
       "\\item 46.8\n",
       "\\item 47\n",
       "\\item 47.2\n",
       "\\item 47.4\n",
       "\\item 47.6\n",
       "\\item 47.8\n",
       "\\item 48\n",
       "\\item 48.2\n",
       "\\item 48.4\n",
       "\\item 48.6\n",
       "\\item 48.8\n",
       "\\item 49\n",
       "\\item 49.2\n",
       "\\item 49.4\n",
       "\\item 49.6\n",
       "\\item 49.8\n",
       "\\item 50\n",
       "\\item 50.2\n",
       "\\item 50.4\n",
       "\\item 50.6\n",
       "\\item 50.8\n",
       "\\item 51\n",
       "\\item 51.2\n",
       "\\item 51.4\n",
       "\\item 51.6\n",
       "\\item 51.8\n",
       "\\item 52\n",
       "\\item 52.2\n",
       "\\item 52.4\n",
       "\\item 52.6\n",
       "\\item 52.8\n",
       "\\item 53\n",
       "\\item 53.2\n",
       "\\item 53.4\n",
       "\\item 53.6\n",
       "\\item 53.8\n",
       "\\item 54\n",
       "\\item 54.2\n",
       "\\item 54.4\n",
       "\\item 54.6\n",
       "\\item 54.8\n",
       "\\item 55\n",
       "\\item 55.2\n",
       "\\item 55.4\n",
       "\\item 55.6\n",
       "\\item 55.8\n",
       "\\item 56\n",
       "\\item 56.2\n",
       "\\item 56.4\n",
       "\\item 56.6\n",
       "\\item 56.8\n",
       "\\item 57\n",
       "\\item 57.2\n",
       "\\item 57.4\n",
       "\\item 57.6\n",
       "\\item 57.8\n",
       "\\item 58\n",
       "\\item 58.2\n",
       "\\item 58.4\n",
       "\\item 58.6\n",
       "\\item 58.8\n",
       "\\item 59\n",
       "\\item 59.2\n",
       "\\item 59.4\n",
       "\\item 59.6\n",
       "\\item 59.8\n",
       "\\item 60\n",
       "\\item 60.2\n",
       "\\item 60.4\n",
       "\\item 60.6\n",
       "\\item 60.8\n",
       "\\item 61\n",
       "\\item 61.2\n",
       "\\item 61.4\n",
       "\\item 61.6\n",
       "\\item 61.8\n",
       "\\item 62\n",
       "\\item 62.2\n",
       "\\item 62.4\n",
       "\\item 62.6\n",
       "\\item 62.8\n",
       "\\item 63\n",
       "\\item 63.2\n",
       "\\item 63.4\n",
       "\\item 63.6\n",
       "\\item 63.8\n",
       "\\item 64\n",
       "\\item 64.2\n",
       "\\item 64.4\n",
       "\\item 64.6\n",
       "\\item 64.8\n",
       "\\item 65\n",
       "\\item 65.2\n",
       "\\item 65.4\n",
       "\\item 65.6\n",
       "\\item 65.8\n",
       "\\item 66\n",
       "\\item 66.2\n",
       "\\item 66.4\n",
       "\\item 66.6\n",
       "\\item 66.8\n",
       "\\item 67\n",
       "\\item 67.2\n",
       "\\item 67.4\n",
       "\\item 67.6\n",
       "\\item 67.8\n",
       "\\item 68\n",
       "\\item 68.2\n",
       "\\item 68.4\n",
       "\\item 68.6\n",
       "\\item 68.8\n",
       "\\item 69\n",
       "\\item 69.2\n",
       "\\item 69.4\n",
       "\\item 69.6\n",
       "\\item 69.8\n",
       "\\item 70\n",
       "\\item 70.2\n",
       "\\item 70.4\n",
       "\\item 70.6\n",
       "\\item 70.8\n",
       "\\item 71\n",
       "\\item 71.2\n",
       "\\item 71.4\n",
       "\\item 71.6\n",
       "\\item 71.8\n",
       "\\item 72\n",
       "\\item 72.2\n",
       "\\item 72.4\n",
       "\\item 72.6\n",
       "\\item 72.8\n",
       "\\item 73\n",
       "\\item 73.2\n",
       "\\item 73.4\n",
       "\\item 73.6\n",
       "\\item 73.8\n",
       "\\item 74\n",
       "\\item 74.2\n",
       "\\item 74.4\n",
       "\\item 74.6\n",
       "\\item 74.8\n",
       "\\item 75\n",
       "\\item 75.2\n",
       "\\item 75.4\n",
       "\\item 75.6\n",
       "\\item 75.8\n",
       "\\item 76\n",
       "\\item 76.2\n",
       "\\item 76.4\n",
       "\\item 76.6\n",
       "\\item 76.8\n",
       "\\item 77\n",
       "\\item 77.2\n",
       "\\item 77.4\n",
       "\\item 77.6\n",
       "\\item 77.8\n",
       "\\item 78\n",
       "\\item 78.2\n",
       "\\item 78.4\n",
       "\\item 78.6\n",
       "\\item 78.8\n",
       "\\item 79\n",
       "\\item 79.2\n",
       "\\item 79.4\n",
       "\\item 79.6\n",
       "\\item 79.8\n",
       "\\item 80\n",
       "\\item 80.2\n",
       "\\item 80.4\n",
       "\\item 80.6\n",
       "\\item 80.8\n",
       "\\item 81\n",
       "\\item 81.2\n",
       "\\item 81.4\n",
       "\\item 81.6\n",
       "\\item 81.8\n",
       "\\item 82\n",
       "\\item 82.2\n",
       "\\item 82.4\n",
       "\\item 82.6\n",
       "\\item 82.8\n",
       "\\item 83\n",
       "\\item 83.2\n",
       "\\end{enumerate*}\n"
      ],
      "text/markdown": [
       "1. 46.8\n",
       "2. 47\n",
       "3. 47.2\n",
       "4. 47.4\n",
       "5. 47.6\n",
       "6. 47.8\n",
       "7. 48\n",
       "8. 48.2\n",
       "9. 48.4\n",
       "10. 48.6\n",
       "11. 48.8\n",
       "12. 49\n",
       "13. 49.2\n",
       "14. 49.4\n",
       "15. 49.6\n",
       "16. 49.8\n",
       "17. 50\n",
       "18. 50.2\n",
       "19. 50.4\n",
       "20. 50.6\n",
       "21. 50.8\n",
       "22. 51\n",
       "23. 51.2\n",
       "24. 51.4\n",
       "25. 51.6\n",
       "26. 51.8\n",
       "27. 52\n",
       "28. 52.2\n",
       "29. 52.4\n",
       "30. 52.6\n",
       "31. 52.8\n",
       "32. 53\n",
       "33. 53.2\n",
       "34. 53.4\n",
       "35. 53.6\n",
       "36. 53.8\n",
       "37. 54\n",
       "38. 54.2\n",
       "39. 54.4\n",
       "40. 54.6\n",
       "41. 54.8\n",
       "42. 55\n",
       "43. 55.2\n",
       "44. 55.4\n",
       "45. 55.6\n",
       "46. 55.8\n",
       "47. 56\n",
       "48. 56.2\n",
       "49. 56.4\n",
       "50. 56.6\n",
       "51. 56.8\n",
       "52. 57\n",
       "53. 57.2\n",
       "54. 57.4\n",
       "55. 57.6\n",
       "56. 57.8\n",
       "57. 58\n",
       "58. 58.2\n",
       "59. 58.4\n",
       "60. 58.6\n",
       "61. 58.8\n",
       "62. 59\n",
       "63. 59.2\n",
       "64. 59.4\n",
       "65. 59.6\n",
       "66. 59.8\n",
       "67. 60\n",
       "68. 60.2\n",
       "69. 60.4\n",
       "70. 60.6\n",
       "71. 60.8\n",
       "72. 61\n",
       "73. 61.2\n",
       "74. 61.4\n",
       "75. 61.6\n",
       "76. 61.8\n",
       "77. 62\n",
       "78. 62.2\n",
       "79. 62.4\n",
       "80. 62.6\n",
       "81. 62.8\n",
       "82. 63\n",
       "83. 63.2\n",
       "84. 63.4\n",
       "85. 63.6\n",
       "86. 63.8\n",
       "87. 64\n",
       "88. 64.2\n",
       "89. 64.4\n",
       "90. 64.6\n",
       "91. 64.8\n",
       "92. 65\n",
       "93. 65.2\n",
       "94. 65.4\n",
       "95. 65.6\n",
       "96. 65.8\n",
       "97. 66\n",
       "98. 66.2\n",
       "99. 66.4\n",
       "100. 66.6\n",
       "101. 66.8\n",
       "102. 67\n",
       "103. 67.2\n",
       "104. 67.4\n",
       "105. 67.6\n",
       "106. 67.8\n",
       "107. 68\n",
       "108. 68.2\n",
       "109. 68.4\n",
       "110. 68.6\n",
       "111. 68.8\n",
       "112. 69\n",
       "113. 69.2\n",
       "114. 69.4\n",
       "115. 69.6\n",
       "116. 69.8\n",
       "117. 70\n",
       "118. 70.2\n",
       "119. 70.4\n",
       "120. 70.6\n",
       "121. 70.8\n",
       "122. 71\n",
       "123. 71.2\n",
       "124. 71.4\n",
       "125. 71.6\n",
       "126. 71.8\n",
       "127. 72\n",
       "128. 72.2\n",
       "129. 72.4\n",
       "130. 72.6\n",
       "131. 72.8\n",
       "132. 73\n",
       "133. 73.2\n",
       "134. 73.4\n",
       "135. 73.6\n",
       "136. 73.8\n",
       "137. 74\n",
       "138. 74.2\n",
       "139. 74.4\n",
       "140. 74.6\n",
       "141. 74.8\n",
       "142. 75\n",
       "143. 75.2\n",
       "144. 75.4\n",
       "145. 75.6\n",
       "146. 75.8\n",
       "147. 76\n",
       "148. 76.2\n",
       "149. 76.4\n",
       "150. 76.6\n",
       "151. 76.8\n",
       "152. 77\n",
       "153. 77.2\n",
       "154. 77.4\n",
       "155. 77.6\n",
       "156. 77.8\n",
       "157. 78\n",
       "158. 78.2\n",
       "159. 78.4\n",
       "160. 78.6\n",
       "161. 78.8\n",
       "162. 79\n",
       "163. 79.2\n",
       "164. 79.4\n",
       "165. 79.6\n",
       "166. 79.8\n",
       "167. 80\n",
       "168. 80.2\n",
       "169. 80.4\n",
       "170. 80.6\n",
       "171. 80.8\n",
       "172. 81\n",
       "173. 81.2\n",
       "174. 81.4\n",
       "175. 81.6\n",
       "176. 81.8\n",
       "177. 82\n",
       "178. 82.2\n",
       "179. 82.4\n",
       "180. 82.6\n",
       "181. 82.8\n",
       "182. 83\n",
       "183. 83.2\n",
       "\n",
       "\n"
      ],
      "text/plain": [
       "  [1] 46.8 47.0 47.2 47.4 47.6 47.8 48.0 48.2 48.4 48.6 48.8 49.0 49.2 49.4 49.6\n",
       " [16] 49.8 50.0 50.2 50.4 50.6 50.8 51.0 51.2 51.4 51.6 51.8 52.0 52.2 52.4 52.6\n",
       " [31] 52.8 53.0 53.2 53.4 53.6 53.8 54.0 54.2 54.4 54.6 54.8 55.0 55.2 55.4 55.6\n",
       " [46] 55.8 56.0 56.2 56.4 56.6 56.8 57.0 57.2 57.4 57.6 57.8 58.0 58.2 58.4 58.6\n",
       " [61] 58.8 59.0 59.2 59.4 59.6 59.8 60.0 60.2 60.4 60.6 60.8 61.0 61.2 61.4 61.6\n",
       " [76] 61.8 62.0 62.2 62.4 62.6 62.8 63.0 63.2 63.4 63.6 63.8 64.0 64.2 64.4 64.6\n",
       " [91] 64.8 65.0 65.2 65.4 65.6 65.8 66.0 66.2 66.4 66.6 66.8 67.0 67.2 67.4 67.6\n",
       "[106] 67.8 68.0 68.2 68.4 68.6 68.8 69.0 69.2 69.4 69.6 69.8 70.0 70.2 70.4 70.6\n",
       "[121] 70.8 71.0 71.2 71.4 71.6 71.8 72.0 72.2 72.4 72.6 72.8 73.0 73.2 73.4 73.6\n",
       "[136] 73.8 74.0 74.2 74.4 74.6 74.8 75.0 75.2 75.4 75.6 75.8 76.0 76.2 76.4 76.6\n",
       "[151] 76.8 77.0 77.2 77.4 77.6 77.8 78.0 78.2 78.4 78.6 78.8 79.0 79.2 79.4 79.6\n",
       "[166] 79.8 80.0 80.2 80.4 80.6 80.8 81.0 81.2 81.4 81.6 81.8 82.0 82.2 82.4 82.6\n",
       "[181] 82.8 83.0 83.2"
      ]
     },
     "metadata": {},
     "output_type": "display_data"
    }
   ],
   "source": [
    "new_data <- seq(min(case79$temp),max(case79$temp),0.2)\n",
    "new_data"
   ]
  },
  {
   "cell_type": "code",
   "execution_count": 7,
   "metadata": {},
   "outputs": [
    {
     "data": {
      "image/png": "[encoded data removed]",
      "text/plain": [
       "plot without title"
      ]
     },
     "metadata": {},
     "output_type": "display_data"
    }
   ],
   "source": [
    "plot(watt ~ temp, data=case79)  \n",
    "lines(new_data,predict(reg79,newdata = data.frame(temp = new_data)),lwd = 2,col = 2)"
   ]
  },
  {
   "cell_type": "markdown",
   "metadata": {},
   "source": [
    "# 預測"
   ]
  },
  {
   "cell_type": "code",
   "execution_count": null,
   "metadata": {},
   "outputs": [],
   "source": [
    "predict(reg79,newdata = data.frame(temp = 47))"
   ]
  },
  {
   "cell_type": "code",
   "execution_count": null,
   "metadata": {},
   "outputs": [],
   "source": []
  },
  {
   "cell_type": "code",
   "execution_count": null,
   "metadata": {},
   "outputs": [],
   "source": []
  },
  {
   "cell_type": "code",
   "execution_count": null,
   "metadata": {},
   "outputs": [],
   "source": []
  },
  {
   "cell_type": "markdown",
   "metadata": {},
   "source": [
    "# P7-13"
   ]
  },
  {
   "cell_type": "code",
   "execution_count": 2,
   "metadata": {},
   "outputs": [],
   "source": [
    "case713 <- read.csv(\"c:/Rdata/p7.13.csv\")   # 載入資料"
   ]
  },
  {
   "cell_type": "code",
   "execution_count": 3,
   "metadata": {},
   "outputs": [],
   "source": [
    "reg713 = lm( test2 ~ test1, data=case713)      # 建立回歸模型"
   ]
  },
  {
   "cell_type": "code",
   "execution_count": 4,
   "metadata": {},
   "outputs": [
    {
     "data": {
      "text/html": [
       "<strong>1:</strong> 52.0753069770743"
      ],
      "text/latex": [
       "\\textbf{1:} 52.0753069770743"
      ],
      "text/markdown": [
       "**1:** 52.0753069770743"
      ],
      "text/plain": [
       "       1 \n",
       "52.07531 "
      ]
     },
     "metadata": {},
     "output_type": "display_data"
    }
   ],
   "source": [
    "predict(reg713,newdata = data.frame(test1 = 46))   #透過模型 進行預測"
   ]
  },
  {
   "cell_type": "code",
   "execution_count": 5,
   "metadata": {},
   "outputs": [
    {
     "data": {
      "image/png": "[encoded data removed]",
      "text/plain": [
       "plot without title"
      ]
     },
     "metadata": {},
     "output_type": "display_data"
    }
   ],
   "source": [
    "plot(test2 ~ test1, data=case713)"
   ]
  },
  {
   "cell_type": "code",
   "execution_count": null,
   "metadata": {},
   "outputs": [],
   "source": []
  },
  {
   "cell_type": "markdown",
   "metadata": {},
   "source": [
    "# 7-14"
   ]
  },
  {
   "cell_type": "code",
   "execution_count": 17,
   "metadata": {},
   "outputs": [],
   "source": [
    "case714 <- read.csv(\"c:/Rdata/p7.14.csv\")   # 載入資料"
   ]
  },
  {
   "cell_type": "code",
   "execution_count": 18,
   "metadata": {},
   "outputs": [
    {
     "data": {
      "text/html": [
       "<table>\n",
       "<thead><tr><th scope=col>year</th><th scope=col>GDP</th><th scope=col>callin</th><th scope=col>employee</th><th scope=col>item</th><th scope=col>benefit</th></tr></thead>\n",
       "<tbody>\n",
       "\t<tr><td> 1  </td><td>100 </td><td>25  </td><td> 45 </td><td>11  </td><td>2000</td></tr>\n",
       "\t<tr><td> 2  </td><td>112 </td><td>27  </td><td> 53 </td><td>11  </td><td>2400</td></tr>\n",
       "\t<tr><td> 3  </td><td>115 </td><td>22  </td><td> 54 </td><td>12  </td><td>2700</td></tr>\n",
       "\t<tr><td> 4  </td><td>123 </td><td>27  </td><td> 58 </td><td>14  </td><td>2900</td></tr>\n",
       "\t<tr><td> 5  </td><td>122 </td><td>32  </td><td> 60 </td><td>14  </td><td>3200</td></tr>\n",
       "\t<tr><td> 6  </td><td>132 </td><td>33  </td><td> 65 </td><td>15  </td><td>3500</td></tr>\n",
       "\t<tr><td> 7  </td><td>143 </td><td>40  </td><td> 72 </td><td>16  </td><td>4000</td></tr>\n",
       "\t<tr><td> 8  </td><td>126 </td><td>30  </td><td> 65 </td><td>16  </td><td>4200</td></tr>\n",
       "\t<tr><td> 9  </td><td>166 </td><td>34  </td><td> 85 </td><td>17  </td><td>4500</td></tr>\n",
       "\t<tr><td>10  </td><td>157 </td><td>47  </td><td> 97 </td><td>18  </td><td>4700</td></tr>\n",
       "\t<tr><td>11  </td><td>176 </td><td>33  </td><td> 98 </td><td>18  </td><td>4900</td></tr>\n",
       "\t<tr><td>12  </td><td>180 </td><td>45  </td><td>100 </td><td>20  </td><td>5000</td></tr>\n",
       "</tbody>\n",
       "</table>\n"
      ],
      "text/latex": [
       "\\begin{tabular}{r|llllll}\n",
       " year & GDP & callin & employee & item & benefit\\\\\n",
       "\\hline\n",
       "\t  1   & 100  & 25   &  45  & 11   & 2000\\\\\n",
       "\t  2   & 112  & 27   &  53  & 11   & 2400\\\\\n",
       "\t  3   & 115  & 22   &  54  & 12   & 2700\\\\\n",
       "\t  4   & 123  & 27   &  58  & 14   & 2900\\\\\n",
       "\t  5   & 122  & 32   &  60  & 14   & 3200\\\\\n",
       "\t  6   & 132  & 33   &  65  & 15   & 3500\\\\\n",
       "\t  7   & 143  & 40   &  72  & 16   & 4000\\\\\n",
       "\t  8   & 126  & 30   &  65  & 16   & 4200\\\\\n",
       "\t  9   & 166  & 34   &  85  & 17   & 4500\\\\\n",
       "\t 10   & 157  & 47   &  97  & 18   & 4700\\\\\n",
       "\t 11   & 176  & 33   &  98  & 18   & 4900\\\\\n",
       "\t 12   & 180  & 45   & 100  & 20   & 5000\\\\\n",
       "\\end{tabular}\n"
      ],
      "text/markdown": [
       "\n",
       "| year | GDP | callin | employee | item | benefit |\n",
       "|---|---|---|---|---|---|\n",
       "|  1   | 100  | 25   |  45  | 11   | 2000 |\n",
       "|  2   | 112  | 27   |  53  | 11   | 2400 |\n",
       "|  3   | 115  | 22   |  54  | 12   | 2700 |\n",
       "|  4   | 123  | 27   |  58  | 14   | 2900 |\n",
       "|  5   | 122  | 32   |  60  | 14   | 3200 |\n",
       "|  6   | 132  | 33   |  65  | 15   | 3500 |\n",
       "|  7   | 143  | 40   |  72  | 16   | 4000 |\n",
       "|  8   | 126  | 30   |  65  | 16   | 4200 |\n",
       "|  9   | 166  | 34   |  85  | 17   | 4500 |\n",
       "| 10   | 157  | 47   |  97  | 18   | 4700 |\n",
       "| 11   | 176  | 33   |  98  | 18   | 4900 |\n",
       "| 12   | 180  | 45   | 100  | 20   | 5000 |\n",
       "\n"
      ],
      "text/plain": [
       "   year GDP callin employee item benefit\n",
       "1   1   100 25      45      11   2000   \n",
       "2   2   112 27      53      11   2400   \n",
       "3   3   115 22      54      12   2700   \n",
       "4   4   123 27      58      14   2900   \n",
       "5   5   122 32      60      14   3200   \n",
       "6   6   132 33      65      15   3500   \n",
       "7   7   143 40      72      16   4000   \n",
       "8   8   126 30      65      16   4200   \n",
       "9   9   166 34      85      17   4500   \n",
       "10 10   157 47      97      18   4700   \n",
       "11 11   176 33      98      18   4900   \n",
       "12 12   180 45     100      20   5000   "
      ]
     },
     "metadata": {},
     "output_type": "display_data"
    }
   ],
   "source": [
    "case714"
   ]
  },
  {
   "cell_type": "code",
   "execution_count": 19,
   "metadata": {},
   "outputs": [],
   "source": [
    "reg714 = lm( benefit ~ GDP + callin + employee + item , data=case714)      # 建立回歸模型"
   ]
  },
  {
   "cell_type": "code",
   "execution_count": 20,
   "metadata": {},
   "outputs": [
    {
     "data": {
      "text/plain": [
       "\n",
       "Call:\n",
       "lm(formula = benefit ~ GDP + callin + employee + item, data = case714)\n",
       "\n",
       "Coefficients:\n",
       "(Intercept)          GDP       callin     employee         item  \n",
       "  -1055.975       -6.117      -19.185       21.129      309.634  \n"
      ]
     },
     "metadata": {},
     "output_type": "display_data"
    }
   ],
   "source": [
    "reg714"
   ]
  },
  {
   "cell_type": "code",
   "execution_count": 21,
   "metadata": {},
   "outputs": [
    {
     "data": {
      "text/html": [
       "<strong>1:</strong> 5879.71103279925"
      ],
      "text/latex": [
       "\\textbf{1:} 5879.71103279925"
      ],
      "text/markdown": [
       "**1:** 5879.71103279925"
      ],
      "text/plain": [
       "       1 \n",
       "5879.711 "
      ]
     },
     "metadata": {},
     "output_type": "display_data"
    }
   ],
   "source": [
    "predict(reg714,newdata = data.frame(GDP=185, callin= 48, employee= 103, item=22))   #透過模型 進行預測"
   ]
  },
  {
   "cell_type": "code",
   "execution_count": 24,
   "metadata": {},
   "outputs": [
    {
     "data": {
      "image/png": "[encoded data removed]",
      "text/plain": [
       "plot without title"
      ]
     },
     "metadata": {},
     "output_type": "display_data"
    }
   ],
   "source": [
    "scatterplot3d( case714$GDP , case714$callin, case714$benefit  )"
   ]
  },
  {
   "cell_type": "code",
   "execution_count": 33,
   "metadata": {},
   "outputs": [
    {
     "data": {
      "text/plain": [
       "\n",
       "Call:\n",
       "lm(formula = benefit ~ GDP + callin + employee + item, data = case714)\n",
       "\n",
       "Residuals:\n",
       "    Min      1Q  Median      3Q     Max \n",
       "-333.98  -68.38   17.60  140.95  274.76 \n",
       "\n",
       "Coefficients:\n",
       "             Estimate Std. Error t value Pr(>|t|)   \n",
       "(Intercept) -1055.975    701.407  -1.506  0.17591   \n",
       "GDP            -6.117     14.038  -0.436  0.67612   \n",
       "callin        -19.185     19.525  -0.983  0.35853   \n",
       "employee       21.129     20.380   1.037  0.33433   \n",
       "item          309.634     87.440   3.541  0.00946 **\n",
       "---\n",
       "Signif. codes:  0 '***' 0.001 '**' 0.01 '*' 0.05 '.' 0.1 ' ' 1\n",
       "\n",
       "Residual standard error: 241.5 on 7 degrees of freedom\n",
       "Multiple R-squared:  0.9648,\tAdjusted R-squared:  0.9447 \n",
       "F-statistic:    48 on 4 and 7 DF,  p-value: 3.572e-05\n"
      ]
     },
     "metadata": {},
     "output_type": "display_data"
    }
   ],
   "source": [
    "summary(reg714)"
   ]
  },
  {
   "cell_type": "code",
   "execution_count": null,
   "metadata": {},
   "outputs": [],
   "source": []
  },
  {
   "cell_type": "code",
   "execution_count": 32,
   "metadata": {},
   "outputs": [
    {
     "data": {
      "image/png": "[encoded data removed]",
      "text/plain": [
       "plot without title"
      ]
     },
     "metadata": {},
     "output_type": "display_data"
    }
   ],
   "source": [
    "car::scatterplotMatrix(case714[,1:6])"
   ]
  },
  {
   "cell_type": "code",
   "execution_count": 34,
   "metadata": {},
   "outputs": [],
   "source": [
    "reg714 = lm( benefit ~ year , data=case714)      # 建立回歸模型"
   ]
  },
  {
   "cell_type": "code",
   "execution_count": 35,
   "metadata": {},
   "outputs": [
    {
     "data": {
      "text/plain": [
       "\n",
       "Call:\n",
       "lm(formula = benefit ~ year, data = case714)\n",
       "\n",
       "Residuals:\n",
       "     Min       1Q   Median       3Q      Max \n",
       "-224.359  -46.037   -8.625   58.683  191.725 \n",
       "\n",
       "Coefficients:\n",
       "            Estimate Std. Error t value Pr(>|t|)    \n",
       "(Intercept) 1825.758     71.876    25.4 2.05e-10 ***\n",
       "year         283.217      9.766    29.0 5.54e-11 ***\n",
       "---\n",
       "Signif. codes:  0 '***' 0.001 '**' 0.01 '*' 0.05 '.' 0.1 ' ' 1\n",
       "\n",
       "Residual standard error: 116.8 on 10 degrees of freedom\n",
       "Multiple R-squared:  0.9882,\tAdjusted R-squared:  0.9871 \n",
       "F-statistic:   841 on 1 and 10 DF,  p-value: 5.541e-11\n"
      ]
     },
     "metadata": {},
     "output_type": "display_data"
    }
   ],
   "source": [
    "summary(reg714)"
   ]
  },
  {
   "cell_type": "code",
   "execution_count": null,
   "metadata": {},
   "outputs": [],
   "source": []
  }
 ],
 "metadata": {
  "kernelspec": {
   "display_name": "R",
   "language": "R",
   "name": "ir"
  },
  "language_info": {
   "codemirror_mode": "r",
   "file_extension": ".r",
   "mimetype": "text/x-r-source",
   "name": "R",
   "pygments_lexer": "r",
   "version": "3.6.1"
  }
 },
 "nbformat": 4,
 "nbformat_minor": 4
}
