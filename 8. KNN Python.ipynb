{
  "cells": [
    {
      "cell_type": "markdown",
      "id": "strange-eclipse",
      "metadata": {
        "id": "strange-eclipse"
      },
      "source": [
        "# K-Nearest Neighbors"
      ]
    },
    {
      "cell_type": "markdown",
      "id": "cognitive-semiconductor",
      "metadata": {
        "id": "cognitive-semiconductor"
      },
      "source": [
        "# https://www.mdeditor.tw/pl/2x0j/zh-tw\n",
        "# https://www.analyticsvidhya.com/blog/2018/08/k-nearest-neighbor-introduction-regression-python/"
      ]
    },
    {
      "cell_type": "code",
      "execution_count": 1,
      "id": "driving-bernard",
      "metadata": {
        "id": "driving-bernard",
        "outputId": "b8f0136b-f3aa-4844-9082-dd93f289b5bc",
        "colab": {
          "base_uri": "https://localhost:8080/"
        }
      },
      "outputs": [
        {
          "output_type": "stream",
          "name": "stdout",
          "text": [
            "Looking in indexes: https://pypi.org/simple, https://us-python.pkg.dev/colab-wheels/public/simple/\n",
            "Collecting sklearn\n",
            "  Downloading sklearn-0.0.tar.gz (1.1 kB)\n",
            "Requirement already satisfied: scikit-learn in /usr/local/lib/python3.7/dist-packages (from sklearn) (1.0.2)\n",
            "Requirement already satisfied: scipy>=1.1.0 in /usr/local/lib/python3.7/dist-packages (from scikit-learn->sklearn) (1.7.3)\n",
            "Requirement already satisfied: numpy>=1.14.6 in /usr/local/lib/python3.7/dist-packages (from scikit-learn->sklearn) (1.21.6)\n",
            "Requirement already satisfied: threadpoolctl>=2.0.0 in /usr/local/lib/python3.7/dist-packages (from scikit-learn->sklearn) (3.1.0)\n",
            "Requirement already satisfied: joblib>=0.11 in /usr/local/lib/python3.7/dist-packages (from scikit-learn->sklearn) (1.1.0)\n",
            "Building wheels for collected packages: sklearn\n",
            "  Building wheel for sklearn (setup.py) ... \u001b[?25l\u001b[?25hdone\n",
            "  Created wheel for sklearn: filename=sklearn-0.0-py2.py3-none-any.whl size=1310 sha256=7093dcdbc240490583c08ae0ec2683e3131a7155ecd30776d31c9f6b3f86ba8c\n",
            "  Stored in directory: /root/.cache/pip/wheels/46/ef/c3/157e41f5ee1372d1be90b09f74f82b10e391eaacca8f22d33e\n",
            "Successfully built sklearn\n",
            "Installing collected packages: sklearn\n",
            "Successfully installed sklearn-0.0\n"
          ]
        }
      ],
      "source": [
        "!pip install sklearn"
      ]
    },
    {
      "cell_type": "code",
      "execution_count": 2,
      "id": "another-spending",
      "metadata": {
        "id": "another-spending"
      },
      "outputs": [],
      "source": [
        "import numpy as np\n",
        "import matplotlib.pyplot as plt  # To visualize\n",
        "import pandas as pd  # To read data"
      ]
    },
    {
      "cell_type": "code",
      "execution_count": 4,
      "id": "adapted-arkansas",
      "metadata": {
        "id": "adapted-arkansas",
        "outputId": "969ce856-029d-4023-f0b7-2a1a617919e7",
        "colab": {
          "base_uri": "https://localhost:8080/",
          "height": 363
        }
      },
      "outputs": [
        {
          "output_type": "execute_result",
          "data": {
            "text/plain": [
              "   Height  Age  Weight\n",
              "0    5.00   45      77\n",
              "1    5.11   26      47\n",
              "2    5.60   30      55\n",
              "3    5.90   34      59\n",
              "4    4.80   40      72\n",
              "5    5.80   36      60\n",
              "6    5.30   19      40\n",
              "7    5.80   28      60\n",
              "8    5.50   23      45\n",
              "9    5.60   32      58"
            ],
            "text/html": [
              "\n",
              "  <div id=\"df-ab1bd072-d481-4de6-9ea8-71d6935c6f69\">\n",
              "    <div class=\"colab-df-container\">\n",
              "      <div>\n",
              "<style scoped>\n",
              "    .dataframe tbody tr th:only-of-type {\n",
              "        vertical-align: middle;\n",
              "    }\n",
              "\n",
              "    .dataframe tbody tr th {\n",
              "        vertical-align: top;\n",
              "    }\n",
              "\n",
              "    .dataframe thead th {\n",
              "        text-align: right;\n",
              "    }\n",
              "</style>\n",
              "<table border=\"1\" class=\"dataframe\">\n",
              "  <thead>\n",
              "    <tr style=\"text-align: right;\">\n",
              "      <th></th>\n",
              "      <th>Height</th>\n",
              "      <th>Age</th>\n",
              "      <th>Weight</th>\n",
              "    </tr>\n",
              "  </thead>\n",
              "  <tbody>\n",
              "    <tr>\n",
              "      <th>0</th>\n",
              "      <td>5.00</td>\n",
              "      <td>45</td>\n",
              "      <td>77</td>\n",
              "    </tr>\n",
              "    <tr>\n",
              "      <th>1</th>\n",
              "      <td>5.11</td>\n",
              "      <td>26</td>\n",
              "      <td>47</td>\n",
              "    </tr>\n",
              "    <tr>\n",
              "      <th>2</th>\n",
              "      <td>5.60</td>\n",
              "      <td>30</td>\n",
              "      <td>55</td>\n",
              "    </tr>\n",
              "    <tr>\n",
              "      <th>3</th>\n",
              "      <td>5.90</td>\n",
              "      <td>34</td>\n",
              "      <td>59</td>\n",
              "    </tr>\n",
              "    <tr>\n",
              "      <th>4</th>\n",
              "      <td>4.80</td>\n",
              "      <td>40</td>\n",
              "      <td>72</td>\n",
              "    </tr>\n",
              "    <tr>\n",
              "      <th>5</th>\n",
              "      <td>5.80</td>\n",
              "      <td>36</td>\n",
              "      <td>60</td>\n",
              "    </tr>\n",
              "    <tr>\n",
              "      <th>6</th>\n",
              "      <td>5.30</td>\n",
              "      <td>19</td>\n",
              "      <td>40</td>\n",
              "    </tr>\n",
              "    <tr>\n",
              "      <th>7</th>\n",
              "      <td>5.80</td>\n",
              "      <td>28</td>\n",
              "      <td>60</td>\n",
              "    </tr>\n",
              "    <tr>\n",
              "      <th>8</th>\n",
              "      <td>5.50</td>\n",
              "      <td>23</td>\n",
              "      <td>45</td>\n",
              "    </tr>\n",
              "    <tr>\n",
              "      <th>9</th>\n",
              "      <td>5.60</td>\n",
              "      <td>32</td>\n",
              "      <td>58</td>\n",
              "    </tr>\n",
              "  </tbody>\n",
              "</table>\n",
              "</div>\n",
              "      <button class=\"colab-df-convert\" onclick=\"convertToInteractive('df-ab1bd072-d481-4de6-9ea8-71d6935c6f69')\"\n",
              "              title=\"Convert this dataframe to an interactive table.\"\n",
              "              style=\"display:none;\">\n",
              "        \n",
              "  <svg xmlns=\"http://www.w3.org/2000/svg\" height=\"24px\"viewBox=\"0 0 24 24\"\n",
              "       width=\"24px\">\n",
              "    <path d=\"M0 0h24v24H0V0z\" fill=\"none\"/>\n",
              "    <path d=\"M18.56 5.44l.94 2.06.94-2.06 2.06-.94-2.06-.94-.94-2.06-.94 2.06-2.06.94zm-11 1L8.5 8.5l.94-2.06 2.06-.94-2.06-.94L8.5 2.5l-.94 2.06-2.06.94zm10 10l.94 2.06.94-2.06 2.06-.94-2.06-.94-.94-2.06-.94 2.06-2.06.94z\"/><path d=\"M17.41 7.96l-1.37-1.37c-.4-.4-.92-.59-1.43-.59-.52 0-1.04.2-1.43.59L10.3 9.45l-7.72 7.72c-.78.78-.78 2.05 0 2.83L4 21.41c.39.39.9.59 1.41.59.51 0 1.02-.2 1.41-.59l7.78-7.78 2.81-2.81c.8-.78.8-2.07 0-2.86zM5.41 20L4 18.59l7.72-7.72 1.47 1.35L5.41 20z\"/>\n",
              "  </svg>\n",
              "      </button>\n",
              "      \n",
              "  <style>\n",
              "    .colab-df-container {\n",
              "      display:flex;\n",
              "      flex-wrap:wrap;\n",
              "      gap: 12px;\n",
              "    }\n",
              "\n",
              "    .colab-df-convert {\n",
              "      background-color: #E8F0FE;\n",
              "      border: none;\n",
              "      border-radius: 50%;\n",
              "      cursor: pointer;\n",
              "      display: none;\n",
              "      fill: #1967D2;\n",
              "      height: 32px;\n",
              "      padding: 0 0 0 0;\n",
              "      width: 32px;\n",
              "    }\n",
              "\n",
              "    .colab-df-convert:hover {\n",
              "      background-color: #E2EBFA;\n",
              "      box-shadow: 0px 1px 2px rgba(60, 64, 67, 0.3), 0px 1px 3px 1px rgba(60, 64, 67, 0.15);\n",
              "      fill: #174EA6;\n",
              "    }\n",
              "\n",
              "    [theme=dark] .colab-df-convert {\n",
              "      background-color: #3B4455;\n",
              "      fill: #D2E3FC;\n",
              "    }\n",
              "\n",
              "    [theme=dark] .colab-df-convert:hover {\n",
              "      background-color: #434B5C;\n",
              "      box-shadow: 0px 1px 3px 1px rgba(0, 0, 0, 0.15);\n",
              "      filter: drop-shadow(0px 1px 2px rgba(0, 0, 0, 0.3));\n",
              "      fill: #FFFFFF;\n",
              "    }\n",
              "  </style>\n",
              "\n",
              "      <script>\n",
              "        const buttonEl =\n",
              "          document.querySelector('#df-ab1bd072-d481-4de6-9ea8-71d6935c6f69 button.colab-df-convert');\n",
              "        buttonEl.style.display =\n",
              "          google.colab.kernel.accessAllowed ? 'block' : 'none';\n",
              "\n",
              "        async function convertToInteractive(key) {\n",
              "          const element = document.querySelector('#df-ab1bd072-d481-4de6-9ea8-71d6935c6f69');\n",
              "          const dataTable =\n",
              "            await google.colab.kernel.invokeFunction('convertToInteractive',\n",
              "                                                     [key], {});\n",
              "          if (!dataTable) return;\n",
              "\n",
              "          const docLinkHtml = 'Like what you see? Visit the ' +\n",
              "            '<a target=\"_blank\" href=https://colab.research.google.com/notebooks/data_table.ipynb>data table notebook</a>'\n",
              "            + ' to learn more about interactive tables.';\n",
              "          element.innerHTML = '';\n",
              "          dataTable['output_type'] = 'display_data';\n",
              "          await google.colab.output.renderOutput(dataTable, element);\n",
              "          const docLink = document.createElement('div');\n",
              "          docLink.innerHTML = docLinkHtml;\n",
              "          element.appendChild(docLink);\n",
              "        }\n",
              "      </script>\n",
              "    </div>\n",
              "  </div>\n",
              "  "
            ]
          },
          "metadata": {},
          "execution_count": 4
        }
      ],
      "source": [
        "data = pd.read_csv('https://raw.githubusercontent.com/LiShingHan/DataScience/main/DataSet/KNN.csv')  # load data set\n",
        "data"
      ]
    },
    {
      "cell_type": "code",
      "execution_count": 5,
      "id": "printable-exhaust",
      "metadata": {
        "id": "printable-exhaust"
      },
      "outputs": [],
      "source": [
        "X=data.iloc[:,:-1].values    # predictor attributes\n",
        "y=data.iloc[:,-1].values     # target attributes"
      ]
    },
    {
      "cell_type": "code",
      "execution_count": 6,
      "id": "thorough-desktop",
      "metadata": {
        "id": "thorough-desktop",
        "outputId": "c3626c8c-5bac-498e-ceae-82f66d46e46a",
        "colab": {
          "base_uri": "https://localhost:8080/"
        }
      },
      "outputs": [
        {
          "output_type": "execute_result",
          "data": {
            "text/plain": [
              "array([77, 47, 55, 59, 72, 60, 40, 60, 45, 58])"
            ]
          },
          "metadata": {},
          "execution_count": 6
        }
      ],
      "source": [
        "y"
      ]
    },
    {
      "cell_type": "code",
      "execution_count": 7,
      "id": "greenhouse-qualification",
      "metadata": {
        "id": "greenhouse-qualification",
        "outputId": "72ce73c6-cab3-4ceb-c2fb-96fef33d36ee",
        "colab": {
          "base_uri": "https://localhost:8080/"
        }
      },
      "outputs": [
        {
          "output_type": "execute_result",
          "data": {
            "text/plain": [
              "array([[-1.24371496,  1.84046046],\n",
              "       [-0.93349127, -0.71200295],\n",
              "       [ 0.44841424, -0.17464223],\n",
              "       [ 1.29447884,  0.36271849],\n",
              "       [-1.80775803,  1.16875956],\n",
              "       [ 1.0124573 ,  0.63139884],\n",
              "       [-0.39765036, -1.65238421],\n",
              "       [ 1.0124573 , -0.44332259],\n",
              "       [ 0.1663927 , -1.11502349],\n",
              "       [ 0.44841424,  0.09403813]])"
            ]
          },
          "metadata": {},
          "execution_count": 7
        }
      ],
      "source": [
        "# Feature Scaling\n",
        "from sklearn.preprocessing import StandardScaler\n",
        "sc_X= StandardScaler()\n",
        "X_data=sc_X.fit_transform(X)\n",
        "X_data"
      ]
    },
    {
      "cell_type": "code",
      "execution_count": 8,
      "id": "dried-patient",
      "metadata": {
        "id": "dried-patient"
      },
      "outputs": [],
      "source": [
        "from sklearn import neighbors"
      ]
    },
    {
      "cell_type": "code",
      "execution_count": 9,
      "id": "pointed-drove",
      "metadata": {
        "id": "pointed-drove",
        "outputId": "01a09558-0819-4496-af3f-49f3a5c25b7e",
        "colab": {
          "base_uri": "https://localhost:8080/"
        }
      },
      "outputs": [
        {
          "output_type": "execute_result",
          "data": {
            "text/plain": [
              "array([69.66666667])"
            ]
          },
          "metadata": {},
          "execution_count": 9
        }
      ],
      "source": [
        "model = neighbors.KNeighborsRegressor(n_neighbors = 3)\n",
        "model.fit(X_data, y)  #fit the model\n",
        "X_test = [[5.5, 38]]\n",
        "pred=model.predict(X_test) #make prediction on test set\n",
        "pred\n",
        "\n",
        "## ID11 = (77+72+60)/3 \n",
        "## ID11 = 69.66 kg\n"
      ]
    },
    {
      "cell_type": "code",
      "execution_count": 10,
      "id": "overall-civilian",
      "metadata": {
        "id": "overall-civilian",
        "outputId": "d1ee39fe-0540-4b0c-f319-2e72a1bfbc36",
        "colab": {
          "base_uri": "https://localhost:8080/"
        }
      },
      "outputs": [
        {
          "output_type": "execute_result",
          "data": {
            "text/plain": [
              "array([65.2])"
            ]
          },
          "metadata": {},
          "execution_count": 10
        }
      ],
      "source": [
        "model = neighbors.KNeighborsRegressor(n_neighbors = 5)\n",
        "model.fit(X_data, y)  #fit the model\n",
        "X_test = [[5.5, 38]]\n",
        "pred=model.predict(X_test) #make prediction on test set\n",
        "pred\n",
        "\n",
        "# ID 11 =  (77+59+72+60+58)/5 \n",
        "# ID 11 = 65.2 kg"
      ]
    },
    {
      "cell_type": "code",
      "execution_count": null,
      "id": "wound-theta",
      "metadata": {
        "id": "wound-theta"
      },
      "outputs": [],
      "source": []
    }
  ],
  "metadata": {
    "kernelspec": {
      "display_name": "Python 3",
      "language": "python",
      "name": "python3"
    },
    "language_info": {
      "codemirror_mode": {
        "name": "ipython",
        "version": 3
      },
      "file_extension": ".py",
      "mimetype": "text/x-python",
      "name": "python",
      "nbconvert_exporter": "python",
      "pygments_lexer": "ipython3",
      "version": "3.8.8"
    },
    "colab": {
      "provenance": []
    }
  },
  "nbformat": 4,
  "nbformat_minor": 5
}