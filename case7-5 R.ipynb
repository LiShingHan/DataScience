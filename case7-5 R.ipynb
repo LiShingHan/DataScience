{
 "cells": [
  {
   "cell_type": "code",
   "execution_count": null,
   "metadata": {},
   "outputs": [],
   "source": []
  },
  {
   "cell_type": "code",
   "execution_count": 1,
   "metadata": {},
   "outputs": [],
   "source": [
    "case75 <- read.csv(\"c:/Rdata/p7.5.csv\")"
   ]
  },
  {
   "cell_type": "code",
   "execution_count": 2,
   "metadata": {},
   "outputs": [
    {
     "data": {
      "text/html": [
       "<table>\n",
       "<thead><tr><th scope=col>price</th><th scope=col>area</th></tr></thead>\n",
       "<tbody>\n",
       "\t<tr><td>229500</td><td>1850  </td></tr>\n",
       "\t<tr><td>273300</td><td>2190  </td></tr>\n",
       "\t<tr><td>247000</td><td>2100  </td></tr>\n",
       "\t<tr><td>195100</td><td>1930  </td></tr>\n",
       "\t<tr><td>261000</td><td>2300  </td></tr>\n",
       "\t<tr><td>179700</td><td>1710  </td></tr>\n",
       "\t<tr><td>168500</td><td>1550  </td></tr>\n",
       "\t<tr><td>234400</td><td>1920  </td></tr>\n",
       "\t<tr><td>168800</td><td>1840  </td></tr>\n",
       "\t<tr><td>180400</td><td>1720  </td></tr>\n",
       "\t<tr><td>156200</td><td>1660  </td></tr>\n",
       "\t<tr><td>288350</td><td>2405  </td></tr>\n",
       "\t<tr><td>186750</td><td>1525  </td></tr>\n",
       "\t<tr><td>202100</td><td>2030  </td></tr>\n",
       "\t<tr><td>256800</td><td>2240  </td></tr>\n",
       "</tbody>\n",
       "</table>\n"
      ],
      "text/latex": [
       "\\begin{tabular}{r|ll}\n",
       " price & area\\\\\n",
       "\\hline\n",
       "\t 229500 & 1850  \\\\\n",
       "\t 273300 & 2190  \\\\\n",
       "\t 247000 & 2100  \\\\\n",
       "\t 195100 & 1930  \\\\\n",
       "\t 261000 & 2300  \\\\\n",
       "\t 179700 & 1710  \\\\\n",
       "\t 168500 & 1550  \\\\\n",
       "\t 234400 & 1920  \\\\\n",
       "\t 168800 & 1840  \\\\\n",
       "\t 180400 & 1720  \\\\\n",
       "\t 156200 & 1660  \\\\\n",
       "\t 288350 & 2405  \\\\\n",
       "\t 186750 & 1525  \\\\\n",
       "\t 202100 & 2030  \\\\\n",
       "\t 256800 & 2240  \\\\\n",
       "\\end{tabular}\n"
      ],
      "text/markdown": [
       "\n",
       "| price | area |\n",
       "|---|---|\n",
       "| 229500 | 1850   |\n",
       "| 273300 | 2190   |\n",
       "| 247000 | 2100   |\n",
       "| 195100 | 1930   |\n",
       "| 261000 | 2300   |\n",
       "| 179700 | 1710   |\n",
       "| 168500 | 1550   |\n",
       "| 234400 | 1920   |\n",
       "| 168800 | 1840   |\n",
       "| 180400 | 1720   |\n",
       "| 156200 | 1660   |\n",
       "| 288350 | 2405   |\n",
       "| 186750 | 1525   |\n",
       "| 202100 | 2030   |\n",
       "| 256800 | 2240   |\n",
       "\n"
      ],
      "text/plain": [
       "   price  area\n",
       "1  229500 1850\n",
       "2  273300 2190\n",
       "3  247000 2100\n",
       "4  195100 1930\n",
       "5  261000 2300\n",
       "6  179700 1710\n",
       "7  168500 1550\n",
       "8  234400 1920\n",
       "9  168800 1840\n",
       "10 180400 1720\n",
       "11 156200 1660\n",
       "12 288350 2405\n",
       "13 186750 1525\n",
       "14 202100 2030\n",
       "15 256800 2240"
      ]
     },
     "metadata": {},
     "output_type": "display_data"
    }
   ],
   "source": [
    "case75"
   ]
  },
  {
   "cell_type": "code",
   "execution_count": 3,
   "metadata": {},
   "outputs": [
    {
     "name": "stderr",
     "output_type": "stream",
     "text": [
      "Loading required package: ggplot2\n",
      "Registered S3 methods overwritten by 'ggplot2':\n",
      "  method         from \n",
      "  [.quosures     rlang\n",
      "  c.quosures     rlang\n",
      "  print.quosures rlang\n"
     ]
    }
   ],
   "source": [
    "require(ggplot2)"
   ]
  },
  {
   "cell_type": "code",
   "execution_count": 4,
   "metadata": {},
   "outputs": [
    {
     "data": {
      "image/png": "[encoded data removed]",
      "text/plain": [
       "plot without title"
      ]
     },
     "metadata": {},
     "output_type": "display_data"
    }
   ],
   "source": [
    "ggplot(data=case75) +                        # 準備畫布\n",
    "    geom_point(aes(x=price,         # 散布圖\n",
    "                   y=area )) +      # 把不同品種的資料標上顏色\n",
    "                   theme_bw()  "
   ]
  },
  {
   "cell_type": "code",
   "execution_count": 5,
   "metadata": {},
   "outputs": [],
   "source": [
    "reg = lm( price ~ area, data=case75)"
   ]
  },
  {
   "cell_type": "code",
   "execution_count": 6,
   "metadata": {},
   "outputs": [
    {
     "data": {
      "text/plain": [
       "\n",
       "Call:\n",
       "lm(formula = price ~ area, data = case75)\n",
       "\n",
       "Coefficients:\n",
       "(Intercept)         area  \n",
       "   -54191.2        139.5  \n"
      ]
     },
     "metadata": {},
     "output_type": "display_data"
    }
   ],
   "source": [
    "reg"
   ]
  },
  {
   "cell_type": "code",
   "execution_count": 7,
   "metadata": {},
   "outputs": [
    {
     "data": {
      "text/html": [],
      "text/latex": [],
      "text/markdown": [],
      "text/plain": [
       "integer(0)"
      ]
     },
     "metadata": {},
     "output_type": "display_data"
    },
    {
     "data": {
      "image/png": "[encoded data removed]",
      "text/plain": [
       "plot without title"
      ]
     },
     "metadata": {},
     "output_type": "display_data"
    }
   ],
   "source": [
    "plot(price ~ area, data=case75)  + abline(reg)"
   ]
  },
  {
   "cell_type": "code",
   "execution_count": null,
   "metadata": {},
   "outputs": [],
   "source": []
  },
  {
   "cell_type": "code",
   "execution_count": null,
   "metadata": {},
   "outputs": [],
   "source": []
  },
  {
   "cell_type": "code",
   "execution_count": null,
   "metadata": {},
   "outputs": [],
   "source": []
  }
 ],
 "metadata": {
  "kernelspec": {
   "display_name": "R",
   "language": "R",
   "name": "ir"
  },
  "language_info": {
   "codemirror_mode": "r",
   "file_extension": ".r",
   "mimetype": "text/x-r-source",
   "name": "R",
   "pygments_lexer": "r",
   "version": "3.6.1"
  }
 },
 "nbformat": 4,
 "nbformat_minor": 4
}
