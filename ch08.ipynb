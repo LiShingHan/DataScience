{
 "cells": [
  {
   "cell_type": "code",
   "execution_count": 1,
   "metadata": {},
   "outputs": [
    {
     "name": "stderr",
     "output_type": "stream",
     "text": [
      "also installing the dependency 'jsonlite'\n",
      "\n"
     ]
    },
    {
     "name": "stdout",
     "output_type": "stream",
     "text": [
      "package 'jsonlite' successfully unpacked and MD5 sums checked\n"
     ]
    },
    {
     "name": "stderr",
     "output_type": "stream",
     "text": [
      "Warning message:\n",
      "\"cannot remove prior installation of package 'jsonlite'\"Warning message in file.copy(savedcopy, lib, recursive = TRUE):\n",
      "\"複製 C:\\Anaconda3\\envs\\R\\Lib\\R\\library\\00LOCK\\jsonlite\\libs\\x64\\jsonlite.dll 到 C:\\Anaconda3\\envs\\R\\Lib\\R\\library\\jsonlite\\libs\\x64\\jsonlite.dll 時出了問題：Permission denied\"Warning message:\n",
      "\"restored 'jsonlite'\""
     ]
    },
    {
     "name": "stdout",
     "output_type": "stream",
     "text": [
      "package 'devtools' successfully unpacked and MD5 sums checked\n",
      "\n",
      "The downloaded binary packages are in\n",
      "\tC:\\Users\\Administrator\\AppData\\Local\\Temp\\RtmpwxiFxL\\downloaded_packages\n"
     ]
    },
    {
     "name": "stderr",
     "output_type": "stream",
     "text": [
      "Warning message:\n",
      "\"package 'devtools' was built under R version 3.6.3\"Loading required package: usethis\n",
      "Warning message:\n",
      "\"package 'usethis' was built under R version 3.6.3\""
     ]
    }
   ],
   "source": [
    "install.packages(\"devtools\")\n",
    "library(devtools)\n"
   ]
  },
  {
   "cell_type": "code",
   "execution_count": 2,
   "metadata": {},
   "outputs": [
    {
     "name": "stderr",
     "output_type": "stream",
     "text": [
      "SHA-1 hash of file is bf3c7b8ac910823b729e3ce73bb6ab5e6955ad3d\n"
     ]
    }
   ],
   "source": [
    "source_url('https://gist.githubusercontent.com/Peque/41a9e20d6687f2f3108d/raw/85e14f3a292e126f1454864427e3a189c2fe33f3/nnet_plot_update.r')"
   ]
  },
  {
   "cell_type": "code",
   "execution_count": 3,
   "metadata": {},
   "outputs": [
    {
     "name": "stdout",
     "output_type": "stream",
     "text": [
      "package 'DMwR' successfully unpacked and MD5 sums checked\n",
      "\n",
      "The downloaded binary packages are in\n",
      "\tC:\\Users\\Administrator\\AppData\\Local\\Temp\\RtmpwxiFxL\\downloaded_packages\n",
      "package 'nnet' successfully unpacked and MD5 sums checked\n"
     ]
    },
    {
     "name": "stderr",
     "output_type": "stream",
     "text": [
      "Warning message:\n",
      "\"cannot remove prior installation of package 'nnet'\"Warning message in file.copy(savedcopy, lib, recursive = TRUE):\n",
      "\"複製 C:\\Anaconda3\\envs\\R\\Lib\\R\\library\\00LOCK\\nnet\\libs\\x64\\nnet.dll 到 C:\\Anaconda3\\envs\\R\\Lib\\R\\library\\nnet\\libs\\x64\\nnet.dll 時出了問題：Permission denied\"Warning message:\n",
      "\"restored 'nnet'\""
     ]
    },
    {
     "name": "stdout",
     "output_type": "stream",
     "text": [
      "\n",
      "The downloaded binary packages are in\n",
      "\tC:\\Users\\Administrator\\AppData\\Local\\Temp\\RtmpwxiFxL\\downloaded_packages\n",
      "package 'reshape' successfully unpacked and MD5 sums checked\n",
      "\n",
      "The downloaded binary packages are in\n",
      "\tC:\\Users\\Administrator\\AppData\\Local\\Temp\\RtmpwxiFxL\\downloaded_packages\n",
      "package 'scales' successfully unpacked and MD5 sums checked\n"
     ]
    },
    {
     "name": "stderr",
     "output_type": "stream",
     "text": [
      "Warning message:\n",
      "\"cannot remove prior installation of package 'scales'\"Warning message in file.copy(savedcopy, lib, recursive = TRUE):\n",
      "\"複製 C:\\Anaconda3\\envs\\R\\Lib\\R\\library\\00LOCK\\scales\\libs\\x64\\scales.dll 到 C:\\Anaconda3\\envs\\R\\Lib\\R\\library\\scales\\libs\\x64\\scales.dll 時出了問題：Permission denied\"Warning message:\n",
      "\"restored 'scales'\""
     ]
    },
    {
     "name": "stdout",
     "output_type": "stream",
     "text": [
      "\n",
      "The downloaded binary packages are in\n",
      "\tC:\\Users\\Administrator\\AppData\\Local\\Temp\\RtmpwxiFxL\\downloaded_packages\n"
     ]
    },
    {
     "name": "stderr",
     "output_type": "stream",
     "text": [
      "Warning message:\n",
      "\"package 'DMwR' was built under R version 3.6.3\"Loading required package: lattice\n",
      "Loading required package: grid\n",
      "Registered S3 method overwritten by 'xts':\n",
      "  method     from\n",
      "  as.zoo.xts zoo \n",
      "Registered S3 method overwritten by 'quantmod':\n",
      "  method            from\n",
      "  as.zoo.data.frame zoo \n",
      "Warning message:\n",
      "\"package 'nnet' was built under R version 3.6.3\"Warning message:\n",
      "\"package 'reshape' was built under R version 3.6.3\"Registered S3 methods overwritten by 'ggplot2':\n",
      "  method         from \n",
      "  [.quosures     rlang\n",
      "  c.quosures     rlang\n",
      "  print.quosures rlang\n"
     ]
    }
   ],
   "source": [
    "install.packages(\"DMwR\")\n",
    "install.packages(\"nnet\")\n",
    "install.packages(\"reshape\")\n",
    "install.packages(\"scales\")\n",
    "\n",
    "library(DMwR)\n",
    "library(nnet)\n",
    "library(reshape)\n",
    "library(devtools)\n",
    "library(scales)\n",
    "library(ggplot2)\n"
   ]
  },
  {
   "cell_type": "code",
   "execution_count": null,
   "metadata": {},
   "outputs": [],
   "source": []
  },
  {
   "cell_type": "code",
   "execution_count": null,
   "metadata": {},
   "outputs": [],
   "source": []
  },
  {
   "cell_type": "code",
   "execution_count": 23,
   "metadata": {},
   "outputs": [],
   "source": [
    "data(iris)"
   ]
  },
  {
   "cell_type": "code",
   "execution_count": 24,
   "metadata": {},
   "outputs": [],
   "source": [
    "set.seed(50)"
   ]
  },
  {
   "cell_type": "code",
   "execution_count": 25,
   "metadata": {},
   "outputs": [],
   "source": [
    "n <- nrow(iris)"
   ]
  },
  {
   "cell_type": "code",
   "execution_count": 26,
   "metadata": {},
   "outputs": [],
   "source": [
    "t_size = round(0.7 * n)"
   ]
  },
  {
   "cell_type": "code",
   "execution_count": 27,
   "metadata": {},
   "outputs": [],
   "source": [
    "t_idx <- sample(seq_len(n), size = t_size)"
   ]
  },
  {
   "cell_type": "code",
   "execution_count": 28,
   "metadata": {},
   "outputs": [],
   "source": [
    "traindata <- iris[t_idx,]"
   ]
  },
  {
   "cell_type": "code",
   "execution_count": 29,
   "metadata": {},
   "outputs": [],
   "source": [
    "testdata <- iris[ - t_idx,]"
   ]
  },
  {
   "cell_type": "code",
   "execution_count": 30,
   "metadata": {},
   "outputs": [
    {
     "name": "stdout",
     "output_type": "stream",
     "text": [
      "# weights:  27\n",
      "initial  value 156.065658 \n",
      "iter  10 value 86.734722\n",
      "iter  20 value 16.835100\n",
      "iter  30 value 6.274023\n",
      "iter  40 value 5.749712\n",
      "iter  50 value 4.797232\n",
      "iter  60 value 4.195505\n",
      "iter  70 value 4.131569\n",
      "iter  80 value 4.083285\n",
      "iter  90 value 4.069321\n",
      "iter 100 value 4.012887\n",
      "iter 110 value 3.865429\n",
      "iter 120 value 3.523008\n",
      "iter 130 value 3.122874\n",
      "iter 140 value 2.959469\n",
      "iter 150 value 2.895784\n",
      "iter 160 value 2.814807\n",
      "iter 170 value 2.776285\n",
      "iter 180 value 2.764849\n",
      "iter 190 value 2.762372\n",
      "iter 200 value 2.761747\n",
      "iter 210 value 2.761697\n",
      "iter 220 value 2.761663\n",
      "iter 230 value 2.761640\n",
      "iter 240 value 2.761636\n",
      "final  value 2.761635 \n",
      "converged\n"
     ]
    }
   ],
   "source": [
    "nnetM <- nnet(formula = Species ~ ., linout = T, size = 3, decay = 0.001, maxit = 1000, trace = T, data = traindata)"
   ]
  },
  {
   "cell_type": "code",
   "execution_count": 31,
   "metadata": {},
   "outputs": [
    {
     "data": {
      "image/png": "[encoded data removed]",
      "text/plain": [
       "plot without title"
      ]
     },
     "metadata": {},
     "output_type": "display_data"
    }
   ],
   "source": [
    "plot.nnet(nnetM, wts.only = F)"
   ]
  },
  {
   "cell_type": "code",
   "execution_count": 32,
   "metadata": {},
   "outputs": [],
   "source": [
    "prediction <- predict(nnetM, testdata, type = 'class')"
   ]
  },
  {
   "cell_type": "code",
   "execution_count": 33,
   "metadata": {},
   "outputs": [
    {
     "data": {
      "text/plain": [
       "            預測\n",
       "實際         setosa versicolor virginica\n",
       "  setosa         10          1         0\n",
       "  versicolor      0         19         1\n",
       "  virginica       0          3        11"
      ]
     },
     "metadata": {},
     "output_type": "display_data"
    }
   ],
   "source": [
    "cm <- table(x = testdata$Species, y = prediction, dnn = c(\"實際\", \"預測\"))\n",
    "cm\n"
   ]
  },
  {
   "cell_type": "code",
   "execution_count": 34,
   "metadata": {},
   "outputs": [],
   "source": [
    "NNaccuracy <- sum(diag(cm)) / sum(cm)"
   ]
  },
  {
   "cell_type": "code",
   "execution_count": 35,
   "metadata": {},
   "outputs": [
    {
     "data": {
      "text/html": [
       "0.888888888888889"
      ],
      "text/latex": [
       "0.888888888888889"
      ],
      "text/markdown": [
       "0.888888888888889"
      ],
      "text/plain": [
       "[1] 0.8888889"
      ]
     },
     "metadata": {},
     "output_type": "display_data"
    }
   ],
   "source": [
    "NNaccuracy"
   ]
  },
  {
   "cell_type": "code",
   "execution_count": null,
   "metadata": {},
   "outputs": [],
   "source": []
  },
  {
   "cell_type": "code",
   "execution_count": 36,
   "metadata": {},
   "outputs": [
    {
     "name": "stdout",
     "output_type": "stream",
     "text": [
      "# weights:  51\n",
      "initial  value 128.868046 \n",
      "iter  10 value 34.394980\n",
      "iter  20 value 5.868899\n",
      "iter  30 value 5.509115\n",
      "iter  40 value 3.923459\n",
      "iter  50 value 3.235537\n",
      "iter  60 value 3.030172\n",
      "iter  70 value 2.890044\n",
      "iter  80 value 2.744593\n",
      "iter  90 value 2.684592\n",
      "iter 100 value 2.109936\n",
      "iter 110 value 1.763615\n",
      "iter 120 value 1.599877\n",
      "iter 130 value 1.532473\n",
      "iter 140 value 1.494889\n",
      "iter 150 value 1.447617\n",
      "iter 160 value 1.401181\n",
      "iter 170 value 1.372327\n",
      "iter 180 value 1.342177\n",
      "iter 190 value 1.329957\n",
      "iter 200 value 1.324818\n",
      "iter 210 value 1.322057\n",
      "iter 220 value 1.318711\n",
      "iter 230 value 1.314013\n",
      "iter 240 value 1.310118\n",
      "iter 250 value 1.303604\n",
      "iter 260 value 1.297070\n",
      "iter 270 value 1.292999\n",
      "iter 280 value 1.290340\n",
      "iter 290 value 1.289154\n",
      "iter 300 value 1.288952\n",
      "iter 310 value 1.288838\n",
      "iter 320 value 1.288807\n",
      "iter 330 value 1.288803\n",
      "final  value 1.288802 \n",
      "converged\n"
     ]
    }
   ],
   "source": [
    "nnetM1 <- nnet(formula = Species ~ ., linout = T, size = 6, decay = 0.001, maxit = 1000, trace = T, data = traindata)"
   ]
  },
  {
   "cell_type": "code",
   "execution_count": 37,
   "metadata": {},
   "outputs": [
    {
     "data": {
      "image/png": "[encoded data removed]",
      "text/plain": [
       "plot without title"
      ]
     },
     "metadata": {},
     "output_type": "display_data"
    }
   ],
   "source": [
    "plot.nnet(nnetM1, wts.only = F)"
   ]
  },
  {
   "cell_type": "code",
   "execution_count": 38,
   "metadata": {},
   "outputs": [],
   "source": [
    "prediction <- predict(nnetM1, testdata, type = 'class')"
   ]
  },
  {
   "cell_type": "code",
   "execution_count": 39,
   "metadata": {},
   "outputs": [
    {
     "data": {
      "text/plain": [
       "            預測\n",
       "實際         setosa versicolor virginica\n",
       "  setosa         11          0         0\n",
       "  versicolor      0         18         2\n",
       "  virginica       0          1        13"
      ]
     },
     "metadata": {},
     "output_type": "display_data"
    }
   ],
   "source": [
    "cm <- table(x = testdata$Species, y = prediction, dnn = c(\"實際\", \"預測\"))\n",
    "cm\n"
   ]
  },
  {
   "cell_type": "code",
   "execution_count": 40,
   "metadata": {},
   "outputs": [],
   "source": [
    "NNaccuracy <- sum(diag(cm)) / sum(cm)"
   ]
  },
  {
   "cell_type": "code",
   "execution_count": 41,
   "metadata": {},
   "outputs": [
    {
     "data": {
      "text/html": [
       "0.933333333333333"
      ],
      "text/latex": [
       "0.933333333333333"
      ],
      "text/markdown": [
       "0.933333333333333"
      ],
      "text/plain": [
       "[1] 0.9333333"
      ]
     },
     "metadata": {},
     "output_type": "display_data"
    }
   ],
   "source": [
    "NNaccuracy"
   ]
  },
  {
   "cell_type": "code",
   "execution_count": null,
   "metadata": {},
   "outputs": [],
   "source": []
  },
  {
   "cell_type": "code",
   "execution_count": null,
   "metadata": {},
   "outputs": [],
   "source": []
  },
  {
   "cell_type": "markdown",
   "metadata": {},
   "source": [
    "# 多層類神經網路"
   ]
  },
  {
   "cell_type": "code",
   "execution_count": 42,
   "metadata": {},
   "outputs": [
    {
     "name": "stdout",
     "output_type": "stream",
     "text": [
      "package 'neuralnet' successfully unpacked and MD5 sums checked\n",
      "\n",
      "The downloaded binary packages are in\n",
      "\tC:\\Users\\Administrator\\AppData\\Local\\Temp\\RtmpwxiFxL\\downloaded_packages\n"
     ]
    },
    {
     "name": "stderr",
     "output_type": "stream",
     "text": [
      "Loading required package: neuralnet\n",
      "Warning message:\n",
      "\"package 'neuralnet' was built under R version 3.6.3\"Loading required package: caret\n"
     ]
    }
   ],
   "source": [
    "install.packages('neuralnet')\n",
    "\n",
    "\n",
    "require(neuralnet)\n",
    "require(nnet)      \n",
    "require(caret)\n",
    "require(devtools)\n"
   ]
  },
  {
   "cell_type": "code",
   "execution_count": 44,
   "metadata": {
    "scrolled": false
   },
   "outputs": [
    {
     "data": {
      "text/html": [
       "<table>\n",
       "<thead><tr><th scope=col>setosa</th><th scope=col>versicolor</th><th scope=col>virginica</th></tr></thead>\n",
       "<tbody>\n",
       "\t<tr><td>1</td><td>0</td><td>0</td></tr>\n",
       "\t<tr><td>1</td><td>0</td><td>0</td></tr>\n",
       "\t<tr><td>1</td><td>0</td><td>0</td></tr>\n",
       "\t<tr><td>1</td><td>0</td><td>0</td></tr>\n",
       "\t<tr><td>1</td><td>0</td><td>0</td></tr>\n",
       "\t<tr><td>1</td><td>0</td><td>0</td></tr>\n",
       "</tbody>\n",
       "</table>\n"
      ],
      "text/latex": [
       "\\begin{tabular}{lll}\n",
       " setosa & versicolor & virginica\\\\\n",
       "\\hline\n",
       "\t 1 & 0 & 0\\\\\n",
       "\t 1 & 0 & 0\\\\\n",
       "\t 1 & 0 & 0\\\\\n",
       "\t 1 & 0 & 0\\\\\n",
       "\t 1 & 0 & 0\\\\\n",
       "\t 1 & 0 & 0\\\\\n",
       "\\end{tabular}\n"
      ],
      "text/markdown": [
       "\n",
       "| setosa | versicolor | virginica |\n",
       "|---|---|---|\n",
       "| 1 | 0 | 0 |\n",
       "| 1 | 0 | 0 |\n",
       "| 1 | 0 | 0 |\n",
       "| 1 | 0 | 0 |\n",
       "| 1 | 0 | 0 |\n",
       "| 1 | 0 | 0 |\n",
       "\n"
      ],
      "text/plain": [
       "     setosa versicolor virginica\n",
       "[1,] 1      0          0        \n",
       "[2,] 1      0          0        \n",
       "[3,] 1      0          0        \n",
       "[4,] 1      0          0        \n",
       "[5,] 1      0          0        \n",
       "[6,] 1      0          0        "
      ]
     },
     "metadata": {},
     "output_type": "display_data"
    }
   ],
   "source": [
    "data <- iris\n",
    "head(class.ind(data$Species))"
   ]
  },
  {
   "cell_type": "code",
   "execution_count": 45,
   "metadata": {
    "scrolled": true
   },
   "outputs": [
    {
     "data": {
      "text/html": [
       "<table>\n",
       "<thead><tr><th></th><th scope=col>setosa</th><th scope=col>versicolor</th><th scope=col>virginica</th></tr></thead>\n",
       "<tbody>\n",
       "\t<tr><th scope=row>[145,]</th><td>0</td><td>0</td><td>1</td></tr>\n",
       "\t<tr><th scope=row>[146,]</th><td>0</td><td>0</td><td>1</td></tr>\n",
       "\t<tr><th scope=row>[147,]</th><td>0</td><td>0</td><td>1</td></tr>\n",
       "\t<tr><th scope=row>[148,]</th><td>0</td><td>0</td><td>1</td></tr>\n",
       "\t<tr><th scope=row>[149,]</th><td>0</td><td>0</td><td>1</td></tr>\n",
       "\t<tr><th scope=row>[150,]</th><td>0</td><td>0</td><td>1</td></tr>\n",
       "</tbody>\n",
       "</table>\n"
      ],
      "text/latex": [
       "\\begin{tabular}{r|lll}\n",
       "  & setosa & versicolor & virginica\\\\\n",
       "\\hline\n",
       "\t{[}145,{]} & 0 & 0 & 1\\\\\n",
       "\t{[}146,{]} & 0 & 0 & 1\\\\\n",
       "\t{[}147,{]} & 0 & 0 & 1\\\\\n",
       "\t{[}148,{]} & 0 & 0 & 1\\\\\n",
       "\t{[}149,{]} & 0 & 0 & 1\\\\\n",
       "\t{[}150,{]} & 0 & 0 & 1\\\\\n",
       "\\end{tabular}\n"
      ],
      "text/markdown": [
       "\n",
       "| <!--/--> | setosa | versicolor | virginica |\n",
       "|---|---|---|---|\n",
       "| [145,] | 0 | 0 | 1 |\n",
       "| [146,] | 0 | 0 | 1 |\n",
       "| [147,] | 0 | 0 | 1 |\n",
       "| [148,] | 0 | 0 | 1 |\n",
       "| [149,] | 0 | 0 | 1 |\n",
       "| [150,] | 0 | 0 | 1 |\n",
       "\n"
      ],
      "text/plain": [
       "       setosa versicolor virginica\n",
       "[145,] 0      0          1        \n",
       "[146,] 0      0          1        \n",
       "[147,] 0      0          1        \n",
       "[148,] 0      0          1        \n",
       "[149,] 0      0          1        \n",
       "[150,] 0      0          1        "
      ]
     },
     "metadata": {},
     "output_type": "display_data"
    }
   ],
   "source": [
    "tail(class.ind(data$Species))"
   ]
  },
  {
   "cell_type": "code",
   "execution_count": 46,
   "metadata": {},
   "outputs": [],
   "source": [
    "data <- cbind(data, class.ind(data$Species))"
   ]
  },
  {
   "cell_type": "code",
   "execution_count": 47,
   "metadata": {},
   "outputs": [
    {
     "data": {
      "text/html": [
       "<table>\n",
       "<thead><tr><th scope=col>Sepal.Length</th><th scope=col>Sepal.Width</th><th scope=col>Petal.Length</th><th scope=col>Petal.Width</th><th scope=col>Species</th><th scope=col>setosa</th><th scope=col>versicolor</th><th scope=col>virginica</th></tr></thead>\n",
       "<tbody>\n",
       "\t<tr><td>5.1   </td><td>3.5   </td><td>1.4   </td><td>0.2   </td><td>setosa</td><td>1     </td><td>0     </td><td>0     </td></tr>\n",
       "\t<tr><td>4.9   </td><td>3.0   </td><td>1.4   </td><td>0.2   </td><td>setosa</td><td>1     </td><td>0     </td><td>0     </td></tr>\n",
       "\t<tr><td>4.7   </td><td>3.2   </td><td>1.3   </td><td>0.2   </td><td>setosa</td><td>1     </td><td>0     </td><td>0     </td></tr>\n",
       "\t<tr><td>4.6   </td><td>3.1   </td><td>1.5   </td><td>0.2   </td><td>setosa</td><td>1     </td><td>0     </td><td>0     </td></tr>\n",
       "\t<tr><td>5.0   </td><td>3.6   </td><td>1.4   </td><td>0.2   </td><td>setosa</td><td>1     </td><td>0     </td><td>0     </td></tr>\n",
       "\t<tr><td>5.4   </td><td>3.9   </td><td>1.7   </td><td>0.4   </td><td>setosa</td><td>1     </td><td>0     </td><td>0     </td></tr>\n",
       "\t<tr><td>4.6   </td><td>3.4   </td><td>1.4   </td><td>0.3   </td><td>setosa</td><td>1     </td><td>0     </td><td>0     </td></tr>\n",
       "\t<tr><td>5.0   </td><td>3.4   </td><td>1.5   </td><td>0.2   </td><td>setosa</td><td>1     </td><td>0     </td><td>0     </td></tr>\n",
       "\t<tr><td>4.4   </td><td>2.9   </td><td>1.4   </td><td>0.2   </td><td>setosa</td><td>1     </td><td>0     </td><td>0     </td></tr>\n",
       "\t<tr><td>4.9   </td><td>3.1   </td><td>1.5   </td><td>0.1   </td><td>setosa</td><td>1     </td><td>0     </td><td>0     </td></tr>\n",
       "\t<tr><td>5.4   </td><td>3.7   </td><td>1.5   </td><td>0.2   </td><td>setosa</td><td>1     </td><td>0     </td><td>0     </td></tr>\n",
       "\t<tr><td>4.8   </td><td>3.4   </td><td>1.6   </td><td>0.2   </td><td>setosa</td><td>1     </td><td>0     </td><td>0     </td></tr>\n",
       "\t<tr><td>4.8   </td><td>3.0   </td><td>1.4   </td><td>0.1   </td><td>setosa</td><td>1     </td><td>0     </td><td>0     </td></tr>\n",
       "\t<tr><td>4.3   </td><td>3.0   </td><td>1.1   </td><td>0.1   </td><td>setosa</td><td>1     </td><td>0     </td><td>0     </td></tr>\n",
       "\t<tr><td>5.8   </td><td>4.0   </td><td>1.2   </td><td>0.2   </td><td>setosa</td><td>1     </td><td>0     </td><td>0     </td></tr>\n",
       "\t<tr><td>5.7   </td><td>4.4   </td><td>1.5   </td><td>0.4   </td><td>setosa</td><td>1     </td><td>0     </td><td>0     </td></tr>\n",
       "\t<tr><td>5.4   </td><td>3.9   </td><td>1.3   </td><td>0.4   </td><td>setosa</td><td>1     </td><td>0     </td><td>0     </td></tr>\n",
       "\t<tr><td>5.1   </td><td>3.5   </td><td>1.4   </td><td>0.3   </td><td>setosa</td><td>1     </td><td>0     </td><td>0     </td></tr>\n",
       "\t<tr><td>5.7   </td><td>3.8   </td><td>1.7   </td><td>0.3   </td><td>setosa</td><td>1     </td><td>0     </td><td>0     </td></tr>\n",
       "\t<tr><td>5.1   </td><td>3.8   </td><td>1.5   </td><td>0.3   </td><td>setosa</td><td>1     </td><td>0     </td><td>0     </td></tr>\n",
       "\t<tr><td>5.4   </td><td>3.4   </td><td>1.7   </td><td>0.2   </td><td>setosa</td><td>1     </td><td>0     </td><td>0     </td></tr>\n",
       "\t<tr><td>5.1   </td><td>3.7   </td><td>1.5   </td><td>0.4   </td><td>setosa</td><td>1     </td><td>0     </td><td>0     </td></tr>\n",
       "\t<tr><td>4.6   </td><td>3.6   </td><td>1.0   </td><td>0.2   </td><td>setosa</td><td>1     </td><td>0     </td><td>0     </td></tr>\n",
       "\t<tr><td>5.1   </td><td>3.3   </td><td>1.7   </td><td>0.5   </td><td>setosa</td><td>1     </td><td>0     </td><td>0     </td></tr>\n",
       "\t<tr><td>4.8   </td><td>3.4   </td><td>1.9   </td><td>0.2   </td><td>setosa</td><td>1     </td><td>0     </td><td>0     </td></tr>\n",
       "\t<tr><td>5.0   </td><td>3.0   </td><td>1.6   </td><td>0.2   </td><td>setosa</td><td>1     </td><td>0     </td><td>0     </td></tr>\n",
       "\t<tr><td>5.0   </td><td>3.4   </td><td>1.6   </td><td>0.4   </td><td>setosa</td><td>1     </td><td>0     </td><td>0     </td></tr>\n",
       "\t<tr><td>5.2   </td><td>3.5   </td><td>1.5   </td><td>0.2   </td><td>setosa</td><td>1     </td><td>0     </td><td>0     </td></tr>\n",
       "\t<tr><td>5.2   </td><td>3.4   </td><td>1.4   </td><td>0.2   </td><td>setosa</td><td>1     </td><td>0     </td><td>0     </td></tr>\n",
       "\t<tr><td>4.7   </td><td>3.2   </td><td>1.6   </td><td>0.2   </td><td>setosa</td><td>1     </td><td>0     </td><td>0     </td></tr>\n",
       "\t<tr><td>...</td><td>...</td><td>...</td><td>...</td><td>...</td><td>...</td><td>...</td><td>...</td></tr>\n",
       "\t<tr><td>6.9      </td><td>3.2      </td><td>5.7      </td><td>2.3      </td><td>virginica</td><td>0        </td><td>0        </td><td>1        </td></tr>\n",
       "\t<tr><td>5.6      </td><td>2.8      </td><td>4.9      </td><td>2.0      </td><td>virginica</td><td>0        </td><td>0        </td><td>1        </td></tr>\n",
       "\t<tr><td>7.7      </td><td>2.8      </td><td>6.7      </td><td>2.0      </td><td>virginica</td><td>0        </td><td>0        </td><td>1        </td></tr>\n",
       "\t<tr><td>6.3      </td><td>2.7      </td><td>4.9      </td><td>1.8      </td><td>virginica</td><td>0        </td><td>0        </td><td>1        </td></tr>\n",
       "\t<tr><td>6.7      </td><td>3.3      </td><td>5.7      </td><td>2.1      </td><td>virginica</td><td>0        </td><td>0        </td><td>1        </td></tr>\n",
       "\t<tr><td>7.2      </td><td>3.2      </td><td>6.0      </td><td>1.8      </td><td>virginica</td><td>0        </td><td>0        </td><td>1        </td></tr>\n",
       "\t<tr><td>6.2      </td><td>2.8      </td><td>4.8      </td><td>1.8      </td><td>virginica</td><td>0        </td><td>0        </td><td>1        </td></tr>\n",
       "\t<tr><td>6.1      </td><td>3.0      </td><td>4.9      </td><td>1.8      </td><td>virginica</td><td>0        </td><td>0        </td><td>1        </td></tr>\n",
       "\t<tr><td>6.4      </td><td>2.8      </td><td>5.6      </td><td>2.1      </td><td>virginica</td><td>0        </td><td>0        </td><td>1        </td></tr>\n",
       "\t<tr><td>7.2      </td><td>3.0      </td><td>5.8      </td><td>1.6      </td><td>virginica</td><td>0        </td><td>0        </td><td>1        </td></tr>\n",
       "\t<tr><td>7.4      </td><td>2.8      </td><td>6.1      </td><td>1.9      </td><td>virginica</td><td>0        </td><td>0        </td><td>1        </td></tr>\n",
       "\t<tr><td>7.9      </td><td>3.8      </td><td>6.4      </td><td>2.0      </td><td>virginica</td><td>0        </td><td>0        </td><td>1        </td></tr>\n",
       "\t<tr><td>6.4      </td><td>2.8      </td><td>5.6      </td><td>2.2      </td><td>virginica</td><td>0        </td><td>0        </td><td>1        </td></tr>\n",
       "\t<tr><td>6.3      </td><td>2.8      </td><td>5.1      </td><td>1.5      </td><td>virginica</td><td>0        </td><td>0        </td><td>1        </td></tr>\n",
       "\t<tr><td>6.1      </td><td>2.6      </td><td>5.6      </td><td>1.4      </td><td>virginica</td><td>0        </td><td>0        </td><td>1        </td></tr>\n",
       "\t<tr><td>7.7      </td><td>3.0      </td><td>6.1      </td><td>2.3      </td><td>virginica</td><td>0        </td><td>0        </td><td>1        </td></tr>\n",
       "\t<tr><td>6.3      </td><td>3.4      </td><td>5.6      </td><td>2.4      </td><td>virginica</td><td>0        </td><td>0        </td><td>1        </td></tr>\n",
       "\t<tr><td>6.4      </td><td>3.1      </td><td>5.5      </td><td>1.8      </td><td>virginica</td><td>0        </td><td>0        </td><td>1        </td></tr>\n",
       "\t<tr><td>6.0      </td><td>3.0      </td><td>4.8      </td><td>1.8      </td><td>virginica</td><td>0        </td><td>0        </td><td>1        </td></tr>\n",
       "\t<tr><td>6.9      </td><td>3.1      </td><td>5.4      </td><td>2.1      </td><td>virginica</td><td>0        </td><td>0        </td><td>1        </td></tr>\n",
       "\t<tr><td>6.7      </td><td>3.1      </td><td>5.6      </td><td>2.4      </td><td>virginica</td><td>0        </td><td>0        </td><td>1        </td></tr>\n",
       "\t<tr><td>6.9      </td><td>3.1      </td><td>5.1      </td><td>2.3      </td><td>virginica</td><td>0        </td><td>0        </td><td>1        </td></tr>\n",
       "\t<tr><td>5.8      </td><td>2.7      </td><td>5.1      </td><td>1.9      </td><td>virginica</td><td>0        </td><td>0        </td><td>1        </td></tr>\n",
       "\t<tr><td>6.8      </td><td>3.2      </td><td>5.9      </td><td>2.3      </td><td>virginica</td><td>0        </td><td>0        </td><td>1        </td></tr>\n",
       "\t<tr><td>6.7      </td><td>3.3      </td><td>5.7      </td><td>2.5      </td><td>virginica</td><td>0        </td><td>0        </td><td>1        </td></tr>\n",
       "\t<tr><td>6.7      </td><td>3.0      </td><td>5.2      </td><td>2.3      </td><td>virginica</td><td>0        </td><td>0        </td><td>1        </td></tr>\n",
       "\t<tr><td>6.3      </td><td>2.5      </td><td>5.0      </td><td>1.9      </td><td>virginica</td><td>0        </td><td>0        </td><td>1        </td></tr>\n",
       "\t<tr><td>6.5      </td><td>3.0      </td><td>5.2      </td><td>2.0      </td><td>virginica</td><td>0        </td><td>0        </td><td>1        </td></tr>\n",
       "\t<tr><td>6.2      </td><td>3.4      </td><td>5.4      </td><td>2.3      </td><td>virginica</td><td>0        </td><td>0        </td><td>1        </td></tr>\n",
       "\t<tr><td>5.9      </td><td>3.0      </td><td>5.1      </td><td>1.8      </td><td>virginica</td><td>0        </td><td>0        </td><td>1        </td></tr>\n",
       "</tbody>\n",
       "</table>\n"
      ],
      "text/latex": [
       "\\begin{tabular}{r|llllllll}\n",
       " Sepal.Length & Sepal.Width & Petal.Length & Petal.Width & Species & setosa & versicolor & virginica\\\\\n",
       "\\hline\n",
       "\t 5.1    & 3.5    & 1.4    & 0.2    & setosa & 1      & 0      & 0     \\\\\n",
       "\t 4.9    & 3.0    & 1.4    & 0.2    & setosa & 1      & 0      & 0     \\\\\n",
       "\t 4.7    & 3.2    & 1.3    & 0.2    & setosa & 1      & 0      & 0     \\\\\n",
       "\t 4.6    & 3.1    & 1.5    & 0.2    & setosa & 1      & 0      & 0     \\\\\n",
       "\t 5.0    & 3.6    & 1.4    & 0.2    & setosa & 1      & 0      & 0     \\\\\n",
       "\t 5.4    & 3.9    & 1.7    & 0.4    & setosa & 1      & 0      & 0     \\\\\n",
       "\t 4.6    & 3.4    & 1.4    & 0.3    & setosa & 1      & 0      & 0     \\\\\n",
       "\t 5.0    & 3.4    & 1.5    & 0.2    & setosa & 1      & 0      & 0     \\\\\n",
       "\t 4.4    & 2.9    & 1.4    & 0.2    & setosa & 1      & 0      & 0     \\\\\n",
       "\t 4.9    & 3.1    & 1.5    & 0.1    & setosa & 1      & 0      & 0     \\\\\n",
       "\t 5.4    & 3.7    & 1.5    & 0.2    & setosa & 1      & 0      & 0     \\\\\n",
       "\t 4.8    & 3.4    & 1.6    & 0.2    & setosa & 1      & 0      & 0     \\\\\n",
       "\t 4.8    & 3.0    & 1.4    & 0.1    & setosa & 1      & 0      & 0     \\\\\n",
       "\t 4.3    & 3.0    & 1.1    & 0.1    & setosa & 1      & 0      & 0     \\\\\n",
       "\t 5.8    & 4.0    & 1.2    & 0.2    & setosa & 1      & 0      & 0     \\\\\n",
       "\t 5.7    & 4.4    & 1.5    & 0.4    & setosa & 1      & 0      & 0     \\\\\n",
       "\t 5.4    & 3.9    & 1.3    & 0.4    & setosa & 1      & 0      & 0     \\\\\n",
       "\t 5.1    & 3.5    & 1.4    & 0.3    & setosa & 1      & 0      & 0     \\\\\n",
       "\t 5.7    & 3.8    & 1.7    & 0.3    & setosa & 1      & 0      & 0     \\\\\n",
       "\t 5.1    & 3.8    & 1.5    & 0.3    & setosa & 1      & 0      & 0     \\\\\n",
       "\t 5.4    & 3.4    & 1.7    & 0.2    & setosa & 1      & 0      & 0     \\\\\n",
       "\t 5.1    & 3.7    & 1.5    & 0.4    & setosa & 1      & 0      & 0     \\\\\n",
       "\t 4.6    & 3.6    & 1.0    & 0.2    & setosa & 1      & 0      & 0     \\\\\n",
       "\t 5.1    & 3.3    & 1.7    & 0.5    & setosa & 1      & 0      & 0     \\\\\n",
       "\t 4.8    & 3.4    & 1.9    & 0.2    & setosa & 1      & 0      & 0     \\\\\n",
       "\t 5.0    & 3.0    & 1.6    & 0.2    & setosa & 1      & 0      & 0     \\\\\n",
       "\t 5.0    & 3.4    & 1.6    & 0.4    & setosa & 1      & 0      & 0     \\\\\n",
       "\t 5.2    & 3.5    & 1.5    & 0.2    & setosa & 1      & 0      & 0     \\\\\n",
       "\t 5.2    & 3.4    & 1.4    & 0.2    & setosa & 1      & 0      & 0     \\\\\n",
       "\t 4.7    & 3.2    & 1.6    & 0.2    & setosa & 1      & 0      & 0     \\\\\n",
       "\t ... & ... & ... & ... & ... & ... & ... & ...\\\\\n",
       "\t 6.9       & 3.2       & 5.7       & 2.3       & virginica & 0         & 0         & 1        \\\\\n",
       "\t 5.6       & 2.8       & 4.9       & 2.0       & virginica & 0         & 0         & 1        \\\\\n",
       "\t 7.7       & 2.8       & 6.7       & 2.0       & virginica & 0         & 0         & 1        \\\\\n",
       "\t 6.3       & 2.7       & 4.9       & 1.8       & virginica & 0         & 0         & 1        \\\\\n",
       "\t 6.7       & 3.3       & 5.7       & 2.1       & virginica & 0         & 0         & 1        \\\\\n",
       "\t 7.2       & 3.2       & 6.0       & 1.8       & virginica & 0         & 0         & 1        \\\\\n",
       "\t 6.2       & 2.8       & 4.8       & 1.8       & virginica & 0         & 0         & 1        \\\\\n",
       "\t 6.1       & 3.0       & 4.9       & 1.8       & virginica & 0         & 0         & 1        \\\\\n",
       "\t 6.4       & 2.8       & 5.6       & 2.1       & virginica & 0         & 0         & 1        \\\\\n",
       "\t 7.2       & 3.0       & 5.8       & 1.6       & virginica & 0         & 0         & 1        \\\\\n",
       "\t 7.4       & 2.8       & 6.1       & 1.9       & virginica & 0         & 0         & 1        \\\\\n",
       "\t 7.9       & 3.8       & 6.4       & 2.0       & virginica & 0         & 0         & 1        \\\\\n",
       "\t 6.4       & 2.8       & 5.6       & 2.2       & virginica & 0         & 0         & 1        \\\\\n",
       "\t 6.3       & 2.8       & 5.1       & 1.5       & virginica & 0         & 0         & 1        \\\\\n",
       "\t 6.1       & 2.6       & 5.6       & 1.4       & virginica & 0         & 0         & 1        \\\\\n",
       "\t 7.7       & 3.0       & 6.1       & 2.3       & virginica & 0         & 0         & 1        \\\\\n",
       "\t 6.3       & 3.4       & 5.6       & 2.4       & virginica & 0         & 0         & 1        \\\\\n",
       "\t 6.4       & 3.1       & 5.5       & 1.8       & virginica & 0         & 0         & 1        \\\\\n",
       "\t 6.0       & 3.0       & 4.8       & 1.8       & virginica & 0         & 0         & 1        \\\\\n",
       "\t 6.9       & 3.1       & 5.4       & 2.1       & virginica & 0         & 0         & 1        \\\\\n",
       "\t 6.7       & 3.1       & 5.6       & 2.4       & virginica & 0         & 0         & 1        \\\\\n",
       "\t 6.9       & 3.1       & 5.1       & 2.3       & virginica & 0         & 0         & 1        \\\\\n",
       "\t 5.8       & 2.7       & 5.1       & 1.9       & virginica & 0         & 0         & 1        \\\\\n",
       "\t 6.8       & 3.2       & 5.9       & 2.3       & virginica & 0         & 0         & 1        \\\\\n",
       "\t 6.7       & 3.3       & 5.7       & 2.5       & virginica & 0         & 0         & 1        \\\\\n",
       "\t 6.7       & 3.0       & 5.2       & 2.3       & virginica & 0         & 0         & 1        \\\\\n",
       "\t 6.3       & 2.5       & 5.0       & 1.9       & virginica & 0         & 0         & 1        \\\\\n",
       "\t 6.5       & 3.0       & 5.2       & 2.0       & virginica & 0         & 0         & 1        \\\\\n",
       "\t 6.2       & 3.4       & 5.4       & 2.3       & virginica & 0         & 0         & 1        \\\\\n",
       "\t 5.9       & 3.0       & 5.1       & 1.8       & virginica & 0         & 0         & 1        \\\\\n",
       "\\end{tabular}\n"
      ],
      "text/markdown": [
       "\n",
       "| Sepal.Length | Sepal.Width | Petal.Length | Petal.Width | Species | setosa | versicolor | virginica |\n",
       "|---|---|---|---|---|---|---|---|\n",
       "| 5.1    | 3.5    | 1.4    | 0.2    | setosa | 1      | 0      | 0      |\n",
       "| 4.9    | 3.0    | 1.4    | 0.2    | setosa | 1      | 0      | 0      |\n",
       "| 4.7    | 3.2    | 1.3    | 0.2    | setosa | 1      | 0      | 0      |\n",
       "| 4.6    | 3.1    | 1.5    | 0.2    | setosa | 1      | 0      | 0      |\n",
       "| 5.0    | 3.6    | 1.4    | 0.2    | setosa | 1      | 0      | 0      |\n",
       "| 5.4    | 3.9    | 1.7    | 0.4    | setosa | 1      | 0      | 0      |\n",
       "| 4.6    | 3.4    | 1.4    | 0.3    | setosa | 1      | 0      | 0      |\n",
       "| 5.0    | 3.4    | 1.5    | 0.2    | setosa | 1      | 0      | 0      |\n",
       "| 4.4    | 2.9    | 1.4    | 0.2    | setosa | 1      | 0      | 0      |\n",
       "| 4.9    | 3.1    | 1.5    | 0.1    | setosa | 1      | 0      | 0      |\n",
       "| 5.4    | 3.7    | 1.5    | 0.2    | setosa | 1      | 0      | 0      |\n",
       "| 4.8    | 3.4    | 1.6    | 0.2    | setosa | 1      | 0      | 0      |\n",
       "| 4.8    | 3.0    | 1.4    | 0.1    | setosa | 1      | 0      | 0      |\n",
       "| 4.3    | 3.0    | 1.1    | 0.1    | setosa | 1      | 0      | 0      |\n",
       "| 5.8    | 4.0    | 1.2    | 0.2    | setosa | 1      | 0      | 0      |\n",
       "| 5.7    | 4.4    | 1.5    | 0.4    | setosa | 1      | 0      | 0      |\n",
       "| 5.4    | 3.9    | 1.3    | 0.4    | setosa | 1      | 0      | 0      |\n",
       "| 5.1    | 3.5    | 1.4    | 0.3    | setosa | 1      | 0      | 0      |\n",
       "| 5.7    | 3.8    | 1.7    | 0.3    | setosa | 1      | 0      | 0      |\n",
       "| 5.1    | 3.8    | 1.5    | 0.3    | setosa | 1      | 0      | 0      |\n",
       "| 5.4    | 3.4    | 1.7    | 0.2    | setosa | 1      | 0      | 0      |\n",
       "| 5.1    | 3.7    | 1.5    | 0.4    | setosa | 1      | 0      | 0      |\n",
       "| 4.6    | 3.6    | 1.0    | 0.2    | setosa | 1      | 0      | 0      |\n",
       "| 5.1    | 3.3    | 1.7    | 0.5    | setosa | 1      | 0      | 0      |\n",
       "| 4.8    | 3.4    | 1.9    | 0.2    | setosa | 1      | 0      | 0      |\n",
       "| 5.0    | 3.0    | 1.6    | 0.2    | setosa | 1      | 0      | 0      |\n",
       "| 5.0    | 3.4    | 1.6    | 0.4    | setosa | 1      | 0      | 0      |\n",
       "| 5.2    | 3.5    | 1.5    | 0.2    | setosa | 1      | 0      | 0      |\n",
       "| 5.2    | 3.4    | 1.4    | 0.2    | setosa | 1      | 0      | 0      |\n",
       "| 4.7    | 3.2    | 1.6    | 0.2    | setosa | 1      | 0      | 0      |\n",
       "| ... | ... | ... | ... | ... | ... | ... | ... |\n",
       "| 6.9       | 3.2       | 5.7       | 2.3       | virginica | 0         | 0         | 1         |\n",
       "| 5.6       | 2.8       | 4.9       | 2.0       | virginica | 0         | 0         | 1         |\n",
       "| 7.7       | 2.8       | 6.7       | 2.0       | virginica | 0         | 0         | 1         |\n",
       "| 6.3       | 2.7       | 4.9       | 1.8       | virginica | 0         | 0         | 1         |\n",
       "| 6.7       | 3.3       | 5.7       | 2.1       | virginica | 0         | 0         | 1         |\n",
       "| 7.2       | 3.2       | 6.0       | 1.8       | virginica | 0         | 0         | 1         |\n",
       "| 6.2       | 2.8       | 4.8       | 1.8       | virginica | 0         | 0         | 1         |\n",
       "| 6.1       | 3.0       | 4.9       | 1.8       | virginica | 0         | 0         | 1         |\n",
       "| 6.4       | 2.8       | 5.6       | 2.1       | virginica | 0         | 0         | 1         |\n",
       "| 7.2       | 3.0       | 5.8       | 1.6       | virginica | 0         | 0         | 1         |\n",
       "| 7.4       | 2.8       | 6.1       | 1.9       | virginica | 0         | 0         | 1         |\n",
       "| 7.9       | 3.8       | 6.4       | 2.0       | virginica | 0         | 0         | 1         |\n",
       "| 6.4       | 2.8       | 5.6       | 2.2       | virginica | 0         | 0         | 1         |\n",
       "| 6.3       | 2.8       | 5.1       | 1.5       | virginica | 0         | 0         | 1         |\n",
       "| 6.1       | 2.6       | 5.6       | 1.4       | virginica | 0         | 0         | 1         |\n",
       "| 7.7       | 3.0       | 6.1       | 2.3       | virginica | 0         | 0         | 1         |\n",
       "| 6.3       | 3.4       | 5.6       | 2.4       | virginica | 0         | 0         | 1         |\n",
       "| 6.4       | 3.1       | 5.5       | 1.8       | virginica | 0         | 0         | 1         |\n",
       "| 6.0       | 3.0       | 4.8       | 1.8       | virginica | 0         | 0         | 1         |\n",
       "| 6.9       | 3.1       | 5.4       | 2.1       | virginica | 0         | 0         | 1         |\n",
       "| 6.7       | 3.1       | 5.6       | 2.4       | virginica | 0         | 0         | 1         |\n",
       "| 6.9       | 3.1       | 5.1       | 2.3       | virginica | 0         | 0         | 1         |\n",
       "| 5.8       | 2.7       | 5.1       | 1.9       | virginica | 0         | 0         | 1         |\n",
       "| 6.8       | 3.2       | 5.9       | 2.3       | virginica | 0         | 0         | 1         |\n",
       "| 6.7       | 3.3       | 5.7       | 2.5       | virginica | 0         | 0         | 1         |\n",
       "| 6.7       | 3.0       | 5.2       | 2.3       | virginica | 0         | 0         | 1         |\n",
       "| 6.3       | 2.5       | 5.0       | 1.9       | virginica | 0         | 0         | 1         |\n",
       "| 6.5       | 3.0       | 5.2       | 2.0       | virginica | 0         | 0         | 1         |\n",
       "| 6.2       | 3.4       | 5.4       | 2.3       | virginica | 0         | 0         | 1         |\n",
       "| 5.9       | 3.0       | 5.1       | 1.8       | virginica | 0         | 0         | 1         |\n",
       "\n"
      ],
      "text/plain": [
       "    Sepal.Length Sepal.Width Petal.Length Petal.Width Species   setosa\n",
       "1   5.1          3.5         1.4          0.2         setosa    1     \n",
       "2   4.9          3.0         1.4          0.2         setosa    1     \n",
       "3   4.7          3.2         1.3          0.2         setosa    1     \n",
       "4   4.6          3.1         1.5          0.2         setosa    1     \n",
       "5   5.0          3.6         1.4          0.2         setosa    1     \n",
       "6   5.4          3.9         1.7          0.4         setosa    1     \n",
       "7   4.6          3.4         1.4          0.3         setosa    1     \n",
       "8   5.0          3.4         1.5          0.2         setosa    1     \n",
       "9   4.4          2.9         1.4          0.2         setosa    1     \n",
       "10  4.9          3.1         1.5          0.1         setosa    1     \n",
       "11  5.4          3.7         1.5          0.2         setosa    1     \n",
       "12  4.8          3.4         1.6          0.2         setosa    1     \n",
       "13  4.8          3.0         1.4          0.1         setosa    1     \n",
       "14  4.3          3.0         1.1          0.1         setosa    1     \n",
       "15  5.8          4.0         1.2          0.2         setosa    1     \n",
       "16  5.7          4.4         1.5          0.4         setosa    1     \n",
       "17  5.4          3.9         1.3          0.4         setosa    1     \n",
       "18  5.1          3.5         1.4          0.3         setosa    1     \n",
       "19  5.7          3.8         1.7          0.3         setosa    1     \n",
       "20  5.1          3.8         1.5          0.3         setosa    1     \n",
       "21  5.4          3.4         1.7          0.2         setosa    1     \n",
       "22  5.1          3.7         1.5          0.4         setosa    1     \n",
       "23  4.6          3.6         1.0          0.2         setosa    1     \n",
       "24  5.1          3.3         1.7          0.5         setosa    1     \n",
       "25  4.8          3.4         1.9          0.2         setosa    1     \n",
       "26  5.0          3.0         1.6          0.2         setosa    1     \n",
       "27  5.0          3.4         1.6          0.4         setosa    1     \n",
       "28  5.2          3.5         1.5          0.2         setosa    1     \n",
       "29  5.2          3.4         1.4          0.2         setosa    1     \n",
       "30  4.7          3.2         1.6          0.2         setosa    1     \n",
       "... ...          ...         ...          ...         ...       ...   \n",
       "121 6.9          3.2         5.7          2.3         virginica 0     \n",
       "122 5.6          2.8         4.9          2.0         virginica 0     \n",
       "123 7.7          2.8         6.7          2.0         virginica 0     \n",
       "124 6.3          2.7         4.9          1.8         virginica 0     \n",
       "125 6.7          3.3         5.7          2.1         virginica 0     \n",
       "126 7.2          3.2         6.0          1.8         virginica 0     \n",
       "127 6.2          2.8         4.8          1.8         virginica 0     \n",
       "128 6.1          3.0         4.9          1.8         virginica 0     \n",
       "129 6.4          2.8         5.6          2.1         virginica 0     \n",
       "130 7.2          3.0         5.8          1.6         virginica 0     \n",
       "131 7.4          2.8         6.1          1.9         virginica 0     \n",
       "132 7.9          3.8         6.4          2.0         virginica 0     \n",
       "133 6.4          2.8         5.6          2.2         virginica 0     \n",
       "134 6.3          2.8         5.1          1.5         virginica 0     \n",
       "135 6.1          2.6         5.6          1.4         virginica 0     \n",
       "136 7.7          3.0         6.1          2.3         virginica 0     \n",
       "137 6.3          3.4         5.6          2.4         virginica 0     \n",
       "138 6.4          3.1         5.5          1.8         virginica 0     \n",
       "139 6.0          3.0         4.8          1.8         virginica 0     \n",
       "140 6.9          3.1         5.4          2.1         virginica 0     \n",
       "141 6.7          3.1         5.6          2.4         virginica 0     \n",
       "142 6.9          3.1         5.1          2.3         virginica 0     \n",
       "143 5.8          2.7         5.1          1.9         virginica 0     \n",
       "144 6.8          3.2         5.9          2.3         virginica 0     \n",
       "145 6.7          3.3         5.7          2.5         virginica 0     \n",
       "146 6.7          3.0         5.2          2.3         virginica 0     \n",
       "147 6.3          2.5         5.0          1.9         virginica 0     \n",
       "148 6.5          3.0         5.2          2.0         virginica 0     \n",
       "149 6.2          3.4         5.4          2.3         virginica 0     \n",
       "150 5.9          3.0         5.1          1.8         virginica 0     \n",
       "    versicolor virginica\n",
       "1   0          0        \n",
       "2   0          0        \n",
       "3   0          0        \n",
       "4   0          0        \n",
       "5   0          0        \n",
       "6   0          0        \n",
       "7   0          0        \n",
       "8   0          0        \n",
       "9   0          0        \n",
       "10  0          0        \n",
       "11  0          0        \n",
       "12  0          0        \n",
       "13  0          0        \n",
       "14  0          0        \n",
       "15  0          0        \n",
       "16  0          0        \n",
       "17  0          0        \n",
       "18  0          0        \n",
       "19  0          0        \n",
       "20  0          0        \n",
       "21  0          0        \n",
       "22  0          0        \n",
       "23  0          0        \n",
       "24  0          0        \n",
       "25  0          0        \n",
       "26  0          0        \n",
       "27  0          0        \n",
       "28  0          0        \n",
       "29  0          0        \n",
       "30  0          0        \n",
       "... ...        ...      \n",
       "121 0          1        \n",
       "122 0          1        \n",
       "123 0          1        \n",
       "124 0          1        \n",
       "125 0          1        \n",
       "126 0          1        \n",
       "127 0          1        \n",
       "128 0          1        \n",
       "129 0          1        \n",
       "130 0          1        \n",
       "131 0          1        \n",
       "132 0          1        \n",
       "133 0          1        \n",
       "134 0          1        \n",
       "135 0          1        \n",
       "136 0          1        \n",
       "137 0          1        \n",
       "138 0          1        \n",
       "139 0          1        \n",
       "140 0          1        \n",
       "141 0          1        \n",
       "142 0          1        \n",
       "143 0          1        \n",
       "144 0          1        \n",
       "145 0          1        \n",
       "146 0          1        \n",
       "147 0          1        \n",
       "148 0          1        \n",
       "149 0          1        \n",
       "150 0          1        "
      ]
     },
     "metadata": {},
     "output_type": "display_data"
    }
   ],
   "source": [
    "data"
   ]
  },
  {
   "cell_type": "code",
   "execution_count": 48,
   "metadata": {},
   "outputs": [],
   "source": [
    "formula.bpn <- setosa + versicolor + virginica ~ Sepal.Length + Sepal.Width + Petal.Length + Petal.Width"
   ]
  },
  {
   "cell_type": "code",
   "execution_count": 60,
   "metadata": {},
   "outputs": [],
   "source": [
    "set.seed(50)  "
   ]
  },
  {
   "cell_type": "code",
   "execution_count": 61,
   "metadata": {},
   "outputs": [],
   "source": [
    "smp.size <- floor(0.7*nrow(data)) "
   ]
  },
  {
   "cell_type": "code",
   "execution_count": 62,
   "metadata": {},
   "outputs": [],
   "source": [
    "train.ind <- sample(seq_len(nrow(data)), smp.size)\n",
    "train <- data[train.ind, ]\n",
    "test <- data[-train.ind, ]\n"
   ]
  },
  {
   "cell_type": "code",
   "execution_count": 63,
   "metadata": {},
   "outputs": [],
   "source": [
    "bpn <- neuralnet(formula = formula.bpn, \n",
    "                  data = train,\n",
    "                  hidden = c(1,3),       # 一個隱藏層：2個node\n",
    "                  learningrate = 0.01, # learning rate\n",
    "                  threshold = 0.01,    # partial derivatives of the error function, a stopping criteria\n",
    "                  stepmax = 5e5        # 最大的ieration數 = 500000(5*10^5)\n",
    "                  )\n"
   ]
  },
  {
   "cell_type": "code",
   "execution_count": 64,
   "metadata": {},
   "outputs": [
    {
     "data": {
      "image/png": "[encoded data removed]",
      "text/plain": [
       "plot without title"
      ]
     },
     "metadata": {},
     "output_type": "display_data"
    }
   ],
   "source": [
    "plot.nnet(bpn)"
   ]
  },
  {
   "cell_type": "code",
   "execution_count": 65,
   "metadata": {},
   "outputs": [
    {
     "data": {
      "text/html": [
       "<table>\n",
       "<thead><tr><th></th><th scope=col>Sepal.Length</th><th scope=col>Sepal.Width</th><th scope=col>Petal.Length</th><th scope=col>Petal.Width</th></tr></thead>\n",
       "<tbody>\n",
       "\t<tr><th scope=row>9</th><td>4.4</td><td>2.9</td><td>1.4</td><td>0.2</td></tr>\n",
       "\t<tr><th scope=row>12</th><td>4.8</td><td>3.4</td><td>1.6</td><td>0.2</td></tr>\n",
       "\t<tr><th scope=row>14</th><td>4.3</td><td>3.0</td><td>1.1</td><td>0.1</td></tr>\n",
       "\t<tr><th scope=row>22</th><td>5.1</td><td>3.7</td><td>1.5</td><td>0.4</td></tr>\n",
       "\t<tr><th scope=row>29</th><td>5.2</td><td>3.4</td><td>1.4</td><td>0.2</td></tr>\n",
       "\t<tr><th scope=row>35</th><td>4.9</td><td>3.1</td><td>1.5</td><td>0.2</td></tr>\n",
       "\t<tr><th scope=row>37</th><td>5.5</td><td>3.5</td><td>1.3</td><td>0.2</td></tr>\n",
       "\t<tr><th scope=row>42</th><td>4.5</td><td>2.3</td><td>1.3</td><td>0.3</td></tr>\n",
       "\t<tr><th scope=row>45</th><td>5.1</td><td>3.8</td><td>1.9</td><td>0.4</td></tr>\n",
       "\t<tr><th scope=row>48</th><td>4.6</td><td>3.2</td><td>1.4</td><td>0.2</td></tr>\n",
       "\t<tr><th scope=row>49</th><td>5.3</td><td>3.7</td><td>1.5</td><td>0.2</td></tr>\n",
       "\t<tr><th scope=row>51</th><td>7.0</td><td>3.2</td><td>4.7</td><td>1.4</td></tr>\n",
       "\t<tr><th scope=row>54</th><td>5.5</td><td>2.3</td><td>4.0</td><td>1.3</td></tr>\n",
       "\t<tr><th scope=row>55</th><td>6.5</td><td>2.8</td><td>4.6</td><td>1.5</td></tr>\n",
       "\t<tr><th scope=row>61</th><td>5.0</td><td>2.0</td><td>3.5</td><td>1.0</td></tr>\n",
       "\t<tr><th scope=row>62</th><td>5.9</td><td>3.0</td><td>4.2</td><td>1.5</td></tr>\n",
       "\t<tr><th scope=row>65</th><td>5.6</td><td>2.9</td><td>3.6</td><td>1.3</td></tr>\n",
       "\t<tr><th scope=row>71</th><td>5.9</td><td>3.2</td><td>4.8</td><td>1.8</td></tr>\n",
       "\t<tr><th scope=row>73</th><td>6.3</td><td>2.5</td><td>4.9</td><td>1.5</td></tr>\n",
       "\t<tr><th scope=row>74</th><td>6.1</td><td>2.8</td><td>4.7</td><td>1.2</td></tr>\n",
       "\t<tr><th scope=row>75</th><td>6.4</td><td>2.9</td><td>4.3</td><td>1.3</td></tr>\n",
       "\t<tr><th scope=row>76</th><td>6.6</td><td>3.0</td><td>4.4</td><td>1.4</td></tr>\n",
       "\t<tr><th scope=row>78</th><td>6.7</td><td>3.0</td><td>5.0</td><td>1.7</td></tr>\n",
       "\t<tr><th scope=row>81</th><td>5.5</td><td>2.4</td><td>3.8</td><td>1.1</td></tr>\n",
       "\t<tr><th scope=row>86</th><td>6.0</td><td>3.4</td><td>4.5</td><td>1.6</td></tr>\n",
       "\t<tr><th scope=row>89</th><td>5.6</td><td>3.0</td><td>4.1</td><td>1.3</td></tr>\n",
       "\t<tr><th scope=row>90</th><td>5.5</td><td>2.5</td><td>4.0</td><td>1.3</td></tr>\n",
       "\t<tr><th scope=row>91</th><td>5.5</td><td>2.6</td><td>4.4</td><td>1.2</td></tr>\n",
       "\t<tr><th scope=row>94</th><td>5.0</td><td>2.3</td><td>3.3</td><td>1.0</td></tr>\n",
       "\t<tr><th scope=row>96</th><td>5.7</td><td>3.0</td><td>4.2</td><td>1.2</td></tr>\n",
       "\t<tr><th scope=row>99</th><td>5.1</td><td>2.5</td><td>3.0</td><td>1.1</td></tr>\n",
       "\t<tr><th scope=row>105</th><td>6.5</td><td>3.0</td><td>5.8</td><td>2.2</td></tr>\n",
       "\t<tr><th scope=row>109</th><td>6.7</td><td>2.5</td><td>5.8</td><td>1.8</td></tr>\n",
       "\t<tr><th scope=row>111</th><td>6.5</td><td>3.2</td><td>5.1</td><td>2.0</td></tr>\n",
       "\t<tr><th scope=row>116</th><td>6.4</td><td>3.2</td><td>5.3</td><td>2.3</td></tr>\n",
       "\t<tr><th scope=row>117</th><td>6.5</td><td>3.0</td><td>5.5</td><td>1.8</td></tr>\n",
       "\t<tr><th scope=row>120</th><td>6.0</td><td>2.2</td><td>5.0</td><td>1.5</td></tr>\n",
       "\t<tr><th scope=row>125</th><td>6.7</td><td>3.3</td><td>5.7</td><td>2.1</td></tr>\n",
       "\t<tr><th scope=row>128</th><td>6.1</td><td>3.0</td><td>4.9</td><td>1.8</td></tr>\n",
       "\t<tr><th scope=row>130</th><td>7.2</td><td>3.0</td><td>5.8</td><td>1.6</td></tr>\n",
       "\t<tr><th scope=row>132</th><td>7.9</td><td>3.8</td><td>6.4</td><td>2.0</td></tr>\n",
       "\t<tr><th scope=row>135</th><td>6.1</td><td>2.6</td><td>5.6</td><td>1.4</td></tr>\n",
       "\t<tr><th scope=row>139</th><td>6.0</td><td>3.0</td><td>4.8</td><td>1.8</td></tr>\n",
       "\t<tr><th scope=row>140</th><td>6.9</td><td>3.1</td><td>5.4</td><td>2.1</td></tr>\n",
       "\t<tr><th scope=row>144</th><td>6.8</td><td>3.2</td><td>5.9</td><td>2.3</td></tr>\n",
       "</tbody>\n",
       "</table>\n"
      ],
      "text/latex": [
       "\\begin{tabular}{r|llll}\n",
       "  & Sepal.Length & Sepal.Width & Petal.Length & Petal.Width\\\\\n",
       "\\hline\n",
       "\t9 & 4.4 & 2.9 & 1.4 & 0.2\\\\\n",
       "\t12 & 4.8 & 3.4 & 1.6 & 0.2\\\\\n",
       "\t14 & 4.3 & 3.0 & 1.1 & 0.1\\\\\n",
       "\t22 & 5.1 & 3.7 & 1.5 & 0.4\\\\\n",
       "\t29 & 5.2 & 3.4 & 1.4 & 0.2\\\\\n",
       "\t35 & 4.9 & 3.1 & 1.5 & 0.2\\\\\n",
       "\t37 & 5.5 & 3.5 & 1.3 & 0.2\\\\\n",
       "\t42 & 4.5 & 2.3 & 1.3 & 0.3\\\\\n",
       "\t45 & 5.1 & 3.8 & 1.9 & 0.4\\\\\n",
       "\t48 & 4.6 & 3.2 & 1.4 & 0.2\\\\\n",
       "\t49 & 5.3 & 3.7 & 1.5 & 0.2\\\\\n",
       "\t51 & 7.0 & 3.2 & 4.7 & 1.4\\\\\n",
       "\t54 & 5.5 & 2.3 & 4.0 & 1.3\\\\\n",
       "\t55 & 6.5 & 2.8 & 4.6 & 1.5\\\\\n",
       "\t61 & 5.0 & 2.0 & 3.5 & 1.0\\\\\n",
       "\t62 & 5.9 & 3.0 & 4.2 & 1.5\\\\\n",
       "\t65 & 5.6 & 2.9 & 3.6 & 1.3\\\\\n",
       "\t71 & 5.9 & 3.2 & 4.8 & 1.8\\\\\n",
       "\t73 & 6.3 & 2.5 & 4.9 & 1.5\\\\\n",
       "\t74 & 6.1 & 2.8 & 4.7 & 1.2\\\\\n",
       "\t75 & 6.4 & 2.9 & 4.3 & 1.3\\\\\n",
       "\t76 & 6.6 & 3.0 & 4.4 & 1.4\\\\\n",
       "\t78 & 6.7 & 3.0 & 5.0 & 1.7\\\\\n",
       "\t81 & 5.5 & 2.4 & 3.8 & 1.1\\\\\n",
       "\t86 & 6.0 & 3.4 & 4.5 & 1.6\\\\\n",
       "\t89 & 5.6 & 3.0 & 4.1 & 1.3\\\\\n",
       "\t90 & 5.5 & 2.5 & 4.0 & 1.3\\\\\n",
       "\t91 & 5.5 & 2.6 & 4.4 & 1.2\\\\\n",
       "\t94 & 5.0 & 2.3 & 3.3 & 1.0\\\\\n",
       "\t96 & 5.7 & 3.0 & 4.2 & 1.2\\\\\n",
       "\t99 & 5.1 & 2.5 & 3.0 & 1.1\\\\\n",
       "\t105 & 6.5 & 3.0 & 5.8 & 2.2\\\\\n",
       "\t109 & 6.7 & 2.5 & 5.8 & 1.8\\\\\n",
       "\t111 & 6.5 & 3.2 & 5.1 & 2.0\\\\\n",
       "\t116 & 6.4 & 3.2 & 5.3 & 2.3\\\\\n",
       "\t117 & 6.5 & 3.0 & 5.5 & 1.8\\\\\n",
       "\t120 & 6.0 & 2.2 & 5.0 & 1.5\\\\\n",
       "\t125 & 6.7 & 3.3 & 5.7 & 2.1\\\\\n",
       "\t128 & 6.1 & 3.0 & 4.9 & 1.8\\\\\n",
       "\t130 & 7.2 & 3.0 & 5.8 & 1.6\\\\\n",
       "\t132 & 7.9 & 3.8 & 6.4 & 2.0\\\\\n",
       "\t135 & 6.1 & 2.6 & 5.6 & 1.4\\\\\n",
       "\t139 & 6.0 & 3.0 & 4.8 & 1.8\\\\\n",
       "\t140 & 6.9 & 3.1 & 5.4 & 2.1\\\\\n",
       "\t144 & 6.8 & 3.2 & 5.9 & 2.3\\\\\n",
       "\\end{tabular}\n"
      ],
      "text/markdown": [
       "\n",
       "| <!--/--> | Sepal.Length | Sepal.Width | Petal.Length | Petal.Width |\n",
       "|---|---|---|---|---|\n",
       "| 9 | 4.4 | 2.9 | 1.4 | 0.2 |\n",
       "| 12 | 4.8 | 3.4 | 1.6 | 0.2 |\n",
       "| 14 | 4.3 | 3.0 | 1.1 | 0.1 |\n",
       "| 22 | 5.1 | 3.7 | 1.5 | 0.4 |\n",
       "| 29 | 5.2 | 3.4 | 1.4 | 0.2 |\n",
       "| 35 | 4.9 | 3.1 | 1.5 | 0.2 |\n",
       "| 37 | 5.5 | 3.5 | 1.3 | 0.2 |\n",
       "| 42 | 4.5 | 2.3 | 1.3 | 0.3 |\n",
       "| 45 | 5.1 | 3.8 | 1.9 | 0.4 |\n",
       "| 48 | 4.6 | 3.2 | 1.4 | 0.2 |\n",
       "| 49 | 5.3 | 3.7 | 1.5 | 0.2 |\n",
       "| 51 | 7.0 | 3.2 | 4.7 | 1.4 |\n",
       "| 54 | 5.5 | 2.3 | 4.0 | 1.3 |\n",
       "| 55 | 6.5 | 2.8 | 4.6 | 1.5 |\n",
       "| 61 | 5.0 | 2.0 | 3.5 | 1.0 |\n",
       "| 62 | 5.9 | 3.0 | 4.2 | 1.5 |\n",
       "| 65 | 5.6 | 2.9 | 3.6 | 1.3 |\n",
       "| 71 | 5.9 | 3.2 | 4.8 | 1.8 |\n",
       "| 73 | 6.3 | 2.5 | 4.9 | 1.5 |\n",
       "| 74 | 6.1 | 2.8 | 4.7 | 1.2 |\n",
       "| 75 | 6.4 | 2.9 | 4.3 | 1.3 |\n",
       "| 76 | 6.6 | 3.0 | 4.4 | 1.4 |\n",
       "| 78 | 6.7 | 3.0 | 5.0 | 1.7 |\n",
       "| 81 | 5.5 | 2.4 | 3.8 | 1.1 |\n",
       "| 86 | 6.0 | 3.4 | 4.5 | 1.6 |\n",
       "| 89 | 5.6 | 3.0 | 4.1 | 1.3 |\n",
       "| 90 | 5.5 | 2.5 | 4.0 | 1.3 |\n",
       "| 91 | 5.5 | 2.6 | 4.4 | 1.2 |\n",
       "| 94 | 5.0 | 2.3 | 3.3 | 1.0 |\n",
       "| 96 | 5.7 | 3.0 | 4.2 | 1.2 |\n",
       "| 99 | 5.1 | 2.5 | 3.0 | 1.1 |\n",
       "| 105 | 6.5 | 3.0 | 5.8 | 2.2 |\n",
       "| 109 | 6.7 | 2.5 | 5.8 | 1.8 |\n",
       "| 111 | 6.5 | 3.2 | 5.1 | 2.0 |\n",
       "| 116 | 6.4 | 3.2 | 5.3 | 2.3 |\n",
       "| 117 | 6.5 | 3.0 | 5.5 | 1.8 |\n",
       "| 120 | 6.0 | 2.2 | 5.0 | 1.5 |\n",
       "| 125 | 6.7 | 3.3 | 5.7 | 2.1 |\n",
       "| 128 | 6.1 | 3.0 | 4.9 | 1.8 |\n",
       "| 130 | 7.2 | 3.0 | 5.8 | 1.6 |\n",
       "| 132 | 7.9 | 3.8 | 6.4 | 2.0 |\n",
       "| 135 | 6.1 | 2.6 | 5.6 | 1.4 |\n",
       "| 139 | 6.0 | 3.0 | 4.8 | 1.8 |\n",
       "| 140 | 6.9 | 3.1 | 5.4 | 2.1 |\n",
       "| 144 | 6.8 | 3.2 | 5.9 | 2.3 |\n",
       "\n"
      ],
      "text/plain": [
       "    Sepal.Length Sepal.Width Petal.Length Petal.Width\n",
       "9   4.4          2.9         1.4          0.2        \n",
       "12  4.8          3.4         1.6          0.2        \n",
       "14  4.3          3.0         1.1          0.1        \n",
       "22  5.1          3.7         1.5          0.4        \n",
       "29  5.2          3.4         1.4          0.2        \n",
       "35  4.9          3.1         1.5          0.2        \n",
       "37  5.5          3.5         1.3          0.2        \n",
       "42  4.5          2.3         1.3          0.3        \n",
       "45  5.1          3.8         1.9          0.4        \n",
       "48  4.6          3.2         1.4          0.2        \n",
       "49  5.3          3.7         1.5          0.2        \n",
       "51  7.0          3.2         4.7          1.4        \n",
       "54  5.5          2.3         4.0          1.3        \n",
       "55  6.5          2.8         4.6          1.5        \n",
       "61  5.0          2.0         3.5          1.0        \n",
       "62  5.9          3.0         4.2          1.5        \n",
       "65  5.6          2.9         3.6          1.3        \n",
       "71  5.9          3.2         4.8          1.8        \n",
       "73  6.3          2.5         4.9          1.5        \n",
       "74  6.1          2.8         4.7          1.2        \n",
       "75  6.4          2.9         4.3          1.3        \n",
       "76  6.6          3.0         4.4          1.4        \n",
       "78  6.7          3.0         5.0          1.7        \n",
       "81  5.5          2.4         3.8          1.1        \n",
       "86  6.0          3.4         4.5          1.6        \n",
       "89  5.6          3.0         4.1          1.3        \n",
       "90  5.5          2.5         4.0          1.3        \n",
       "91  5.5          2.6         4.4          1.2        \n",
       "94  5.0          2.3         3.3          1.0        \n",
       "96  5.7          3.0         4.2          1.2        \n",
       "99  5.1          2.5         3.0          1.1        \n",
       "105 6.5          3.0         5.8          2.2        \n",
       "109 6.7          2.5         5.8          1.8        \n",
       "111 6.5          3.2         5.1          2.0        \n",
       "116 6.4          3.2         5.3          2.3        \n",
       "117 6.5          3.0         5.5          1.8        \n",
       "120 6.0          2.2         5.0          1.5        \n",
       "125 6.7          3.3         5.7          2.1        \n",
       "128 6.1          3.0         4.9          1.8        \n",
       "130 7.2          3.0         5.8          1.6        \n",
       "132 7.9          3.8         6.4          2.0        \n",
       "135 6.1          2.6         5.6          1.4        \n",
       "139 6.0          3.0         4.8          1.8        \n",
       "140 6.9          3.1         5.4          2.1        \n",
       "144 6.8          3.2         5.9          2.3        "
      ]
     },
     "metadata": {},
     "output_type": "display_data"
    }
   ],
   "source": [
    "test[, 1:4]"
   ]
  },
  {
   "cell_type": "code",
   "execution_count": 66,
   "metadata": {
    "scrolled": true
   },
   "outputs": [],
   "source": [
    "pred <- compute(bpn, test[, 1:4])  "
   ]
  },
  {
   "cell_type": "code",
   "execution_count": 67,
   "metadata": {},
   "outputs": [
    {
     "data": {
      "text/html": [
       "<table>\n",
       "<tbody>\n",
       "\t<tr><th scope=row>9</th><td>1</td><td>0</td><td>0</td></tr>\n",
       "\t<tr><th scope=row>12</th><td>1</td><td>0</td><td>0</td></tr>\n",
       "\t<tr><th scope=row>14</th><td>1</td><td>0</td><td>0</td></tr>\n",
       "\t<tr><th scope=row>22</th><td>1</td><td>0</td><td>0</td></tr>\n",
       "\t<tr><th scope=row>29</th><td>1</td><td>0</td><td>0</td></tr>\n",
       "\t<tr><th scope=row>35</th><td>1</td><td>0</td><td>0</td></tr>\n",
       "\t<tr><th scope=row>37</th><td>1</td><td>0</td><td>0</td></tr>\n",
       "\t<tr><th scope=row>42</th><td>1</td><td>0</td><td>0</td></tr>\n",
       "\t<tr><th scope=row>45</th><td>1</td><td>0</td><td>0</td></tr>\n",
       "\t<tr><th scope=row>48</th><td>1</td><td>0</td><td>0</td></tr>\n",
       "\t<tr><th scope=row>49</th><td>1</td><td>0</td><td>0</td></tr>\n",
       "\t<tr><th scope=row>51</th><td>0</td><td>1</td><td>0</td></tr>\n",
       "\t<tr><th scope=row>54</th><td>0</td><td>1</td><td>0</td></tr>\n",
       "\t<tr><th scope=row>55</th><td>0</td><td>1</td><td>0</td></tr>\n",
       "\t<tr><th scope=row>61</th><td>0</td><td>1</td><td>0</td></tr>\n",
       "\t<tr><th scope=row>62</th><td>0</td><td>1</td><td>0</td></tr>\n",
       "\t<tr><th scope=row>65</th><td>0</td><td>1</td><td>0</td></tr>\n",
       "\t<tr><th scope=row>71</th><td>0</td><td>1</td><td>0</td></tr>\n",
       "\t<tr><th scope=row>73</th><td>0</td><td>1</td><td>0</td></tr>\n",
       "\t<tr><th scope=row>74</th><td>0</td><td>1</td><td>0</td></tr>\n",
       "\t<tr><th scope=row>75</th><td>0</td><td>1</td><td>0</td></tr>\n",
       "\t<tr><th scope=row>76</th><td>0</td><td>1</td><td>0</td></tr>\n",
       "\t<tr><th scope=row>78</th><td>0</td><td>1</td><td>0</td></tr>\n",
       "\t<tr><th scope=row>81</th><td>0</td><td>1</td><td>0</td></tr>\n",
       "\t<tr><th scope=row>86</th><td>0</td><td>1</td><td>0</td></tr>\n",
       "\t<tr><th scope=row>89</th><td>0</td><td>1</td><td>0</td></tr>\n",
       "\t<tr><th scope=row>90</th><td>0</td><td>1</td><td>0</td></tr>\n",
       "\t<tr><th scope=row>91</th><td>0</td><td>1</td><td>0</td></tr>\n",
       "\t<tr><th scope=row>94</th><td>0</td><td>1</td><td>0</td></tr>\n",
       "\t<tr><th scope=row>96</th><td>0</td><td>1</td><td>0</td></tr>\n",
       "\t<tr><th scope=row>99</th><td>0</td><td>1</td><td>0</td></tr>\n",
       "\t<tr><th scope=row>105</th><td>0</td><td>0</td><td>1</td></tr>\n",
       "\t<tr><th scope=row>109</th><td>0</td><td>0</td><td>1</td></tr>\n",
       "\t<tr><th scope=row>111</th><td>0</td><td>0</td><td>1</td></tr>\n",
       "\t<tr><th scope=row>116</th><td>0</td><td>0</td><td>1</td></tr>\n",
       "\t<tr><th scope=row>117</th><td>0</td><td>0</td><td>1</td></tr>\n",
       "\t<tr><th scope=row>120</th><td>0</td><td>0</td><td>1</td></tr>\n",
       "\t<tr><th scope=row>125</th><td>0</td><td>0</td><td>1</td></tr>\n",
       "\t<tr><th scope=row>128</th><td>0</td><td>1</td><td>0</td></tr>\n",
       "\t<tr><th scope=row>130</th><td>0</td><td>0</td><td>1</td></tr>\n",
       "\t<tr><th scope=row>132</th><td>0</td><td>0</td><td>1</td></tr>\n",
       "\t<tr><th scope=row>135</th><td>0</td><td>0</td><td>1</td></tr>\n",
       "\t<tr><th scope=row>139</th><td>0</td><td>1</td><td>0</td></tr>\n",
       "\t<tr><th scope=row>140</th><td>0</td><td>0</td><td>1</td></tr>\n",
       "\t<tr><th scope=row>144</th><td>0</td><td>0</td><td>1</td></tr>\n",
       "</tbody>\n",
       "</table>\n"
      ],
      "text/latex": [
       "\\begin{tabular}{r|lll}\n",
       "\t9 & 1 & 0 & 0\\\\\n",
       "\t12 & 1 & 0 & 0\\\\\n",
       "\t14 & 1 & 0 & 0\\\\\n",
       "\t22 & 1 & 0 & 0\\\\\n",
       "\t29 & 1 & 0 & 0\\\\\n",
       "\t35 & 1 & 0 & 0\\\\\n",
       "\t37 & 1 & 0 & 0\\\\\n",
       "\t42 & 1 & 0 & 0\\\\\n",
       "\t45 & 1 & 0 & 0\\\\\n",
       "\t48 & 1 & 0 & 0\\\\\n",
       "\t49 & 1 & 0 & 0\\\\\n",
       "\t51 & 0 & 1 & 0\\\\\n",
       "\t54 & 0 & 1 & 0\\\\\n",
       "\t55 & 0 & 1 & 0\\\\\n",
       "\t61 & 0 & 1 & 0\\\\\n",
       "\t62 & 0 & 1 & 0\\\\\n",
       "\t65 & 0 & 1 & 0\\\\\n",
       "\t71 & 0 & 1 & 0\\\\\n",
       "\t73 & 0 & 1 & 0\\\\\n",
       "\t74 & 0 & 1 & 0\\\\\n",
       "\t75 & 0 & 1 & 0\\\\\n",
       "\t76 & 0 & 1 & 0\\\\\n",
       "\t78 & 0 & 1 & 0\\\\\n",
       "\t81 & 0 & 1 & 0\\\\\n",
       "\t86 & 0 & 1 & 0\\\\\n",
       "\t89 & 0 & 1 & 0\\\\\n",
       "\t90 & 0 & 1 & 0\\\\\n",
       "\t91 & 0 & 1 & 0\\\\\n",
       "\t94 & 0 & 1 & 0\\\\\n",
       "\t96 & 0 & 1 & 0\\\\\n",
       "\t99 & 0 & 1 & 0\\\\\n",
       "\t105 & 0 & 0 & 1\\\\\n",
       "\t109 & 0 & 0 & 1\\\\\n",
       "\t111 & 0 & 0 & 1\\\\\n",
       "\t116 & 0 & 0 & 1\\\\\n",
       "\t117 & 0 & 0 & 1\\\\\n",
       "\t120 & 0 & 0 & 1\\\\\n",
       "\t125 & 0 & 0 & 1\\\\\n",
       "\t128 & 0 & 1 & 0\\\\\n",
       "\t130 & 0 & 0 & 1\\\\\n",
       "\t132 & 0 & 0 & 1\\\\\n",
       "\t135 & 0 & 0 & 1\\\\\n",
       "\t139 & 0 & 1 & 0\\\\\n",
       "\t140 & 0 & 0 & 1\\\\\n",
       "\t144 & 0 & 0 & 1\\\\\n",
       "\\end{tabular}\n"
      ],
      "text/markdown": [
       "\n",
       "| 9 | 1 | 0 | 0 |\n",
       "| 12 | 1 | 0 | 0 |\n",
       "| 14 | 1 | 0 | 0 |\n",
       "| 22 | 1 | 0 | 0 |\n",
       "| 29 | 1 | 0 | 0 |\n",
       "| 35 | 1 | 0 | 0 |\n",
       "| 37 | 1 | 0 | 0 |\n",
       "| 42 | 1 | 0 | 0 |\n",
       "| 45 | 1 | 0 | 0 |\n",
       "| 48 | 1 | 0 | 0 |\n",
       "| 49 | 1 | 0 | 0 |\n",
       "| 51 | 0 | 1 | 0 |\n",
       "| 54 | 0 | 1 | 0 |\n",
       "| 55 | 0 | 1 | 0 |\n",
       "| 61 | 0 | 1 | 0 |\n",
       "| 62 | 0 | 1 | 0 |\n",
       "| 65 | 0 | 1 | 0 |\n",
       "| 71 | 0 | 1 | 0 |\n",
       "| 73 | 0 | 1 | 0 |\n",
       "| 74 | 0 | 1 | 0 |\n",
       "| 75 | 0 | 1 | 0 |\n",
       "| 76 | 0 | 1 | 0 |\n",
       "| 78 | 0 | 1 | 0 |\n",
       "| 81 | 0 | 1 | 0 |\n",
       "| 86 | 0 | 1 | 0 |\n",
       "| 89 | 0 | 1 | 0 |\n",
       "| 90 | 0 | 1 | 0 |\n",
       "| 91 | 0 | 1 | 0 |\n",
       "| 94 | 0 | 1 | 0 |\n",
       "| 96 | 0 | 1 | 0 |\n",
       "| 99 | 0 | 1 | 0 |\n",
       "| 105 | 0 | 0 | 1 |\n",
       "| 109 | 0 | 0 | 1 |\n",
       "| 111 | 0 | 0 | 1 |\n",
       "| 116 | 0 | 0 | 1 |\n",
       "| 117 | 0 | 0 | 1 |\n",
       "| 120 | 0 | 0 | 1 |\n",
       "| 125 | 0 | 0 | 1 |\n",
       "| 128 | 0 | 1 | 0 |\n",
       "| 130 | 0 | 0 | 1 |\n",
       "| 132 | 0 | 0 | 1 |\n",
       "| 135 | 0 | 0 | 1 |\n",
       "| 139 | 0 | 1 | 0 |\n",
       "| 140 | 0 | 0 | 1 |\n",
       "| 144 | 0 | 0 | 1 |\n",
       "\n"
      ],
      "text/plain": [
       "    [,1] [,2] [,3]\n",
       "9   1    0    0   \n",
       "12  1    0    0   \n",
       "14  1    0    0   \n",
       "22  1    0    0   \n",
       "29  1    0    0   \n",
       "35  1    0    0   \n",
       "37  1    0    0   \n",
       "42  1    0    0   \n",
       "45  1    0    0   \n",
       "48  1    0    0   \n",
       "49  1    0    0   \n",
       "51  0    1    0   \n",
       "54  0    1    0   \n",
       "55  0    1    0   \n",
       "61  0    1    0   \n",
       "62  0    1    0   \n",
       "65  0    1    0   \n",
       "71  0    1    0   \n",
       "73  0    1    0   \n",
       "74  0    1    0   \n",
       "75  0    1    0   \n",
       "76  0    1    0   \n",
       "78  0    1    0   \n",
       "81  0    1    0   \n",
       "86  0    1    0   \n",
       "89  0    1    0   \n",
       "90  0    1    0   \n",
       "91  0    1    0   \n",
       "94  0    1    0   \n",
       "96  0    1    0   \n",
       "99  0    1    0   \n",
       "105 0    0    1   \n",
       "109 0    0    1   \n",
       "111 0    0    1   \n",
       "116 0    0    1   \n",
       "117 0    0    1   \n",
       "120 0    0    1   \n",
       "125 0    0    1   \n",
       "128 0    1    0   \n",
       "130 0    0    1   \n",
       "132 0    0    1   \n",
       "135 0    0    1   \n",
       "139 0    1    0   \n",
       "140 0    0    1   \n",
       "144 0    0    1   "
      ]
     },
     "metadata": {},
     "output_type": "display_data"
    }
   ],
   "source": [
    "pred.result <- round(pred$net.result)\n",
    "pred.result\n"
   ]
  },
  {
   "cell_type": "code",
   "execution_count": 69,
   "metadata": {},
   "outputs": [
    {
     "data": {
      "text/html": [
       "<table>\n",
       "<thead><tr><th></th><th scope=col>V1</th><th scope=col>V2</th><th scope=col>V3</th><th scope=col>Species</th></tr></thead>\n",
       "<tbody>\n",
       "\t<tr><th scope=row>9</th><td>1         </td><td>0         </td><td>0         </td><td>setosa    </td></tr>\n",
       "\t<tr><th scope=row>12</th><td>1         </td><td>0         </td><td>0         </td><td>setosa    </td></tr>\n",
       "\t<tr><th scope=row>14</th><td>1         </td><td>0         </td><td>0         </td><td>setosa    </td></tr>\n",
       "\t<tr><th scope=row>22</th><td>1         </td><td>0         </td><td>0         </td><td>setosa    </td></tr>\n",
       "\t<tr><th scope=row>29</th><td>1         </td><td>0         </td><td>0         </td><td>setosa    </td></tr>\n",
       "\t<tr><th scope=row>35</th><td>1         </td><td>0         </td><td>0         </td><td>setosa    </td></tr>\n",
       "\t<tr><th scope=row>37</th><td>1         </td><td>0         </td><td>0         </td><td>setosa    </td></tr>\n",
       "\t<tr><th scope=row>42</th><td>1         </td><td>0         </td><td>0         </td><td>setosa    </td></tr>\n",
       "\t<tr><th scope=row>45</th><td>1         </td><td>0         </td><td>0         </td><td>setosa    </td></tr>\n",
       "\t<tr><th scope=row>48</th><td>1         </td><td>0         </td><td>0         </td><td>setosa    </td></tr>\n",
       "\t<tr><th scope=row>49</th><td>1         </td><td>0         </td><td>0         </td><td>setosa    </td></tr>\n",
       "\t<tr><th scope=row>51</th><td>0         </td><td>1         </td><td>0         </td><td>versicolor</td></tr>\n",
       "\t<tr><th scope=row>54</th><td>0         </td><td>1         </td><td>0         </td><td>versicolor</td></tr>\n",
       "\t<tr><th scope=row>55</th><td>0         </td><td>1         </td><td>0         </td><td>versicolor</td></tr>\n",
       "\t<tr><th scope=row>61</th><td>0         </td><td>1         </td><td>0         </td><td>versicolor</td></tr>\n",
       "\t<tr><th scope=row>62</th><td>0         </td><td>1         </td><td>0         </td><td>versicolor</td></tr>\n",
       "\t<tr><th scope=row>65</th><td>0         </td><td>1         </td><td>0         </td><td>versicolor</td></tr>\n",
       "\t<tr><th scope=row>71</th><td>0         </td><td>1         </td><td>0         </td><td>versicolor</td></tr>\n",
       "\t<tr><th scope=row>73</th><td>0         </td><td>1         </td><td>0         </td><td>versicolor</td></tr>\n",
       "\t<tr><th scope=row>74</th><td>0         </td><td>1         </td><td>0         </td><td>versicolor</td></tr>\n",
       "\t<tr><th scope=row>75</th><td>0         </td><td>1         </td><td>0         </td><td>versicolor</td></tr>\n",
       "\t<tr><th scope=row>76</th><td>0         </td><td>1         </td><td>0         </td><td>versicolor</td></tr>\n",
       "\t<tr><th scope=row>78</th><td>0         </td><td>1         </td><td>0         </td><td>versicolor</td></tr>\n",
       "\t<tr><th scope=row>81</th><td>0         </td><td>1         </td><td>0         </td><td>versicolor</td></tr>\n",
       "\t<tr><th scope=row>86</th><td>0         </td><td>1         </td><td>0         </td><td>versicolor</td></tr>\n",
       "\t<tr><th scope=row>89</th><td>0         </td><td>1         </td><td>0         </td><td>versicolor</td></tr>\n",
       "\t<tr><th scope=row>90</th><td>0         </td><td>1         </td><td>0         </td><td>versicolor</td></tr>\n",
       "\t<tr><th scope=row>91</th><td>0         </td><td>1         </td><td>0         </td><td>versicolor</td></tr>\n",
       "\t<tr><th scope=row>94</th><td>0         </td><td>1         </td><td>0         </td><td>versicolor</td></tr>\n",
       "\t<tr><th scope=row>96</th><td>0         </td><td>1         </td><td>0         </td><td>versicolor</td></tr>\n",
       "\t<tr><th scope=row>99</th><td>0         </td><td>1         </td><td>0         </td><td>versicolor</td></tr>\n",
       "\t<tr><th scope=row>105</th><td>0         </td><td>0         </td><td>1         </td><td>virginica </td></tr>\n",
       "\t<tr><th scope=row>109</th><td>0         </td><td>0         </td><td>1         </td><td>virginica </td></tr>\n",
       "\t<tr><th scope=row>111</th><td>0         </td><td>0         </td><td>1         </td><td>virginica </td></tr>\n",
       "\t<tr><th scope=row>116</th><td>0         </td><td>0         </td><td>1         </td><td>virginica </td></tr>\n",
       "\t<tr><th scope=row>117</th><td>0         </td><td>0         </td><td>1         </td><td>virginica </td></tr>\n",
       "\t<tr><th scope=row>120</th><td>0         </td><td>0         </td><td>1         </td><td>virginica </td></tr>\n",
       "\t<tr><th scope=row>125</th><td>0         </td><td>0         </td><td>1         </td><td>virginica </td></tr>\n",
       "\t<tr><th scope=row>128</th><td>0         </td><td>1         </td><td>0         </td><td>versicolor</td></tr>\n",
       "\t<tr><th scope=row>130</th><td>0         </td><td>0         </td><td>1         </td><td>virginica </td></tr>\n",
       "\t<tr><th scope=row>132</th><td>0         </td><td>0         </td><td>1         </td><td>virginica </td></tr>\n",
       "\t<tr><th scope=row>135</th><td>0         </td><td>0         </td><td>1         </td><td>virginica </td></tr>\n",
       "\t<tr><th scope=row>139</th><td>0         </td><td>1         </td><td>0         </td><td>versicolor</td></tr>\n",
       "\t<tr><th scope=row>140</th><td>0         </td><td>0         </td><td>1         </td><td>virginica </td></tr>\n",
       "\t<tr><th scope=row>144</th><td>0         </td><td>0         </td><td>1         </td><td>virginica </td></tr>\n",
       "</tbody>\n",
       "</table>\n"
      ],
      "text/latex": [
       "\\begin{tabular}{r|llll}\n",
       "  & V1 & V2 & V3 & Species\\\\\n",
       "\\hline\n",
       "\t9 & 1          & 0          & 0          & setosa    \\\\\n",
       "\t12 & 1          & 0          & 0          & setosa    \\\\\n",
       "\t14 & 1          & 0          & 0          & setosa    \\\\\n",
       "\t22 & 1          & 0          & 0          & setosa    \\\\\n",
       "\t29 & 1          & 0          & 0          & setosa    \\\\\n",
       "\t35 & 1          & 0          & 0          & setosa    \\\\\n",
       "\t37 & 1          & 0          & 0          & setosa    \\\\\n",
       "\t42 & 1          & 0          & 0          & setosa    \\\\\n",
       "\t45 & 1          & 0          & 0          & setosa    \\\\\n",
       "\t48 & 1          & 0          & 0          & setosa    \\\\\n",
       "\t49 & 1          & 0          & 0          & setosa    \\\\\n",
       "\t51 & 0          & 1          & 0          & versicolor\\\\\n",
       "\t54 & 0          & 1          & 0          & versicolor\\\\\n",
       "\t55 & 0          & 1          & 0          & versicolor\\\\\n",
       "\t61 & 0          & 1          & 0          & versicolor\\\\\n",
       "\t62 & 0          & 1          & 0          & versicolor\\\\\n",
       "\t65 & 0          & 1          & 0          & versicolor\\\\\n",
       "\t71 & 0          & 1          & 0          & versicolor\\\\\n",
       "\t73 & 0          & 1          & 0          & versicolor\\\\\n",
       "\t74 & 0          & 1          & 0          & versicolor\\\\\n",
       "\t75 & 0          & 1          & 0          & versicolor\\\\\n",
       "\t76 & 0          & 1          & 0          & versicolor\\\\\n",
       "\t78 & 0          & 1          & 0          & versicolor\\\\\n",
       "\t81 & 0          & 1          & 0          & versicolor\\\\\n",
       "\t86 & 0          & 1          & 0          & versicolor\\\\\n",
       "\t89 & 0          & 1          & 0          & versicolor\\\\\n",
       "\t90 & 0          & 1          & 0          & versicolor\\\\\n",
       "\t91 & 0          & 1          & 0          & versicolor\\\\\n",
       "\t94 & 0          & 1          & 0          & versicolor\\\\\n",
       "\t96 & 0          & 1          & 0          & versicolor\\\\\n",
       "\t99 & 0          & 1          & 0          & versicolor\\\\\n",
       "\t105 & 0          & 0          & 1          & virginica \\\\\n",
       "\t109 & 0          & 0          & 1          & virginica \\\\\n",
       "\t111 & 0          & 0          & 1          & virginica \\\\\n",
       "\t116 & 0          & 0          & 1          & virginica \\\\\n",
       "\t117 & 0          & 0          & 1          & virginica \\\\\n",
       "\t120 & 0          & 0          & 1          & virginica \\\\\n",
       "\t125 & 0          & 0          & 1          & virginica \\\\\n",
       "\t128 & 0          & 1          & 0          & versicolor\\\\\n",
       "\t130 & 0          & 0          & 1          & virginica \\\\\n",
       "\t132 & 0          & 0          & 1          & virginica \\\\\n",
       "\t135 & 0          & 0          & 1          & virginica \\\\\n",
       "\t139 & 0          & 1          & 0          & versicolor\\\\\n",
       "\t140 & 0          & 0          & 1          & virginica \\\\\n",
       "\t144 & 0          & 0          & 1          & virginica \\\\\n",
       "\\end{tabular}\n"
      ],
      "text/markdown": [
       "\n",
       "| <!--/--> | V1 | V2 | V3 | Species |\n",
       "|---|---|---|---|---|\n",
       "| 9 | 1          | 0          | 0          | setosa     |\n",
       "| 12 | 1          | 0          | 0          | setosa     |\n",
       "| 14 | 1          | 0          | 0          | setosa     |\n",
       "| 22 | 1          | 0          | 0          | setosa     |\n",
       "| 29 | 1          | 0          | 0          | setosa     |\n",
       "| 35 | 1          | 0          | 0          | setosa     |\n",
       "| 37 | 1          | 0          | 0          | setosa     |\n",
       "| 42 | 1          | 0          | 0          | setosa     |\n",
       "| 45 | 1          | 0          | 0          | setosa     |\n",
       "| 48 | 1          | 0          | 0          | setosa     |\n",
       "| 49 | 1          | 0          | 0          | setosa     |\n",
       "| 51 | 0          | 1          | 0          | versicolor |\n",
       "| 54 | 0          | 1          | 0          | versicolor |\n",
       "| 55 | 0          | 1          | 0          | versicolor |\n",
       "| 61 | 0          | 1          | 0          | versicolor |\n",
       "| 62 | 0          | 1          | 0          | versicolor |\n",
       "| 65 | 0          | 1          | 0          | versicolor |\n",
       "| 71 | 0          | 1          | 0          | versicolor |\n",
       "| 73 | 0          | 1          | 0          | versicolor |\n",
       "| 74 | 0          | 1          | 0          | versicolor |\n",
       "| 75 | 0          | 1          | 0          | versicolor |\n",
       "| 76 | 0          | 1          | 0          | versicolor |\n",
       "| 78 | 0          | 1          | 0          | versicolor |\n",
       "| 81 | 0          | 1          | 0          | versicolor |\n",
       "| 86 | 0          | 1          | 0          | versicolor |\n",
       "| 89 | 0          | 1          | 0          | versicolor |\n",
       "| 90 | 0          | 1          | 0          | versicolor |\n",
       "| 91 | 0          | 1          | 0          | versicolor |\n",
       "| 94 | 0          | 1          | 0          | versicolor |\n",
       "| 96 | 0          | 1          | 0          | versicolor |\n",
       "| 99 | 0          | 1          | 0          | versicolor |\n",
       "| 105 | 0          | 0          | 1          | virginica  |\n",
       "| 109 | 0          | 0          | 1          | virginica  |\n",
       "| 111 | 0          | 0          | 1          | virginica  |\n",
       "| 116 | 0          | 0          | 1          | virginica  |\n",
       "| 117 | 0          | 0          | 1          | virginica  |\n",
       "| 120 | 0          | 0          | 1          | virginica  |\n",
       "| 125 | 0          | 0          | 1          | virginica  |\n",
       "| 128 | 0          | 1          | 0          | versicolor |\n",
       "| 130 | 0          | 0          | 1          | virginica  |\n",
       "| 132 | 0          | 0          | 1          | virginica  |\n",
       "| 135 | 0          | 0          | 1          | virginica  |\n",
       "| 139 | 0          | 1          | 0          | versicolor |\n",
       "| 140 | 0          | 0          | 1          | virginica  |\n",
       "| 144 | 0          | 0          | 1          | virginica  |\n",
       "\n"
      ],
      "text/plain": [
       "    V1 V2 V3 Species   \n",
       "9   1  0  0  setosa    \n",
       "12  1  0  0  setosa    \n",
       "14  1  0  0  setosa    \n",
       "22  1  0  0  setosa    \n",
       "29  1  0  0  setosa    \n",
       "35  1  0  0  setosa    \n",
       "37  1  0  0  setosa    \n",
       "42  1  0  0  setosa    \n",
       "45  1  0  0  setosa    \n",
       "48  1  0  0  setosa    \n",
       "49  1  0  0  setosa    \n",
       "51  0  1  0  versicolor\n",
       "54  0  1  0  versicolor\n",
       "55  0  1  0  versicolor\n",
       "61  0  1  0  versicolor\n",
       "62  0  1  0  versicolor\n",
       "65  0  1  0  versicolor\n",
       "71  0  1  0  versicolor\n",
       "73  0  1  0  versicolor\n",
       "74  0  1  0  versicolor\n",
       "75  0  1  0  versicolor\n",
       "76  0  1  0  versicolor\n",
       "78  0  1  0  versicolor\n",
       "81  0  1  0  versicolor\n",
       "86  0  1  0  versicolor\n",
       "89  0  1  0  versicolor\n",
       "90  0  1  0  versicolor\n",
       "91  0  1  0  versicolor\n",
       "94  0  1  0  versicolor\n",
       "96  0  1  0  versicolor\n",
       "99  0  1  0  versicolor\n",
       "105 0  0  1  virginica \n",
       "109 0  0  1  virginica \n",
       "111 0  0  1  virginica \n",
       "116 0  0  1  virginica \n",
       "117 0  0  1  virginica \n",
       "120 0  0  1  virginica \n",
       "125 0  0  1  virginica \n",
       "128 0  1  0  versicolor\n",
       "130 0  0  1  virginica \n",
       "132 0  0  1  virginica \n",
       "135 0  0  1  virginica \n",
       "139 0  1  0  versicolor\n",
       "140 0  0  1  virginica \n",
       "144 0  0  1  virginica "
      ]
     },
     "metadata": {},
     "output_type": "display_data"
    }
   ],
   "source": [
    "pred.result <- as.data.frame(pred.result)\n",
    "pred.result$Species <- \"\"\n",
    "for(i in 1:nrow(pred.result)){\n",
    "  if(pred.result[i, 1]==1){ pred.result[i, \"Species\"] <- \"setosa\"}\n",
    "  if(pred.result[i, 2]==1){ pred.result[i, \"Species\"] <- \"versicolor\"}\n",
    "  if(pred.result[i, 3]==1){ pred.result[i, \"Species\"] <- \"virginica\"}\n",
    "}\n",
    "\n",
    "pred.result\n"
   ]
  },
  {
   "cell_type": "code",
   "execution_count": 70,
   "metadata": {},
   "outputs": [
    {
     "data": {
      "text/plain": [
       "            predict\n",
       "real         setosa versicolor virginica\n",
       "  setosa         11          0         0\n",
       "  versicolor      0         20         0\n",
       "  virginica       0          2        12"
      ]
     },
     "metadata": {},
     "output_type": "display_data"
    }
   ],
   "source": [
    "cm = table(real    = test$Species, \n",
    "      predict = pred.result$Species)\n",
    "cm"
   ]
  },
  {
   "cell_type": "code",
   "execution_count": 71,
   "metadata": {},
   "outputs": [
    {
     "data": {
      "text/html": [
       "0.955555555555556"
      ],
      "text/latex": [
       "0.955555555555556"
      ],
      "text/markdown": [
       "0.955555555555556"
      ],
      "text/plain": [
       "[1] 0.9555556"
      ]
     },
     "metadata": {},
     "output_type": "display_data"
    }
   ],
   "source": [
    "RFaccuracy <- sum(diag(cm)) / sum(cm)\n",
    "RFaccuracy"
   ]
  },
  {
   "cell_type": "code",
   "execution_count": null,
   "metadata": {},
   "outputs": [],
   "source": []
  }
 ],
 "metadata": {
  "kernelspec": {
   "display_name": "R",
   "language": "R",
   "name": "ir"
  },
  "language_info": {
   "codemirror_mode": "r",
   "file_extension": ".r",
   "mimetype": "text/x-r-source",
   "name": "R",
   "pygments_lexer": "r",
   "version": "3.6.1"
  }
 },
 "nbformat": 4,
 "nbformat_minor": 4
}
