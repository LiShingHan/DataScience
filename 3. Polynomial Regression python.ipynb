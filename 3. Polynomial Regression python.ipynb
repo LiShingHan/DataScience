{
  "cells": [
    {
      "cell_type": "markdown",
      "metadata": {
        "id": "FBpdw0FDUEX7"
      },
      "source": [
        "# Polynomial Regression"
      ]
    },
    {
      "cell_type": "code",
      "execution_count": 1,
      "metadata": {
        "id": "9zQ4qHHBUEX_"
      },
      "outputs": [],
      "source": [
        "import numpy as np\n",
        "import matplotlib.pyplot as plt  # To visualize\n",
        "import pandas as pd  # To read data\n",
        "from sklearn.linear_model import LinearRegression"
      ]
    },
    {
      "cell_type": "code",
      "execution_count": 2,
      "metadata": {
        "id": "eEvye4KTUEYC",
        "outputId": "4a7bb3df-6c01-4709-ce87-0f6f4ef278f1",
        "colab": {
          "base_uri": "https://localhost:8080/",
          "height": 426
        }
      },
      "outputs": [
        {
          "output_type": "execute_result",
          "data": {
            "text/plain": [
              "     watt  temp\n",
              "0   12530  46.8\n",
              "1   10800  52.1\n",
              "2   10180  55.1\n",
              "3    9730  59.2\n",
              "4    9750  61.9\n",
              "5   10230  66.2\n",
              "6   11160  69.9\n",
              "7   13910  76.8\n",
              "8   15690  79.3\n",
              "9   15100  79.7\n",
              "10  17020  80.2\n",
              "11  17880  83.3"
            ],
            "text/html": [
              "\n",
              "  <div id=\"df-af341d64-ee36-4935-be0d-064ea4112ed8\">\n",
              "    <div class=\"colab-df-container\">\n",
              "      <div>\n",
              "<style scoped>\n",
              "    .dataframe tbody tr th:only-of-type {\n",
              "        vertical-align: middle;\n",
              "    }\n",
              "\n",
              "    .dataframe tbody tr th {\n",
              "        vertical-align: top;\n",
              "    }\n",
              "\n",
              "    .dataframe thead th {\n",
              "        text-align: right;\n",
              "    }\n",
              "</style>\n",
              "<table border=\"1\" class=\"dataframe\">\n",
              "  <thead>\n",
              "    <tr style=\"text-align: right;\">\n",
              "      <th></th>\n",
              "      <th>watt</th>\n",
              "      <th>temp</th>\n",
              "    </tr>\n",
              "  </thead>\n",
              "  <tbody>\n",
              "    <tr>\n",
              "      <th>0</th>\n",
              "      <td>12530</td>\n",
              "      <td>46.8</td>\n",
              "    </tr>\n",
              "    <tr>\n",
              "      <th>1</th>\n",
              "      <td>10800</td>\n",
              "      <td>52.1</td>\n",
              "    </tr>\n",
              "    <tr>\n",
              "      <th>2</th>\n",
              "      <td>10180</td>\n",
              "      <td>55.1</td>\n",
              "    </tr>\n",
              "    <tr>\n",
              "      <th>3</th>\n",
              "      <td>9730</td>\n",
              "      <td>59.2</td>\n",
              "    </tr>\n",
              "    <tr>\n",
              "      <th>4</th>\n",
              "      <td>9750</td>\n",
              "      <td>61.9</td>\n",
              "    </tr>\n",
              "    <tr>\n",
              "      <th>5</th>\n",
              "      <td>10230</td>\n",
              "      <td>66.2</td>\n",
              "    </tr>\n",
              "    <tr>\n",
              "      <th>6</th>\n",
              "      <td>11160</td>\n",
              "      <td>69.9</td>\n",
              "    </tr>\n",
              "    <tr>\n",
              "      <th>7</th>\n",
              "      <td>13910</td>\n",
              "      <td>76.8</td>\n",
              "    </tr>\n",
              "    <tr>\n",
              "      <th>8</th>\n",
              "      <td>15690</td>\n",
              "      <td>79.3</td>\n",
              "    </tr>\n",
              "    <tr>\n",
              "      <th>9</th>\n",
              "      <td>15100</td>\n",
              "      <td>79.7</td>\n",
              "    </tr>\n",
              "    <tr>\n",
              "      <th>10</th>\n",
              "      <td>17020</td>\n",
              "      <td>80.2</td>\n",
              "    </tr>\n",
              "    <tr>\n",
              "      <th>11</th>\n",
              "      <td>17880</td>\n",
              "      <td>83.3</td>\n",
              "    </tr>\n",
              "  </tbody>\n",
              "</table>\n",
              "</div>\n",
              "      <button class=\"colab-df-convert\" onclick=\"convertToInteractive('df-af341d64-ee36-4935-be0d-064ea4112ed8')\"\n",
              "              title=\"Convert this dataframe to an interactive table.\"\n",
              "              style=\"display:none;\">\n",
              "        \n",
              "  <svg xmlns=\"http://www.w3.org/2000/svg\" height=\"24px\"viewBox=\"0 0 24 24\"\n",
              "       width=\"24px\">\n",
              "    <path d=\"M0 0h24v24H0V0z\" fill=\"none\"/>\n",
              "    <path d=\"M18.56 5.44l.94 2.06.94-2.06 2.06-.94-2.06-.94-.94-2.06-.94 2.06-2.06.94zm-11 1L8.5 8.5l.94-2.06 2.06-.94-2.06-.94L8.5 2.5l-.94 2.06-2.06.94zm10 10l.94 2.06.94-2.06 2.06-.94-2.06-.94-.94-2.06-.94 2.06-2.06.94z\"/><path d=\"M17.41 7.96l-1.37-1.37c-.4-.4-.92-.59-1.43-.59-.52 0-1.04.2-1.43.59L10.3 9.45l-7.72 7.72c-.78.78-.78 2.05 0 2.83L4 21.41c.39.39.9.59 1.41.59.51 0 1.02-.2 1.41-.59l7.78-7.78 2.81-2.81c.8-.78.8-2.07 0-2.86zM5.41 20L4 18.59l7.72-7.72 1.47 1.35L5.41 20z\"/>\n",
              "  </svg>\n",
              "      </button>\n",
              "      \n",
              "  <style>\n",
              "    .colab-df-container {\n",
              "      display:flex;\n",
              "      flex-wrap:wrap;\n",
              "      gap: 12px;\n",
              "    }\n",
              "\n",
              "    .colab-df-convert {\n",
              "      background-color: #E8F0FE;\n",
              "      border: none;\n",
              "      border-radius: 50%;\n",
              "      cursor: pointer;\n",
              "      display: none;\n",
              "      fill: #1967D2;\n",
              "      height: 32px;\n",
              "      padding: 0 0 0 0;\n",
              "      width: 32px;\n",
              "    }\n",
              "\n",
              "    .colab-df-convert:hover {\n",
              "      background-color: #E2EBFA;\n",
              "      box-shadow: 0px 1px 2px rgba(60, 64, 67, 0.3), 0px 1px 3px 1px rgba(60, 64, 67, 0.15);\n",
              "      fill: #174EA6;\n",
              "    }\n",
              "\n",
              "    [theme=dark] .colab-df-convert {\n",
              "      background-color: #3B4455;\n",
              "      fill: #D2E3FC;\n",
              "    }\n",
              "\n",
              "    [theme=dark] .colab-df-convert:hover {\n",
              "      background-color: #434B5C;\n",
              "      box-shadow: 0px 1px 3px 1px rgba(0, 0, 0, 0.15);\n",
              "      filter: drop-shadow(0px 1px 2px rgba(0, 0, 0, 0.3));\n",
              "      fill: #FFFFFF;\n",
              "    }\n",
              "  </style>\n",
              "\n",
              "      <script>\n",
              "        const buttonEl =\n",
              "          document.querySelector('#df-af341d64-ee36-4935-be0d-064ea4112ed8 button.colab-df-convert');\n",
              "        buttonEl.style.display =\n",
              "          google.colab.kernel.accessAllowed ? 'block' : 'none';\n",
              "\n",
              "        async function convertToInteractive(key) {\n",
              "          const element = document.querySelector('#df-af341d64-ee36-4935-be0d-064ea4112ed8');\n",
              "          const dataTable =\n",
              "            await google.colab.kernel.invokeFunction('convertToInteractive',\n",
              "                                                     [key], {});\n",
              "          if (!dataTable) return;\n",
              "\n",
              "          const docLinkHtml = 'Like what you see? Visit the ' +\n",
              "            '<a target=\"_blank\" href=https://colab.research.google.com/notebooks/data_table.ipynb>data table notebook</a>'\n",
              "            + ' to learn more about interactive tables.';\n",
              "          element.innerHTML = '';\n",
              "          dataTable['output_type'] = 'display_data';\n",
              "          await google.colab.output.renderOutput(dataTable, element);\n",
              "          const docLink = document.createElement('div');\n",
              "          docLink.innerHTML = docLinkHtml;\n",
              "          element.appendChild(docLink);\n",
              "        }\n",
              "      </script>\n",
              "    </div>\n",
              "  </div>\n",
              "  "
            ]
          },
          "metadata": {},
          "execution_count": 2
        }
      ],
      "source": [
        "data = pd.read_csv('https://raw.githubusercontent.com/LiShingHan/DataScience/main/DataSet/p7.9.csv')  # load data set\n",
        "data"
      ]
    },
    {
      "cell_type": "code",
      "execution_count": 3,
      "metadata": {
        "id": "r7phSvSlUEYD",
        "outputId": "a97d9efe-030e-4658-f358-528acb2c2fab",
        "colab": {
          "base_uri": "https://localhost:8080/"
        }
      },
      "outputs": [
        {
          "output_type": "execute_result",
          "data": {
            "text/plain": [
              "array([[46.8],\n",
              "       [52.1],\n",
              "       [55.1],\n",
              "       [59.2],\n",
              "       [61.9],\n",
              "       [66.2],\n",
              "       [69.9],\n",
              "       [76.8],\n",
              "       [79.3],\n",
              "       [79.7],\n",
              "       [80.2],\n",
              "       [83.3]])"
            ]
          },
          "metadata": {},
          "execution_count": 3
        }
      ],
      "source": [
        "X = data.iloc[:, 1].values.reshape(-1, 1)  # 取第 0列   values converts it into a numpy array\n",
        "Y = data.iloc[:, 0].values.reshape(-1, 1)  # 取第 1列   -1 means that calculate the dimension of rows, but have 1 column\n",
        "X"
      ]
    },
    {
      "cell_type": "code",
      "execution_count": 4,
      "metadata": {
        "id": "4FNCUdQlUEYE"
      },
      "outputs": [],
      "source": [
        "# https://www.geeksforgeeks.org/python-implementation-of-polynomial-regression/\n",
        "# Fitting Polynomial Regression to the dataset \n",
        "from sklearn.preprocessing import PolynomialFeatures "
      ]
    },
    {
      "cell_type": "code",
      "execution_count": 5,
      "metadata": {
        "scrolled": true,
        "id": "DcQG2Z33UEYF",
        "outputId": "2fe4db75-4750-4971-c8ec-b825c529d6dc",
        "colab": {
          "base_uri": "https://localhost:8080/"
        }
      },
      "outputs": [
        {
          "output_type": "execute_result",
          "data": {
            "text/plain": [
              "array([[1.00000e+00, 4.68000e+01, 2.19024e+03],\n",
              "       [1.00000e+00, 5.21000e+01, 2.71441e+03],\n",
              "       [1.00000e+00, 5.51000e+01, 3.03601e+03],\n",
              "       [1.00000e+00, 5.92000e+01, 3.50464e+03],\n",
              "       [1.00000e+00, 6.19000e+01, 3.83161e+03],\n",
              "       [1.00000e+00, 6.62000e+01, 4.38244e+03],\n",
              "       [1.00000e+00, 6.99000e+01, 4.88601e+03],\n",
              "       [1.00000e+00, 7.68000e+01, 5.89824e+03],\n",
              "       [1.00000e+00, 7.93000e+01, 6.28849e+03],\n",
              "       [1.00000e+00, 7.97000e+01, 6.35209e+03],\n",
              "       [1.00000e+00, 8.02000e+01, 6.43204e+03],\n",
              "       [1.00000e+00, 8.33000e+01, 6.93889e+03]])"
            ]
          },
          "metadata": {},
          "execution_count": 5
        }
      ],
      "source": [
        "poly = PolynomialFeatures(degree = 2) \n",
        "X_poly = poly.fit_transform(X) \n",
        "X_poly"
      ]
    },
    {
      "cell_type": "code",
      "execution_count": 6,
      "metadata": {
        "id": "C0Os6jnEUEYF",
        "outputId": "bbaa8101-49c8-44f0-f676-f001f1bbced7",
        "colab": {
          "base_uri": "https://localhost:8080/"
        }
      },
      "outputs": [
        {
          "output_type": "execute_result",
          "data": {
            "text/plain": [
              "LinearRegression()"
            ]
          },
          "metadata": {},
          "execution_count": 6
        }
      ],
      "source": [
        "poly.fit(X_poly, Y) \n",
        "lin2 = LinearRegression() \n",
        "lin2.fit(X_poly, Y) "
      ]
    },
    {
      "cell_type": "code",
      "execution_count": 7,
      "metadata": {
        "id": "3wvhJn0DUEYG",
        "outputId": "3a6c5b4d-6b3f-45cf-c4a8-ce6931bce292",
        "colab": {
          "base_uri": "https://localhost:8080/",
          "height": 295
        }
      },
      "outputs": [
        {
          "output_type": "display_data",
          "data": {
            "text/plain": [
              "<Figure size 432x288 with 1 Axes>"
            ],
            "image/png": "[encoded data removed]"
          },
          "metadata": {
            "needs_background": "light"
          }
        }
      ],
      "source": [
        "# Visualising the Polynomial Regression results \n",
        "plt.scatter(X, Y, color = 'blue') \n",
        "  \n",
        "plt.plot(X, lin2.predict(poly.fit_transform(X)), color = 'red') \n",
        "plt.title('Polynomial Regression') \n",
        "plt.xlabel('Temperature') \n",
        "plt.ylabel('Pressure') \n",
        "  \n",
        "plt.show() "
      ]
    },
    {
      "cell_type": "code",
      "execution_count": 8,
      "metadata": {
        "id": "gjTzTFwSUEYI"
      },
      "outputs": [],
      "source": [
        "# Predicting a new result with Polynomial Regression \n",
        "x1  =  np.array([[70.0]] ) \n",
        "x1\n",
        "poly = PolynomialFeatures(degree = 2) \n",
        "x1_poly = poly.fit_transform(x1) "
      ]
    },
    {
      "cell_type": "code",
      "execution_count": 9,
      "metadata": {
        "id": "FaEbBQWnUEYJ",
        "outputId": "3c363b1e-3ef1-4b81-f95e-56612e94ffca",
        "colab": {
          "base_uri": "https://localhost:8080/"
        }
      },
      "outputs": [
        {
          "output_type": "execute_result",
          "data": {
            "text/plain": [
              "array([[11235.00997451]])"
            ]
          },
          "metadata": {},
          "execution_count": 9
        }
      ],
      "source": [
        "lin2.predict(x1_poly)"
      ]
    },
    {
      "cell_type": "code",
      "execution_count": null,
      "metadata": {
        "id": "jF-hAi0hUEYK"
      },
      "outputs": [],
      "source": []
    }
  ],
  "metadata": {
    "kernelspec": {
      "display_name": "Python 3",
      "language": "python",
      "name": "python3"
    },
    "language_info": {
      "codemirror_mode": {
        "name": "ipython",
        "version": 3
      },
      "file_extension": ".py",
      "mimetype": "text/x-python",
      "name": "python",
      "nbconvert_exporter": "python",
      "pygments_lexer": "ipython3",
      "version": "3.8.8"
    },
    "colab": {
      "provenance": []
    }
  },
  "nbformat": 4,
  "nbformat_minor": 0
}