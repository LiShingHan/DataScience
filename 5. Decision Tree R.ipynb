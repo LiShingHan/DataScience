{
  "cells": [
    {
      "cell_type": "markdown",
      "metadata": {
        "id": "hpC5CNUWXvFj"
      },
      "source": [
        "# Decision Tree"
      ]
    },
    {
      "cell_type": "code",
      "execution_count": null,
      "metadata": {
        "id": "NlssXSHdXvFm",
        "outputId": "c09ce3fd-5223-4708-c015-c16eed6f275c",
        "colab": {
          "base_uri": "https://localhost:8080/",
          "height": 537
        }
      },
      "outputs": [
        {
          "output_type": "display_data",
          "data": {
            "text/html": [
              "<table class=\"dataframe\">\n",
              "<caption>A data.frame: 14 × 5</caption>\n",
              "<thead>\n",
              "\t<tr><th scope=col>outlook</th><th scope=col>temp</th><th scope=col>humidity</th><th scope=col>windy</th><th scope=col>play</th></tr>\n",
              "\t<tr><th scope=col>&lt;chr&gt;</th><th scope=col>&lt;chr&gt;</th><th scope=col>&lt;chr&gt;</th><th scope=col>&lt;chr&gt;</th><th scope=col>&lt;chr&gt;</th></tr>\n",
              "</thead>\n",
              "<tbody>\n",
              "\t<tr><td>sunny   </td><td>hot </td><td>high  </td><td>false</td><td>no </td></tr>\n",
              "\t<tr><td>sunny   </td><td>hot </td><td>high  </td><td>true </td><td>no </td></tr>\n",
              "\t<tr><td>overcast</td><td>hot </td><td>high  </td><td>false</td><td>yes</td></tr>\n",
              "\t<tr><td>rainy   </td><td>warm</td><td>high  </td><td>false</td><td>yes</td></tr>\n",
              "\t<tr><td>rainy   </td><td>cool</td><td>normal</td><td>false</td><td>yes</td></tr>\n",
              "\t<tr><td>rainy   </td><td>cool</td><td>normal</td><td>true </td><td>no </td></tr>\n",
              "\t<tr><td>overcast</td><td>cool</td><td>normal</td><td>true </td><td>yes</td></tr>\n",
              "\t<tr><td>sunny   </td><td>warm</td><td>high  </td><td>false</td><td>no </td></tr>\n",
              "\t<tr><td>sunny   </td><td>cool</td><td>normal</td><td>false</td><td>yes</td></tr>\n",
              "\t<tr><td>rainy   </td><td>warm</td><td>normal</td><td>false</td><td>yes</td></tr>\n",
              "\t<tr><td>sunny   </td><td>warm</td><td>normal</td><td>true </td><td>yes</td></tr>\n",
              "\t<tr><td>overcast</td><td>warm</td><td>high  </td><td>true </td><td>yes</td></tr>\n",
              "\t<tr><td>overcast</td><td>hot </td><td>normal</td><td>false</td><td>yes</td></tr>\n",
              "\t<tr><td>rainy   </td><td>warm</td><td>high  </td><td>true </td><td>no </td></tr>\n",
              "</tbody>\n",
              "</table>\n"
            ],
            "text/markdown": "\nA data.frame: 14 × 5\n\n| outlook &lt;chr&gt; | temp &lt;chr&gt; | humidity &lt;chr&gt; | windy &lt;chr&gt; | play &lt;chr&gt; |\n|---|---|---|---|---|\n| sunny    | hot  | high   | false | no  |\n| sunny    | hot  | high   | true  | no  |\n| overcast | hot  | high   | false | yes |\n| rainy    | warm | high   | false | yes |\n| rainy    | cool | normal | false | yes |\n| rainy    | cool | normal | true  | no  |\n| overcast | cool | normal | true  | yes |\n| sunny    | warm | high   | false | no  |\n| sunny    | cool | normal | false | yes |\n| rainy    | warm | normal | false | yes |\n| sunny    | warm | normal | true  | yes |\n| overcast | warm | high   | true  | yes |\n| overcast | hot  | normal | false | yes |\n| rainy    | warm | high   | true  | no  |\n\n",
            "text/latex": "A data.frame: 14 × 5\n\\begin{tabular}{lllll}\n outlook & temp & humidity & windy & play\\\\\n <chr> & <chr> & <chr> & <chr> & <chr>\\\\\n\\hline\n\t sunny    & hot  & high   & false & no \\\\\n\t sunny    & hot  & high   & true  & no \\\\\n\t overcast & hot  & high   & false & yes\\\\\n\t rainy    & warm & high   & false & yes\\\\\n\t rainy    & cool & normal & false & yes\\\\\n\t rainy    & cool & normal & true  & no \\\\\n\t overcast & cool & normal & true  & yes\\\\\n\t sunny    & warm & high   & false & no \\\\\n\t sunny    & cool & normal & false & yes\\\\\n\t rainy    & warm & normal & false & yes\\\\\n\t sunny    & warm & normal & true  & yes\\\\\n\t overcast & warm & high   & true  & yes\\\\\n\t overcast & hot  & normal & false & yes\\\\\n\t rainy    & warm & high   & true  & no \\\\\n\\end{tabular}\n",
            "text/plain": [
              "   outlook  temp humidity windy play\n",
              "1  sunny    hot  high     false no  \n",
              "2  sunny    hot  high     true  no  \n",
              "3  overcast hot  high     false yes \n",
              "4  rainy    warm high     false yes \n",
              "5  rainy    cool normal   false yes \n",
              "6  rainy    cool normal   true  no  \n",
              "7  overcast cool normal   true  yes \n",
              "8  sunny    warm high     false no  \n",
              "9  sunny    cool normal   false yes \n",
              "10 rainy    warm normal   false yes \n",
              "11 sunny    warm normal   true  yes \n",
              "12 overcast warm high     true  yes \n",
              "13 overcast hot  normal   false yes \n",
              "14 rainy    warm high     true  no  "
            ]
          },
          "metadata": {}
        }
      ],
      "source": [
        "p6.4<-read.csv(\"https://raw.githubusercontent.com/LiShingHan/DataScience/main/DataSet/p6.4.csv\")\n",
        "p6.4"
      ]
    },
    {
      "cell_type": "code",
      "execution_count": null,
      "metadata": {
        "id": "pGgcIMvfXvFo",
        "outputId": "67d4f573-254c-42fb-aad5-b889ddc55626",
        "colab": {
          "base_uri": "https://localhost:8080/"
        }
      },
      "outputs": [
        {
          "output_type": "stream",
          "name": "stdout",
          "text": [
            "'data.frame':\t14 obs. of  5 variables:\n",
            " $ outlook : chr  \"sunny\" \"sunny\" \"overcast\" \"rainy\" ...\n",
            " $ temp    : chr  \"hot\" \"hot\" \"hot\" \"warm\" ...\n",
            " $ humidity: chr  \"high\" \"high\" \"high\" \"high\" ...\n",
            " $ windy   : chr  \"false\" \"true\" \"false\" \"false\" ...\n",
            " $ play    : chr  \"no\" \"no\" \"yes\" \"yes\" ...\n"
          ]
        }
      ],
      "source": [
        "str(p6.4)"
      ]
    },
    {
      "cell_type": "code",
      "execution_count": null,
      "metadata": {
        "id": "xc29mwkdXvFp"
      },
      "outputs": [],
      "source": []
    },
    {
      "cell_type": "code",
      "execution_count": null,
      "metadata": {
        "id": "8i0HOjZNXvFp",
        "outputId": "c87aa73d-2062-4930-eb60-2c5f6b5db8cc",
        "colab": {
          "base_uri": "https://localhost:8080/"
        }
      },
      "outputs": [
        {
          "output_type": "stream",
          "name": "stderr",
          "text": [
            "Installing package into ‘/usr/local/lib/R/site-library’\n",
            "(as ‘lib’ is unspecified)\n",
            "\n"
          ]
        }
      ],
      "source": [
        "install.packages('rpart')\n",
        "library(rpart)"
      ]
    },
    {
      "cell_type": "markdown",
      "metadata": {
        "id": "qgt4Xg7FXvFp"
      },
      "source": [
        "# rpart   ID3分類迴歸樹"
      ]
    },
    {
      "cell_type": "code",
      "execution_count": null,
      "metadata": {
        "id": "Raih6Pz9XvFq"
      },
      "outputs": [],
      "source": [
        "model <- rpart( play ~ outlook + temp + humidity + windy,  data = p6.4, \n",
        "               control = rpart.control(minsplit = 2))"
      ]
    },
    {
      "cell_type": "code",
      "execution_count": null,
      "metadata": {
        "scrolled": false,
        "id": "9xjSKXCFXvFq",
        "outputId": "d6ccba9f-6b3c-4e2c-e367-4323129adea4",
        "colab": {
          "base_uri": "https://localhost:8080/",
          "height": 437
        }
      },
      "outputs": [
        {
          "output_type": "display_data",
          "data": {
            "text/plain": [
              "plot without title"
            ],
            "image/png": "[encoded data removed]"
          },
          "metadata": {
            "image/png": {
              "width": 420,
              "height": 420
            }
          }
        }
      ],
      "source": [
        "plot(model)\n",
        "text(model)"
      ]
    },
    {
      "cell_type": "code",
      "execution_count": null,
      "metadata": {
        "id": "wFlZ3X78XvFr"
      },
      "outputs": [],
      "source": [
        "test = data.frame(outlook='sunny', temp='hot', humidity='high', windy='false')"
      ]
    },
    {
      "cell_type": "code",
      "execution_count": null,
      "metadata": {
        "id": "jzY6Y-7fXvFr"
      },
      "outputs": [],
      "source": [
        "pred <- predict(model, newdata=test, type=\"class\")"
      ]
    },
    {
      "cell_type": "code",
      "execution_count": null,
      "metadata": {
        "id": "hxBmoSRoXvFs",
        "outputId": "e1410ead-3592-4371-b776-ed21ce2e211c",
        "colab": {
          "base_uri": "https://localhost:8080/",
          "height": 52
        }
      },
      "outputs": [
        {
          "output_type": "display_data",
          "data": {
            "text/html": [
              "<strong>1:</strong> no\n",
              "<details>\n",
              "\t<summary style=display:list-item;cursor:pointer>\n",
              "\t\t<strong>Levels</strong>:\n",
              "\t</summary>\n",
              "\t<style>\n",
              "\t.list-inline {list-style: none; margin:0; padding: 0}\n",
              "\t.list-inline>li {display: inline-block}\n",
              "\t.list-inline>li:not(:last-child)::after {content: \"\\00b7\"; padding: 0 .5ex}\n",
              "\t</style>\n",
              "\t<ol class=list-inline><li>'no'</li><li>'yes'</li></ol>\n",
              "</details>"
            ],
            "text/markdown": "**1:** no\n**Levels**: 1. 'no'\n2. 'yes'\n\n\n",
            "text/latex": "\\textbf{1:} no\n\\emph{Levels}: \\begin{enumerate*}\n\\item 'no'\n\\item 'yes'\n\\end{enumerate*}\n",
            "text/plain": [
              " 1 \n",
              "no \n",
              "Levels: no yes"
            ]
          },
          "metadata": {}
        }
      ],
      "source": [
        "pred"
      ]
    },
    {
      "cell_type": "markdown",
      "metadata": {
        "id": "zND_qYG5XvFs"
      },
      "source": [
        "# rpart  CART分類迴歸樹"
      ]
    },
    {
      "cell_type": "code",
      "execution_count": null,
      "metadata": {
        "id": "O8nWvQCmXvFt",
        "outputId": "bce5f944-0233-485a-e785-9d4f2f31563d",
        "colab": {
          "base_uri": "https://localhost:8080/",
          "height": 126
        }
      },
      "outputs": [
        {
          "output_type": "display_data",
          "data": {
            "text/plain": [
              "n= 14 \n",
              "\n",
              "node), split, n, loss, yval, (yprob)\n",
              "      * denotes terminal node\n",
              "\n",
              "1) root 14 5 yes (0.3571429 0.6428571) *"
            ]
          },
          "metadata": {}
        }
      ],
      "source": [
        "model.cart<-rpart(play ~ outlook + temp + humidity + windy,  data = p6.4, \n",
        "                  method=\"class\", \n",
        "                  parms=list( split=\"gini\" ) ) # 使用CART算法的時候, split = “gini”\n",
        "model.cart"
      ]
    },
    {
      "cell_type": "code",
      "execution_count": null,
      "metadata": {
        "scrolled": true,
        "id": "QH_K_3jYXvFt",
        "outputId": "cdf4fdaf-2020-42df-96b2-a11bcbb73e59",
        "colab": {
          "base_uri": "https://localhost:8080/",
          "height": 437
        }
      },
      "outputs": [
        {
          "output_type": "display_data",
          "data": {
            "text/plain": [
              "plot without title"
            ],
            "image/png": "[encoded data removed]"
          },
          "metadata": {
            "image/png": {
              "width": 420,
              "height": 420
            }
          }
        }
      ],
      "source": [
        "plot(model)\n",
        "text(model)"
      ]
    },
    {
      "cell_type": "markdown",
      "metadata": {
        "id": "8cwW6GH9XvFt"
      },
      "source": [
        "# Tree CART分類迴歸樹"
      ]
    },
    {
      "cell_type": "code",
      "execution_count": null,
      "metadata": {
        "scrolled": true,
        "id": "vWCiBioYXvFu",
        "outputId": "9aa95d47-007c-4c6b-a0be-d21b8a3603b2",
        "colab": {
          "base_uri": "https://localhost:8080/"
        }
      },
      "outputs": [
        {
          "output_type": "stream",
          "name": "stderr",
          "text": [
            "Installing package into ‘/usr/local/lib/R/site-library’\n",
            "(as ‘lib’ is unspecified)\n",
            "\n"
          ]
        }
      ],
      "source": [
        "install.packages(\"tree\")\n",
        "library(tree)"
      ]
    },
    {
      "cell_type": "code",
      "execution_count": null,
      "metadata": {
        "id": "jBEi1uQRXvFu",
        "outputId": "b52a96a8-b837-4747-93c5-90f8485776c1",
        "colab": {
          "base_uri": "https://localhost:8080/"
        }
      },
      "outputs": [
        {
          "output_type": "stream",
          "name": "stderr",
          "text": [
            "Warning message in tree(play ~ outlook + temp + humidity + windy, data = p6.4, control = tree.control(nobs = 14, :\n",
            "“NAs introduced by coercion”\n",
            "Warning message in tree(play ~ outlook + temp + humidity + windy, data = p6.4, control = tree.control(nobs = 14, :\n",
            "“NAs introduced by coercion”\n"
          ]
        }
      ],
      "source": [
        "model <- tree( play ~ outlook + temp + humidity + windy,  data = p6.4 , control = tree.control(nobs = 14, mindev = 0.001, minsize = 2))"
      ]
    },
    {
      "cell_type": "code",
      "execution_count": null,
      "metadata": {
        "scrolled": true,
        "id": "ljFyn7PjXvFu",
        "outputId": "949c7374-f85a-43b7-b330-b5afa1125296",
        "colab": {
          "base_uri": "https://localhost:8080/",
          "height": 90
        }
      },
      "outputs": [
        {
          "output_type": "display_data",
          "data": {
            "text/plain": [
              "node), split, n, deviance, yval\n",
              "      * denotes terminal node\n",
              "\n",
              "1) root 14 NA NA *"
            ]
          },
          "metadata": {}
        }
      ],
      "source": [
        "model"
      ]
    },
    {
      "cell_type": "code",
      "execution_count": null,
      "metadata": {
        "id": "ps9wcKj1XvFu",
        "outputId": "ac97d908-7ad3-4b0f-8b77-8427161ebe85",
        "colab": {
          "base_uri": "https://localhost:8080/",
          "height": 175
        }
      },
      "outputs": [
        {
          "output_type": "error",
          "ename": "ERROR",
          "evalue": "ignored",
          "traceback": [
            "Error in plot.tree(model): cannot plot singlenode tree\nTraceback:\n",
            "1. plot(model)",
            "2. plot.tree(model)",
            "3. stop(\"cannot plot singlenode tree\")"
          ]
        }
      ],
      "source": [
        "plot(model)\n",
        "text(model)"
      ]
    },
    {
      "cell_type": "markdown",
      "metadata": {
        "id": "tq0fvQ8GXvFv"
      },
      "source": [
        "# C4.5\n",
        "\n",
        "### C4.5算法使用RWeka包，RWeka包的安装需要依赖于rJava包。\n",
        "\n",
        "### rJava包的安装\n",
        "### https://www.oracle.com/java/technologies/javase-jdk15-downloads.html\n",
        "\n"
      ]
    },
    {
      "cell_type": "code",
      "execution_count": null,
      "metadata": {
        "scrolled": true,
        "id": "_ukSI5PKXvFv",
        "outputId": "d88b0d02-24c3-4eda-d9e2-6c2da3f3ce45",
        "colab": {
          "base_uri": "https://localhost:8080/"
        }
      },
      "outputs": [
        {
          "output_type": "stream",
          "name": "stderr",
          "text": [
            "Installing package into ‘/usr/local/lib/R/site-library’\n",
            "(as ‘lib’ is unspecified)\n",
            "\n"
          ]
        }
      ],
      "source": [
        "install.packages('rJava')\n",
        "library(rJava)"
      ]
    },
    {
      "cell_type": "code",
      "execution_count": null,
      "metadata": {
        "scrolled": true,
        "id": "3zz02bMVXvFv",
        "outputId": "6b940960-7da2-41a0-a48a-09c9dd406d8c",
        "colab": {
          "base_uri": "https://localhost:8080/"
        }
      },
      "outputs": [
        {
          "output_type": "stream",
          "name": "stderr",
          "text": [
            "Installing package into ‘/usr/local/lib/R/site-library’\n",
            "(as ‘lib’ is unspecified)\n",
            "\n",
            "also installing the dependency ‘RWekajars’\n",
            "\n",
            "\n"
          ]
        }
      ],
      "source": [
        "install.packages(\"RWeka\")\n",
        "library(RWeka)"
      ]
    },
    {
      "cell_type": "code",
      "execution_count": null,
      "metadata": {
        "id": "qJoL2LNkXvFw",
        "outputId": "e40f977f-4883-45cb-fa32-abc7be7d8e52",
        "colab": {
          "base_uri": "https://localhost:8080/"
        }
      },
      "outputs": [
        {
          "output_type": "stream",
          "name": "stderr",
          "text": [
            "Installing package into ‘/usr/local/lib/R/site-library’\n",
            "(as ‘lib’ is unspecified)\n",
            "\n",
            "also installing the dependencies ‘libcoin’, ‘mvtnorm’, ‘Formula’, ‘inum’\n",
            "\n",
            "\n",
            "Loading required package: grid\n",
            "\n",
            "Loading required package: libcoin\n",
            "\n",
            "Loading required package: mvtnorm\n",
            "\n"
          ]
        }
      ],
      "source": [
        "install.packages('partykit')\n",
        "library(partykit)"
      ]
    },
    {
      "cell_type": "code",
      "execution_count": null,
      "metadata": {
        "scrolled": false,
        "id": "3-RM-6TvXvFw",
        "outputId": "7b05ef77-48e3-43fc-cf92-7607e4af8dab",
        "colab": {
          "base_uri": "https://localhost:8080/",
          "height": 338
        }
      },
      "outputs": [
        {
          "output_type": "error",
          "ename": "ERROR",
          "evalue": "ignored",
          "traceback": [
            "Error in .jcall(o, \"Ljava/lang/Class;\", \"getClass\"): weka.core.UnsupportedAttributeTypeException: weka.classifiers.trees.J48: Cannot handle string attributes!\nTraceback:\n",
            "1. J48(play ~ outlook + temp + humidity + windy, data = p6.4, control = Weka_control(U = FALSE, \n .     M = 1, B = FALSE))",
            "2. .structure(c(RWeka_build_classifier(mf, control, name, handlers, \n .     options, init, package), list(call = mc, handlers = handlers, \n .     levels = levels(mf[[1L]]), terms = attr(mf, \"terms\"))), class = classes)",
            "3. RWeka_build_classifier(mf, control, name, handlers, options, \n .     init, package)",
            "4. .predictions_for_instances(classifier, instances)",
            "5. .has_method(classifier, \"classifyInstance\")",
            "6. .jcall(o, \"Ljava/lang/Class;\", \"getClass\")",
            "7. .jcheck()"
          ]
        }
      ],
      "source": [
        "model.C45 <- J48( play ~ outlook + temp + humidity + windy, data = p6.4  ,\n",
        "                                control = Weka_control(U = FALSE ,  M=1 , B = FALSE) )\n",
        "\n",
        "#print(model.C45)\n",
        "\n",
        "plot(model.C45) "
      ]
    },
    {
      "cell_type": "markdown",
      "metadata": {
        "id": "NBGCJ4GkXvFw"
      },
      "source": [
        "# C5.0"
      ]
    },
    {
      "cell_type": "code",
      "execution_count": null,
      "metadata": {
        "id": "XHZ2T9zIXvFw",
        "outputId": "36034644-e904-4afc-b38e-612d3d83e68e",
        "colab": {
          "base_uri": "https://localhost:8080/"
        }
      },
      "outputs": [
        {
          "output_type": "stream",
          "name": "stderr",
          "text": [
            "Installing package into ‘/usr/local/lib/R/site-library’\n",
            "(as ‘lib’ is unspecified)\n",
            "\n",
            "also installing the dependencies ‘plyr’, ‘Rcpp’, ‘reshape2’, ‘Cubist’\n",
            "\n",
            "\n"
          ]
        }
      ],
      "source": [
        "install.packages(\"C50\")\n",
        "library(C50)\n"
      ]
    },
    {
      "cell_type": "code",
      "execution_count": null,
      "metadata": {
        "id": "dX2XdhFbXvFw",
        "outputId": "3abb0576-02a3-46c8-f00a-77bf5c82f228",
        "colab": {
          "base_uri": "https://localhost:8080/",
          "height": 211
        }
      },
      "outputs": [
        {
          "output_type": "error",
          "ename": "ERROR",
          "evalue": "ignored",
          "traceback": [
            "Error: C5.0 models require a factor outcome\nTraceback:\n",
            "1. C5.0(play ~ outlook + temp + humidity + windy, data = p6.4, rules = F)",
            "2. C5.0.formula(play ~ outlook + temp + humidity + windy, data = p6.4, \n .     rules = F)",
            "3. C5.0.default(x = m, y = y, weights = wt, ...)",
            "4. stop(\"C5.0 models require a factor outcome\", call. = FALSE)"
          ]
        }
      ],
      "source": [
        "model.c50 <- C5.0( play ~ outlook + temp + humidity + windy,  data = p6.4, rules=F)"
      ]
    },
    {
      "cell_type": "code",
      "execution_count": null,
      "metadata": {
        "scrolled": false,
        "id": "AT6JO8Y7XvFw",
        "outputId": "1dda9b41-d14b-4ae1-f136-5f6ff4b7db36",
        "colab": {
          "base_uri": "https://localhost:8080/",
          "height": 138
        }
      },
      "outputs": [
        {
          "output_type": "error",
          "ename": "ERROR",
          "evalue": "ignored",
          "traceback": [
            "Error in plot(model.c50): object 'model.c50' not found\nTraceback:\n",
            "1. plot(model.c50)"
          ]
        }
      ],
      "source": [
        "plot( model.c50 )"
      ]
    },
    {
      "cell_type": "code",
      "execution_count": null,
      "metadata": {
        "id": "NScSkyuQXvFx"
      },
      "outputs": [],
      "source": []
    },
    {
      "cell_type": "markdown",
      "source": [
        "## 測試\n"
      ],
      "metadata": {
        "id": "sIhAncLecb6g"
      }
    },
    {
      "cell_type": "markdown",
      "source": [
        "### 1.\t請使用決策樹建立模型myModel （使用 rpart）"
      ],
      "metadata": {
        "id": "oYeWsrm5d7Vn"
      }
    },
    {
      "cell_type": "code",
      "source": [
        "install.packages('rpart')\n",
        "library(rpart)"
      ],
      "metadata": {
        "id": "WExHzwmkdCOP",
        "outputId": "8fdea54b-c724-43ed-ac2e-ad7f985f805b",
        "colab": {
          "base_uri": "https://localhost:8080/"
        }
      },
      "execution_count": 2,
      "outputs": [
        {
          "output_type": "stream",
          "name": "stderr",
          "text": [
            "Installing package into ‘/usr/local/lib/R/site-library’\n",
            "(as ‘lib’ is unspecified)\n",
            "\n"
          ]
        }
      ]
    },
    {
      "cell_type": "code",
      "source": [
        "myData<-read.csv(\"https://raw.githubusercontent.com/LiShingHan/DataScience/main/DataSet/p6.4.csv\")\n",
        "myModel <- rpart ( play ~ ., data = myData, control = rpart.control(minsplit = 2))"
      ],
      "metadata": {
        "id": "3ufeoUyccg2E"
      },
      "execution_count": 15,
      "outputs": []
    },
    {
      "cell_type": "code",
      "source": [
        "plot(myModel)\n",
        "text(myModel)"
      ],
      "metadata": {
        "id": "9U4PU2zVevqW",
        "outputId": "381ccda8-ced5-489c-c3d5-67e9228ab2e5",
        "colab": {
          "base_uri": "https://localhost:8080/",
          "height": 437
        }
      },
      "execution_count": 16,
      "outputs": [
        {
          "output_type": "display_data",
          "data": {
            "text/plain": [
              "plot without title"
            ],
            "image/png": "[encoded data removed]"
          },
          "metadata": {
            "image/png": {
              "width": 420,
              "height": 420
            }
          }
        }
      ]
    },
    {
      "cell_type": "markdown",
      "source": [
        "### 2.\t使用所建立的模型 myModel 來預測某測試資料 myTest 當天氣(晴朗) 、氣溫(熱) 、濕度(高) 、風(無)的情況下是否適合進行比賽，並將預測的結果儲存於 myPred"
      ],
      "metadata": {
        "id": "N46EuBzheS5k"
      }
    },
    {
      "cell_type": "code",
      "source": [
        "myTest <- data.frame(outlook = 'sunny', temp = 'hot', humidity = 'high', windy = 'false')\n",
        "myPred <- predict ( myModel, newdata = myTest, type = \"class\")\n",
        "myPred"
      ],
      "metadata": {
        "id": "jckiSH2YdJkw",
        "outputId": "96602f6e-3fe0-4044-a142-2aa8a7651876",
        "colab": {
          "base_uri": "https://localhost:8080/",
          "height": 52
        }
      },
      "execution_count": 5,
      "outputs": [
        {
          "output_type": "display_data",
          "data": {
            "text/html": [
              "yes\n",
              "<details>\n",
              "\t<summary style=display:list-item;cursor:pointer>\n",
              "\t\t<strong>Levels</strong>:\n",
              "\t</summary>\n",
              "\t<style>\n",
              "\t.list-inline {list-style: none; margin:0; padding: 0}\n",
              "\t.list-inline>li {display: inline-block}\n",
              "\t.list-inline>li:not(:last-child)::after {content: \"\\00b7\"; padding: 0 .5ex}\n",
              "\t</style>\n",
              "\t<ol class=list-inline><li>'no'</li><li>'yes'</li></ol>\n",
              "</details>"
            ],
            "text/markdown": "yes\n**Levels**: 1. 'no'\n2. 'yes'\n\n\n",
            "text/latex": "yes\n\\emph{Levels}: \\begin{enumerate*}\n\\item 'no'\n\\item 'yes'\n\\end{enumerate*}\n",
            "text/plain": [
              "[1] yes\n",
              "Levels: no yes"
            ]
          },
          "metadata": {}
        }
      ]
    }
  ],
  "metadata": {
    "kernelspec": {
      "display_name": "R",
      "language": "R",
      "name": "ir"
    },
    "language_info": {
      "codemirror_mode": "r",
      "file_extension": ".r",
      "mimetype": "text/x-r-source",
      "name": "R",
      "pygments_lexer": "r",
      "version": "3.6.1"
    },
    "colab": {
      "provenance": []
    }
  },
  "nbformat": 4,
  "nbformat_minor": 0
}