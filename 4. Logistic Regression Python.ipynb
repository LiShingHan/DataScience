{
  "cells": [
    {
      "cell_type": "markdown",
      "metadata": {
        "id": "P8FvCBU0VJ2D"
      },
      "source": [
        "# Logistic Regression"
      ]
    },
    {
      "cell_type": "code",
      "execution_count": null,
      "metadata": {
        "id": "Oe1feJ7-VJ2G"
      },
      "outputs": [],
      "source": [
        "## https://matters.news/@CHWang/machine-learning-%E7%B5%A6%E8%87%AA%E5%B7%B1%E7%9A%84%E6%A9%9F%E5%99%A8%E5%AD%B8%E7%BF%92%E7%AD%86%E8%A8%98-logistic-regression-%E9%82%8F%E8%BC%AF%E8%BF%B4%E6%AD%B8-%E4%BA%8C%E5%85%83%E5%88%86%E9%A1%9E%E5%95%8F%E9%A1%8C-scikit-learn-sklearn-%E5%AF%A6%E4%BD%9C%E6%95%99%E5%AD%B8-bafyreibafnjfn2iitip336ij35xq7ea3l5bhhr3q2n5qd6xlx4qr6pq33i"
      ]
    },
    {
      "cell_type": "markdown",
      "metadata": {
        "id": "lWFzfib3VJ2H"
      },
      "source": [
        "## Step 1: 導入所需的套件"
      ]
    },
    {
      "cell_type": "code",
      "execution_count": null,
      "metadata": {
        "id": "1Y8mmZs0VJ2H"
      },
      "outputs": [],
      "source": [
        "!pip install numpy\n",
        "!pip install pandas\n",
        "!pip install matplotlib\n",
        "!pip install sklearn"
      ]
    },
    {
      "cell_type": "code",
      "execution_count": 1,
      "metadata": {
        "id": "tk4p8zcRVJ2I"
      },
      "outputs": [],
      "source": [
        "## 導入Python的數據處理套件\n",
        "import numpy as np\n",
        "import pandas as pd\n",
        "import matplotlib.pyplot as plt   ## 導入視覺化套件\n",
        "from sklearn import linear_model   ## 導入Sklearn中的線性模組\n",
        "from sklearn.model_selection import train_test_split   ## 將數據集分成訓練集與測試集的套件"
      ]
    },
    {
      "cell_type": "markdown",
      "metadata": {
        "id": "8ozhaqd9VJ2I"
      },
      "source": [
        "## Step 2: 導入數據集"
      ]
    },
    {
      "cell_type": "code",
      "execution_count": 3,
      "metadata": {
        "id": "mNTfyALsVJ2J",
        "outputId": "904e91f7-9908-4061-87db-51e8d07d93c6",
        "colab": {
          "base_uri": "https://localhost:8080/",
          "height": 1000
        }
      },
      "outputs": [
        {
          "output_type": "execute_result",
          "data": {
            "text/plain": [
              "    Hours  Pass\n",
              "0     4.0     1\n",
              "1     3.7     1\n",
              "2     2.0     0\n",
              "3     3.0     0\n",
              "4     1.0     0\n",
              "5     1.0     0\n",
              "6     3.2     1\n",
              "7     3.8     1\n",
              "8     4.0     1\n",
              "9     3.9     1\n",
              "10    1.0     0\n",
              "11    2.9     1\n",
              "12    2.9     1\n",
              "13    2.0     0\n",
              "14    3.2     1\n",
              "15    3.3     1\n",
              "16    3.0     0\n",
              "17    3.0     0\n",
              "18    2.8     1\n",
              "19    0.0     0\n",
              "20    0.5     0\n",
              "21    0.8     0\n",
              "22    0.9     0\n",
              "23    1.2     0\n",
              "24    1.5     0\n",
              "25    2.5     0\n",
              "26    2.7     0\n",
              "27    2.4     0\n",
              "28    2.1     0\n",
              "29    3.5     1\n",
              "30    3.6     1\n",
              "31    3.1     1\n",
              "32    1.7     0\n",
              "33    2.3     0\n",
              "34    0.1     0\n",
              "35    3.2     1\n",
              "36    3.3     1"
            ],
            "text/html": [
              "\n",
              "  <div id=\"df-afbe5fd5-c47f-48b1-b123-71a70262e086\">\n",
              "    <div class=\"colab-df-container\">\n",
              "      <div>\n",
              "<style scoped>\n",
              "    .dataframe tbody tr th:only-of-type {\n",
              "        vertical-align: middle;\n",
              "    }\n",
              "\n",
              "    .dataframe tbody tr th {\n",
              "        vertical-align: top;\n",
              "    }\n",
              "\n",
              "    .dataframe thead th {\n",
              "        text-align: right;\n",
              "    }\n",
              "</style>\n",
              "<table border=\"1\" class=\"dataframe\">\n",
              "  <thead>\n",
              "    <tr style=\"text-align: right;\">\n",
              "      <th></th>\n",
              "      <th>Hours</th>\n",
              "      <th>Pass</th>\n",
              "    </tr>\n",
              "  </thead>\n",
              "  <tbody>\n",
              "    <tr>\n",
              "      <th>0</th>\n",
              "      <td>4.0</td>\n",
              "      <td>1</td>\n",
              "    </tr>\n",
              "    <tr>\n",
              "      <th>1</th>\n",
              "      <td>3.7</td>\n",
              "      <td>1</td>\n",
              "    </tr>\n",
              "    <tr>\n",
              "      <th>2</th>\n",
              "      <td>2.0</td>\n",
              "      <td>0</td>\n",
              "    </tr>\n",
              "    <tr>\n",
              "      <th>3</th>\n",
              "      <td>3.0</td>\n",
              "      <td>0</td>\n",
              "    </tr>\n",
              "    <tr>\n",
              "      <th>4</th>\n",
              "      <td>1.0</td>\n",
              "      <td>0</td>\n",
              "    </tr>\n",
              "    <tr>\n",
              "      <th>5</th>\n",
              "      <td>1.0</td>\n",
              "      <td>0</td>\n",
              "    </tr>\n",
              "    <tr>\n",
              "      <th>6</th>\n",
              "      <td>3.2</td>\n",
              "      <td>1</td>\n",
              "    </tr>\n",
              "    <tr>\n",
              "      <th>7</th>\n",
              "      <td>3.8</td>\n",
              "      <td>1</td>\n",
              "    </tr>\n",
              "    <tr>\n",
              "      <th>8</th>\n",
              "      <td>4.0</td>\n",
              "      <td>1</td>\n",
              "    </tr>\n",
              "    <tr>\n",
              "      <th>9</th>\n",
              "      <td>3.9</td>\n",
              "      <td>1</td>\n",
              "    </tr>\n",
              "    <tr>\n",
              "      <th>10</th>\n",
              "      <td>1.0</td>\n",
              "      <td>0</td>\n",
              "    </tr>\n",
              "    <tr>\n",
              "      <th>11</th>\n",
              "      <td>2.9</td>\n",
              "      <td>1</td>\n",
              "    </tr>\n",
              "    <tr>\n",
              "      <th>12</th>\n",
              "      <td>2.9</td>\n",
              "      <td>1</td>\n",
              "    </tr>\n",
              "    <tr>\n",
              "      <th>13</th>\n",
              "      <td>2.0</td>\n",
              "      <td>0</td>\n",
              "    </tr>\n",
              "    <tr>\n",
              "      <th>14</th>\n",
              "      <td>3.2</td>\n",
              "      <td>1</td>\n",
              "    </tr>\n",
              "    <tr>\n",
              "      <th>15</th>\n",
              "      <td>3.3</td>\n",
              "      <td>1</td>\n",
              "    </tr>\n",
              "    <tr>\n",
              "      <th>16</th>\n",
              "      <td>3.0</td>\n",
              "      <td>0</td>\n",
              "    </tr>\n",
              "    <tr>\n",
              "      <th>17</th>\n",
              "      <td>3.0</td>\n",
              "      <td>0</td>\n",
              "    </tr>\n",
              "    <tr>\n",
              "      <th>18</th>\n",
              "      <td>2.8</td>\n",
              "      <td>1</td>\n",
              "    </tr>\n",
              "    <tr>\n",
              "      <th>19</th>\n",
              "      <td>0.0</td>\n",
              "      <td>0</td>\n",
              "    </tr>\n",
              "    <tr>\n",
              "      <th>20</th>\n",
              "      <td>0.5</td>\n",
              "      <td>0</td>\n",
              "    </tr>\n",
              "    <tr>\n",
              "      <th>21</th>\n",
              "      <td>0.8</td>\n",
              "      <td>0</td>\n",
              "    </tr>\n",
              "    <tr>\n",
              "      <th>22</th>\n",
              "      <td>0.9</td>\n",
              "      <td>0</td>\n",
              "    </tr>\n",
              "    <tr>\n",
              "      <th>23</th>\n",
              "      <td>1.2</td>\n",
              "      <td>0</td>\n",
              "    </tr>\n",
              "    <tr>\n",
              "      <th>24</th>\n",
              "      <td>1.5</td>\n",
              "      <td>0</td>\n",
              "    </tr>\n",
              "    <tr>\n",
              "      <th>25</th>\n",
              "      <td>2.5</td>\n",
              "      <td>0</td>\n",
              "    </tr>\n",
              "    <tr>\n",
              "      <th>26</th>\n",
              "      <td>2.7</td>\n",
              "      <td>0</td>\n",
              "    </tr>\n",
              "    <tr>\n",
              "      <th>27</th>\n",
              "      <td>2.4</td>\n",
              "      <td>0</td>\n",
              "    </tr>\n",
              "    <tr>\n",
              "      <th>28</th>\n",
              "      <td>2.1</td>\n",
              "      <td>0</td>\n",
              "    </tr>\n",
              "    <tr>\n",
              "      <th>29</th>\n",
              "      <td>3.5</td>\n",
              "      <td>1</td>\n",
              "    </tr>\n",
              "    <tr>\n",
              "      <th>30</th>\n",
              "      <td>3.6</td>\n",
              "      <td>1</td>\n",
              "    </tr>\n",
              "    <tr>\n",
              "      <th>31</th>\n",
              "      <td>3.1</td>\n",
              "      <td>1</td>\n",
              "    </tr>\n",
              "    <tr>\n",
              "      <th>32</th>\n",
              "      <td>1.7</td>\n",
              "      <td>0</td>\n",
              "    </tr>\n",
              "    <tr>\n",
              "      <th>33</th>\n",
              "      <td>2.3</td>\n",
              "      <td>0</td>\n",
              "    </tr>\n",
              "    <tr>\n",
              "      <th>34</th>\n",
              "      <td>0.1</td>\n",
              "      <td>0</td>\n",
              "    </tr>\n",
              "    <tr>\n",
              "      <th>35</th>\n",
              "      <td>3.2</td>\n",
              "      <td>1</td>\n",
              "    </tr>\n",
              "    <tr>\n",
              "      <th>36</th>\n",
              "      <td>3.3</td>\n",
              "      <td>1</td>\n",
              "    </tr>\n",
              "  </tbody>\n",
              "</table>\n",
              "</div>\n",
              "      <button class=\"colab-df-convert\" onclick=\"convertToInteractive('df-afbe5fd5-c47f-48b1-b123-71a70262e086')\"\n",
              "              title=\"Convert this dataframe to an interactive table.\"\n",
              "              style=\"display:none;\">\n",
              "        \n",
              "  <svg xmlns=\"http://www.w3.org/2000/svg\" height=\"24px\"viewBox=\"0 0 24 24\"\n",
              "       width=\"24px\">\n",
              "    <path d=\"M0 0h24v24H0V0z\" fill=\"none\"/>\n",
              "    <path d=\"M18.56 5.44l.94 2.06.94-2.06 2.06-.94-2.06-.94-.94-2.06-.94 2.06-2.06.94zm-11 1L8.5 8.5l.94-2.06 2.06-.94-2.06-.94L8.5 2.5l-.94 2.06-2.06.94zm10 10l.94 2.06.94-2.06 2.06-.94-2.06-.94-.94-2.06-.94 2.06-2.06.94z\"/><path d=\"M17.41 7.96l-1.37-1.37c-.4-.4-.92-.59-1.43-.59-.52 0-1.04.2-1.43.59L10.3 9.45l-7.72 7.72c-.78.78-.78 2.05 0 2.83L4 21.41c.39.39.9.59 1.41.59.51 0 1.02-.2 1.41-.59l7.78-7.78 2.81-2.81c.8-.78.8-2.07 0-2.86zM5.41 20L4 18.59l7.72-7.72 1.47 1.35L5.41 20z\"/>\n",
              "  </svg>\n",
              "      </button>\n",
              "      \n",
              "  <style>\n",
              "    .colab-df-container {\n",
              "      display:flex;\n",
              "      flex-wrap:wrap;\n",
              "      gap: 12px;\n",
              "    }\n",
              "\n",
              "    .colab-df-convert {\n",
              "      background-color: #E8F0FE;\n",
              "      border: none;\n",
              "      border-radius: 50%;\n",
              "      cursor: pointer;\n",
              "      display: none;\n",
              "      fill: #1967D2;\n",
              "      height: 32px;\n",
              "      padding: 0 0 0 0;\n",
              "      width: 32px;\n",
              "    }\n",
              "\n",
              "    .colab-df-convert:hover {\n",
              "      background-color: #E2EBFA;\n",
              "      box-shadow: 0px 1px 2px rgba(60, 64, 67, 0.3), 0px 1px 3px 1px rgba(60, 64, 67, 0.15);\n",
              "      fill: #174EA6;\n",
              "    }\n",
              "\n",
              "    [theme=dark] .colab-df-convert {\n",
              "      background-color: #3B4455;\n",
              "      fill: #D2E3FC;\n",
              "    }\n",
              "\n",
              "    [theme=dark] .colab-df-convert:hover {\n",
              "      background-color: #434B5C;\n",
              "      box-shadow: 0px 1px 3px 1px rgba(0, 0, 0, 0.15);\n",
              "      filter: drop-shadow(0px 1px 2px rgba(0, 0, 0, 0.3));\n",
              "      fill: #FFFFFF;\n",
              "    }\n",
              "  </style>\n",
              "\n",
              "      <script>\n",
              "        const buttonEl =\n",
              "          document.querySelector('#df-afbe5fd5-c47f-48b1-b123-71a70262e086 button.colab-df-convert');\n",
              "        buttonEl.style.display =\n",
              "          google.colab.kernel.accessAllowed ? 'block' : 'none';\n",
              "\n",
              "        async function convertToInteractive(key) {\n",
              "          const element = document.querySelector('#df-afbe5fd5-c47f-48b1-b123-71a70262e086');\n",
              "          const dataTable =\n",
              "            await google.colab.kernel.invokeFunction('convertToInteractive',\n",
              "                                                     [key], {});\n",
              "          if (!dataTable) return;\n",
              "\n",
              "          const docLinkHtml = 'Like what you see? Visit the ' +\n",
              "            '<a target=\"_blank\" href=https://colab.research.google.com/notebooks/data_table.ipynb>data table notebook</a>'\n",
              "            + ' to learn more about interactive tables.';\n",
              "          element.innerHTML = '';\n",
              "          dataTable['output_type'] = 'display_data';\n",
              "          await google.colab.output.renderOutput(dataTable, element);\n",
              "          const docLink = document.createElement('div');\n",
              "          docLink.innerHTML = docLinkHtml;\n",
              "          element.appendChild(docLink);\n",
              "        }\n",
              "      </script>\n",
              "    </div>\n",
              "  </div>\n",
              "  "
            ]
          },
          "metadata": {},
          "execution_count": 3
        }
      ],
      "source": [
        "## 導入數據集\n",
        "data = pd.read_csv('https://raw.githubusercontent.com/LiShingHan/DataScience/main/DataSet/p7.11.csv')\n",
        "\n",
        "## 顯示數據集\n",
        "data"
      ]
    },
    {
      "cell_type": "markdown",
      "metadata": {
        "id": "jb9ebvfoVJ2K"
      },
      "source": [
        "## Step 3: 定義自變量與應變量"
      ]
    },
    {
      "cell_type": "code",
      "execution_count": 4,
      "metadata": {
        "scrolled": true,
        "id": "uid4hz6BVJ2K",
        "outputId": "569eb01b-ab6f-4e00-ce1c-d9fc78f6c555",
        "colab": {
          "base_uri": "https://localhost:8080/"
        }
      },
      "outputs": [
        {
          "output_type": "stream",
          "name": "stdout",
          "text": [
            "Independent Variable:  [4.  3.7 2.  3.  1.  1.  3.2 3.8 4.  3.9 1.  2.9 2.9 2.  3.2 3.3 3.  3.\n",
            " 2.8 0.  0.5 0.8 0.9 1.2 1.5 2.5 2.7 2.4 2.1 3.5 3.6 3.1 1.7 2.3 0.1 3.2\n",
            " 3.3]\n",
            "Dependent Variable:  [1 1 0 0 0 0 1 1 1 1 0 1 1 0 1 1 0 0 1 0 0 0 0 0 0 0 0 0 0 1 1 1 0 0 0 1 1]\n"
          ]
        }
      ],
      "source": [
        "## 定義自變量與應變量\n",
        "X = data['Hours'].values\n",
        "y = data['Pass'].values\n",
        "\n",
        "print('Independent Variable: ', X)\n",
        "print('Dependent Variable: ', y)"
      ]
    },
    {
      "cell_type": "markdown",
      "metadata": {
        "id": "PtH9RUedVJ2L"
      },
      "source": [
        "## Step 4: 將特徵向量轉為2D向量"
      ]
    },
    {
      "cell_type": "code",
      "execution_count": 5,
      "metadata": {
        "id": "Xl-ZD-OQVJ2L",
        "outputId": "8c4ab512-949a-4208-a07e-5757a8ef0a76",
        "colab": {
          "base_uri": "https://localhost:8080/"
        }
      },
      "outputs": [
        {
          "output_type": "stream",
          "name": "stdout",
          "text": [
            "Original X shape:  (37,)\n",
            "After reshaping data to 2D vector :  (37, 1)\n"
          ]
        }
      ],
      "source": [
        "## 由於 Sklearn 能接受的特徵格式為 (n_samples, n_features)，所以使用 reshape 將特徵資料轉為2D向量，這樣 Sklearn 才能使用，一般狀況下，一維特徵才需要轉換\n",
        "print('Original X shape: ', X.shape)\n",
        "\n",
        "## reshape用法: -1代表自動配置幾個框框(程式會自行根據有幾個值配置幾個框框架，也就是拿總共的數量除以後面設定框框內有幾個值)\n",
        "## 轉為2D向量\n",
        "X = X.reshape(-1, 1)\n",
        "\n",
        "print('After reshaping data to 2D vector : ', X.shape)"
      ]
    },
    {
      "cell_type": "markdown",
      "metadata": {
        "id": "Ity4w8zoVJ2L"
      },
      "source": [
        "## Step 5: 將數據集分成訓練集與測試集"
      ]
    },
    {
      "cell_type": "code",
      "execution_count": 6,
      "metadata": {
        "id": "o-D5b_QbVJ2M"
      },
      "outputs": [],
      "source": [
        "## 將數據集分成訓練集與測試集\n",
        "X_train, X_test, y_train, y_test = train_test_split(X, y, test_size = 0.2)"
      ]
    },
    {
      "cell_type": "markdown",
      "metadata": {
        "id": "ASOJnVjIVJ2M"
      },
      "source": [
        "## Step 6: 建立邏輯迴歸模型 Logistic Regression Model 與訓練模型"
      ]
    },
    {
      "cell_type": "code",
      "execution_count": 7,
      "metadata": {
        "id": "K7KfiIYyVJ2M",
        "outputId": "0cf99b9b-b22e-4bce-aa66-6b7511cdf852",
        "colab": {
          "base_uri": "https://localhost:8080/"
        }
      },
      "outputs": [
        {
          "output_type": "execute_result",
          "data": {
            "text/plain": [
              "LogisticRegression()"
            ]
          },
          "metadata": {},
          "execution_count": 7
        }
      ],
      "source": [
        "## 建立邏輯迴歸模型\n",
        "model = linear_model.LogisticRegression()\n",
        "\n",
        "## 擬和數據\n",
        "model.fit(X_train, y_train)"
      ]
    },
    {
      "cell_type": "markdown",
      "metadata": {
        "id": "doT4jDeFVJ2N"
      },
      "source": [
        "## Step 7: 檢視模型係數與截距 Coeficient & Interception"
      ]
    },
    {
      "cell_type": "code",
      "execution_count": 8,
      "metadata": {
        "id": "j92n6j5QVJ2N",
        "outputId": "62030f13-496d-4dd8-ad5d-b2fcdf3d742a",
        "colab": {
          "base_uri": "https://localhost:8080/"
        }
      },
      "outputs": [
        {
          "output_type": "stream",
          "name": "stdout",
          "text": [
            "Coeficient:  2.026188428249366\n",
            "Interception:  -5.634017443606029\n"
          ]
        }
      ],
      "source": [
        "## 查看建出來的模型係數與截距 y = w1x + w0\n",
        "w1 = float(model.coef_)\n",
        "w0 = float(model.intercept_)\n",
        "\n",
        "print('Coeficient: ', w1)\n",
        "print('Interception: ', w0)"
      ]
    },
    {
      "cell_type": "markdown",
      "metadata": {
        "id": "bS6-VmTrVJ2N"
      },
      "source": [
        "## Step 8: Sigmoid - 套入轉換函數 (將Logit(Odds)值轉換成 -> 0~1之間的數值)"
      ]
    },
    {
      "cell_type": "code",
      "execution_count": 9,
      "metadata": {
        "id": "kYKcFYTcVJ2N"
      },
      "outputs": [],
      "source": [
        "## 套用 Sigmoid轉換函數，將值轉換成介於0~1 之間的值(機率)\n",
        "def sigmoid(x, w0, w1):\n",
        "    logit_odds = w0 + w1 * x\n",
        "    return 1 / (1 + np.exp(-logit_odds))"
      ]
    },
    {
      "cell_type": "markdown",
      "metadata": {
        "id": "Wok4f4uAVJ2O"
      },
      "source": [
        "## Step 9: 視覺化轉換結果圖"
      ]
    },
    {
      "cell_type": "code",
      "execution_count": 10,
      "metadata": {
        "id": "U0KJlzXGVJ2O",
        "outputId": "319148fc-f425-4e47-d3a1-8da45de5d0e5",
        "colab": {
          "base_uri": "https://localhost:8080/",
          "height": 283
        }
      },
      "outputs": [
        {
          "output_type": "execute_result",
          "data": {
            "text/plain": [
              "<matplotlib.lines.Line2D at 0x7ff439481a90>"
            ]
          },
          "metadata": {},
          "execution_count": 10
        },
        {
          "output_type": "display_data",
          "data": {
            "text/plain": [
              "<Figure size 432x288 with 1 Axes>"
            ],
            "image/png": "[encoded data removed]"
          },
          "metadata": {
            "needs_background": "light"
          }
        }
      ],
      "source": [
        "## 視覺化後Sigmoid圖\n",
        "x = np.arange(0, 20, 1)\n",
        "result = sigmoid(x, w0, w1)\n",
        "\n",
        "plt.plot(x, result)\n",
        "\n",
        "## 畫出50%的機率線\n",
        "plt.axhline(y = 0.5, ls = 'dotted', color = 'y')"
      ]
    },
    {
      "cell_type": "markdown",
      "metadata": {
        "id": "vjTul-p-VJ2O"
      },
      "source": [
        "## Step 10: 預測測試集"
      ]
    },
    {
      "cell_type": "code",
      "execution_count": 11,
      "metadata": {
        "id": "WMTk46gbVJ2O",
        "outputId": "ca1db65b-2088-465a-9c5b-31ed5ee696a5",
        "colab": {
          "base_uri": "https://localhost:8080/"
        }
      },
      "outputs": [
        {
          "output_type": "stream",
          "name": "stdout",
          "text": [
            "Real Result:  [0 0 0 1 0 1 1 1]\n",
            "Model Predict:  [1 0 0 1 0 1 1 1]\n"
          ]
        }
      ],
      "source": [
        "## 預測測試集\n",
        "prediction = model.predict(X_test)\n",
        "\n",
        "print('Real Result: ', y_test)\n",
        "print('Model Predict: ', prediction)\n",
        "\n",
        "\n"
      ]
    },
    {
      "cell_type": "markdown",
      "metadata": {
        "id": "PLTyZzR4VJ2P"
      },
      "source": [
        "## Step 11: 模型預測測試集中每筆數據為0或1的機率"
      ]
    },
    {
      "cell_type": "code",
      "execution_count": 12,
      "metadata": {
        "id": "9maH30GQVJ2P",
        "outputId": "fc3e577f-7b9c-4461-ff64-b8449b6aac34",
        "colab": {
          "base_uri": "https://localhost:8080/"
        }
      },
      "outputs": [
        {
          "output_type": "stream",
          "name": "stdout",
          "text": [
            "Probability (0 or 1) [[0.39065784 0.60934216]\n",
            " [0.97360495 0.02639505]\n",
            " [0.98224314 0.01775686]\n",
            " [0.15972698 0.84027302]\n",
            " [0.82943674 0.17056326]\n",
            " [0.07793531 0.92206469]\n",
            " [0.29947785 0.70052215]\n",
            " [0.13436775 0.86563225]]\n"
          ]
        }
      ],
      "source": [
        "## 預測測試集為1或0的機率\n",
        "proba = model.predict_proba(X_test)\n",
        "print('Probability (0 or 1)', proba)"
      ]
    },
    {
      "cell_type": "markdown",
      "metadata": {
        "id": "pGVpTG3xVJ2P"
      },
      "source": [
        "##  Step 12: 模型表現 - 準確度 Accuracy"
      ]
    },
    {
      "cell_type": "code",
      "execution_count": 13,
      "metadata": {
        "id": "5ok3R5fjVJ2P",
        "outputId": "7df82a38-824e-40ad-f504-d3d0a02f6683",
        "colab": {
          "base_uri": "https://localhost:8080/"
        }
      },
      "outputs": [
        {
          "output_type": "stream",
          "name": "stdout",
          "text": [
            "Accuracy :87.5%\n"
          ]
        }
      ],
      "source": [
        "## 模型表現\n",
        "score = model.score(X_test, y_test)\n",
        "print('Accuracy :' + str(score * 100) + '%')"
      ]
    },
    {
      "cell_type": "code",
      "execution_count": null,
      "metadata": {
        "id": "sSBM6IszVJ2P"
      },
      "outputs": [],
      "source": []
    },
    {
      "cell_type": "code",
      "execution_count": null,
      "metadata": {
        "id": "5D5x4cB1VJ2P"
      },
      "outputs": [],
      "source": []
    },
    {
      "cell_type": "code",
      "execution_count": 14,
      "metadata": {
        "id": "AsOS1FgnVJ2Q",
        "outputId": "327e21fe-83b9-483b-e96f-e374533369aa",
        "colab": {
          "base_uri": "https://localhost:8080/"
        }
      },
      "outputs": [
        {
          "output_type": "stream",
          "name": "stdout",
          "text": [
            "Define your own data and predict:  [0 0 0 1 1 1 1 1]\n"
          ]
        }
      ],
      "source": [
        "## 預測自行定義的數據集\n",
        "result = model.predict([[1], [2], [2.5], [3], [3.5], [4], [5], [6]])\n",
        "\n",
        "print('Define your own data and predict: ', result)"
      ]
    },
    {
      "cell_type": "code",
      "execution_count": null,
      "metadata": {
        "id": "aWOxbnBSVJ2Q"
      },
      "outputs": [],
      "source": []
    }
  ],
  "metadata": {
    "kernelspec": {
      "display_name": "Python 3",
      "language": "python",
      "name": "python3"
    },
    "language_info": {
      "codemirror_mode": {
        "name": "ipython",
        "version": 3
      },
      "file_extension": ".py",
      "mimetype": "text/x-python",
      "name": "python",
      "nbconvert_exporter": "python",
      "pygments_lexer": "ipython3",
      "version": "3.8.8"
    },
    "colab": {
      "provenance": []
    }
  },
  "nbformat": 4,
  "nbformat_minor": 0
}