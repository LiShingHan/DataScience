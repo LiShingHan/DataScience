{
  "cells": [
    {
      "cell_type": "markdown",
      "id": "multiple-guard",
      "metadata": {
        "id": "multiple-guard"
      },
      "source": [
        "# Naive Bayes Classifier"
      ]
    },
    {
      "cell_type": "code",
      "execution_count": 1,
      "id": "false-cache",
      "metadata": {
        "id": "false-cache",
        "outputId": "83cda442-682d-469e-fc3c-dea541c36f11",
        "colab": {
          "base_uri": "https://localhost:8080/"
        }
      },
      "outputs": [
        {
          "output_type": "stream",
          "name": "stderr",
          "text": [
            "Installing package into ‘/usr/local/lib/R/site-library’\n",
            "(as ‘lib’ is unspecified)\n",
            "\n",
            "also installing the dependency ‘proxy’\n",
            "\n",
            "\n"
          ]
        }
      ],
      "source": [
        "install.packages('e1071')\n",
        "library(e1071)"
      ]
    },
    {
      "cell_type": "markdown",
      "id": "static-equity",
      "metadata": {
        "id": "static-equity"
      },
      "source": [
        "### Load the Data"
      ]
    },
    {
      "cell_type": "code",
      "execution_count": 2,
      "id": "instrumental-onion",
      "metadata": {
        "id": "instrumental-onion",
        "outputId": "5b4bfb10-3b3a-4d75-97cd-02d5b5e72e57",
        "colab": {
          "base_uri": "https://localhost:8080/",
          "height": 537
        }
      },
      "outputs": [
        {
          "output_type": "display_data",
          "data": {
            "text/html": [
              "<table class=\"dataframe\">\n",
              "<caption>A data.frame: 14 × 5</caption>\n",
              "<thead>\n",
              "\t<tr><th scope=col>outlook</th><th scope=col>temp</th><th scope=col>humidity</th><th scope=col>windy</th><th scope=col>play</th></tr>\n",
              "\t<tr><th scope=col>&lt;chr&gt;</th><th scope=col>&lt;chr&gt;</th><th scope=col>&lt;chr&gt;</th><th scope=col>&lt;chr&gt;</th><th scope=col>&lt;chr&gt;</th></tr>\n",
              "</thead>\n",
              "<tbody>\n",
              "\t<tr><td>sunny   </td><td>hot </td><td>high  </td><td>false</td><td>no </td></tr>\n",
              "\t<tr><td>sunny   </td><td>hot </td><td>high  </td><td>true </td><td>no </td></tr>\n",
              "\t<tr><td>overcast</td><td>hot </td><td>high  </td><td>false</td><td>yes</td></tr>\n",
              "\t<tr><td>rainy   </td><td>warm</td><td>high  </td><td>false</td><td>yes</td></tr>\n",
              "\t<tr><td>rainy   </td><td>cool</td><td>normal</td><td>false</td><td>yes</td></tr>\n",
              "\t<tr><td>rainy   </td><td>cool</td><td>normal</td><td>true </td><td>no </td></tr>\n",
              "\t<tr><td>overcast</td><td>cool</td><td>normal</td><td>true </td><td>yes</td></tr>\n",
              "\t<tr><td>sunny   </td><td>warm</td><td>high  </td><td>false</td><td>no </td></tr>\n",
              "\t<tr><td>sunny   </td><td>cool</td><td>normal</td><td>false</td><td>yes</td></tr>\n",
              "\t<tr><td>rainy   </td><td>warm</td><td>normal</td><td>false</td><td>yes</td></tr>\n",
              "\t<tr><td>sunny   </td><td>warm</td><td>normal</td><td>true </td><td>yes</td></tr>\n",
              "\t<tr><td>overcast</td><td>warm</td><td>high  </td><td>true </td><td>yes</td></tr>\n",
              "\t<tr><td>overcast</td><td>hot </td><td>normal</td><td>false</td><td>yes</td></tr>\n",
              "\t<tr><td>rainy   </td><td>warm</td><td>high  </td><td>true </td><td>no </td></tr>\n",
              "</tbody>\n",
              "</table>\n"
            ],
            "text/markdown": "\nA data.frame: 14 × 5\n\n| outlook &lt;chr&gt; | temp &lt;chr&gt; | humidity &lt;chr&gt; | windy &lt;chr&gt; | play &lt;chr&gt; |\n|---|---|---|---|---|\n| sunny    | hot  | high   | false | no  |\n| sunny    | hot  | high   | true  | no  |\n| overcast | hot  | high   | false | yes |\n| rainy    | warm | high   | false | yes |\n| rainy    | cool | normal | false | yes |\n| rainy    | cool | normal | true  | no  |\n| overcast | cool | normal | true  | yes |\n| sunny    | warm | high   | false | no  |\n| sunny    | cool | normal | false | yes |\n| rainy    | warm | normal | false | yes |\n| sunny    | warm | normal | true  | yes |\n| overcast | warm | high   | true  | yes |\n| overcast | hot  | normal | false | yes |\n| rainy    | warm | high   | true  | no  |\n\n",
            "text/latex": "A data.frame: 14 × 5\n\\begin{tabular}{lllll}\n outlook & temp & humidity & windy & play\\\\\n <chr> & <chr> & <chr> & <chr> & <chr>\\\\\n\\hline\n\t sunny    & hot  & high   & false & no \\\\\n\t sunny    & hot  & high   & true  & no \\\\\n\t overcast & hot  & high   & false & yes\\\\\n\t rainy    & warm & high   & false & yes\\\\\n\t rainy    & cool & normal & false & yes\\\\\n\t rainy    & cool & normal & true  & no \\\\\n\t overcast & cool & normal & true  & yes\\\\\n\t sunny    & warm & high   & false & no \\\\\n\t sunny    & cool & normal & false & yes\\\\\n\t rainy    & warm & normal & false & yes\\\\\n\t sunny    & warm & normal & true  & yes\\\\\n\t overcast & warm & high   & true  & yes\\\\\n\t overcast & hot  & normal & false & yes\\\\\n\t rainy    & warm & high   & true  & no \\\\\n\\end{tabular}\n",
            "text/plain": [
              "   outlook  temp humidity windy play\n",
              "1  sunny    hot  high     false no  \n",
              "2  sunny    hot  high     true  no  \n",
              "3  overcast hot  high     false yes \n",
              "4  rainy    warm high     false yes \n",
              "5  rainy    cool normal   false yes \n",
              "6  rainy    cool normal   true  no  \n",
              "7  overcast cool normal   true  yes \n",
              "8  sunny    warm high     false no  \n",
              "9  sunny    cool normal   false yes \n",
              "10 rainy    warm normal   false yes \n",
              "11 sunny    warm normal   true  yes \n",
              "12 overcast warm high     true  yes \n",
              "13 overcast hot  normal   false yes \n",
              "14 rainy    warm high     true  no  "
            ]
          },
          "metadata": {}
        }
      ],
      "source": [
        "data<-read.csv(\"https://raw.githubusercontent.com/LiShingHan/DataScience/main/DataSet/p6.4.csv\")\n",
        "data"
      ]
    },
    {
      "cell_type": "markdown",
      "id": "classical-sheffield",
      "metadata": {
        "id": "classical-sheffield"
      },
      "source": [
        "### Train the model"
      ]
    },
    {
      "cell_type": "code",
      "execution_count": 3,
      "id": "unavailable-thermal",
      "metadata": {
        "id": "unavailable-thermal",
        "outputId": "f4971f5e-5805-47fa-942a-60410f854574",
        "colab": {
          "base_uri": "https://localhost:8080/",
          "height": 580
        }
      },
      "outputs": [
        {
          "output_type": "display_data",
          "data": {
            "text/plain": [
              "\n",
              "Naive Bayes Classifier for Discrete Predictors\n",
              "\n",
              "Call:\n",
              "naiveBayes.default(x = X, y = Y, laplace = laplace)\n",
              "\n",
              "A-priori probabilities:\n",
              "Y\n",
              "       no       yes \n",
              "0.3571429 0.6428571 \n",
              "\n",
              "Conditional probabilities:\n",
              "     outlook\n",
              "Y      overcast     rainy     sunny\n",
              "  no  0.0000000 0.4000000 0.6000000\n",
              "  yes 0.4444444 0.3333333 0.2222222\n",
              "\n",
              "     temp\n",
              "Y          cool       hot      warm\n",
              "  no  0.2000000 0.4000000 0.4000000\n",
              "  yes 0.3333333 0.2222222 0.4444444\n",
              "\n",
              "     humidity\n",
              "Y          high    normal\n",
              "  no  0.8000000 0.2000000\n",
              "  yes 0.3333333 0.6666667\n",
              "\n",
              "     windy\n",
              "Y         false      true\n",
              "  no  0.4000000 0.6000000\n",
              "  yes 0.6666667 0.3333333\n"
            ]
          },
          "metadata": {}
        }
      ],
      "source": [
        "model <- naiveBayes(play ~ ., data=data)\n",
        "model"
      ]
    },
    {
      "cell_type": "markdown",
      "id": "average-analyst",
      "metadata": {
        "id": "average-analyst"
      },
      "source": [
        "### Prediction"
      ]
    },
    {
      "cell_type": "code",
      "execution_count": 4,
      "id": "tracked-plumbing",
      "metadata": {
        "id": "tracked-plumbing",
        "outputId": "55852587-4918-4425-b100-7d12aefef23c",
        "colab": {
          "base_uri": "https://localhost:8080/",
          "height": 52
        }
      },
      "outputs": [
        {
          "output_type": "display_data",
          "data": {
            "text/html": [
              "<style>\n",
              ".list-inline {list-style: none; margin:0; padding: 0}\n",
              ".list-inline>li {display: inline-block}\n",
              ".list-inline>li:not(:last-child)::after {content: \"\\00b7\"; padding: 0 .5ex}\n",
              "</style>\n",
              "<ol class=list-inline><li>no</li><li>no</li><li>yes</li><li>yes</li><li>yes</li><li>yes</li><li>yes</li><li>no</li><li>yes</li><li>yes</li><li>yes</li><li>yes</li><li>yes</li><li>no</li></ol>\n",
              "\n",
              "<details>\n",
              "\t<summary style=display:list-item;cursor:pointer>\n",
              "\t\t<strong>Levels</strong>:\n",
              "\t</summary>\n",
              "\t<style>\n",
              "\t.list-inline {list-style: none; margin:0; padding: 0}\n",
              "\t.list-inline>li {display: inline-block}\n",
              "\t.list-inline>li:not(:last-child)::after {content: \"\\00b7\"; padding: 0 .5ex}\n",
              "\t</style>\n",
              "\t<ol class=list-inline><li>'no'</li><li>'yes'</li></ol>\n",
              "</details>"
            ],
            "text/markdown": "1. no\n2. no\n3. yes\n4. yes\n5. yes\n6. yes\n7. yes\n8. no\n9. yes\n10. yes\n11. yes\n12. yes\n13. yes\n14. no\n\n\n\n**Levels**: 1. 'no'\n2. 'yes'\n\n\n",
            "text/latex": "\\begin{enumerate*}\n\\item no\n\\item no\n\\item yes\n\\item yes\n\\item yes\n\\item yes\n\\item yes\n\\item no\n\\item yes\n\\item yes\n\\item yes\n\\item yes\n\\item yes\n\\item no\n\\end{enumerate*}\n\n\\emph{Levels}: \\begin{enumerate*}\n\\item 'no'\n\\item 'yes'\n\\end{enumerate*}\n",
            "text/plain": [
              " [1] no  no  yes yes yes yes yes no  yes yes yes yes yes no \n",
              "Levels: no yes"
            ]
          },
          "metadata": {}
        }
      ],
      "source": [
        "y_pred <- predict(model, data, type=\"class\")\n",
        "y_pred"
      ]
    },
    {
      "cell_type": "markdown",
      "id": "charming-evidence",
      "metadata": {
        "id": "charming-evidence"
      },
      "source": [
        "### Model Evaluation"
      ]
    },
    {
      "cell_type": "code",
      "execution_count": 5,
      "id": "express-warning",
      "metadata": {
        "id": "express-warning",
        "outputId": "9c9b3dd6-2ed1-49d8-bafc-b6c2909138b4",
        "colab": {
          "base_uri": "https://localhost:8080/",
          "height": 34
        }
      },
      "outputs": [
        {
          "output_type": "display_data",
          "data": {
            "text/html": [
              "0.928571428571429"
            ],
            "text/markdown": "0.928571428571429",
            "text/latex": "0.928571428571429",
            "text/plain": [
              "[1] 0.9285714"
            ]
          },
          "metadata": {}
        }
      ],
      "source": [
        "# Model Evaluation\n",
        "\n",
        "accuracy <- sum(y_pred==data$play) / length(data$play)\n",
        "accuracy"
      ]
    },
    {
      "cell_type": "code",
      "execution_count": null,
      "id": "removable-comedy",
      "metadata": {
        "id": "removable-comedy"
      },
      "outputs": [],
      "source": []
    },
    {
      "cell_type": "markdown",
      "id": "accepted-render",
      "metadata": {
        "id": "accepted-render"
      },
      "source": [
        "# 分為 訓練集 測試集\n"
      ]
    },
    {
      "cell_type": "code",
      "execution_count": 6,
      "id": "white-virginia",
      "metadata": {
        "id": "white-virginia",
        "outputId": "5968a5cc-af7a-4e0d-847e-c34ed7989fec",
        "colab": {
          "base_uri": "https://localhost:8080/",
          "height": 34
        }
      },
      "outputs": [
        {
          "output_type": "display_data",
          "data": {
            "text/html": [
              "0.75"
            ],
            "text/markdown": "0.75",
            "text/latex": "0.75",
            "text/plain": [
              "[1] 0.75"
            ]
          },
          "metadata": {}
        }
      ],
      "source": [
        "set.seed(10)\n",
        "\n",
        "select <- sample(1:nrow(data),nrow(data)*0.75)\n",
        "train <- data[select,]\n",
        "test <- data[-select,]\n",
        "model <- naiveBayes(play ~ ., data=train)\n",
        "y_pred <- predict(model, test, type=\"class\")\n",
        "accuracy <- sum(y_pred==test$play) / length(test$play)\n",
        "accuracy"
      ]
    },
    {
      "cell_type": "code",
      "execution_count": null,
      "id": "broken-sterling",
      "metadata": {
        "id": "broken-sterling"
      },
      "outputs": [],
      "source": []
    },
    {
      "cell_type": "code",
      "execution_count": null,
      "id": "brazilian-teacher",
      "metadata": {
        "id": "brazilian-teacher"
      },
      "outputs": [],
      "source": []
    }
  ],
  "metadata": {
    "kernelspec": {
      "display_name": "R",
      "language": "R",
      "name": "ir"
    },
    "language_info": {
      "codemirror_mode": "r",
      "file_extension": ".r",
      "mimetype": "text/x-r-source",
      "name": "R",
      "pygments_lexer": "r",
      "version": "3.6.1"
    },
    "colab": {
      "provenance": []
    }
  },
  "nbformat": 4,
  "nbformat_minor": 5
}