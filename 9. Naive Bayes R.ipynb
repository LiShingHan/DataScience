{
 "cells": [
  {
   "cell_type": "markdown",
   "id": "multiple-guard",
   "metadata": {},
   "source": [
    "# Naive Bayes Classifier"
   ]
  },
  {
   "cell_type": "code",
   "execution_count": null,
   "id": "false-cache",
   "metadata": {},
   "outputs": [],
   "source": [
    "install.packages('e1071')\n",
    "library(e1071)"
   ]
  },
  {
   "cell_type": "markdown",
   "id": "static-equity",
   "metadata": {},
   "source": [
    "### Load the Data"
   ]
  },
  {
   "cell_type": "code",
   "execution_count": null,
   "id": "instrumental-onion",
   "metadata": {},
   "outputs": [],
   "source": [
    "data<-read.csv(\"C:/Rdata/p6.4.csv\")\n",
    "data"
   ]
  },
  {
   "cell_type": "markdown",
   "id": "classical-sheffield",
   "metadata": {},
   "source": [
    "### Train the model"
   ]
  },
  {
   "cell_type": "code",
   "execution_count": null,
   "id": "unavailable-thermal",
   "metadata": {},
   "outputs": [],
   "source": [
    "model <- naiveBayes(play ~ ., data=data)\n",
    "model"
   ]
  },
  {
   "cell_type": "markdown",
   "id": "average-analyst",
   "metadata": {},
   "source": [
    "### Prediction"
   ]
  },
  {
   "cell_type": "code",
   "execution_count": null,
   "id": "tracked-plumbing",
   "metadata": {},
   "outputs": [],
   "source": [
    "y_pred <- predict(model, data, type=\"class\")\n",
    "y_pred"
   ]
  },
  {
   "cell_type": "markdown",
   "id": "charming-evidence",
   "metadata": {},
   "source": [
    "### Model Evaluation"
   ]
  },
  {
   "cell_type": "code",
   "execution_count": null,
   "id": "express-warning",
   "metadata": {},
   "outputs": [],
   "source": [
    "# Model Evaluation\n",
    "\n",
    "accuracy <- sum(y_pred==data$play) / length(data$play)\n",
    "accuracy"
   ]
  },
  {
   "cell_type": "code",
   "execution_count": null,
   "id": "removable-comedy",
   "metadata": {},
   "outputs": [],
   "source": []
  },
  {
   "cell_type": "markdown",
   "id": "accepted-render",
   "metadata": {},
   "source": [
    "# 分為 訓練集 測試集\n"
   ]
  },
  {
   "cell_type": "code",
   "execution_count": null,
   "id": "white-virginia",
   "metadata": {},
   "outputs": [],
   "source": [
    "set.seed(10)\n",
    "\n",
    "select <- sample(1:nrow(data),nrow(data)*0.75)\n",
    "train <- data[select,]\n",
    "test <- data[-select,]\n",
    "model <- naiveBayes(play ~ ., data=train)\n",
    "y_pred <- predict(model, test, type=\"class\")\n",
    "accuracy <- sum(y_pred==test$play) / length(test$play)\n",
    "accuracy"
   ]
  },
  {
   "cell_type": "code",
   "execution_count": null,
   "id": "broken-sterling",
   "metadata": {},
   "outputs": [],
   "source": []
  },
  {
   "cell_type": "code",
   "execution_count": null,
   "id": "brazilian-teacher",
   "metadata": {},
   "outputs": [],
   "source": []
  }
 ],
 "metadata": {
  "kernelspec": {
   "display_name": "R",
   "language": "R",
   "name": "ir"
  },
  "language_info": {
   "codemirror_mode": "r",
   "file_extension": ".r",
   "mimetype": "text/x-r-source",
   "name": "R",
   "pygments_lexer": "r",
   "version": "3.6.1"
  }
 },
 "nbformat": 4,
 "nbformat_minor": 5
}
