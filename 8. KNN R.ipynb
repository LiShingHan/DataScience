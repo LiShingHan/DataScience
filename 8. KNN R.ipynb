{
 "cells": [
  {
   "cell_type": "markdown",
   "id": "nervous-bookmark",
   "metadata": {},
   "source": [
    "# K-Nearest Neighbors"
   ]
  },
  {
   "cell_type": "code",
   "execution_count": null,
   "id": "unlikely-appraisal",
   "metadata": {
    "scrolled": true
   },
   "outputs": [],
   "source": [
    "install.packages('class')\n",
    "library(class)"
   ]
  },
  {
   "cell_type": "code",
   "execution_count": null,
   "id": "genuine-restoration",
   "metadata": {},
   "outputs": [],
   "source": [
    "data<-read.csv(\"C:/Rdata/KNN.csv\")\n",
    "data\n"
   ]
  },
  {
   "cell_type": "code",
   "execution_count": null,
   "id": "active-daughter",
   "metadata": {},
   "outputs": [],
   "source": [
    "X_test<-data.frame(Height=5.500, Age=38 )\n",
    "X_test\n"
   ]
  },
  {
   "cell_type": "code",
   "execution_count": null,
   "id": "bound-reservation",
   "metadata": {},
   "outputs": [],
   "source": [
    "install.packages('neighbr')\n",
    "library(neighbr)"
   ]
  },
  {
   "cell_type": "code",
   "execution_count": null,
   "id": "adjacent-bikini",
   "metadata": {
    "scrolled": true
   },
   "outputs": [],
   "source": [
    "data$ID <-  c(1:10)"
   ]
  },
  {
   "cell_type": "code",
   "execution_count": null,
   "id": "proud-shock",
   "metadata": {},
   "outputs": [],
   "source": [
    "X_test"
   ]
  },
  {
   "cell_type": "code",
   "execution_count": null,
   "id": "conceptual-composer",
   "metadata": {},
   "outputs": [],
   "source": [
    "model <- knn( train_set = data,\n",
    "           test_set = X_test,\n",
    "           k=3,\n",
    "           continuous_target = \"Weight\",\n",
    "           comparison_measure =\"squared_euclidean\" ,\n",
    "           continuous_scoring_method = \"average\",\n",
    "           return_ranked_neighbors=3,\n",
    "           id=\"ID\")\n",
    "model"
   ]
  },
  {
   "cell_type": "code",
   "execution_count": null,
   "id": "imported-plaza",
   "metadata": {},
   "outputs": [],
   "source": [
    "model$test_set_scores"
   ]
  },
  {
   "cell_type": "code",
   "execution_count": null,
   "id": "consolidated-disease",
   "metadata": {},
   "outputs": [],
   "source": []
  },
  {
   "cell_type": "code",
   "execution_count": null,
   "id": "needed-harvard",
   "metadata": {},
   "outputs": [],
   "source": [
    "model <- knn( train_set = data,\n",
    "           test_set = X_test,\n",
    "           k=5,\n",
    "           continuous_target = \"Weight\",\n",
    "           comparison_measure =\"euclidean\" ,\n",
    "           continuous_scoring_method = \"average\",\n",
    "           return_ranked_neighbors=5,\n",
    "           id=\"ID\")\n",
    "model"
   ]
  },
  {
   "cell_type": "code",
   "execution_count": null,
   "id": "constant-assist",
   "metadata": {},
   "outputs": [],
   "source": [
    "model$test_set_scores"
   ]
  },
  {
   "cell_type": "code",
   "execution_count": null,
   "id": "competent-screening",
   "metadata": {},
   "outputs": [],
   "source": []
  },
  {
   "cell_type": "code",
   "execution_count": null,
   "id": "graduate-shark",
   "metadata": {},
   "outputs": [],
   "source": []
  },
  {
   "cell_type": "code",
   "execution_count": null,
   "id": "aging-vacuum",
   "metadata": {},
   "outputs": [],
   "source": [
    "R.Version()"
   ]
  }
 ],
 "metadata": {
  "kernelspec": {
   "display_name": "R",
   "language": "R",
   "name": "ir"
  },
  "language_info": {
   "codemirror_mode": "r",
   "file_extension": ".r",
   "mimetype": "text/x-r-source",
   "name": "R",
   "pygments_lexer": "r",
   "version": "3.6.1"
  }
 },
 "nbformat": 4,
 "nbformat_minor": 5
}
