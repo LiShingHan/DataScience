{
  "cells": [
    {
      "cell_type": "markdown",
      "id": "nervous-bookmark",
      "metadata": {
        "id": "nervous-bookmark"
      },
      "source": [
        "# K-Nearest Neighbors"
      ]
    },
    {
      "cell_type": "code",
      "execution_count": 1,
      "id": "unlikely-appraisal",
      "metadata": {
        "scrolled": true,
        "id": "unlikely-appraisal",
        "outputId": "d09e6738-efa2-4208-f335-36e6212e6f0f",
        "colab": {
          "base_uri": "https://localhost:8080/"
        }
      },
      "outputs": [
        {
          "output_type": "stream",
          "name": "stderr",
          "text": [
            "Installing package into ‘/usr/local/lib/R/site-library’\n",
            "(as ‘lib’ is unspecified)\n",
            "\n"
          ]
        }
      ],
      "source": [
        "install.packages('class')\n",
        "library(class)"
      ]
    },
    {
      "cell_type": "code",
      "execution_count": 2,
      "id": "genuine-restoration",
      "metadata": {
        "id": "genuine-restoration",
        "outputId": "4b1f6ec7-4e15-414c-f051-4ef1e141c6cb",
        "colab": {
          "base_uri": "https://localhost:8080/",
          "height": 412
        }
      },
      "outputs": [
        {
          "output_type": "display_data",
          "data": {
            "text/html": [
              "<table class=\"dataframe\">\n",
              "<caption>A data.frame: 10 × 3</caption>\n",
              "<thead>\n",
              "\t<tr><th scope=col>Height</th><th scope=col>Age</th><th scope=col>Weight</th></tr>\n",
              "\t<tr><th scope=col>&lt;dbl&gt;</th><th scope=col>&lt;int&gt;</th><th scope=col>&lt;int&gt;</th></tr>\n",
              "</thead>\n",
              "<tbody>\n",
              "\t<tr><td>5.00</td><td>45</td><td>77</td></tr>\n",
              "\t<tr><td>5.11</td><td>26</td><td>47</td></tr>\n",
              "\t<tr><td>5.60</td><td>30</td><td>55</td></tr>\n",
              "\t<tr><td>5.90</td><td>34</td><td>59</td></tr>\n",
              "\t<tr><td>4.80</td><td>40</td><td>72</td></tr>\n",
              "\t<tr><td>5.80</td><td>36</td><td>60</td></tr>\n",
              "\t<tr><td>5.30</td><td>19</td><td>40</td></tr>\n",
              "\t<tr><td>5.80</td><td>28</td><td>60</td></tr>\n",
              "\t<tr><td>5.50</td><td>23</td><td>45</td></tr>\n",
              "\t<tr><td>5.60</td><td>32</td><td>58</td></tr>\n",
              "</tbody>\n",
              "</table>\n"
            ],
            "text/markdown": "\nA data.frame: 10 × 3\n\n| Height &lt;dbl&gt; | Age &lt;int&gt; | Weight &lt;int&gt; |\n|---|---|---|\n| 5.00 | 45 | 77 |\n| 5.11 | 26 | 47 |\n| 5.60 | 30 | 55 |\n| 5.90 | 34 | 59 |\n| 4.80 | 40 | 72 |\n| 5.80 | 36 | 60 |\n| 5.30 | 19 | 40 |\n| 5.80 | 28 | 60 |\n| 5.50 | 23 | 45 |\n| 5.60 | 32 | 58 |\n\n",
            "text/latex": "A data.frame: 10 × 3\n\\begin{tabular}{lll}\n Height & Age & Weight\\\\\n <dbl> & <int> & <int>\\\\\n\\hline\n\t 5.00 & 45 & 77\\\\\n\t 5.11 & 26 & 47\\\\\n\t 5.60 & 30 & 55\\\\\n\t 5.90 & 34 & 59\\\\\n\t 4.80 & 40 & 72\\\\\n\t 5.80 & 36 & 60\\\\\n\t 5.30 & 19 & 40\\\\\n\t 5.80 & 28 & 60\\\\\n\t 5.50 & 23 & 45\\\\\n\t 5.60 & 32 & 58\\\\\n\\end{tabular}\n",
            "text/plain": [
              "   Height Age Weight\n",
              "1  5.00   45  77    \n",
              "2  5.11   26  47    \n",
              "3  5.60   30  55    \n",
              "4  5.90   34  59    \n",
              "5  4.80   40  72    \n",
              "6  5.80   36  60    \n",
              "7  5.30   19  40    \n",
              "8  5.80   28  60    \n",
              "9  5.50   23  45    \n",
              "10 5.60   32  58    "
            ]
          },
          "metadata": {}
        }
      ],
      "source": [
        "data<-read.csv(\"https://raw.githubusercontent.com/LiShingHan/DataScience/main/DataSet/KNN.csv\")\n",
        "data\n"
      ]
    },
    {
      "cell_type": "code",
      "execution_count": 3,
      "id": "active-daughter",
      "metadata": {
        "id": "active-daughter",
        "outputId": "ee0b85ef-7be4-4604-d043-953dd1da5ed0",
        "colab": {
          "base_uri": "https://localhost:8080/",
          "height": 147
        }
      },
      "outputs": [
        {
          "output_type": "display_data",
          "data": {
            "text/html": [
              "<table class=\"dataframe\">\n",
              "<caption>A data.frame: 1 × 2</caption>\n",
              "<thead>\n",
              "\t<tr><th scope=col>Height</th><th scope=col>Age</th></tr>\n",
              "\t<tr><th scope=col>&lt;dbl&gt;</th><th scope=col>&lt;dbl&gt;</th></tr>\n",
              "</thead>\n",
              "<tbody>\n",
              "\t<tr><td>5.5</td><td>38</td></tr>\n",
              "</tbody>\n",
              "</table>\n"
            ],
            "text/markdown": "\nA data.frame: 1 × 2\n\n| Height &lt;dbl&gt; | Age &lt;dbl&gt; |\n|---|---|\n| 5.5 | 38 |\n\n",
            "text/latex": "A data.frame: 1 × 2\n\\begin{tabular}{ll}\n Height & Age\\\\\n <dbl> & <dbl>\\\\\n\\hline\n\t 5.5 & 38\\\\\n\\end{tabular}\n",
            "text/plain": [
              "  Height Age\n",
              "1 5.5    38 "
            ]
          },
          "metadata": {}
        }
      ],
      "source": [
        "X_test<-data.frame(Height=5.500, Age=38 )\n",
        "X_test\n"
      ]
    },
    {
      "cell_type": "code",
      "execution_count": 4,
      "id": "bound-reservation",
      "metadata": {
        "id": "bound-reservation",
        "outputId": "d17396ec-a460-4c80-adc9-99761fda5a29",
        "colab": {
          "base_uri": "https://localhost:8080/"
        }
      },
      "outputs": [
        {
          "output_type": "stream",
          "name": "stderr",
          "text": [
            "Installing package into ‘/usr/local/lib/R/site-library’\n",
            "(as ‘lib’ is unspecified)\n",
            "\n",
            "\n",
            "Attaching package: ‘neighbr’\n",
            "\n",
            "\n",
            "The following object is masked from ‘package:class’:\n",
            "\n",
            "    knn\n",
            "\n",
            "\n"
          ]
        }
      ],
      "source": [
        "install.packages('neighbr')\n",
        "library(neighbr)"
      ]
    },
    {
      "cell_type": "code",
      "execution_count": 5,
      "id": "adjacent-bikini",
      "metadata": {
        "scrolled": true,
        "id": "adjacent-bikini"
      },
      "outputs": [],
      "source": [
        "data$ID <-  c(1:10)"
      ]
    },
    {
      "cell_type": "code",
      "execution_count": 6,
      "id": "proud-shock",
      "metadata": {
        "id": "proud-shock",
        "outputId": "1aa2cf37-1753-4655-fcc2-38ba998c6167",
        "colab": {
          "base_uri": "https://localhost:8080/",
          "height": 147
        }
      },
      "outputs": [
        {
          "output_type": "display_data",
          "data": {
            "text/html": [
              "<table class=\"dataframe\">\n",
              "<caption>A data.frame: 1 × 2</caption>\n",
              "<thead>\n",
              "\t<tr><th scope=col>Height</th><th scope=col>Age</th></tr>\n",
              "\t<tr><th scope=col>&lt;dbl&gt;</th><th scope=col>&lt;dbl&gt;</th></tr>\n",
              "</thead>\n",
              "<tbody>\n",
              "\t<tr><td>5.5</td><td>38</td></tr>\n",
              "</tbody>\n",
              "</table>\n"
            ],
            "text/markdown": "\nA data.frame: 1 × 2\n\n| Height &lt;dbl&gt; | Age &lt;dbl&gt; |\n|---|---|\n| 5.5 | 38 |\n\n",
            "text/latex": "A data.frame: 1 × 2\n\\begin{tabular}{ll}\n Height & Age\\\\\n <dbl> & <dbl>\\\\\n\\hline\n\t 5.5 & 38\\\\\n\\end{tabular}\n",
            "text/plain": [
              "  Height Age\n",
              "1 5.5    38 "
            ]
          },
          "metadata": {}
        }
      ],
      "source": [
        "X_test"
      ]
    },
    {
      "cell_type": "code",
      "execution_count": 7,
      "id": "conceptual-composer",
      "metadata": {
        "id": "conceptual-composer",
        "outputId": "ea7af2aa-747e-4460-90b0-90e530437ef0",
        "colab": {
          "base_uri": "https://localhost:8080/",
          "height": 90
        }
      },
      "outputs": [
        {
          "output_type": "display_data",
          "data": {
            "text/plain": [
              "Call:\n",
              "knn(train_set = data, test_set = X_test, k = 3, continuous_target = \"Weight\", \n",
              "    comparison_measure = \"squared_euclidean\", continuous_scoring_method = \"average\", \n",
              "    return_ranked_neighbors = 3, id = \"ID\")"
            ]
          },
          "metadata": {}
        }
      ],
      "source": [
        "model <- knn( train_set = data,\n",
        "           test_set = X_test,\n",
        "           k=3,\n",
        "           continuous_target = \"Weight\",\n",
        "           comparison_measure =\"squared_euclidean\" ,\n",
        "           continuous_scoring_method = \"average\",\n",
        "           return_ranked_neighbors=3,\n",
        "           id=\"ID\")\n",
        "model"
      ]
    },
    {
      "cell_type": "code",
      "execution_count": 8,
      "id": "imported-plaza",
      "metadata": {
        "id": "imported-plaza",
        "outputId": "d1e3592c-6a3f-4643-8470-949b4f98855e",
        "colab": {
          "base_uri": "https://localhost:8080/",
          "height": 129
        }
      },
      "outputs": [
        {
          "output_type": "display_data",
          "data": {
            "text/html": [
              "<table class=\"dataframe\">\n",
              "<caption>A data.frame: 1 × 4</caption>\n",
              "<thead>\n",
              "\t<tr><th scope=col>continuous_target</th><th scope=col>neighbor1</th><th scope=col>neighbor2</th><th scope=col>neighbor3</th></tr>\n",
              "\t<tr><th scope=col>&lt;dbl&gt;</th><th scope=col>&lt;int&gt;</th><th scope=col>&lt;int&gt;</th><th scope=col>&lt;int&gt;</th></tr>\n",
              "</thead>\n",
              "<tbody>\n",
              "\t<tr><td>63.66667</td><td>6</td><td>5</td><td>4</td></tr>\n",
              "</tbody>\n",
              "</table>\n"
            ],
            "text/markdown": "\nA data.frame: 1 × 4\n\n| continuous_target &lt;dbl&gt; | neighbor1 &lt;int&gt; | neighbor2 &lt;int&gt; | neighbor3 &lt;int&gt; |\n|---|---|---|---|\n| 63.66667 | 6 | 5 | 4 |\n\n",
            "text/latex": "A data.frame: 1 × 4\n\\begin{tabular}{llll}\n continuous\\_target & neighbor1 & neighbor2 & neighbor3\\\\\n <dbl> & <int> & <int> & <int>\\\\\n\\hline\n\t 63.66667 & 6 & 5 & 4\\\\\n\\end{tabular}\n",
            "text/plain": [
              "  continuous_target neighbor1 neighbor2 neighbor3\n",
              "1 63.66667          6         5         4        "
            ]
          },
          "metadata": {}
        }
      ],
      "source": [
        "model$test_set_scores"
      ]
    },
    {
      "cell_type": "code",
      "execution_count": null,
      "id": "consolidated-disease",
      "metadata": {
        "id": "consolidated-disease"
      },
      "outputs": [],
      "source": []
    },
    {
      "cell_type": "code",
      "execution_count": 9,
      "id": "needed-harvard",
      "metadata": {
        "id": "needed-harvard",
        "outputId": "aaf35953-7989-4846-e907-0f1d91342516",
        "colab": {
          "base_uri": "https://localhost:8080/",
          "height": 90
        }
      },
      "outputs": [
        {
          "output_type": "display_data",
          "data": {
            "text/plain": [
              "Call:\n",
              "knn(train_set = data, test_set = X_test, k = 5, continuous_target = \"Weight\", \n",
              "    comparison_measure = \"euclidean\", continuous_scoring_method = \"average\", \n",
              "    return_ranked_neighbors = 5, id = \"ID\")"
            ]
          },
          "metadata": {}
        }
      ],
      "source": [
        "model <- knn( train_set = data,\n",
        "           test_set = X_test,\n",
        "           k=5,\n",
        "           continuous_target = \"Weight\",\n",
        "           comparison_measure =\"euclidean\" ,\n",
        "           continuous_scoring_method = \"average\",\n",
        "           return_ranked_neighbors=5,\n",
        "           id=\"ID\")\n",
        "model"
      ]
    },
    {
      "cell_type": "code",
      "execution_count": 10,
      "id": "constant-assist",
      "metadata": {
        "id": "constant-assist",
        "outputId": "bd5ed0df-97d8-4922-d669-cf520ad4493e",
        "colab": {
          "base_uri": "https://localhost:8080/",
          "height": 129
        }
      },
      "outputs": [
        {
          "output_type": "display_data",
          "data": {
            "text/html": [
              "<table class=\"dataframe\">\n",
              "<caption>A data.frame: 1 × 6</caption>\n",
              "<thead>\n",
              "\t<tr><th scope=col>continuous_target</th><th scope=col>neighbor1</th><th scope=col>neighbor2</th><th scope=col>neighbor3</th><th scope=col>neighbor4</th><th scope=col>neighbor5</th></tr>\n",
              "\t<tr><th scope=col>&lt;dbl&gt;</th><th scope=col>&lt;int&gt;</th><th scope=col>&lt;int&gt;</th><th scope=col>&lt;int&gt;</th><th scope=col>&lt;int&gt;</th><th scope=col>&lt;int&gt;</th></tr>\n",
              "</thead>\n",
              "<tbody>\n",
              "\t<tr><td>65.2</td><td>6</td><td>5</td><td>4</td><td>10</td><td>1</td></tr>\n",
              "</tbody>\n",
              "</table>\n"
            ],
            "text/markdown": "\nA data.frame: 1 × 6\n\n| continuous_target &lt;dbl&gt; | neighbor1 &lt;int&gt; | neighbor2 &lt;int&gt; | neighbor3 &lt;int&gt; | neighbor4 &lt;int&gt; | neighbor5 &lt;int&gt; |\n|---|---|---|---|---|---|\n| 65.2 | 6 | 5 | 4 | 10 | 1 |\n\n",
            "text/latex": "A data.frame: 1 × 6\n\\begin{tabular}{llllll}\n continuous\\_target & neighbor1 & neighbor2 & neighbor3 & neighbor4 & neighbor5\\\\\n <dbl> & <int> & <int> & <int> & <int> & <int>\\\\\n\\hline\n\t 65.2 & 6 & 5 & 4 & 10 & 1\\\\\n\\end{tabular}\n",
            "text/plain": [
              "  continuous_target neighbor1 neighbor2 neighbor3 neighbor4 neighbor5\n",
              "1 65.2              6         5         4         10        1        "
            ]
          },
          "metadata": {}
        }
      ],
      "source": [
        "model$test_set_scores"
      ]
    },
    {
      "cell_type": "code",
      "execution_count": null,
      "id": "competent-screening",
      "metadata": {
        "id": "competent-screening"
      },
      "outputs": [],
      "source": []
    },
    {
      "cell_type": "code",
      "execution_count": null,
      "id": "graduate-shark",
      "metadata": {
        "id": "graduate-shark"
      },
      "outputs": [],
      "source": []
    },
    {
      "cell_type": "code",
      "execution_count": 11,
      "id": "aging-vacuum",
      "metadata": {
        "id": "aging-vacuum",
        "outputId": "20e46308-5969-45a3-dc3a-50cc3fdcf612",
        "colab": {
          "base_uri": "https://localhost:8080/",
          "height": 531
        }
      },
      "outputs": [
        {
          "output_type": "display_data",
          "data": {
            "text/html": [
              "<dl>\n",
              "\t<dt>$platform</dt>\n",
              "\t\t<dd>'x86_64-pc-linux-gnu'</dd>\n",
              "\t<dt>$arch</dt>\n",
              "\t\t<dd>'x86_64'</dd>\n",
              "\t<dt>$os</dt>\n",
              "\t\t<dd>'linux-gnu'</dd>\n",
              "\t<dt>$system</dt>\n",
              "\t\t<dd>'x86_64, linux-gnu'</dd>\n",
              "\t<dt>$status</dt>\n",
              "\t\t<dd>''</dd>\n",
              "\t<dt>$major</dt>\n",
              "\t\t<dd>'4'</dd>\n",
              "\t<dt>$minor</dt>\n",
              "\t\t<dd>'2.1'</dd>\n",
              "\t<dt>$year</dt>\n",
              "\t\t<dd>'2022'</dd>\n",
              "\t<dt>$month</dt>\n",
              "\t\t<dd>'06'</dd>\n",
              "\t<dt>$day</dt>\n",
              "\t\t<dd>'23'</dd>\n",
              "\t<dt>$`svn rev`</dt>\n",
              "\t\t<dd>'82513'</dd>\n",
              "\t<dt>$language</dt>\n",
              "\t\t<dd>'R'</dd>\n",
              "\t<dt>$version.string</dt>\n",
              "\t\t<dd>'R version 4.2.1 (2022-06-23)'</dd>\n",
              "\t<dt>$nickname</dt>\n",
              "\t\t<dd>'Funny-Looking Kid'</dd>\n",
              "</dl>\n"
            ],
            "text/markdown": "$platform\n:   'x86_64-pc-linux-gnu'\n$arch\n:   'x86_64'\n$os\n:   'linux-gnu'\n$system\n:   'x86_64, linux-gnu'\n$status\n:   ''\n$major\n:   '4'\n$minor\n:   '2.1'\n$year\n:   '2022'\n$month\n:   '06'\n$day\n:   '23'\n$`svn rev`\n:   '82513'\n$language\n:   'R'\n$version.string\n:   'R version 4.2.1 (2022-06-23)'\n$nickname\n:   'Funny-Looking Kid'\n\n\n",
            "text/latex": "\\begin{description}\n\\item[\\$platform] 'x86\\_64-pc-linux-gnu'\n\\item[\\$arch] 'x86\\_64'\n\\item[\\$os] 'linux-gnu'\n\\item[\\$system] 'x86\\_64, linux-gnu'\n\\item[\\$status] ''\n\\item[\\$major] '4'\n\\item[\\$minor] '2.1'\n\\item[\\$year] '2022'\n\\item[\\$month] '06'\n\\item[\\$day] '23'\n\\item[\\$`svn rev`] '82513'\n\\item[\\$language] 'R'\n\\item[\\$version.string] 'R version 4.2.1 (2022-06-23)'\n\\item[\\$nickname] 'Funny-Looking Kid'\n\\end{description}\n",
            "text/plain": [
              "$platform\n",
              "[1] \"x86_64-pc-linux-gnu\"\n",
              "\n",
              "$arch\n",
              "[1] \"x86_64\"\n",
              "\n",
              "$os\n",
              "[1] \"linux-gnu\"\n",
              "\n",
              "$system\n",
              "[1] \"x86_64, linux-gnu\"\n",
              "\n",
              "$status\n",
              "[1] \"\"\n",
              "\n",
              "$major\n",
              "[1] \"4\"\n",
              "\n",
              "$minor\n",
              "[1] \"2.1\"\n",
              "\n",
              "$year\n",
              "[1] \"2022\"\n",
              "\n",
              "$month\n",
              "[1] \"06\"\n",
              "\n",
              "$day\n",
              "[1] \"23\"\n",
              "\n",
              "$`svn rev`\n",
              "[1] \"82513\"\n",
              "\n",
              "$language\n",
              "[1] \"R\"\n",
              "\n",
              "$version.string\n",
              "[1] \"R version 4.2.1 (2022-06-23)\"\n",
              "\n",
              "$nickname\n",
              "[1] \"Funny-Looking Kid\"\n"
            ]
          },
          "metadata": {}
        }
      ],
      "source": [
        "R.Version()"
      ]
    },
    {
      "cell_type": "code",
      "source": [],
      "metadata": {
        "id": "11zVMZYXhYVF"
      },
      "id": "11zVMZYXhYVF",
      "execution_count": null,
      "outputs": []
    }
  ],
  "metadata": {
    "kernelspec": {
      "display_name": "R",
      "language": "R",
      "name": "ir"
    },
    "language_info": {
      "codemirror_mode": "r",
      "file_extension": ".r",
      "mimetype": "text/x-r-source",
      "name": "R",
      "pygments_lexer": "r",
      "version": "3.6.1"
    },
    "colab": {
      "provenance": []
    }
  },
  "nbformat": 4,
  "nbformat_minor": 5
}