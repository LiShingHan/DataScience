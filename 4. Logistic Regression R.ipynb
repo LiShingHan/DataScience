{
 "cells": [
  {
   "cell_type": "markdown",
   "metadata": {},
   "source": [
    "# Logistic Regression"
   ]
  },
  {
   "cell_type": "code",
   "execution_count": null,
   "metadata": {},
   "outputs": [],
   "source": [
    "library(dplyr)"
   ]
  },
  {
   "cell_type": "code",
   "execution_count": 1,
   "metadata": {},
   "outputs": [
    {
     "data": {
      "text/html": [
       "<table>\n",
       "<thead><tr><th scope=col>Hours</th><th scope=col>Pass</th></tr></thead>\n",
       "<tbody>\n",
       "\t<tr><td>4.0</td><td>1  </td></tr>\n",
       "\t<tr><td>3.7</td><td>1  </td></tr>\n",
       "\t<tr><td>2.0</td><td>0  </td></tr>\n",
       "\t<tr><td>3.0</td><td>0  </td></tr>\n",
       "\t<tr><td>1.0</td><td>0  </td></tr>\n",
       "\t<tr><td>1.0</td><td>0  </td></tr>\n",
       "\t<tr><td>3.2</td><td>1  </td></tr>\n",
       "\t<tr><td>3.8</td><td>1  </td></tr>\n",
       "\t<tr><td>4.0</td><td>1  </td></tr>\n",
       "\t<tr><td>3.9</td><td>1  </td></tr>\n",
       "\t<tr><td>1.0</td><td>0  </td></tr>\n",
       "\t<tr><td>2.9</td><td>1  </td></tr>\n",
       "\t<tr><td>2.9</td><td>1  </td></tr>\n",
       "\t<tr><td>2.0</td><td>0  </td></tr>\n",
       "\t<tr><td>3.2</td><td>1  </td></tr>\n",
       "\t<tr><td>3.3</td><td>1  </td></tr>\n",
       "\t<tr><td>3.0</td><td>0  </td></tr>\n",
       "\t<tr><td>3.0</td><td>0  </td></tr>\n",
       "\t<tr><td>2.8</td><td>1  </td></tr>\n",
       "\t<tr><td>0.0</td><td>0  </td></tr>\n",
       "\t<tr><td>0.5</td><td>0  </td></tr>\n",
       "\t<tr><td>0.8</td><td>0  </td></tr>\n",
       "\t<tr><td>0.9</td><td>0  </td></tr>\n",
       "\t<tr><td>1.2</td><td>0  </td></tr>\n",
       "\t<tr><td>1.5</td><td>0  </td></tr>\n",
       "\t<tr><td>2.5</td><td>0  </td></tr>\n",
       "\t<tr><td>2.7</td><td>0  </td></tr>\n",
       "\t<tr><td>2.4</td><td>0  </td></tr>\n",
       "\t<tr><td>2.1</td><td>0  </td></tr>\n",
       "\t<tr><td>3.5</td><td>1  </td></tr>\n",
       "\t<tr><td>3.6</td><td>1  </td></tr>\n",
       "\t<tr><td>3.1</td><td>1  </td></tr>\n",
       "\t<tr><td>1.7</td><td>0  </td></tr>\n",
       "\t<tr><td>2.3</td><td>0  </td></tr>\n",
       "\t<tr><td>0.1</td><td>0  </td></tr>\n",
       "\t<tr><td>3.2</td><td>1  </td></tr>\n",
       "\t<tr><td>3.3</td><td>1  </td></tr>\n",
       "</tbody>\n",
       "</table>\n"
      ],
      "text/latex": [
       "\\begin{tabular}{r|ll}\n",
       " Hours & Pass\\\\\n",
       "\\hline\n",
       "\t 4.0 & 1  \\\\\n",
       "\t 3.7 & 1  \\\\\n",
       "\t 2.0 & 0  \\\\\n",
       "\t 3.0 & 0  \\\\\n",
       "\t 1.0 & 0  \\\\\n",
       "\t 1.0 & 0  \\\\\n",
       "\t 3.2 & 1  \\\\\n",
       "\t 3.8 & 1  \\\\\n",
       "\t 4.0 & 1  \\\\\n",
       "\t 3.9 & 1  \\\\\n",
       "\t 1.0 & 0  \\\\\n",
       "\t 2.9 & 1  \\\\\n",
       "\t 2.9 & 1  \\\\\n",
       "\t 2.0 & 0  \\\\\n",
       "\t 3.2 & 1  \\\\\n",
       "\t 3.3 & 1  \\\\\n",
       "\t 3.0 & 0  \\\\\n",
       "\t 3.0 & 0  \\\\\n",
       "\t 2.8 & 1  \\\\\n",
       "\t 0.0 & 0  \\\\\n",
       "\t 0.5 & 0  \\\\\n",
       "\t 0.8 & 0  \\\\\n",
       "\t 0.9 & 0  \\\\\n",
       "\t 1.2 & 0  \\\\\n",
       "\t 1.5 & 0  \\\\\n",
       "\t 2.5 & 0  \\\\\n",
       "\t 2.7 & 0  \\\\\n",
       "\t 2.4 & 0  \\\\\n",
       "\t 2.1 & 0  \\\\\n",
       "\t 3.5 & 1  \\\\\n",
       "\t 3.6 & 1  \\\\\n",
       "\t 3.1 & 1  \\\\\n",
       "\t 1.7 & 0  \\\\\n",
       "\t 2.3 & 0  \\\\\n",
       "\t 0.1 & 0  \\\\\n",
       "\t 3.2 & 1  \\\\\n",
       "\t 3.3 & 1  \\\\\n",
       "\\end{tabular}\n"
      ],
      "text/markdown": [
       "\n",
       "| Hours | Pass |\n",
       "|---|---|\n",
       "| 4.0 | 1   |\n",
       "| 3.7 | 1   |\n",
       "| 2.0 | 0   |\n",
       "| 3.0 | 0   |\n",
       "| 1.0 | 0   |\n",
       "| 1.0 | 0   |\n",
       "| 3.2 | 1   |\n",
       "| 3.8 | 1   |\n",
       "| 4.0 | 1   |\n",
       "| 3.9 | 1   |\n",
       "| 1.0 | 0   |\n",
       "| 2.9 | 1   |\n",
       "| 2.9 | 1   |\n",
       "| 2.0 | 0   |\n",
       "| 3.2 | 1   |\n",
       "| 3.3 | 1   |\n",
       "| 3.0 | 0   |\n",
       "| 3.0 | 0   |\n",
       "| 2.8 | 1   |\n",
       "| 0.0 | 0   |\n",
       "| 0.5 | 0   |\n",
       "| 0.8 | 0   |\n",
       "| 0.9 | 0   |\n",
       "| 1.2 | 0   |\n",
       "| 1.5 | 0   |\n",
       "| 2.5 | 0   |\n",
       "| 2.7 | 0   |\n",
       "| 2.4 | 0   |\n",
       "| 2.1 | 0   |\n",
       "| 3.5 | 1   |\n",
       "| 3.6 | 1   |\n",
       "| 3.1 | 1   |\n",
       "| 1.7 | 0   |\n",
       "| 2.3 | 0   |\n",
       "| 0.1 | 0   |\n",
       "| 3.2 | 1   |\n",
       "| 3.3 | 1   |\n",
       "\n"
      ],
      "text/plain": [
       "   Hours Pass\n",
       "1  4.0   1   \n",
       "2  3.7   1   \n",
       "3  2.0   0   \n",
       "4  3.0   0   \n",
       "5  1.0   0   \n",
       "6  1.0   0   \n",
       "7  3.2   1   \n",
       "8  3.8   1   \n",
       "9  4.0   1   \n",
       "10 3.9   1   \n",
       "11 1.0   0   \n",
       "12 2.9   1   \n",
       "13 2.9   1   \n",
       "14 2.0   0   \n",
       "15 3.2   1   \n",
       "16 3.3   1   \n",
       "17 3.0   0   \n",
       "18 3.0   0   \n",
       "19 2.8   1   \n",
       "20 0.0   0   \n",
       "21 0.5   0   \n",
       "22 0.8   0   \n",
       "23 0.9   0   \n",
       "24 1.2   0   \n",
       "25 1.5   0   \n",
       "26 2.5   0   \n",
       "27 2.7   0   \n",
       "28 2.4   0   \n",
       "29 2.1   0   \n",
       "30 3.5   1   \n",
       "31 3.6   1   \n",
       "32 3.1   1   \n",
       "33 1.7   0   \n",
       "34 2.3   0   \n",
       "35 0.1   0   \n",
       "36 3.2   1   \n",
       "37 3.3   1   "
      ]
     },
     "metadata": {},
     "output_type": "display_data"
    }
   ],
   "source": [
    "case711 <- read.csv(\"c:/Rdata/p7.11.csv\")\n",
    "case711"
   ]
  },
  {
   "cell_type": "code",
   "execution_count": null,
   "metadata": {},
   "outputs": [],
   "source": [
    "glm.out <- glm(Pass ~ Hours,\n",
    "               data = case711,\n",
    "               family = binomial)                   # 建立模型"
   ]
  },
  {
   "cell_type": "code",
   "execution_count": null,
   "metadata": {},
   "outputs": [],
   "source": [
    "summary(glm.out)"
   ]
  },
  {
   "cell_type": "code",
   "execution_count": null,
   "metadata": {},
   "outputs": [],
   "source": [
    "lr_data <- data.frame(predictor=glm.out$linear.predictors, prob=glm.out$fitted.values, Pass=case711$Pass)"
   ]
  },
  {
   "cell_type": "code",
   "execution_count": null,
   "metadata": {},
   "outputs": [],
   "source": [
    "require(ggplot2)"
   ]
  },
  {
   "cell_type": "code",
   "execution_count": null,
   "metadata": {},
   "outputs": [],
   "source": [
    "ggplot(lr_data, aes(x=predictor, y=prob, color=Pass)) + geom_point()"
   ]
  },
  {
   "cell_type": "code",
   "execution_count": null,
   "metadata": {},
   "outputs": [],
   "source": [
    "newdata = data.frame(Hours = c(1, 2, 2.5, 3, 3.5, 4, 5, 6))\n",
    "probabilities =  predict(glm.out, newdata, type = \"response\")\n",
    "predicted.classes = ifelse(probabilities > 0.5, \"pass\", \"fail\")\n",
    "predicted.classes"
   ]
  },
  {
   "cell_type": "code",
   "execution_count": null,
   "metadata": {},
   "outputs": [],
   "source": []
  }
 ],
 "metadata": {
  "kernelspec": {
   "display_name": "R",
   "language": "R",
   "name": "ir"
  },
  "language_info": {
   "codemirror_mode": "r",
   "file_extension": ".r",
   "mimetype": "text/x-r-source",
   "name": "R",
   "pygments_lexer": "r",
   "version": "3.6.1"
  }
 },
 "nbformat": 4,
 "nbformat_minor": 4
}
