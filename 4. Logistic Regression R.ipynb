{
  "cells": [
    {
      "cell_type": "markdown",
      "metadata": {
        "id": "zqBrNrLYWLob"
      },
      "source": [
        "# Logistic Regression"
      ]
    },
    {
      "cell_type": "code",
      "execution_count": 2,
      "metadata": {
        "id": "2VEYqO6LWLoe",
        "outputId": "9b642020-8f43-468a-9e78-c59611ee5724",
        "colab": {
          "base_uri": "https://localhost:8080/"
        }
      },
      "outputs": [
        {
          "output_type": "stream",
          "name": "stderr",
          "text": [
            "\n",
            "Attaching package: ‘dplyr’\n",
            "\n",
            "\n",
            "The following objects are masked from ‘package:stats’:\n",
            "\n",
            "    filter, lag\n",
            "\n",
            "\n",
            "The following objects are masked from ‘package:base’:\n",
            "\n",
            "    intersect, setdiff, setequal, union\n",
            "\n",
            "\n"
          ]
        }
      ],
      "source": [
        "library(dplyr)"
      ]
    },
    {
      "cell_type": "code",
      "execution_count": 1,
      "metadata": {
        "id": "di3IXvxCWLog",
        "outputId": "f80162b4-5822-4a7b-b85b-4900eb223514",
        "colab": {
          "base_uri": "https://localhost:8080/",
          "height": 1000
        }
      },
      "outputs": [
        {
          "output_type": "display_data",
          "data": {
            "text/html": [
              "<table class=\"dataframe\">\n",
              "<caption>A data.frame: 37 × 2</caption>\n",
              "<thead>\n",
              "\t<tr><th scope=col>Hours</th><th scope=col>Pass</th></tr>\n",
              "\t<tr><th scope=col>&lt;dbl&gt;</th><th scope=col>&lt;int&gt;</th></tr>\n",
              "</thead>\n",
              "<tbody>\n",
              "\t<tr><td>4.0</td><td>1</td></tr>\n",
              "\t<tr><td>3.7</td><td>1</td></tr>\n",
              "\t<tr><td>2.0</td><td>0</td></tr>\n",
              "\t<tr><td>3.0</td><td>0</td></tr>\n",
              "\t<tr><td>1.0</td><td>0</td></tr>\n",
              "\t<tr><td>1.0</td><td>0</td></tr>\n",
              "\t<tr><td>3.2</td><td>1</td></tr>\n",
              "\t<tr><td>3.8</td><td>1</td></tr>\n",
              "\t<tr><td>4.0</td><td>1</td></tr>\n",
              "\t<tr><td>3.9</td><td>1</td></tr>\n",
              "\t<tr><td>1.0</td><td>0</td></tr>\n",
              "\t<tr><td>2.9</td><td>1</td></tr>\n",
              "\t<tr><td>2.9</td><td>1</td></tr>\n",
              "\t<tr><td>2.0</td><td>0</td></tr>\n",
              "\t<tr><td>3.2</td><td>1</td></tr>\n",
              "\t<tr><td>3.3</td><td>1</td></tr>\n",
              "\t<tr><td>3.0</td><td>0</td></tr>\n",
              "\t<tr><td>3.0</td><td>0</td></tr>\n",
              "\t<tr><td>2.8</td><td>1</td></tr>\n",
              "\t<tr><td>0.0</td><td>0</td></tr>\n",
              "\t<tr><td>0.5</td><td>0</td></tr>\n",
              "\t<tr><td>0.8</td><td>0</td></tr>\n",
              "\t<tr><td>0.9</td><td>0</td></tr>\n",
              "\t<tr><td>1.2</td><td>0</td></tr>\n",
              "\t<tr><td>1.5</td><td>0</td></tr>\n",
              "\t<tr><td>2.5</td><td>0</td></tr>\n",
              "\t<tr><td>2.7</td><td>0</td></tr>\n",
              "\t<tr><td>2.4</td><td>0</td></tr>\n",
              "\t<tr><td>2.1</td><td>0</td></tr>\n",
              "\t<tr><td>3.5</td><td>1</td></tr>\n",
              "\t<tr><td>3.6</td><td>1</td></tr>\n",
              "\t<tr><td>3.1</td><td>1</td></tr>\n",
              "\t<tr><td>1.7</td><td>0</td></tr>\n",
              "\t<tr><td>2.3</td><td>0</td></tr>\n",
              "\t<tr><td>0.1</td><td>0</td></tr>\n",
              "\t<tr><td>3.2</td><td>1</td></tr>\n",
              "\t<tr><td>3.3</td><td>1</td></tr>\n",
              "</tbody>\n",
              "</table>\n"
            ],
            "text/markdown": "\nA data.frame: 37 × 2\n\n| Hours &lt;dbl&gt; | Pass &lt;int&gt; |\n|---|---|\n| 4.0 | 1 |\n| 3.7 | 1 |\n| 2.0 | 0 |\n| 3.0 | 0 |\n| 1.0 | 0 |\n| 1.0 | 0 |\n| 3.2 | 1 |\n| 3.8 | 1 |\n| 4.0 | 1 |\n| 3.9 | 1 |\n| 1.0 | 0 |\n| 2.9 | 1 |\n| 2.9 | 1 |\n| 2.0 | 0 |\n| 3.2 | 1 |\n| 3.3 | 1 |\n| 3.0 | 0 |\n| 3.0 | 0 |\n| 2.8 | 1 |\n| 0.0 | 0 |\n| 0.5 | 0 |\n| 0.8 | 0 |\n| 0.9 | 0 |\n| 1.2 | 0 |\n| 1.5 | 0 |\n| 2.5 | 0 |\n| 2.7 | 0 |\n| 2.4 | 0 |\n| 2.1 | 0 |\n| 3.5 | 1 |\n| 3.6 | 1 |\n| 3.1 | 1 |\n| 1.7 | 0 |\n| 2.3 | 0 |\n| 0.1 | 0 |\n| 3.2 | 1 |\n| 3.3 | 1 |\n\n",
            "text/latex": "A data.frame: 37 × 2\n\\begin{tabular}{ll}\n Hours & Pass\\\\\n <dbl> & <int>\\\\\n\\hline\n\t 4.0 & 1\\\\\n\t 3.7 & 1\\\\\n\t 2.0 & 0\\\\\n\t 3.0 & 0\\\\\n\t 1.0 & 0\\\\\n\t 1.0 & 0\\\\\n\t 3.2 & 1\\\\\n\t 3.8 & 1\\\\\n\t 4.0 & 1\\\\\n\t 3.9 & 1\\\\\n\t 1.0 & 0\\\\\n\t 2.9 & 1\\\\\n\t 2.9 & 1\\\\\n\t 2.0 & 0\\\\\n\t 3.2 & 1\\\\\n\t 3.3 & 1\\\\\n\t 3.0 & 0\\\\\n\t 3.0 & 0\\\\\n\t 2.8 & 1\\\\\n\t 0.0 & 0\\\\\n\t 0.5 & 0\\\\\n\t 0.8 & 0\\\\\n\t 0.9 & 0\\\\\n\t 1.2 & 0\\\\\n\t 1.5 & 0\\\\\n\t 2.5 & 0\\\\\n\t 2.7 & 0\\\\\n\t 2.4 & 0\\\\\n\t 2.1 & 0\\\\\n\t 3.5 & 1\\\\\n\t 3.6 & 1\\\\\n\t 3.1 & 1\\\\\n\t 1.7 & 0\\\\\n\t 2.3 & 0\\\\\n\t 0.1 & 0\\\\\n\t 3.2 & 1\\\\\n\t 3.3 & 1\\\\\n\\end{tabular}\n",
            "text/plain": [
              "   Hours Pass\n",
              "1  4.0   1   \n",
              "2  3.7   1   \n",
              "3  2.0   0   \n",
              "4  3.0   0   \n",
              "5  1.0   0   \n",
              "6  1.0   0   \n",
              "7  3.2   1   \n",
              "8  3.8   1   \n",
              "9  4.0   1   \n",
              "10 3.9   1   \n",
              "11 1.0   0   \n",
              "12 2.9   1   \n",
              "13 2.9   1   \n",
              "14 2.0   0   \n",
              "15 3.2   1   \n",
              "16 3.3   1   \n",
              "17 3.0   0   \n",
              "18 3.0   0   \n",
              "19 2.8   1   \n",
              "20 0.0   0   \n",
              "21 0.5   0   \n",
              "22 0.8   0   \n",
              "23 0.9   0   \n",
              "24 1.2   0   \n",
              "25 1.5   0   \n",
              "26 2.5   0   \n",
              "27 2.7   0   \n",
              "28 2.4   0   \n",
              "29 2.1   0   \n",
              "30 3.5   1   \n",
              "31 3.6   1   \n",
              "32 3.1   1   \n",
              "33 1.7   0   \n",
              "34 2.3   0   \n",
              "35 0.1   0   \n",
              "36 3.2   1   \n",
              "37 3.3   1   "
            ]
          },
          "metadata": {}
        }
      ],
      "source": [
        "case711 <- read.csv(\"https://raw.githubusercontent.com/LiShingHan/DataScience/main/DataSet/p7.11.csv\")\n",
        "case711"
      ]
    },
    {
      "cell_type": "code",
      "execution_count": 3,
      "metadata": {
        "id": "t_O8KBbQWLoh"
      },
      "outputs": [],
      "source": [
        "glm.out <- glm(Pass ~ Hours,\n",
        "               data = case711,\n",
        "               family = binomial)                   # 建立模型"
      ]
    },
    {
      "cell_type": "code",
      "execution_count": 4,
      "metadata": {
        "id": "v0xhgrtmWLoh",
        "outputId": "60a678ad-7e79-4f82-e28e-9b5a7334df24",
        "colab": {
          "base_uri": "https://localhost:8080/",
          "height": 416
        }
      },
      "outputs": [
        {
          "output_type": "display_data",
          "data": {
            "text/plain": [
              "\n",
              "Call:\n",
              "glm(formula = Pass ~ Hours, family = binomial, data = case711)\n",
              "\n",
              "Deviance Residuals: \n",
              "     Min        1Q    Median        3Q       Max  \n",
              "-1.49560  -0.05266  -0.00022   0.15824   1.50244  \n",
              "\n",
              "Coefficients:\n",
              "            Estimate Std. Error z value Pr(>|z|)  \n",
              "(Intercept)  -21.186     10.079  -2.102   0.0356 *\n",
              "Hours          7.303      3.393   2.152   0.0314 *\n",
              "---\n",
              "Signif. codes:  0 ‘***’ 0.001 ‘**’ 0.01 ‘*’ 0.05 ‘.’ 0.1 ‘ ’ 1\n",
              "\n",
              "(Dispersion parameter for binomial family taken to be 1)\n",
              "\n",
              "    Null deviance: 50.615  on 36  degrees of freedom\n",
              "Residual deviance: 13.682  on 35  degrees of freedom\n",
              "AIC: 17.682\n",
              "\n",
              "Number of Fisher Scoring iterations: 8\n"
            ]
          },
          "metadata": {}
        }
      ],
      "source": [
        "summary(glm.out)"
      ]
    },
    {
      "cell_type": "code",
      "execution_count": 5,
      "metadata": {
        "id": "CudvXqZrWLoh"
      },
      "outputs": [],
      "source": [
        "lr_data <- data.frame(predictor=glm.out$linear.predictors, prob=glm.out$fitted.values, Pass=case711$Pass)"
      ]
    },
    {
      "cell_type": "code",
      "execution_count": 6,
      "metadata": {
        "id": "Xy7-8kgWWLoi",
        "outputId": "c4adcdbe-c4e3-4daf-8193-138dc472de78",
        "colab": {
          "base_uri": "https://localhost:8080/"
        }
      },
      "outputs": [
        {
          "output_type": "stream",
          "name": "stderr",
          "text": [
            "Loading required package: ggplot2\n",
            "\n"
          ]
        }
      ],
      "source": [
        "require(ggplot2)"
      ]
    },
    {
      "cell_type": "code",
      "execution_count": 7,
      "metadata": {
        "id": "W-lDn2TRWLoi",
        "outputId": "9aed6954-41ed-40c0-94b4-6ad166f88399",
        "colab": {
          "base_uri": "https://localhost:8080/",
          "height": 437
        }
      },
      "outputs": [
        {
          "output_type": "display_data",
          "data": {
            "text/plain": [
              "plot without title"
            ],
            "image/png": "[encoded data removed]"
          },
          "metadata": {
            "image/png": {
              "width": 420,
              "height": 420
            }
          }
        }
      ],
      "source": [
        "ggplot(lr_data, aes(x=predictor, y=prob, color=Pass)) + geom_point()"
      ]
    },
    {
      "cell_type": "code",
      "execution_count": 8,
      "metadata": {
        "id": "QiObevfTWLoj",
        "outputId": "dc101e38-39e0-4de5-e5c4-4b23242a505e",
        "colab": {
          "base_uri": "https://localhost:8080/",
          "height": 34
        }
      },
      "outputs": [
        {
          "output_type": "display_data",
          "data": {
            "text/html": [
              "<style>\n",
              ".dl-inline {width: auto; margin:0; padding: 0}\n",
              ".dl-inline>dt, .dl-inline>dd {float: none; width: auto; display: inline-block}\n",
              ".dl-inline>dt::after {content: \":\\0020\"; padding-right: .5ex}\n",
              ".dl-inline>dt:not(:first-of-type) {padding-left: .5ex}\n",
              "</style><dl class=dl-inline><dt>1</dt><dd>'fail'</dd><dt>2</dt><dd>'fail'</dd><dt>3</dt><dd>'fail'</dd><dt>4</dt><dd>'pass'</dd><dt>5</dt><dd>'pass'</dd><dt>6</dt><dd>'pass'</dd><dt>7</dt><dd>'pass'</dd><dt>8</dt><dd>'pass'</dd></dl>\n"
            ],
            "text/markdown": "1\n:   'fail'2\n:   'fail'3\n:   'fail'4\n:   'pass'5\n:   'pass'6\n:   'pass'7\n:   'pass'8\n:   'pass'\n\n",
            "text/latex": "\\begin{description*}\n\\item[1] 'fail'\n\\item[2] 'fail'\n\\item[3] 'fail'\n\\item[4] 'pass'\n\\item[5] 'pass'\n\\item[6] 'pass'\n\\item[7] 'pass'\n\\item[8] 'pass'\n\\end{description*}\n",
            "text/plain": [
              "     1      2      3      4      5      6      7      8 \n",
              "\"fail\" \"fail\" \"fail\" \"pass\" \"pass\" \"pass\" \"pass\" \"pass\" "
            ]
          },
          "metadata": {}
        }
      ],
      "source": [
        "newdata = data.frame(Hours = c(1, 2, 2.5, 3, 3.5, 4, 5, 6))\n",
        "probabilities =  predict(glm.out, newdata, type = \"response\")\n",
        "predicted.classes = ifelse(probabilities > 0.5, \"pass\", \"fail\")\n",
        "predicted.classes"
      ]
    },
    {
      "cell_type": "code",
      "execution_count": null,
      "metadata": {
        "id": "ickzwfG0WLok"
      },
      "outputs": [],
      "source": []
    }
  ],
  "metadata": {
    "kernelspec": {
      "display_name": "R",
      "language": "R",
      "name": "ir"
    },
    "language_info": {
      "codemirror_mode": "r",
      "file_extension": ".r",
      "mimetype": "text/x-r-source",
      "name": "R",
      "pygments_lexer": "r",
      "version": "3.6.1"
    },
    "colab": {
      "provenance": []
    }
  },
  "nbformat": 4,
  "nbformat_minor": 0
}